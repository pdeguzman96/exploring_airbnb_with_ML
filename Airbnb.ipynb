{
 "cells": [
  {
   "cell_type": "markdown",
   "metadata": {},
   "source": [
    "# Exploring the San Francisco Airbnb Dataset\n",
    "\n",
    "Dataset [here](http://insideairbnb.com/get-the-data.html)\n",
    "\n",
    "## Exploratory Questions\n",
    "\n",
    "Let's dive into this dataset to see if we can answer these questions...\n",
    "\n",
    "1. Is there a difference in quality of service/product between hosts with different numbers of units? (i.e. do hosts with multiple units give better service than those who do not?)\n",
    "2. Do hosts with no recent reviews change pricing behavior from hosts with recent reviews?\n",
    "3. What are the strongest predictors for price?"
   ]
  },
  {
   "cell_type": "markdown",
   "metadata": {},
   "source": [
    "# Importing Libraries & Data"
   ]
  },
  {
   "cell_type": "code",
   "execution_count": 303,
   "metadata": {},
   "outputs": [],
   "source": [
    "import datetime\n",
    "import pandas as pd\n",
    "import numpy as np\n",
    "from scipy.stats import ttest_ind,t\n",
    "import scipy.stats as stats\n",
    "import math\n",
    "import collections\n",
    "\n",
    "import matplotlib.pyplot as plt\n",
    "%matplotlib inline\n",
    "import seaborn as sns\n",
    "import plotly_express as px\n",
    "import plotly.graph_objects as go\n",
    "\n",
    "from sklearn.preprocessing import MultiLabelBinarizer,StandardScaler\n",
    "from sklearn.experimental import enable_iterative_imputer\n",
    "from sklearn.impute import IterativeImputer\n",
    "from sklearn.model_selection import train_test_split\n",
    "from sklearn.feature_selection import RFECV,f_classif,SelectPercentile\n",
    "from sklearn.ensemble import RandomForestRegressor\n",
    "from sklearn.linear_model import LinearRegression\n",
    "from sklearn.decomposition import PCA\n",
    "\n",
    "from category_encoders import OneHotEncoder"
   ]
  },
  {
   "cell_type": "code",
   "execution_count": 376,
   "metadata": {},
   "outputs": [],
   "source": [
    "def plot_t_dist_hyp(df,t_stat,p_val):\n",
    "    \"\"\"\n",
    "    After t-test, plot t-statistic and p-value via Plotly Express.\n",
    "    Depenencies: scipy.stat.t | plotly_express as px | plotly.graph_objects as go\n",
    "    \n",
    "    Inputs\n",
    "    ------\n",
    "    df: degrees of freedom\n",
    "    t_stat: t-statistic\n",
    "    p_val: p-value\n",
    "    \n",
    "    Returns\n",
    "    ------\n",
    "    Plotly Express Figure\n",
    "    \n",
    "    \"\"\"\n",
    "    rv = t(df=df)\n",
    "    \n",
    "    x_t = np.linspace(rv.ppf(0.00001), rv.ppf(0.99999), 100)\n",
    "    y_t = rv.pdf(x_t) \n",
    "    t_df = pd.DataFrame.from_dict(data = {'x_t':x_t,'y_t':y_t})\n",
    "    \n",
    "    fig = px.line(t_df,'x_t','y_t',width=600,height=300,\n",
    "            labels={'x_t':'X','y_t':''},)\n",
    "    fig.update_traces(textposition='top center')\n",
    "    fig.update(layout = dict(title = 'Hypothesis Test Results',annotations=[{\n",
    "      \"x\": t_stat, \n",
    "      \"y\": rv.pdf(t_stat),  \n",
    "      'font':{'family':'Arial','size':12,'color':'black'}, \n",
    "      \"showarrow\": True, \n",
    "      \"text\": f'P-value<br>{p_val:.2e}',\n",
    "      \"arrowhead\": 7,\n",
    "      \"ay\":-40\n",
    "    }]))\n",
    "    return fig"
   ]
  },
  {
   "cell_type": "code",
   "execution_count": 2,
   "metadata": {
    "scrolled": true
   },
   "outputs": [
    {
     "name": "stderr",
     "output_type": "stream",
     "text": [
      "/Users/patrickdeguzman/anaconda3/lib/python3.7/site-packages/IPython/core/interactiveshell.py:3049: DtypeWarning: Columns (43,61,62,94,95) have mixed types. Specify dtype option on import or set low_memory=False.\n",
      "  interactivity=interactivity, compiler=compiler, result=result)\n"
     ]
    }
   ],
   "source": [
    "sf = pd.read_csv('sf_listings.csv')\n",
    "ny = pd.read_csv('ny_listings.csv')\n",
    "aus = pd.read_csv('aus_listings.csv')"
   ]
  },
  {
   "cell_type": "code",
   "execution_count": 3,
   "metadata": {},
   "outputs": [],
   "source": [
    "pd.options.display.max_rows = 106"
   ]
  },
  {
   "cell_type": "code",
   "execution_count": 4,
   "metadata": {
    "scrolled": true
   },
   "outputs": [
    {
     "data": {
      "text/html": [
       "<div>\n",
       "<style scoped>\n",
       "    .dataframe tbody tr th:only-of-type {\n",
       "        vertical-align: middle;\n",
       "    }\n",
       "\n",
       "    .dataframe tbody tr th {\n",
       "        vertical-align: top;\n",
       "    }\n",
       "\n",
       "    .dataframe thead th {\n",
       "        text-align: right;\n",
       "    }\n",
       "</style>\n",
       "<table border=\"1\" class=\"dataframe\">\n",
       "  <thead>\n",
       "    <tr style=\"text-align: right;\">\n",
       "      <th></th>\n",
       "      <th>0</th>\n",
       "      <th>1</th>\n",
       "    </tr>\n",
       "  </thead>\n",
       "  <tbody>\n",
       "    <tr>\n",
       "      <th>id</th>\n",
       "      <td>958</td>\n",
       "      <td>5858</td>\n",
       "    </tr>\n",
       "    <tr>\n",
       "      <th>listing_url</th>\n",
       "      <td>https://www.airbnb.com/rooms/958</td>\n",
       "      <td>https://www.airbnb.com/rooms/5858</td>\n",
       "    </tr>\n",
       "    <tr>\n",
       "      <th>scrape_id</th>\n",
       "      <td>20190602163113</td>\n",
       "      <td>20190602163113</td>\n",
       "    </tr>\n",
       "    <tr>\n",
       "      <th>last_scraped</th>\n",
       "      <td>2019-06-02</td>\n",
       "      <td>2019-06-02</td>\n",
       "    </tr>\n",
       "    <tr>\n",
       "      <th>name</th>\n",
       "      <td>Bright, Modern Garden Unit - 1BR/1B</td>\n",
       "      <td>Creative Sanctuary</td>\n",
       "    </tr>\n",
       "    <tr>\n",
       "      <th>summary</th>\n",
       "      <td>New update: the house next door is under const...</td>\n",
       "      <td>NaN</td>\n",
       "    </tr>\n",
       "    <tr>\n",
       "      <th>space</th>\n",
       "      <td>Newly remodeled, modern, and bright garden uni...</td>\n",
       "      <td>We live in a large Victorian house on a quiet ...</td>\n",
       "    </tr>\n",
       "    <tr>\n",
       "      <th>description</th>\n",
       "      <td>New update: the house next door is under const...</td>\n",
       "      <td>We live in a large Victorian house on a quiet ...</td>\n",
       "    </tr>\n",
       "    <tr>\n",
       "      <th>experiences_offered</th>\n",
       "      <td>none</td>\n",
       "      <td>none</td>\n",
       "    </tr>\n",
       "    <tr>\n",
       "      <th>neighborhood_overview</th>\n",
       "      <td>*Quiet cul de sac in friendly neighborhood *St...</td>\n",
       "      <td>I love how our neighborhood feels quiet but is...</td>\n",
       "    </tr>\n",
       "    <tr>\n",
       "      <th>notes</th>\n",
       "      <td>Due to the fact that we have children and a do...</td>\n",
       "      <td>All the furniture in the house was handmade so...</td>\n",
       "    </tr>\n",
       "    <tr>\n",
       "      <th>transit</th>\n",
       "      <td>*Public Transportation is 1/2 block away.  *Ce...</td>\n",
       "      <td>The train is two blocks away and you can stop ...</td>\n",
       "    </tr>\n",
       "    <tr>\n",
       "      <th>access</th>\n",
       "      <td>*Full access to patio and backyard (shared wit...</td>\n",
       "      <td>Our deck, garden, gourmet kitchen and extensiv...</td>\n",
       "    </tr>\n",
       "    <tr>\n",
       "      <th>interaction</th>\n",
       "      <td>A family of 4 lives upstairs with their dog. N...</td>\n",
       "      <td>NaN</td>\n",
       "    </tr>\n",
       "    <tr>\n",
       "      <th>house_rules</th>\n",
       "      <td>* No Pets - even visiting guests for a short t...</td>\n",
       "      <td>Please respect the house, the art work, the fu...</td>\n",
       "    </tr>\n",
       "    <tr>\n",
       "      <th>thumbnail_url</th>\n",
       "      <td>NaN</td>\n",
       "      <td>NaN</td>\n",
       "    </tr>\n",
       "    <tr>\n",
       "      <th>medium_url</th>\n",
       "      <td>NaN</td>\n",
       "      <td>NaN</td>\n",
       "    </tr>\n",
       "    <tr>\n",
       "      <th>picture_url</th>\n",
       "      <td>https://a0.muscache.com/im/pictures/b7c2a199-4...</td>\n",
       "      <td>https://a0.muscache.com/im/pictures/17714/3a7a...</td>\n",
       "    </tr>\n",
       "    <tr>\n",
       "      <th>xl_picture_url</th>\n",
       "      <td>NaN</td>\n",
       "      <td>NaN</td>\n",
       "    </tr>\n",
       "    <tr>\n",
       "      <th>host_id</th>\n",
       "      <td>1169</td>\n",
       "      <td>8904</td>\n",
       "    </tr>\n",
       "    <tr>\n",
       "      <th>host_url</th>\n",
       "      <td>https://www.airbnb.com/users/show/1169</td>\n",
       "      <td>https://www.airbnb.com/users/show/8904</td>\n",
       "    </tr>\n",
       "    <tr>\n",
       "      <th>host_name</th>\n",
       "      <td>Holly</td>\n",
       "      <td>Philip And Tania</td>\n",
       "    </tr>\n",
       "    <tr>\n",
       "      <th>host_since</th>\n",
       "      <td>2008-07-31</td>\n",
       "      <td>2009-03-02</td>\n",
       "    </tr>\n",
       "    <tr>\n",
       "      <th>host_location</th>\n",
       "      <td>San Francisco, California, United States</td>\n",
       "      <td>San Francisco, California, United States</td>\n",
       "    </tr>\n",
       "    <tr>\n",
       "      <th>host_about</th>\n",
       "      <td>We are a family with 2 boys born in 2009 and 2...</td>\n",
       "      <td>Philip: English transplant to the Bay Area and...</td>\n",
       "    </tr>\n",
       "    <tr>\n",
       "      <th>host_response_time</th>\n",
       "      <td>within a few hours</td>\n",
       "      <td>within a day</td>\n",
       "    </tr>\n",
       "    <tr>\n",
       "      <th>host_response_rate</th>\n",
       "      <td>100%</td>\n",
       "      <td>100%</td>\n",
       "    </tr>\n",
       "    <tr>\n",
       "      <th>host_acceptance_rate</th>\n",
       "      <td>NaN</td>\n",
       "      <td>NaN</td>\n",
       "    </tr>\n",
       "    <tr>\n",
       "      <th>host_is_superhost</th>\n",
       "      <td>t</td>\n",
       "      <td>f</td>\n",
       "    </tr>\n",
       "    <tr>\n",
       "      <th>host_thumbnail_url</th>\n",
       "      <td>https://a0.muscache.com/im/pictures/efdad96a-3...</td>\n",
       "      <td>https://a0.muscache.com/im/users/8904/profile_...</td>\n",
       "    </tr>\n",
       "    <tr>\n",
       "      <th>host_picture_url</th>\n",
       "      <td>https://a0.muscache.com/im/pictures/efdad96a-3...</td>\n",
       "      <td>https://a0.muscache.com/im/users/8904/profile_...</td>\n",
       "    </tr>\n",
       "    <tr>\n",
       "      <th>host_neighbourhood</th>\n",
       "      <td>Duboce Triangle</td>\n",
       "      <td>Bernal Heights</td>\n",
       "    </tr>\n",
       "    <tr>\n",
       "      <th>host_listings_count</th>\n",
       "      <td>1</td>\n",
       "      <td>2</td>\n",
       "    </tr>\n",
       "    <tr>\n",
       "      <th>host_total_listings_count</th>\n",
       "      <td>1</td>\n",
       "      <td>2</td>\n",
       "    </tr>\n",
       "    <tr>\n",
       "      <th>host_verifications</th>\n",
       "      <td>['email', 'phone', 'facebook', 'reviews', 'kba']</td>\n",
       "      <td>['email', 'phone', 'reviews', 'kba', 'work_ema...</td>\n",
       "    </tr>\n",
       "    <tr>\n",
       "      <th>host_has_profile_pic</th>\n",
       "      <td>t</td>\n",
       "      <td>t</td>\n",
       "    </tr>\n",
       "    <tr>\n",
       "      <th>host_identity_verified</th>\n",
       "      <td>t</td>\n",
       "      <td>t</td>\n",
       "    </tr>\n",
       "    <tr>\n",
       "      <th>street</th>\n",
       "      <td>San Francisco, CA, United States</td>\n",
       "      <td>San Francisco, CA, United States</td>\n",
       "    </tr>\n",
       "    <tr>\n",
       "      <th>neighbourhood</th>\n",
       "      <td>Lower Haight</td>\n",
       "      <td>Bernal Heights</td>\n",
       "    </tr>\n",
       "    <tr>\n",
       "      <th>neighbourhood_cleansed</th>\n",
       "      <td>Western Addition</td>\n",
       "      <td>Bernal Heights</td>\n",
       "    </tr>\n",
       "    <tr>\n",
       "      <th>neighbourhood_group_cleansed</th>\n",
       "      <td>NaN</td>\n",
       "      <td>NaN</td>\n",
       "    </tr>\n",
       "    <tr>\n",
       "      <th>city</th>\n",
       "      <td>San Francisco</td>\n",
       "      <td>San Francisco</td>\n",
       "    </tr>\n",
       "    <tr>\n",
       "      <th>state</th>\n",
       "      <td>CA</td>\n",
       "      <td>CA</td>\n",
       "    </tr>\n",
       "    <tr>\n",
       "      <th>zipcode</th>\n",
       "      <td>94117</td>\n",
       "      <td>94110</td>\n",
       "    </tr>\n",
       "    <tr>\n",
       "      <th>market</th>\n",
       "      <td>San Francisco</td>\n",
       "      <td>San Francisco</td>\n",
       "    </tr>\n",
       "    <tr>\n",
       "      <th>smart_location</th>\n",
       "      <td>San Francisco, CA</td>\n",
       "      <td>San Francisco, CA</td>\n",
       "    </tr>\n",
       "    <tr>\n",
       "      <th>country_code</th>\n",
       "      <td>US</td>\n",
       "      <td>US</td>\n",
       "    </tr>\n",
       "    <tr>\n",
       "      <th>country</th>\n",
       "      <td>United States</td>\n",
       "      <td>United States</td>\n",
       "    </tr>\n",
       "    <tr>\n",
       "      <th>latitude</th>\n",
       "      <td>37.7693</td>\n",
       "      <td>37.7451</td>\n",
       "    </tr>\n",
       "    <tr>\n",
       "      <th>longitude</th>\n",
       "      <td>-122.434</td>\n",
       "      <td>-122.421</td>\n",
       "    </tr>\n",
       "    <tr>\n",
       "      <th>is_location_exact</th>\n",
       "      <td>t</td>\n",
       "      <td>t</td>\n",
       "    </tr>\n",
       "    <tr>\n",
       "      <th>property_type</th>\n",
       "      <td>Apartment</td>\n",
       "      <td>Apartment</td>\n",
       "    </tr>\n",
       "    <tr>\n",
       "      <th>room_type</th>\n",
       "      <td>Entire home/apt</td>\n",
       "      <td>Entire home/apt</td>\n",
       "    </tr>\n",
       "    <tr>\n",
       "      <th>accommodates</th>\n",
       "      <td>3</td>\n",
       "      <td>5</td>\n",
       "    </tr>\n",
       "    <tr>\n",
       "      <th>bathrooms</th>\n",
       "      <td>1</td>\n",
       "      <td>1</td>\n",
       "    </tr>\n",
       "    <tr>\n",
       "      <th>bedrooms</th>\n",
       "      <td>1</td>\n",
       "      <td>2</td>\n",
       "    </tr>\n",
       "    <tr>\n",
       "      <th>beds</th>\n",
       "      <td>2</td>\n",
       "      <td>3</td>\n",
       "    </tr>\n",
       "    <tr>\n",
       "      <th>bed_type</th>\n",
       "      <td>Real Bed</td>\n",
       "      <td>Real Bed</td>\n",
       "    </tr>\n",
       "    <tr>\n",
       "      <th>amenities</th>\n",
       "      <td>{TV,\"Cable TV\",Internet,Wifi,Kitchen,\"Pets liv...</td>\n",
       "      <td>{Internet,Wifi,Kitchen,Heating,\"Family/kid fri...</td>\n",
       "    </tr>\n",
       "    <tr>\n",
       "      <th>square_feet</th>\n",
       "      <td>NaN</td>\n",
       "      <td>NaN</td>\n",
       "    </tr>\n",
       "    <tr>\n",
       "      <th>price</th>\n",
       "      <td>$170.00</td>\n",
       "      <td>$235.00</td>\n",
       "    </tr>\n",
       "    <tr>\n",
       "      <th>weekly_price</th>\n",
       "      <td>$1,120.00</td>\n",
       "      <td>$1,600.00</td>\n",
       "    </tr>\n",
       "    <tr>\n",
       "      <th>monthly_price</th>\n",
       "      <td>$4,200.00</td>\n",
       "      <td>$5,500.00</td>\n",
       "    </tr>\n",
       "    <tr>\n",
       "      <th>security_deposit</th>\n",
       "      <td>$100.00</td>\n",
       "      <td>NaN</td>\n",
       "    </tr>\n",
       "    <tr>\n",
       "      <th>cleaning_fee</th>\n",
       "      <td>$100.00</td>\n",
       "      <td>$100.00</td>\n",
       "    </tr>\n",
       "    <tr>\n",
       "      <th>guests_included</th>\n",
       "      <td>2</td>\n",
       "      <td>2</td>\n",
       "    </tr>\n",
       "    <tr>\n",
       "      <th>extra_people</th>\n",
       "      <td>$25.00</td>\n",
       "      <td>$0.00</td>\n",
       "    </tr>\n",
       "    <tr>\n",
       "      <th>minimum_nights</th>\n",
       "      <td>1</td>\n",
       "      <td>30</td>\n",
       "    </tr>\n",
       "    <tr>\n",
       "      <th>maximum_nights</th>\n",
       "      <td>30</td>\n",
       "      <td>60</td>\n",
       "    </tr>\n",
       "    <tr>\n",
       "      <th>minimum_minimum_nights</th>\n",
       "      <td>1</td>\n",
       "      <td>30</td>\n",
       "    </tr>\n",
       "    <tr>\n",
       "      <th>maximum_minimum_nights</th>\n",
       "      <td>1</td>\n",
       "      <td>30</td>\n",
       "    </tr>\n",
       "    <tr>\n",
       "      <th>minimum_maximum_nights</th>\n",
       "      <td>30</td>\n",
       "      <td>60</td>\n",
       "    </tr>\n",
       "    <tr>\n",
       "      <th>maximum_maximum_nights</th>\n",
       "      <td>30</td>\n",
       "      <td>60</td>\n",
       "    </tr>\n",
       "    <tr>\n",
       "      <th>minimum_nights_avg_ntm</th>\n",
       "      <td>1</td>\n",
       "      <td>30</td>\n",
       "    </tr>\n",
       "    <tr>\n",
       "      <th>maximum_nights_avg_ntm</th>\n",
       "      <td>30</td>\n",
       "      <td>60</td>\n",
       "    </tr>\n",
       "    <tr>\n",
       "      <th>calendar_updated</th>\n",
       "      <td>2 months ago</td>\n",
       "      <td>3 days ago</td>\n",
       "    </tr>\n",
       "    <tr>\n",
       "      <th>has_availability</th>\n",
       "      <td>t</td>\n",
       "      <td>t</td>\n",
       "    </tr>\n",
       "    <tr>\n",
       "      <th>availability_30</th>\n",
       "      <td>1</td>\n",
       "      <td>0</td>\n",
       "    </tr>\n",
       "    <tr>\n",
       "      <th>availability_60</th>\n",
       "      <td>3</td>\n",
       "      <td>0</td>\n",
       "    </tr>\n",
       "    <tr>\n",
       "      <th>availability_90</th>\n",
       "      <td>7</td>\n",
       "      <td>0</td>\n",
       "    </tr>\n",
       "    <tr>\n",
       "      <th>availability_365</th>\n",
       "      <td>92</td>\n",
       "      <td>0</td>\n",
       "    </tr>\n",
       "    <tr>\n",
       "      <th>calendar_last_scraped</th>\n",
       "      <td>2019-06-02</td>\n",
       "      <td>2019-06-02</td>\n",
       "    </tr>\n",
       "    <tr>\n",
       "      <th>number_of_reviews</th>\n",
       "      <td>192</td>\n",
       "      <td>111</td>\n",
       "    </tr>\n",
       "    <tr>\n",
       "      <th>number_of_reviews_ltm</th>\n",
       "      <td>56</td>\n",
       "      <td>0</td>\n",
       "    </tr>\n",
       "    <tr>\n",
       "      <th>first_review</th>\n",
       "      <td>2009-07-23</td>\n",
       "      <td>2009-05-03</td>\n",
       "    </tr>\n",
       "    <tr>\n",
       "      <th>last_review</th>\n",
       "      <td>2019-05-16</td>\n",
       "      <td>2017-08-06</td>\n",
       "    </tr>\n",
       "    <tr>\n",
       "      <th>review_scores_rating</th>\n",
       "      <td>97</td>\n",
       "      <td>98</td>\n",
       "    </tr>\n",
       "    <tr>\n",
       "      <th>review_scores_accuracy</th>\n",
       "      <td>10</td>\n",
       "      <td>10</td>\n",
       "    </tr>\n",
       "    <tr>\n",
       "      <th>review_scores_cleanliness</th>\n",
       "      <td>10</td>\n",
       "      <td>10</td>\n",
       "    </tr>\n",
       "    <tr>\n",
       "      <th>review_scores_checkin</th>\n",
       "      <td>10</td>\n",
       "      <td>10</td>\n",
       "    </tr>\n",
       "    <tr>\n",
       "      <th>review_scores_communication</th>\n",
       "      <td>10</td>\n",
       "      <td>10</td>\n",
       "    </tr>\n",
       "    <tr>\n",
       "      <th>review_scores_location</th>\n",
       "      <td>10</td>\n",
       "      <td>10</td>\n",
       "    </tr>\n",
       "    <tr>\n",
       "      <th>review_scores_value</th>\n",
       "      <td>9</td>\n",
       "      <td>9</td>\n",
       "    </tr>\n",
       "    <tr>\n",
       "      <th>requires_license</th>\n",
       "      <td>t</td>\n",
       "      <td>t</td>\n",
       "    </tr>\n",
       "    <tr>\n",
       "      <th>license</th>\n",
       "      <td>STR-0001256</td>\n",
       "      <td>NaN</td>\n",
       "    </tr>\n",
       "    <tr>\n",
       "      <th>jurisdiction_names</th>\n",
       "      <td>{\"SAN FRANCISCO\"}</td>\n",
       "      <td>{\"SAN FRANCISCO\"}</td>\n",
       "    </tr>\n",
       "    <tr>\n",
       "      <th>instant_bookable</th>\n",
       "      <td>t</td>\n",
       "      <td>f</td>\n",
       "    </tr>\n",
       "    <tr>\n",
       "      <th>is_business_travel_ready</th>\n",
       "      <td>f</td>\n",
       "      <td>f</td>\n",
       "    </tr>\n",
       "    <tr>\n",
       "      <th>cancellation_policy</th>\n",
       "      <td>moderate</td>\n",
       "      <td>strict_14_with_grace_period</td>\n",
       "    </tr>\n",
       "    <tr>\n",
       "      <th>require_guest_profile_picture</th>\n",
       "      <td>f</td>\n",
       "      <td>f</td>\n",
       "    </tr>\n",
       "    <tr>\n",
       "      <th>require_guest_phone_verification</th>\n",
       "      <td>f</td>\n",
       "      <td>f</td>\n",
       "    </tr>\n",
       "    <tr>\n",
       "      <th>calculated_host_listings_count</th>\n",
       "      <td>1</td>\n",
       "      <td>1</td>\n",
       "    </tr>\n",
       "    <tr>\n",
       "      <th>calculated_host_listings_count_entire_homes</th>\n",
       "      <td>1</td>\n",
       "      <td>1</td>\n",
       "    </tr>\n",
       "    <tr>\n",
       "      <th>calculated_host_listings_count_private_rooms</th>\n",
       "      <td>0</td>\n",
       "      <td>0</td>\n",
       "    </tr>\n",
       "    <tr>\n",
       "      <th>calculated_host_listings_count_shared_rooms</th>\n",
       "      <td>0</td>\n",
       "      <td>0</td>\n",
       "    </tr>\n",
       "    <tr>\n",
       "      <th>reviews_per_month</th>\n",
       "      <td>1.6</td>\n",
       "      <td>0.9</td>\n",
       "    </tr>\n",
       "  </tbody>\n",
       "</table>\n",
       "</div>"
      ],
      "text/plain": [
       "                                                                                              0  \\\n",
       "id                                                                                          958   \n",
       "listing_url                                                    https://www.airbnb.com/rooms/958   \n",
       "scrape_id                                                                        20190602163113   \n",
       "last_scraped                                                                         2019-06-02   \n",
       "name                                                        Bright, Modern Garden Unit - 1BR/1B   \n",
       "summary                                       New update: the house next door is under const...   \n",
       "space                                         Newly remodeled, modern, and bright garden uni...   \n",
       "description                                   New update: the house next door is under const...   \n",
       "experiences_offered                                                                        none   \n",
       "neighborhood_overview                         *Quiet cul de sac in friendly neighborhood *St...   \n",
       "notes                                         Due to the fact that we have children and a do...   \n",
       "transit                                       *Public Transportation is 1/2 block away.  *Ce...   \n",
       "access                                        *Full access to patio and backyard (shared wit...   \n",
       "interaction                                   A family of 4 lives upstairs with their dog. N...   \n",
       "house_rules                                   * No Pets - even visiting guests for a short t...   \n",
       "thumbnail_url                                                                               NaN   \n",
       "medium_url                                                                                  NaN   \n",
       "picture_url                                   https://a0.muscache.com/im/pictures/b7c2a199-4...   \n",
       "xl_picture_url                                                                              NaN   \n",
       "host_id                                                                                    1169   \n",
       "host_url                                                 https://www.airbnb.com/users/show/1169   \n",
       "host_name                                                                                 Holly   \n",
       "host_since                                                                           2008-07-31   \n",
       "host_location                                          San Francisco, California, United States   \n",
       "host_about                                    We are a family with 2 boys born in 2009 and 2...   \n",
       "host_response_time                                                           within a few hours   \n",
       "host_response_rate                                                                         100%   \n",
       "host_acceptance_rate                                                                        NaN   \n",
       "host_is_superhost                                                                             t   \n",
       "host_thumbnail_url                            https://a0.muscache.com/im/pictures/efdad96a-3...   \n",
       "host_picture_url                              https://a0.muscache.com/im/pictures/efdad96a-3...   \n",
       "host_neighbourhood                                                              Duboce Triangle   \n",
       "host_listings_count                                                                           1   \n",
       "host_total_listings_count                                                                     1   \n",
       "host_verifications                             ['email', 'phone', 'facebook', 'reviews', 'kba']   \n",
       "host_has_profile_pic                                                                          t   \n",
       "host_identity_verified                                                                        t   \n",
       "street                                                         San Francisco, CA, United States   \n",
       "neighbourhood                                                                      Lower Haight   \n",
       "neighbourhood_cleansed                                                         Western Addition   \n",
       "neighbourhood_group_cleansed                                                                NaN   \n",
       "city                                                                              San Francisco   \n",
       "state                                                                                        CA   \n",
       "zipcode                                                                                   94117   \n",
       "market                                                                            San Francisco   \n",
       "smart_location                                                                San Francisco, CA   \n",
       "country_code                                                                                 US   \n",
       "country                                                                           United States   \n",
       "latitude                                                                                37.7693   \n",
       "longitude                                                                              -122.434   \n",
       "is_location_exact                                                                             t   \n",
       "property_type                                                                         Apartment   \n",
       "room_type                                                                       Entire home/apt   \n",
       "accommodates                                                                                  3   \n",
       "bathrooms                                                                                     1   \n",
       "bedrooms                                                                                      1   \n",
       "beds                                                                                          2   \n",
       "bed_type                                                                               Real Bed   \n",
       "amenities                                     {TV,\"Cable TV\",Internet,Wifi,Kitchen,\"Pets liv...   \n",
       "square_feet                                                                                 NaN   \n",
       "price                                                                                   $170.00   \n",
       "weekly_price                                                                          $1,120.00   \n",
       "monthly_price                                                                         $4,200.00   \n",
       "security_deposit                                                                        $100.00   \n",
       "cleaning_fee                                                                            $100.00   \n",
       "guests_included                                                                               2   \n",
       "extra_people                                                                             $25.00   \n",
       "minimum_nights                                                                                1   \n",
       "maximum_nights                                                                               30   \n",
       "minimum_minimum_nights                                                                        1   \n",
       "maximum_minimum_nights                                                                        1   \n",
       "minimum_maximum_nights                                                                       30   \n",
       "maximum_maximum_nights                                                                       30   \n",
       "minimum_nights_avg_ntm                                                                        1   \n",
       "maximum_nights_avg_ntm                                                                       30   \n",
       "calendar_updated                                                                   2 months ago   \n",
       "has_availability                                                                              t   \n",
       "availability_30                                                                               1   \n",
       "availability_60                                                                               3   \n",
       "availability_90                                                                               7   \n",
       "availability_365                                                                             92   \n",
       "calendar_last_scraped                                                                2019-06-02   \n",
       "number_of_reviews                                                                           192   \n",
       "number_of_reviews_ltm                                                                        56   \n",
       "first_review                                                                         2009-07-23   \n",
       "last_review                                                                          2019-05-16   \n",
       "review_scores_rating                                                                         97   \n",
       "review_scores_accuracy                                                                       10   \n",
       "review_scores_cleanliness                                                                    10   \n",
       "review_scores_checkin                                                                        10   \n",
       "review_scores_communication                                                                  10   \n",
       "review_scores_location                                                                       10   \n",
       "review_scores_value                                                                           9   \n",
       "requires_license                                                                              t   \n",
       "license                                                                             STR-0001256   \n",
       "jurisdiction_names                                                            {\"SAN FRANCISCO\"}   \n",
       "instant_bookable                                                                              t   \n",
       "is_business_travel_ready                                                                      f   \n",
       "cancellation_policy                                                                    moderate   \n",
       "require_guest_profile_picture                                                                 f   \n",
       "require_guest_phone_verification                                                              f   \n",
       "calculated_host_listings_count                                                                1   \n",
       "calculated_host_listings_count_entire_homes                                                   1   \n",
       "calculated_host_listings_count_private_rooms                                                  0   \n",
       "calculated_host_listings_count_shared_rooms                                                   0   \n",
       "reviews_per_month                                                                           1.6   \n",
       "\n",
       "                                                                                              1  \n",
       "id                                                                                         5858  \n",
       "listing_url                                                   https://www.airbnb.com/rooms/5858  \n",
       "scrape_id                                                                        20190602163113  \n",
       "last_scraped                                                                         2019-06-02  \n",
       "name                                                                         Creative Sanctuary  \n",
       "summary                                                                                     NaN  \n",
       "space                                         We live in a large Victorian house on a quiet ...  \n",
       "description                                   We live in a large Victorian house on a quiet ...  \n",
       "experiences_offered                                                                        none  \n",
       "neighborhood_overview                         I love how our neighborhood feels quiet but is...  \n",
       "notes                                         All the furniture in the house was handmade so...  \n",
       "transit                                       The train is two blocks away and you can stop ...  \n",
       "access                                        Our deck, garden, gourmet kitchen and extensiv...  \n",
       "interaction                                                                                 NaN  \n",
       "house_rules                                   Please respect the house, the art work, the fu...  \n",
       "thumbnail_url                                                                               NaN  \n",
       "medium_url                                                                                  NaN  \n",
       "picture_url                                   https://a0.muscache.com/im/pictures/17714/3a7a...  \n",
       "xl_picture_url                                                                              NaN  \n",
       "host_id                                                                                    8904  \n",
       "host_url                                                 https://www.airbnb.com/users/show/8904  \n",
       "host_name                                                                      Philip And Tania  \n",
       "host_since                                                                           2009-03-02  \n",
       "host_location                                          San Francisco, California, United States  \n",
       "host_about                                    Philip: English transplant to the Bay Area and...  \n",
       "host_response_time                                                                 within a day  \n",
       "host_response_rate                                                                         100%  \n",
       "host_acceptance_rate                                                                        NaN  \n",
       "host_is_superhost                                                                             f  \n",
       "host_thumbnail_url                            https://a0.muscache.com/im/users/8904/profile_...  \n",
       "host_picture_url                              https://a0.muscache.com/im/users/8904/profile_...  \n",
       "host_neighbourhood                                                               Bernal Heights  \n",
       "host_listings_count                                                                           2  \n",
       "host_total_listings_count                                                                     2  \n",
       "host_verifications                            ['email', 'phone', 'reviews', 'kba', 'work_ema...  \n",
       "host_has_profile_pic                                                                          t  \n",
       "host_identity_verified                                                                        t  \n",
       "street                                                         San Francisco, CA, United States  \n",
       "neighbourhood                                                                    Bernal Heights  \n",
       "neighbourhood_cleansed                                                           Bernal Heights  \n",
       "neighbourhood_group_cleansed                                                                NaN  \n",
       "city                                                                              San Francisco  \n",
       "state                                                                                        CA  \n",
       "zipcode                                                                                   94110  \n",
       "market                                                                            San Francisco  \n",
       "smart_location                                                                San Francisco, CA  \n",
       "country_code                                                                                 US  \n",
       "country                                                                           United States  \n",
       "latitude                                                                                37.7451  \n",
       "longitude                                                                              -122.421  \n",
       "is_location_exact                                                                             t  \n",
       "property_type                                                                         Apartment  \n",
       "room_type                                                                       Entire home/apt  \n",
       "accommodates                                                                                  5  \n",
       "bathrooms                                                                                     1  \n",
       "bedrooms                                                                                      2  \n",
       "beds                                                                                          3  \n",
       "bed_type                                                                               Real Bed  \n",
       "amenities                                     {Internet,Wifi,Kitchen,Heating,\"Family/kid fri...  \n",
       "square_feet                                                                                 NaN  \n",
       "price                                                                                   $235.00  \n",
       "weekly_price                                                                          $1,600.00  \n",
       "monthly_price                                                                         $5,500.00  \n",
       "security_deposit                                                                            NaN  \n",
       "cleaning_fee                                                                            $100.00  \n",
       "guests_included                                                                               2  \n",
       "extra_people                                                                              $0.00  \n",
       "minimum_nights                                                                               30  \n",
       "maximum_nights                                                                               60  \n",
       "minimum_minimum_nights                                                                       30  \n",
       "maximum_minimum_nights                                                                       30  \n",
       "minimum_maximum_nights                                                                       60  \n",
       "maximum_maximum_nights                                                                       60  \n",
       "minimum_nights_avg_ntm                                                                       30  \n",
       "maximum_nights_avg_ntm                                                                       60  \n",
       "calendar_updated                                                                     3 days ago  \n",
       "has_availability                                                                              t  \n",
       "availability_30                                                                               0  \n",
       "availability_60                                                                               0  \n",
       "availability_90                                                                               0  \n",
       "availability_365                                                                              0  \n",
       "calendar_last_scraped                                                                2019-06-02  \n",
       "number_of_reviews                                                                           111  \n",
       "number_of_reviews_ltm                                                                         0  \n",
       "first_review                                                                         2009-05-03  \n",
       "last_review                                                                          2017-08-06  \n",
       "review_scores_rating                                                                         98  \n",
       "review_scores_accuracy                                                                       10  \n",
       "review_scores_cleanliness                                                                    10  \n",
       "review_scores_checkin                                                                        10  \n",
       "review_scores_communication                                                                  10  \n",
       "review_scores_location                                                                       10  \n",
       "review_scores_value                                                                           9  \n",
       "requires_license                                                                              t  \n",
       "license                                                                                     NaN  \n",
       "jurisdiction_names                                                            {\"SAN FRANCISCO\"}  \n",
       "instant_bookable                                                                              f  \n",
       "is_business_travel_ready                                                                      f  \n",
       "cancellation_policy                                                 strict_14_with_grace_period  \n",
       "require_guest_profile_picture                                                                 f  \n",
       "require_guest_phone_verification                                                              f  \n",
       "calculated_host_listings_count                                                                1  \n",
       "calculated_host_listings_count_entire_homes                                                   1  \n",
       "calculated_host_listings_count_private_rooms                                                  0  \n",
       "calculated_host_listings_count_shared_rooms                                                   0  \n",
       "reviews_per_month                                                                           0.9  "
      ]
     },
     "execution_count": 4,
     "metadata": {},
     "output_type": "execute_result"
    }
   ],
   "source": [
    "sf.head(2).transpose()"
   ]
  },
  {
   "cell_type": "markdown",
   "metadata": {},
   "source": [
    "Skimmed through features to filter out columns I don't need."
   ]
  },
  {
   "cell_type": "code",
   "execution_count": 5,
   "metadata": {},
   "outputs": [],
   "source": [
    "drop = ['listing_url','scrape_id','last_scraped','summary','space','description','neighborhood_overview',\n",
    "       'notes','transit','access','interaction','house_rules','thumbnail_url','medium_url','picture_url',\n",
    "       'xl_picture_url','host_id','host_url','host_about','host_thumbnail_url','host_picture_url',\n",
    "       'calendar_updated','calendar_last_scraped','license','name','host_name','zipcode','id']#,'latitude','longitude']"
   ]
  },
  {
   "cell_type": "code",
   "execution_count": 6,
   "metadata": {},
   "outputs": [],
   "source": [
    "# Dropping all the columns I don't want\n",
    "sf = sf.drop(drop,axis=1)\n",
    "ny = ny.drop(drop,axis=1)\n",
    "aus = aus.drop(drop,axis=1)"
   ]
  },
  {
   "cell_type": "code",
   "execution_count": 7,
   "metadata": {},
   "outputs": [],
   "source": [
    "df = pd.concat([sf,ny,aus],ignore_index=True)"
   ]
  },
  {
   "cell_type": "code",
   "execution_count": 8,
   "metadata": {},
   "outputs": [
    {
     "data": {
      "text/plain": [
       "True"
      ]
     },
     "execution_count": 8,
     "metadata": {},
     "output_type": "execute_result"
    }
   ],
   "source": [
    "# Sanity checking rows all came in\n",
    "df.shape[0] == sf.shape[0]+ny.shape[0]+aus.shape[0]"
   ]
  },
  {
   "cell_type": "markdown",
   "metadata": {},
   "source": [
    "# Data Cleaning"
   ]
  },
  {
   "cell_type": "markdown",
   "metadata": {},
   "source": [
    "Here we need to clean the data enough for Exploratory Data Analysis."
   ]
  },
  {
   "cell_type": "markdown",
   "metadata": {},
   "source": [
    "## Duplicate Value Check"
   ]
  },
  {
   "cell_type": "code",
   "execution_count": 9,
   "metadata": {},
   "outputs": [
    {
     "data": {
      "text/plain": [
       "(68168, 78)"
      ]
     },
     "execution_count": 9,
     "metadata": {},
     "output_type": "execute_result"
    }
   ],
   "source": [
    "df.shape"
   ]
  },
  {
   "cell_type": "code",
   "execution_count": 10,
   "metadata": {},
   "outputs": [],
   "source": [
    "df = df.drop_duplicates()"
   ]
  },
  {
   "cell_type": "code",
   "execution_count": 11,
   "metadata": {},
   "outputs": [
    {
     "data": {
      "text/plain": [
       "(68167, 78)"
      ]
     },
     "execution_count": 11,
     "metadata": {},
     "output_type": "execute_result"
    }
   ],
   "source": [
    "df.shape"
   ]
  },
  {
   "cell_type": "markdown",
   "metadata": {},
   "source": [
    "1 duplicate dropped."
   ]
  },
  {
   "cell_type": "markdown",
   "metadata": {},
   "source": [
    "## Separate Data Types"
   ]
  },
  {
   "cell_type": "code",
   "execution_count": 12,
   "metadata": {},
   "outputs": [],
   "source": [
    "cat_df = df.select_dtypes(include=['object','bool'])\n",
    "cat_cols = df.select_dtypes(include=['object','bool']).columns.values"
   ]
  },
  {
   "cell_type": "code",
   "execution_count": 13,
   "metadata": {},
   "outputs": [],
   "source": [
    "num_df = df.select_dtypes(include=['int','float'])\n",
    "num_cols = df.select_dtypes(include=['int','float']).columns.values"
   ]
  },
  {
   "cell_type": "code",
   "execution_count": 14,
   "metadata": {},
   "outputs": [
    {
     "data": {
      "text/plain": [
       "True"
      ]
     },
     "execution_count": 14,
     "metadata": {},
     "output_type": "execute_result"
    }
   ],
   "source": [
    "# Sanity check that we have all our features accounted for\n",
    "len(num_cols)+len(cat_cols) == df.shape[1]"
   ]
  },
  {
   "cell_type": "markdown",
   "metadata": {},
   "source": [
    "---\n",
    "So now we need to account for all of the following data types...\n",
    "\n",
    "1. Numerical\n",
    "    - Continuous\n",
    "    - Discrete\n",
    "2. Categorical\n",
    "    - Binary\n",
    "    - Ordinal\n",
    "    - Nominal\n",
    "3. Mixed Type\n",
    "4. Time\n",
    "---"
   ]
  },
  {
   "cell_type": "markdown",
   "metadata": {},
   "source": [
    "### Numerical"
   ]
  },
  {
   "cell_type": "code",
   "execution_count": 15,
   "metadata": {},
   "outputs": [
    {
     "data": {
      "text/html": [
       "<div>\n",
       "<style scoped>\n",
       "    .dataframe tbody tr th:only-of-type {\n",
       "        vertical-align: middle;\n",
       "    }\n",
       "\n",
       "    .dataframe tbody tr th {\n",
       "        vertical-align: top;\n",
       "    }\n",
       "\n",
       "    .dataframe thead th {\n",
       "        text-align: right;\n",
       "    }\n",
       "</style>\n",
       "<table border=\"1\" class=\"dataframe\">\n",
       "  <thead>\n",
       "    <tr style=\"text-align: right;\">\n",
       "      <th></th>\n",
       "      <th>0</th>\n",
       "      <th>1</th>\n",
       "      <th>2</th>\n",
       "      <th>3</th>\n",
       "      <th>4</th>\n",
       "    </tr>\n",
       "  </thead>\n",
       "  <tbody>\n",
       "    <tr>\n",
       "      <th>host_acceptance_rate</th>\n",
       "      <td>NaN</td>\n",
       "      <td>NaN</td>\n",
       "      <td>NaN</td>\n",
       "      <td>NaN</td>\n",
       "      <td>NaN</td>\n",
       "    </tr>\n",
       "    <tr>\n",
       "      <th>host_listings_count</th>\n",
       "      <td>1.00000</td>\n",
       "      <td>2.00000</td>\n",
       "      <td>10.00000</td>\n",
       "      <td>10.00000</td>\n",
       "      <td>2.00000</td>\n",
       "    </tr>\n",
       "    <tr>\n",
       "      <th>host_total_listings_count</th>\n",
       "      <td>1.00000</td>\n",
       "      <td>2.00000</td>\n",
       "      <td>10.00000</td>\n",
       "      <td>10.00000</td>\n",
       "      <td>2.00000</td>\n",
       "    </tr>\n",
       "    <tr>\n",
       "      <th>latitude</th>\n",
       "      <td>37.76931</td>\n",
       "      <td>37.74511</td>\n",
       "      <td>37.76669</td>\n",
       "      <td>37.76487</td>\n",
       "      <td>37.77525</td>\n",
       "    </tr>\n",
       "    <tr>\n",
       "      <th>longitude</th>\n",
       "      <td>-122.43386</td>\n",
       "      <td>-122.42102</td>\n",
       "      <td>-122.45250</td>\n",
       "      <td>-122.45183</td>\n",
       "      <td>-122.43637</td>\n",
       "    </tr>\n",
       "    <tr>\n",
       "      <th>accommodates</th>\n",
       "      <td>3.00000</td>\n",
       "      <td>5.00000</td>\n",
       "      <td>2.00000</td>\n",
       "      <td>2.00000</td>\n",
       "      <td>5.00000</td>\n",
       "    </tr>\n",
       "    <tr>\n",
       "      <th>bathrooms</th>\n",
       "      <td>1.00000</td>\n",
       "      <td>1.00000</td>\n",
       "      <td>4.00000</td>\n",
       "      <td>4.00000</td>\n",
       "      <td>1.50000</td>\n",
       "    </tr>\n",
       "    <tr>\n",
       "      <th>bedrooms</th>\n",
       "      <td>1.00000</td>\n",
       "      <td>2.00000</td>\n",
       "      <td>1.00000</td>\n",
       "      <td>1.00000</td>\n",
       "      <td>2.00000</td>\n",
       "    </tr>\n",
       "    <tr>\n",
       "      <th>beds</th>\n",
       "      <td>2.00000</td>\n",
       "      <td>3.00000</td>\n",
       "      <td>1.00000</td>\n",
       "      <td>1.00000</td>\n",
       "      <td>2.00000</td>\n",
       "    </tr>\n",
       "    <tr>\n",
       "      <th>square_feet</th>\n",
       "      <td>NaN</td>\n",
       "      <td>NaN</td>\n",
       "      <td>NaN</td>\n",
       "      <td>NaN</td>\n",
       "      <td>NaN</td>\n",
       "    </tr>\n",
       "    <tr>\n",
       "      <th>guests_included</th>\n",
       "      <td>2.00000</td>\n",
       "      <td>2.00000</td>\n",
       "      <td>1.00000</td>\n",
       "      <td>1.00000</td>\n",
       "      <td>2.00000</td>\n",
       "    </tr>\n",
       "    <tr>\n",
       "      <th>minimum_nights</th>\n",
       "      <td>1.00000</td>\n",
       "      <td>30.00000</td>\n",
       "      <td>32.00000</td>\n",
       "      <td>32.00000</td>\n",
       "      <td>4.00000</td>\n",
       "    </tr>\n",
       "    <tr>\n",
       "      <th>maximum_nights</th>\n",
       "      <td>30.00000</td>\n",
       "      <td>60.00000</td>\n",
       "      <td>60.00000</td>\n",
       "      <td>90.00000</td>\n",
       "      <td>1125.00000</td>\n",
       "    </tr>\n",
       "    <tr>\n",
       "      <th>minimum_minimum_nights</th>\n",
       "      <td>1.00000</td>\n",
       "      <td>30.00000</td>\n",
       "      <td>32.00000</td>\n",
       "      <td>32.00000</td>\n",
       "      <td>4.00000</td>\n",
       "    </tr>\n",
       "    <tr>\n",
       "      <th>maximum_minimum_nights</th>\n",
       "      <td>1.00000</td>\n",
       "      <td>30.00000</td>\n",
       "      <td>32.00000</td>\n",
       "      <td>32.00000</td>\n",
       "      <td>4.00000</td>\n",
       "    </tr>\n",
       "    <tr>\n",
       "      <th>minimum_maximum_nights</th>\n",
       "      <td>30.00000</td>\n",
       "      <td>60.00000</td>\n",
       "      <td>60.00000</td>\n",
       "      <td>90.00000</td>\n",
       "      <td>1125.00000</td>\n",
       "    </tr>\n",
       "    <tr>\n",
       "      <th>maximum_maximum_nights</th>\n",
       "      <td>30.00000</td>\n",
       "      <td>60.00000</td>\n",
       "      <td>60.00000</td>\n",
       "      <td>90.00000</td>\n",
       "      <td>1125.00000</td>\n",
       "    </tr>\n",
       "    <tr>\n",
       "      <th>minimum_nights_avg_ntm</th>\n",
       "      <td>1.00000</td>\n",
       "      <td>30.00000</td>\n",
       "      <td>32.00000</td>\n",
       "      <td>32.00000</td>\n",
       "      <td>4.00000</td>\n",
       "    </tr>\n",
       "    <tr>\n",
       "      <th>maximum_nights_avg_ntm</th>\n",
       "      <td>30.00000</td>\n",
       "      <td>60.00000</td>\n",
       "      <td>60.00000</td>\n",
       "      <td>90.00000</td>\n",
       "      <td>1125.00000</td>\n",
       "    </tr>\n",
       "    <tr>\n",
       "      <th>availability_30</th>\n",
       "      <td>1.00000</td>\n",
       "      <td>0.00000</td>\n",
       "      <td>30.00000</td>\n",
       "      <td>11.00000</td>\n",
       "      <td>30.00000</td>\n",
       "    </tr>\n",
       "    <tr>\n",
       "      <th>availability_60</th>\n",
       "      <td>3.00000</td>\n",
       "      <td>0.00000</td>\n",
       "      <td>60.00000</td>\n",
       "      <td>41.00000</td>\n",
       "      <td>60.00000</td>\n",
       "    </tr>\n",
       "    <tr>\n",
       "      <th>availability_90</th>\n",
       "      <td>7.00000</td>\n",
       "      <td>0.00000</td>\n",
       "      <td>90.00000</td>\n",
       "      <td>71.00000</td>\n",
       "      <td>90.00000</td>\n",
       "    </tr>\n",
       "    <tr>\n",
       "      <th>availability_365</th>\n",
       "      <td>92.00000</td>\n",
       "      <td>0.00000</td>\n",
       "      <td>365.00000</td>\n",
       "      <td>346.00000</td>\n",
       "      <td>90.00000</td>\n",
       "    </tr>\n",
       "    <tr>\n",
       "      <th>number_of_reviews</th>\n",
       "      <td>192.00000</td>\n",
       "      <td>111.00000</td>\n",
       "      <td>17.00000</td>\n",
       "      <td>8.00000</td>\n",
       "      <td>27.00000</td>\n",
       "    </tr>\n",
       "    <tr>\n",
       "      <th>number_of_reviews_ltm</th>\n",
       "      <td>56.00000</td>\n",
       "      <td>0.00000</td>\n",
       "      <td>0.00000</td>\n",
       "      <td>1.00000</td>\n",
       "      <td>1.00000</td>\n",
       "    </tr>\n",
       "    <tr>\n",
       "      <th>review_scores_rating</th>\n",
       "      <td>97.00000</td>\n",
       "      <td>98.00000</td>\n",
       "      <td>85.00000</td>\n",
       "      <td>93.00000</td>\n",
       "      <td>97.00000</td>\n",
       "    </tr>\n",
       "    <tr>\n",
       "      <th>review_scores_accuracy</th>\n",
       "      <td>10.00000</td>\n",
       "      <td>10.00000</td>\n",
       "      <td>8.00000</td>\n",
       "      <td>9.00000</td>\n",
       "      <td>10.00000</td>\n",
       "    </tr>\n",
       "    <tr>\n",
       "      <th>review_scores_cleanliness</th>\n",
       "      <td>10.00000</td>\n",
       "      <td>10.00000</td>\n",
       "      <td>8.00000</td>\n",
       "      <td>9.00000</td>\n",
       "      <td>10.00000</td>\n",
       "    </tr>\n",
       "    <tr>\n",
       "      <th>review_scores_checkin</th>\n",
       "      <td>10.00000</td>\n",
       "      <td>10.00000</td>\n",
       "      <td>9.00000</td>\n",
       "      <td>10.00000</td>\n",
       "      <td>10.00000</td>\n",
       "    </tr>\n",
       "    <tr>\n",
       "      <th>review_scores_communication</th>\n",
       "      <td>10.00000</td>\n",
       "      <td>10.00000</td>\n",
       "      <td>9.00000</td>\n",
       "      <td>10.00000</td>\n",
       "      <td>10.00000</td>\n",
       "    </tr>\n",
       "    <tr>\n",
       "      <th>review_scores_location</th>\n",
       "      <td>10.00000</td>\n",
       "      <td>10.00000</td>\n",
       "      <td>9.00000</td>\n",
       "      <td>9.00000</td>\n",
       "      <td>10.00000</td>\n",
       "    </tr>\n",
       "    <tr>\n",
       "      <th>review_scores_value</th>\n",
       "      <td>9.00000</td>\n",
       "      <td>9.00000</td>\n",
       "      <td>8.00000</td>\n",
       "      <td>9.00000</td>\n",
       "      <td>9.00000</td>\n",
       "    </tr>\n",
       "    <tr>\n",
       "      <th>calculated_host_listings_count</th>\n",
       "      <td>1.00000</td>\n",
       "      <td>1.00000</td>\n",
       "      <td>9.00000</td>\n",
       "      <td>9.00000</td>\n",
       "      <td>2.00000</td>\n",
       "    </tr>\n",
       "    <tr>\n",
       "      <th>calculated_host_listings_count_entire_homes</th>\n",
       "      <td>1.00000</td>\n",
       "      <td>1.00000</td>\n",
       "      <td>0.00000</td>\n",
       "      <td>0.00000</td>\n",
       "      <td>2.00000</td>\n",
       "    </tr>\n",
       "    <tr>\n",
       "      <th>calculated_host_listings_count_private_rooms</th>\n",
       "      <td>0.00000</td>\n",
       "      <td>0.00000</td>\n",
       "      <td>9.00000</td>\n",
       "      <td>9.00000</td>\n",
       "      <td>0.00000</td>\n",
       "    </tr>\n",
       "    <tr>\n",
       "      <th>calculated_host_listings_count_shared_rooms</th>\n",
       "      <td>0.00000</td>\n",
       "      <td>0.00000</td>\n",
       "      <td>0.00000</td>\n",
       "      <td>0.00000</td>\n",
       "      <td>0.00000</td>\n",
       "    </tr>\n",
       "    <tr>\n",
       "      <th>reviews_per_month</th>\n",
       "      <td>1.60000</td>\n",
       "      <td>0.90000</td>\n",
       "      <td>0.14000</td>\n",
       "      <td>0.14000</td>\n",
       "      <td>0.23000</td>\n",
       "    </tr>\n",
       "  </tbody>\n",
       "</table>\n",
       "</div>"
      ],
      "text/plain": [
       "                                                      0          1          2  \\\n",
       "host_acceptance_rate                                NaN        NaN        NaN   \n",
       "host_listings_count                             1.00000    2.00000   10.00000   \n",
       "host_total_listings_count                       1.00000    2.00000   10.00000   \n",
       "latitude                                       37.76931   37.74511   37.76669   \n",
       "longitude                                    -122.43386 -122.42102 -122.45250   \n",
       "accommodates                                    3.00000    5.00000    2.00000   \n",
       "bathrooms                                       1.00000    1.00000    4.00000   \n",
       "bedrooms                                        1.00000    2.00000    1.00000   \n",
       "beds                                            2.00000    3.00000    1.00000   \n",
       "square_feet                                         NaN        NaN        NaN   \n",
       "guests_included                                 2.00000    2.00000    1.00000   \n",
       "minimum_nights                                  1.00000   30.00000   32.00000   \n",
       "maximum_nights                                 30.00000   60.00000   60.00000   \n",
       "minimum_minimum_nights                          1.00000   30.00000   32.00000   \n",
       "maximum_minimum_nights                          1.00000   30.00000   32.00000   \n",
       "minimum_maximum_nights                         30.00000   60.00000   60.00000   \n",
       "maximum_maximum_nights                         30.00000   60.00000   60.00000   \n",
       "minimum_nights_avg_ntm                          1.00000   30.00000   32.00000   \n",
       "maximum_nights_avg_ntm                         30.00000   60.00000   60.00000   \n",
       "availability_30                                 1.00000    0.00000   30.00000   \n",
       "availability_60                                 3.00000    0.00000   60.00000   \n",
       "availability_90                                 7.00000    0.00000   90.00000   \n",
       "availability_365                               92.00000    0.00000  365.00000   \n",
       "number_of_reviews                             192.00000  111.00000   17.00000   \n",
       "number_of_reviews_ltm                          56.00000    0.00000    0.00000   \n",
       "review_scores_rating                           97.00000   98.00000   85.00000   \n",
       "review_scores_accuracy                         10.00000   10.00000    8.00000   \n",
       "review_scores_cleanliness                      10.00000   10.00000    8.00000   \n",
       "review_scores_checkin                          10.00000   10.00000    9.00000   \n",
       "review_scores_communication                    10.00000   10.00000    9.00000   \n",
       "review_scores_location                         10.00000   10.00000    9.00000   \n",
       "review_scores_value                             9.00000    9.00000    8.00000   \n",
       "calculated_host_listings_count                  1.00000    1.00000    9.00000   \n",
       "calculated_host_listings_count_entire_homes     1.00000    1.00000    0.00000   \n",
       "calculated_host_listings_count_private_rooms    0.00000    0.00000    9.00000   \n",
       "calculated_host_listings_count_shared_rooms     0.00000    0.00000    0.00000   \n",
       "reviews_per_month                               1.60000    0.90000    0.14000   \n",
       "\n",
       "                                                      3           4  \n",
       "host_acceptance_rate                                NaN         NaN  \n",
       "host_listings_count                            10.00000     2.00000  \n",
       "host_total_listings_count                      10.00000     2.00000  \n",
       "latitude                                       37.76487    37.77525  \n",
       "longitude                                    -122.45183  -122.43637  \n",
       "accommodates                                    2.00000     5.00000  \n",
       "bathrooms                                       4.00000     1.50000  \n",
       "bedrooms                                        1.00000     2.00000  \n",
       "beds                                            1.00000     2.00000  \n",
       "square_feet                                         NaN         NaN  \n",
       "guests_included                                 1.00000     2.00000  \n",
       "minimum_nights                                 32.00000     4.00000  \n",
       "maximum_nights                                 90.00000  1125.00000  \n",
       "minimum_minimum_nights                         32.00000     4.00000  \n",
       "maximum_minimum_nights                         32.00000     4.00000  \n",
       "minimum_maximum_nights                         90.00000  1125.00000  \n",
       "maximum_maximum_nights                         90.00000  1125.00000  \n",
       "minimum_nights_avg_ntm                         32.00000     4.00000  \n",
       "maximum_nights_avg_ntm                         90.00000  1125.00000  \n",
       "availability_30                                11.00000    30.00000  \n",
       "availability_60                                41.00000    60.00000  \n",
       "availability_90                                71.00000    90.00000  \n",
       "availability_365                              346.00000    90.00000  \n",
       "number_of_reviews                               8.00000    27.00000  \n",
       "number_of_reviews_ltm                           1.00000     1.00000  \n",
       "review_scores_rating                           93.00000    97.00000  \n",
       "review_scores_accuracy                          9.00000    10.00000  \n",
       "review_scores_cleanliness                       9.00000    10.00000  \n",
       "review_scores_checkin                          10.00000    10.00000  \n",
       "review_scores_communication                    10.00000    10.00000  \n",
       "review_scores_location                          9.00000    10.00000  \n",
       "review_scores_value                             9.00000     9.00000  \n",
       "calculated_host_listings_count                  9.00000     2.00000  \n",
       "calculated_host_listings_count_entire_homes     0.00000     2.00000  \n",
       "calculated_host_listings_count_private_rooms    9.00000     0.00000  \n",
       "calculated_host_listings_count_shared_rooms     0.00000     0.00000  \n",
       "reviews_per_month                               0.14000     0.23000  "
      ]
     },
     "execution_count": 15,
     "metadata": {},
     "output_type": "execute_result"
    }
   ],
   "source": [
    "num_df.head().transpose()"
   ]
  },
  {
   "cell_type": "markdown",
   "metadata": {},
   "source": [
    "From what I can tell, all the numerical columns look good except `host_acceptance_rate` and `square_feet` since there are missing values in the first few rows. We'll take a look at NA values later."
   ]
  },
  {
   "cell_type": "markdown",
   "metadata": {},
   "source": [
    "### Categorical\n",
    "- Binary\n",
    "- Ordinal\n",
    "- Nominal"
   ]
  },
  {
   "cell_type": "code",
   "execution_count": 16,
   "metadata": {},
   "outputs": [
    {
     "data": {
      "text/html": [
       "<div>\n",
       "<style scoped>\n",
       "    .dataframe tbody tr th:only-of-type {\n",
       "        vertical-align: middle;\n",
       "    }\n",
       "\n",
       "    .dataframe tbody tr th {\n",
       "        vertical-align: top;\n",
       "    }\n",
       "\n",
       "    .dataframe thead th {\n",
       "        text-align: right;\n",
       "    }\n",
       "</style>\n",
       "<table border=\"1\" class=\"dataframe\">\n",
       "  <thead>\n",
       "    <tr style=\"text-align: right;\">\n",
       "      <th></th>\n",
       "      <th>0</th>\n",
       "      <th>1</th>\n",
       "      <th>2</th>\n",
       "      <th>3</th>\n",
       "      <th>4</th>\n",
       "    </tr>\n",
       "  </thead>\n",
       "  <tbody>\n",
       "    <tr>\n",
       "      <th>experiences_offered</th>\n",
       "      <td>none</td>\n",
       "      <td>none</td>\n",
       "      <td>none</td>\n",
       "      <td>none</td>\n",
       "      <td>none</td>\n",
       "    </tr>\n",
       "    <tr>\n",
       "      <th>host_since</th>\n",
       "      <td>2008-07-31</td>\n",
       "      <td>2009-03-02</td>\n",
       "      <td>2009-06-17</td>\n",
       "      <td>2009-06-17</td>\n",
       "      <td>2009-07-02</td>\n",
       "    </tr>\n",
       "    <tr>\n",
       "      <th>host_location</th>\n",
       "      <td>San Francisco, California, United States</td>\n",
       "      <td>San Francisco, California, United States</td>\n",
       "      <td>San Francisco, California, United States</td>\n",
       "      <td>San Francisco, California, United States</td>\n",
       "      <td>San Francisco, California, United States</td>\n",
       "    </tr>\n",
       "    <tr>\n",
       "      <th>host_response_time</th>\n",
       "      <td>within a few hours</td>\n",
       "      <td>within a day</td>\n",
       "      <td>within a few hours</td>\n",
       "      <td>within a few hours</td>\n",
       "      <td>within an hour</td>\n",
       "    </tr>\n",
       "    <tr>\n",
       "      <th>host_response_rate</th>\n",
       "      <td>100%</td>\n",
       "      <td>100%</td>\n",
       "      <td>100%</td>\n",
       "      <td>100%</td>\n",
       "      <td>100%</td>\n",
       "    </tr>\n",
       "    <tr>\n",
       "      <th>host_is_superhost</th>\n",
       "      <td>t</td>\n",
       "      <td>f</td>\n",
       "      <td>f</td>\n",
       "      <td>f</td>\n",
       "      <td>f</td>\n",
       "    </tr>\n",
       "    <tr>\n",
       "      <th>host_neighbourhood</th>\n",
       "      <td>Duboce Triangle</td>\n",
       "      <td>Bernal Heights</td>\n",
       "      <td>Cole Valley</td>\n",
       "      <td>Cole Valley</td>\n",
       "      <td>Alamo Square</td>\n",
       "    </tr>\n",
       "    <tr>\n",
       "      <th>host_verifications</th>\n",
       "      <td>['email', 'phone', 'facebook', 'reviews', 'kba']</td>\n",
       "      <td>['email', 'phone', 'reviews', 'kba', 'work_ema...</td>\n",
       "      <td>['email', 'phone', 'reviews', 'jumio', 'govern...</td>\n",
       "      <td>['email', 'phone', 'reviews', 'jumio', 'govern...</td>\n",
       "      <td>['email', 'phone', 'reviews', 'kba']</td>\n",
       "    </tr>\n",
       "    <tr>\n",
       "      <th>host_has_profile_pic</th>\n",
       "      <td>t</td>\n",
       "      <td>t</td>\n",
       "      <td>t</td>\n",
       "      <td>t</td>\n",
       "      <td>t</td>\n",
       "    </tr>\n",
       "    <tr>\n",
       "      <th>host_identity_verified</th>\n",
       "      <td>t</td>\n",
       "      <td>t</td>\n",
       "      <td>t</td>\n",
       "      <td>t</td>\n",
       "      <td>t</td>\n",
       "    </tr>\n",
       "    <tr>\n",
       "      <th>street</th>\n",
       "      <td>San Francisco, CA, United States</td>\n",
       "      <td>San Francisco, CA, United States</td>\n",
       "      <td>San Francisco, CA, United States</td>\n",
       "      <td>San Francisco, CA, United States</td>\n",
       "      <td>San Francisco, CA, United States</td>\n",
       "    </tr>\n",
       "    <tr>\n",
       "      <th>neighbourhood</th>\n",
       "      <td>Lower Haight</td>\n",
       "      <td>Bernal Heights</td>\n",
       "      <td>Cole Valley</td>\n",
       "      <td>Cole Valley</td>\n",
       "      <td>Alamo Square</td>\n",
       "    </tr>\n",
       "    <tr>\n",
       "      <th>neighbourhood_cleansed</th>\n",
       "      <td>Western Addition</td>\n",
       "      <td>Bernal Heights</td>\n",
       "      <td>Haight Ashbury</td>\n",
       "      <td>Haight Ashbury</td>\n",
       "      <td>Western Addition</td>\n",
       "    </tr>\n",
       "    <tr>\n",
       "      <th>neighbourhood_group_cleansed</th>\n",
       "      <td>NaN</td>\n",
       "      <td>NaN</td>\n",
       "      <td>NaN</td>\n",
       "      <td>NaN</td>\n",
       "      <td>NaN</td>\n",
       "    </tr>\n",
       "    <tr>\n",
       "      <th>city</th>\n",
       "      <td>San Francisco</td>\n",
       "      <td>San Francisco</td>\n",
       "      <td>San Francisco</td>\n",
       "      <td>San Francisco</td>\n",
       "      <td>San Francisco</td>\n",
       "    </tr>\n",
       "    <tr>\n",
       "      <th>state</th>\n",
       "      <td>CA</td>\n",
       "      <td>CA</td>\n",
       "      <td>CA</td>\n",
       "      <td>CA</td>\n",
       "      <td>CA</td>\n",
       "    </tr>\n",
       "    <tr>\n",
       "      <th>market</th>\n",
       "      <td>San Francisco</td>\n",
       "      <td>San Francisco</td>\n",
       "      <td>San Francisco</td>\n",
       "      <td>San Francisco</td>\n",
       "      <td>San Francisco</td>\n",
       "    </tr>\n",
       "    <tr>\n",
       "      <th>smart_location</th>\n",
       "      <td>San Francisco, CA</td>\n",
       "      <td>San Francisco, CA</td>\n",
       "      <td>San Francisco, CA</td>\n",
       "      <td>San Francisco, CA</td>\n",
       "      <td>San Francisco, CA</td>\n",
       "    </tr>\n",
       "    <tr>\n",
       "      <th>country_code</th>\n",
       "      <td>US</td>\n",
       "      <td>US</td>\n",
       "      <td>US</td>\n",
       "      <td>US</td>\n",
       "      <td>US</td>\n",
       "    </tr>\n",
       "    <tr>\n",
       "      <th>country</th>\n",
       "      <td>United States</td>\n",
       "      <td>United States</td>\n",
       "      <td>United States</td>\n",
       "      <td>United States</td>\n",
       "      <td>United States</td>\n",
       "    </tr>\n",
       "    <tr>\n",
       "      <th>is_location_exact</th>\n",
       "      <td>t</td>\n",
       "      <td>t</td>\n",
       "      <td>t</td>\n",
       "      <td>t</td>\n",
       "      <td>t</td>\n",
       "    </tr>\n",
       "    <tr>\n",
       "      <th>property_type</th>\n",
       "      <td>Apartment</td>\n",
       "      <td>Apartment</td>\n",
       "      <td>Apartment</td>\n",
       "      <td>Apartment</td>\n",
       "      <td>House</td>\n",
       "    </tr>\n",
       "    <tr>\n",
       "      <th>room_type</th>\n",
       "      <td>Entire home/apt</td>\n",
       "      <td>Entire home/apt</td>\n",
       "      <td>Private room</td>\n",
       "      <td>Private room</td>\n",
       "      <td>Entire home/apt</td>\n",
       "    </tr>\n",
       "    <tr>\n",
       "      <th>bed_type</th>\n",
       "      <td>Real Bed</td>\n",
       "      <td>Real Bed</td>\n",
       "      <td>Real Bed</td>\n",
       "      <td>Real Bed</td>\n",
       "      <td>Real Bed</td>\n",
       "    </tr>\n",
       "    <tr>\n",
       "      <th>amenities</th>\n",
       "      <td>{TV,\"Cable TV\",Internet,Wifi,Kitchen,\"Pets liv...</td>\n",
       "      <td>{Internet,Wifi,Kitchen,Heating,\"Family/kid fri...</td>\n",
       "      <td>{TV,Internet,Wifi,Kitchen,\"Free street parking...</td>\n",
       "      <td>{TV,Internet,Wifi,Kitchen,\"Free street parking...</td>\n",
       "      <td>{TV,Internet,Wifi,Kitchen,Heating,\"Family/kid ...</td>\n",
       "    </tr>\n",
       "    <tr>\n",
       "      <th>price</th>\n",
       "      <td>$170.00</td>\n",
       "      <td>$235.00</td>\n",
       "      <td>$65.00</td>\n",
       "      <td>$65.00</td>\n",
       "      <td>$685.00</td>\n",
       "    </tr>\n",
       "    <tr>\n",
       "      <th>weekly_price</th>\n",
       "      <td>$1,120.00</td>\n",
       "      <td>$1,600.00</td>\n",
       "      <td>$485.00</td>\n",
       "      <td>$490.00</td>\n",
       "      <td>NaN</td>\n",
       "    </tr>\n",
       "    <tr>\n",
       "      <th>monthly_price</th>\n",
       "      <td>$4,200.00</td>\n",
       "      <td>$5,500.00</td>\n",
       "      <td>$1,685.00</td>\n",
       "      <td>$1,685.00</td>\n",
       "      <td>NaN</td>\n",
       "    </tr>\n",
       "    <tr>\n",
       "      <th>security_deposit</th>\n",
       "      <td>$100.00</td>\n",
       "      <td>NaN</td>\n",
       "      <td>$200.00</td>\n",
       "      <td>$200.00</td>\n",
       "      <td>$0.00</td>\n",
       "    </tr>\n",
       "    <tr>\n",
       "      <th>cleaning_fee</th>\n",
       "      <td>$100.00</td>\n",
       "      <td>$100.00</td>\n",
       "      <td>$50.00</td>\n",
       "      <td>$50.00</td>\n",
       "      <td>$225.00</td>\n",
       "    </tr>\n",
       "    <tr>\n",
       "      <th>extra_people</th>\n",
       "      <td>$25.00</td>\n",
       "      <td>$0.00</td>\n",
       "      <td>$12.00</td>\n",
       "      <td>$12.00</td>\n",
       "      <td>$150.00</td>\n",
       "    </tr>\n",
       "    <tr>\n",
       "      <th>has_availability</th>\n",
       "      <td>t</td>\n",
       "      <td>t</td>\n",
       "      <td>t</td>\n",
       "      <td>t</td>\n",
       "      <td>t</td>\n",
       "    </tr>\n",
       "    <tr>\n",
       "      <th>first_review</th>\n",
       "      <td>2009-07-23</td>\n",
       "      <td>2009-05-03</td>\n",
       "      <td>2009-08-31</td>\n",
       "      <td>2014-09-08</td>\n",
       "      <td>2009-09-25</td>\n",
       "    </tr>\n",
       "    <tr>\n",
       "      <th>last_review</th>\n",
       "      <td>2019-05-16</td>\n",
       "      <td>2017-08-06</td>\n",
       "      <td>2016-11-21</td>\n",
       "      <td>2018-09-12</td>\n",
       "      <td>2018-08-11</td>\n",
       "    </tr>\n",
       "    <tr>\n",
       "      <th>requires_license</th>\n",
       "      <td>t</td>\n",
       "      <td>t</td>\n",
       "      <td>t</td>\n",
       "      <td>t</td>\n",
       "      <td>t</td>\n",
       "    </tr>\n",
       "    <tr>\n",
       "      <th>jurisdiction_names</th>\n",
       "      <td>{\"SAN FRANCISCO\"}</td>\n",
       "      <td>{\"SAN FRANCISCO\"}</td>\n",
       "      <td>{\"SAN FRANCISCO\"}</td>\n",
       "      <td>{\"SAN FRANCISCO\"}</td>\n",
       "      <td>{\"SAN FRANCISCO\"}</td>\n",
       "    </tr>\n",
       "    <tr>\n",
       "      <th>instant_bookable</th>\n",
       "      <td>t</td>\n",
       "      <td>f</td>\n",
       "      <td>f</td>\n",
       "      <td>f</td>\n",
       "      <td>f</td>\n",
       "    </tr>\n",
       "    <tr>\n",
       "      <th>is_business_travel_ready</th>\n",
       "      <td>f</td>\n",
       "      <td>f</td>\n",
       "      <td>f</td>\n",
       "      <td>f</td>\n",
       "      <td>f</td>\n",
       "    </tr>\n",
       "    <tr>\n",
       "      <th>cancellation_policy</th>\n",
       "      <td>moderate</td>\n",
       "      <td>strict_14_with_grace_period</td>\n",
       "      <td>strict_14_with_grace_period</td>\n",
       "      <td>strict_14_with_grace_period</td>\n",
       "      <td>moderate</td>\n",
       "    </tr>\n",
       "    <tr>\n",
       "      <th>require_guest_profile_picture</th>\n",
       "      <td>f</td>\n",
       "      <td>f</td>\n",
       "      <td>f</td>\n",
       "      <td>f</td>\n",
       "      <td>t</td>\n",
       "    </tr>\n",
       "    <tr>\n",
       "      <th>require_guest_phone_verification</th>\n",
       "      <td>f</td>\n",
       "      <td>f</td>\n",
       "      <td>f</td>\n",
       "      <td>f</td>\n",
       "      <td>t</td>\n",
       "    </tr>\n",
       "  </tbody>\n",
       "</table>\n",
       "</div>"
      ],
      "text/plain": [
       "                                                                                  0  \\\n",
       "experiences_offered                                                            none   \n",
       "host_since                                                               2008-07-31   \n",
       "host_location                              San Francisco, California, United States   \n",
       "host_response_time                                               within a few hours   \n",
       "host_response_rate                                                             100%   \n",
       "host_is_superhost                                                                 t   \n",
       "host_neighbourhood                                                  Duboce Triangle   \n",
       "host_verifications                 ['email', 'phone', 'facebook', 'reviews', 'kba']   \n",
       "host_has_profile_pic                                                              t   \n",
       "host_identity_verified                                                            t   \n",
       "street                                             San Francisco, CA, United States   \n",
       "neighbourhood                                                          Lower Haight   \n",
       "neighbourhood_cleansed                                             Western Addition   \n",
       "neighbourhood_group_cleansed                                                    NaN   \n",
       "city                                                                  San Francisco   \n",
       "state                                                                            CA   \n",
       "market                                                                San Francisco   \n",
       "smart_location                                                    San Francisco, CA   \n",
       "country_code                                                                     US   \n",
       "country                                                               United States   \n",
       "is_location_exact                                                                 t   \n",
       "property_type                                                             Apartment   \n",
       "room_type                                                           Entire home/apt   \n",
       "bed_type                                                                   Real Bed   \n",
       "amenities                         {TV,\"Cable TV\",Internet,Wifi,Kitchen,\"Pets liv...   \n",
       "price                                                                       $170.00   \n",
       "weekly_price                                                              $1,120.00   \n",
       "monthly_price                                                             $4,200.00   \n",
       "security_deposit                                                            $100.00   \n",
       "cleaning_fee                                                                $100.00   \n",
       "extra_people                                                                 $25.00   \n",
       "has_availability                                                                  t   \n",
       "first_review                                                             2009-07-23   \n",
       "last_review                                                              2019-05-16   \n",
       "requires_license                                                                  t   \n",
       "jurisdiction_names                                                {\"SAN FRANCISCO\"}   \n",
       "instant_bookable                                                                  t   \n",
       "is_business_travel_ready                                                          f   \n",
       "cancellation_policy                                                        moderate   \n",
       "require_guest_profile_picture                                                     f   \n",
       "require_guest_phone_verification                                                  f   \n",
       "\n",
       "                                                                                  1  \\\n",
       "experiences_offered                                                            none   \n",
       "host_since                                                               2009-03-02   \n",
       "host_location                              San Francisco, California, United States   \n",
       "host_response_time                                                     within a day   \n",
       "host_response_rate                                                             100%   \n",
       "host_is_superhost                                                                 f   \n",
       "host_neighbourhood                                                   Bernal Heights   \n",
       "host_verifications                ['email', 'phone', 'reviews', 'kba', 'work_ema...   \n",
       "host_has_profile_pic                                                              t   \n",
       "host_identity_verified                                                            t   \n",
       "street                                             San Francisco, CA, United States   \n",
       "neighbourhood                                                        Bernal Heights   \n",
       "neighbourhood_cleansed                                               Bernal Heights   \n",
       "neighbourhood_group_cleansed                                                    NaN   \n",
       "city                                                                  San Francisco   \n",
       "state                                                                            CA   \n",
       "market                                                                San Francisco   \n",
       "smart_location                                                    San Francisco, CA   \n",
       "country_code                                                                     US   \n",
       "country                                                               United States   \n",
       "is_location_exact                                                                 t   \n",
       "property_type                                                             Apartment   \n",
       "room_type                                                           Entire home/apt   \n",
       "bed_type                                                                   Real Bed   \n",
       "amenities                         {Internet,Wifi,Kitchen,Heating,\"Family/kid fri...   \n",
       "price                                                                       $235.00   \n",
       "weekly_price                                                              $1,600.00   \n",
       "monthly_price                                                             $5,500.00   \n",
       "security_deposit                                                                NaN   \n",
       "cleaning_fee                                                                $100.00   \n",
       "extra_people                                                                  $0.00   \n",
       "has_availability                                                                  t   \n",
       "first_review                                                             2009-05-03   \n",
       "last_review                                                              2017-08-06   \n",
       "requires_license                                                                  t   \n",
       "jurisdiction_names                                                {\"SAN FRANCISCO\"}   \n",
       "instant_bookable                                                                  f   \n",
       "is_business_travel_ready                                                          f   \n",
       "cancellation_policy                                     strict_14_with_grace_period   \n",
       "require_guest_profile_picture                                                     f   \n",
       "require_guest_phone_verification                                                  f   \n",
       "\n",
       "                                                                                  2  \\\n",
       "experiences_offered                                                            none   \n",
       "host_since                                                               2009-06-17   \n",
       "host_location                              San Francisco, California, United States   \n",
       "host_response_time                                               within a few hours   \n",
       "host_response_rate                                                             100%   \n",
       "host_is_superhost                                                                 f   \n",
       "host_neighbourhood                                                      Cole Valley   \n",
       "host_verifications                ['email', 'phone', 'reviews', 'jumio', 'govern...   \n",
       "host_has_profile_pic                                                              t   \n",
       "host_identity_verified                                                            t   \n",
       "street                                             San Francisco, CA, United States   \n",
       "neighbourhood                                                           Cole Valley   \n",
       "neighbourhood_cleansed                                               Haight Ashbury   \n",
       "neighbourhood_group_cleansed                                                    NaN   \n",
       "city                                                                  San Francisco   \n",
       "state                                                                            CA   \n",
       "market                                                                San Francisco   \n",
       "smart_location                                                    San Francisco, CA   \n",
       "country_code                                                                     US   \n",
       "country                                                               United States   \n",
       "is_location_exact                                                                 t   \n",
       "property_type                                                             Apartment   \n",
       "room_type                                                              Private room   \n",
       "bed_type                                                                   Real Bed   \n",
       "amenities                         {TV,Internet,Wifi,Kitchen,\"Free street parking...   \n",
       "price                                                                        $65.00   \n",
       "weekly_price                                                                $485.00   \n",
       "monthly_price                                                             $1,685.00   \n",
       "security_deposit                                                            $200.00   \n",
       "cleaning_fee                                                                 $50.00   \n",
       "extra_people                                                                 $12.00   \n",
       "has_availability                                                                  t   \n",
       "first_review                                                             2009-08-31   \n",
       "last_review                                                              2016-11-21   \n",
       "requires_license                                                                  t   \n",
       "jurisdiction_names                                                {\"SAN FRANCISCO\"}   \n",
       "instant_bookable                                                                  f   \n",
       "is_business_travel_ready                                                          f   \n",
       "cancellation_policy                                     strict_14_with_grace_period   \n",
       "require_guest_profile_picture                                                     f   \n",
       "require_guest_phone_verification                                                  f   \n",
       "\n",
       "                                                                                  3  \\\n",
       "experiences_offered                                                            none   \n",
       "host_since                                                               2009-06-17   \n",
       "host_location                              San Francisco, California, United States   \n",
       "host_response_time                                               within a few hours   \n",
       "host_response_rate                                                             100%   \n",
       "host_is_superhost                                                                 f   \n",
       "host_neighbourhood                                                      Cole Valley   \n",
       "host_verifications                ['email', 'phone', 'reviews', 'jumio', 'govern...   \n",
       "host_has_profile_pic                                                              t   \n",
       "host_identity_verified                                                            t   \n",
       "street                                             San Francisco, CA, United States   \n",
       "neighbourhood                                                           Cole Valley   \n",
       "neighbourhood_cleansed                                               Haight Ashbury   \n",
       "neighbourhood_group_cleansed                                                    NaN   \n",
       "city                                                                  San Francisco   \n",
       "state                                                                            CA   \n",
       "market                                                                San Francisco   \n",
       "smart_location                                                    San Francisco, CA   \n",
       "country_code                                                                     US   \n",
       "country                                                               United States   \n",
       "is_location_exact                                                                 t   \n",
       "property_type                                                             Apartment   \n",
       "room_type                                                              Private room   \n",
       "bed_type                                                                   Real Bed   \n",
       "amenities                         {TV,Internet,Wifi,Kitchen,\"Free street parking...   \n",
       "price                                                                        $65.00   \n",
       "weekly_price                                                                $490.00   \n",
       "monthly_price                                                             $1,685.00   \n",
       "security_deposit                                                            $200.00   \n",
       "cleaning_fee                                                                 $50.00   \n",
       "extra_people                                                                 $12.00   \n",
       "has_availability                                                                  t   \n",
       "first_review                                                             2014-09-08   \n",
       "last_review                                                              2018-09-12   \n",
       "requires_license                                                                  t   \n",
       "jurisdiction_names                                                {\"SAN FRANCISCO\"}   \n",
       "instant_bookable                                                                  f   \n",
       "is_business_travel_ready                                                          f   \n",
       "cancellation_policy                                     strict_14_with_grace_period   \n",
       "require_guest_profile_picture                                                     f   \n",
       "require_guest_phone_verification                                                  f   \n",
       "\n",
       "                                                                                  4  \n",
       "experiences_offered                                                            none  \n",
       "host_since                                                               2009-07-02  \n",
       "host_location                              San Francisco, California, United States  \n",
       "host_response_time                                                   within an hour  \n",
       "host_response_rate                                                             100%  \n",
       "host_is_superhost                                                                 f  \n",
       "host_neighbourhood                                                     Alamo Square  \n",
       "host_verifications                             ['email', 'phone', 'reviews', 'kba']  \n",
       "host_has_profile_pic                                                              t  \n",
       "host_identity_verified                                                            t  \n",
       "street                                             San Francisco, CA, United States  \n",
       "neighbourhood                                                          Alamo Square  \n",
       "neighbourhood_cleansed                                             Western Addition  \n",
       "neighbourhood_group_cleansed                                                    NaN  \n",
       "city                                                                  San Francisco  \n",
       "state                                                                            CA  \n",
       "market                                                                San Francisco  \n",
       "smart_location                                                    San Francisco, CA  \n",
       "country_code                                                                     US  \n",
       "country                                                               United States  \n",
       "is_location_exact                                                                 t  \n",
       "property_type                                                                 House  \n",
       "room_type                                                           Entire home/apt  \n",
       "bed_type                                                                   Real Bed  \n",
       "amenities                         {TV,Internet,Wifi,Kitchen,Heating,\"Family/kid ...  \n",
       "price                                                                       $685.00  \n",
       "weekly_price                                                                    NaN  \n",
       "monthly_price                                                                   NaN  \n",
       "security_deposit                                                              $0.00  \n",
       "cleaning_fee                                                                $225.00  \n",
       "extra_people                                                                $150.00  \n",
       "has_availability                                                                  t  \n",
       "first_review                                                             2009-09-25  \n",
       "last_review                                                              2018-08-11  \n",
       "requires_license                                                                  t  \n",
       "jurisdiction_names                                                {\"SAN FRANCISCO\"}  \n",
       "instant_bookable                                                                  f  \n",
       "is_business_travel_ready                                                          f  \n",
       "cancellation_policy                                                        moderate  \n",
       "require_guest_profile_picture                                                     t  \n",
       "require_guest_phone_verification                                                  t  "
      ]
     },
     "execution_count": 16,
     "metadata": {},
     "output_type": "execute_result"
    }
   ],
   "source": [
    "cat_df.head().transpose()"
   ]
  },
  {
   "cell_type": "markdown",
   "metadata": {},
   "source": [
    "We have a lot more work to do for these categorical columns.\n",
    "- Numerical\n",
    "    - Convert some of these to numerical columns (i.e. prices and response rate)\n",
    "- Binary Categorical\n",
    "    - We need to Binarize the Binary/Boolean columns\n",
    "- Ordinal\n",
    "    - The only ordinal-looking column I see is host_response_time, but I'm going to treat it as nominal\n",
    "- Nominal\n",
    "    - We have a lot of features that seem redundant that we should explore (i.e. city, market, smart_location, jurisdiction_names)\n",
    "    - host_verifications and amenities have multiple items that need to be extrapolated into their own columns\n",
    "- Date/Time\n",
    "    - Engineer features from the dates columns\n",
    "        - Extrapolate days"
   ]
  },
  {
   "cell_type": "markdown",
   "metadata": {},
   "source": [
    "### Categorical to Numerical"
   ]
  },
  {
   "cell_type": "code",
   "execution_count": 17,
   "metadata": {},
   "outputs": [],
   "source": [
    "cat_to_num = ['host_response_rate','price','weekly_price',\n",
    "              'monthly_price','security_deposit','cleaning_fee','extra_people']\n",
    "prices = ['price','weekly_price','monthly_price','security_deposit','cleaning_fee','extra_people']"
   ]
  },
  {
   "cell_type": "code",
   "execution_count": 18,
   "metadata": {},
   "outputs": [
    {
     "data": {
      "text/html": [
       "<div>\n",
       "<style scoped>\n",
       "    .dataframe tbody tr th:only-of-type {\n",
       "        vertical-align: middle;\n",
       "    }\n",
       "\n",
       "    .dataframe tbody tr th {\n",
       "        vertical-align: top;\n",
       "    }\n",
       "\n",
       "    .dataframe thead th {\n",
       "        text-align: right;\n",
       "    }\n",
       "</style>\n",
       "<table border=\"1\" class=\"dataframe\">\n",
       "  <thead>\n",
       "    <tr style=\"text-align: right;\">\n",
       "      <th></th>\n",
       "      <th>host_response_rate</th>\n",
       "      <th>price</th>\n",
       "      <th>weekly_price</th>\n",
       "      <th>monthly_price</th>\n",
       "      <th>security_deposit</th>\n",
       "      <th>cleaning_fee</th>\n",
       "      <th>extra_people</th>\n",
       "    </tr>\n",
       "  </thead>\n",
       "  <tbody>\n",
       "    <tr>\n",
       "      <th>0</th>\n",
       "      <td>100%</td>\n",
       "      <td>$170.00</td>\n",
       "      <td>$1,120.00</td>\n",
       "      <td>$4,200.00</td>\n",
       "      <td>$100.00</td>\n",
       "      <td>$100.00</td>\n",
       "      <td>$25.00</td>\n",
       "    </tr>\n",
       "    <tr>\n",
       "      <th>1</th>\n",
       "      <td>100%</td>\n",
       "      <td>$235.00</td>\n",
       "      <td>$1,600.00</td>\n",
       "      <td>$5,500.00</td>\n",
       "      <td>NaN</td>\n",
       "      <td>$100.00</td>\n",
       "      <td>$0.00</td>\n",
       "    </tr>\n",
       "  </tbody>\n",
       "</table>\n",
       "</div>"
      ],
      "text/plain": [
       "  host_response_rate    price weekly_price monthly_price security_deposit  \\\n",
       "0               100%  $170.00    $1,120.00     $4,200.00          $100.00   \n",
       "1               100%  $235.00    $1,600.00     $5,500.00              NaN   \n",
       "\n",
       "  cleaning_fee extra_people  \n",
       "0      $100.00       $25.00  \n",
       "1      $100.00        $0.00  "
      ]
     },
     "execution_count": 18,
     "metadata": {},
     "output_type": "execute_result"
    }
   ],
   "source": [
    "cat_to_num_df = cat_df[cat_to_num]\n",
    "cat_to_num_df.head(2)"
   ]
  },
  {
   "cell_type": "code",
   "execution_count": 19,
   "metadata": {
    "scrolled": true
   },
   "outputs": [
    {
     "name": "stderr",
     "output_type": "stream",
     "text": [
      "/Users/patrickdeguzman/anaconda3/lib/python3.7/site-packages/ipykernel_launcher.py:3: SettingWithCopyWarning: \n",
      "A value is trying to be set on a copy of a slice from a DataFrame.\n",
      "Try using .loc[row_indexer,col_indexer] = value instead\n",
      "\n",
      "See the caveats in the documentation: http://pandas.pydata.org/pandas-docs/stable/indexing.html#indexing-view-versus-copy\n",
      "  This is separate from the ipykernel package so we can avoid doing imports until\n"
     ]
    }
   ],
   "source": [
    "# Converting the response rate to integers\n",
    "repl = lambda m: m.group(1)\n",
    "cat_to_num_df['host_response_rate'] = cat_to_num_df['host_response_rate'].str.replace(r'(\\d+)%',repl).astype(float)"
   ]
  },
  {
   "cell_type": "code",
   "execution_count": 20,
   "metadata": {
    "scrolled": true
   },
   "outputs": [
    {
     "name": "stderr",
     "output_type": "stream",
     "text": [
      "/Users/patrickdeguzman/anaconda3/lib/python3.7/site-packages/ipykernel_launcher.py:3: SettingWithCopyWarning: \n",
      "A value is trying to be set on a copy of a slice from a DataFrame.\n",
      "Try using .loc[row_indexer,col_indexer] = value instead\n",
      "\n",
      "See the caveats in the documentation: http://pandas.pydata.org/pandas-docs/stable/indexing.html#indexing-view-versus-copy\n",
      "  This is separate from the ipykernel package so we can avoid doing imports until\n",
      "/Users/patrickdeguzman/anaconda3/lib/python3.7/site-packages/ipykernel_launcher.py:4: SettingWithCopyWarning: \n",
      "A value is trying to be set on a copy of a slice from a DataFrame.\n",
      "Try using .loc[row_indexer,col_indexer] = value instead\n",
      "\n",
      "See the caveats in the documentation: http://pandas.pydata.org/pandas-docs/stable/indexing.html#indexing-view-versus-copy\n",
      "  after removing the cwd from sys.path.\n"
     ]
    }
   ],
   "source": [
    "# Removing commas and dollar signs, then converting to float\n",
    "for col in prices:\n",
    "    cat_to_num_df[col]=cat_to_num_df[col].str.replace('$','').str.replace(',','')\n",
    "    cat_to_num_df[col] = cat_to_num_df[col].astype(float)"
   ]
  },
  {
   "cell_type": "code",
   "execution_count": 21,
   "metadata": {},
   "outputs": [
    {
     "data": {
      "text/html": [
       "<div>\n",
       "<style scoped>\n",
       "    .dataframe tbody tr th:only-of-type {\n",
       "        vertical-align: middle;\n",
       "    }\n",
       "\n",
       "    .dataframe tbody tr th {\n",
       "        vertical-align: top;\n",
       "    }\n",
       "\n",
       "    .dataframe thead th {\n",
       "        text-align: right;\n",
       "    }\n",
       "</style>\n",
       "<table border=\"1\" class=\"dataframe\">\n",
       "  <thead>\n",
       "    <tr style=\"text-align: right;\">\n",
       "      <th></th>\n",
       "      <th>host_response_rate</th>\n",
       "      <th>price</th>\n",
       "      <th>weekly_price</th>\n",
       "      <th>monthly_price</th>\n",
       "      <th>security_deposit</th>\n",
       "      <th>cleaning_fee</th>\n",
       "      <th>extra_people</th>\n",
       "    </tr>\n",
       "  </thead>\n",
       "  <tbody>\n",
       "    <tr>\n",
       "      <th>0</th>\n",
       "      <td>100.0</td>\n",
       "      <td>170.0</td>\n",
       "      <td>1120.0</td>\n",
       "      <td>4200.0</td>\n",
       "      <td>100.0</td>\n",
       "      <td>100.0</td>\n",
       "      <td>25.0</td>\n",
       "    </tr>\n",
       "  </tbody>\n",
       "</table>\n",
       "</div>"
      ],
      "text/plain": [
       "   host_response_rate  price  weekly_price  monthly_price  security_deposit  \\\n",
       "0               100.0  170.0        1120.0         4200.0             100.0   \n",
       "\n",
       "   cleaning_fee  extra_people  \n",
       "0         100.0          25.0  "
      ]
     },
     "execution_count": 21,
     "metadata": {},
     "output_type": "execute_result"
    }
   ],
   "source": [
    "cat_to_num_df.head(1)"
   ]
  },
  {
   "cell_type": "code",
   "execution_count": 22,
   "metadata": {},
   "outputs": [
    {
     "data": {
      "text/html": [
       "<div>\n",
       "<style scoped>\n",
       "    .dataframe tbody tr th:only-of-type {\n",
       "        vertical-align: middle;\n",
       "    }\n",
       "\n",
       "    .dataframe tbody tr th {\n",
       "        vertical-align: top;\n",
       "    }\n",
       "\n",
       "    .dataframe thead th {\n",
       "        text-align: right;\n",
       "    }\n",
       "</style>\n",
       "<table border=\"1\" class=\"dataframe\">\n",
       "  <thead>\n",
       "    <tr style=\"text-align: right;\">\n",
       "      <th></th>\n",
       "      <th>host_response_rate</th>\n",
       "      <th>price</th>\n",
       "      <th>weekly_price</th>\n",
       "      <th>monthly_price</th>\n",
       "      <th>security_deposit</th>\n",
       "      <th>cleaning_fee</th>\n",
       "      <th>extra_people</th>\n",
       "    </tr>\n",
       "  </thead>\n",
       "  <tbody>\n",
       "    <tr>\n",
       "      <th>count</th>\n",
       "      <td>47511.000000</td>\n",
       "      <td>68167.000000</td>\n",
       "      <td>8364.000000</td>\n",
       "      <td>7392.000000</td>\n",
       "      <td>45780.000000</td>\n",
       "      <td>54230.000000</td>\n",
       "      <td>68167.000000</td>\n",
       "    </tr>\n",
       "    <tr>\n",
       "      <th>mean</th>\n",
       "      <td>93.684620</td>\n",
       "      <td>191.974768</td>\n",
       "      <td>1030.642994</td>\n",
       "      <td>3200.006899</td>\n",
       "      <td>314.606422</td>\n",
       "      <td>74.611304</td>\n",
       "      <td>14.484384</td>\n",
       "    </tr>\n",
       "    <tr>\n",
       "      <th>std</th>\n",
       "      <td>15.894384</td>\n",
       "      <td>423.200385</td>\n",
       "      <td>1025.214473</td>\n",
       "      <td>2793.350228</td>\n",
       "      <td>569.540004</td>\n",
       "      <td>70.839249</td>\n",
       "      <td>25.595083</td>\n",
       "    </tr>\n",
       "  </tbody>\n",
       "</table>\n",
       "</div>"
      ],
      "text/plain": [
       "       host_response_rate         price  weekly_price  monthly_price  \\\n",
       "count        47511.000000  68167.000000   8364.000000    7392.000000   \n",
       "mean            93.684620    191.974768   1030.642994    3200.006899   \n",
       "std             15.894384    423.200385   1025.214473    2793.350228   \n",
       "\n",
       "       security_deposit  cleaning_fee  extra_people  \n",
       "count      45780.000000  54230.000000  68167.000000  \n",
       "mean         314.606422     74.611304     14.484384  \n",
       "std          569.540004     70.839249     25.595083  "
      ]
     },
     "execution_count": 22,
     "metadata": {},
     "output_type": "execute_result"
    }
   ],
   "source": [
    "cat_to_num_df.describe().head(3)"
   ]
  },
  {
   "cell_type": "markdown",
   "metadata": {},
   "source": [
    "These columns look good now."
   ]
  },
  {
   "cell_type": "markdown",
   "metadata": {},
   "source": [
    "Appending the `cat_to_num_df` to the `num_df`."
   ]
  },
  {
   "cell_type": "code",
   "execution_count": 23,
   "metadata": {},
   "outputs": [],
   "source": [
    "num_df = pd.concat([num_df,cat_to_num_df],axis=1)"
   ]
  },
  {
   "cell_type": "code",
   "execution_count": 24,
   "metadata": {},
   "outputs": [],
   "source": [
    "num_cols = num_df.columns.values"
   ]
  },
  {
   "cell_type": "code",
   "execution_count": 25,
   "metadata": {},
   "outputs": [],
   "source": [
    "cat_df = cat_df.drop(cat_to_num, axis = 1)\n",
    "cat_cols = cat_df.columns.values"
   ]
  },
  {
   "cell_type": "markdown",
   "metadata": {},
   "source": [
    "### Binary Categorical"
   ]
  },
  {
   "cell_type": "code",
   "execution_count": 26,
   "metadata": {},
   "outputs": [],
   "source": [
    "bi_cols = []\n",
    "for col in cat_df.columns:\n",
    "    if cat_df[col].nunique()==2:\n",
    "        bi_cols.append(col)"
   ]
  },
  {
   "cell_type": "code",
   "execution_count": 27,
   "metadata": {
    "scrolled": true
   },
   "outputs": [
    {
     "data": {
      "text/html": [
       "<div>\n",
       "<style scoped>\n",
       "    .dataframe tbody tr th:only-of-type {\n",
       "        vertical-align: middle;\n",
       "    }\n",
       "\n",
       "    .dataframe tbody tr th {\n",
       "        vertical-align: top;\n",
       "    }\n",
       "\n",
       "    .dataframe thead th {\n",
       "        text-align: right;\n",
       "    }\n",
       "</style>\n",
       "<table border=\"1\" class=\"dataframe\">\n",
       "  <thead>\n",
       "    <tr style=\"text-align: right;\">\n",
       "      <th></th>\n",
       "      <th>host_is_superhost</th>\n",
       "      <th>host_has_profile_pic</th>\n",
       "      <th>host_identity_verified</th>\n",
       "      <th>is_location_exact</th>\n",
       "      <th>requires_license</th>\n",
       "      <th>instant_bookable</th>\n",
       "      <th>require_guest_profile_picture</th>\n",
       "      <th>require_guest_phone_verification</th>\n",
       "    </tr>\n",
       "  </thead>\n",
       "  <tbody>\n",
       "    <tr>\n",
       "      <th>0</th>\n",
       "      <td>t</td>\n",
       "      <td>t</td>\n",
       "      <td>t</td>\n",
       "      <td>t</td>\n",
       "      <td>t</td>\n",
       "      <td>t</td>\n",
       "      <td>f</td>\n",
       "      <td>f</td>\n",
       "    </tr>\n",
       "    <tr>\n",
       "      <th>1</th>\n",
       "      <td>f</td>\n",
       "      <td>t</td>\n",
       "      <td>t</td>\n",
       "      <td>t</td>\n",
       "      <td>t</td>\n",
       "      <td>f</td>\n",
       "      <td>f</td>\n",
       "      <td>f</td>\n",
       "    </tr>\n",
       "    <tr>\n",
       "      <th>2</th>\n",
       "      <td>f</td>\n",
       "      <td>t</td>\n",
       "      <td>t</td>\n",
       "      <td>t</td>\n",
       "      <td>t</td>\n",
       "      <td>f</td>\n",
       "      <td>f</td>\n",
       "      <td>f</td>\n",
       "    </tr>\n",
       "    <tr>\n",
       "      <th>3</th>\n",
       "      <td>f</td>\n",
       "      <td>t</td>\n",
       "      <td>t</td>\n",
       "      <td>t</td>\n",
       "      <td>t</td>\n",
       "      <td>f</td>\n",
       "      <td>f</td>\n",
       "      <td>f</td>\n",
       "    </tr>\n",
       "    <tr>\n",
       "      <th>4</th>\n",
       "      <td>f</td>\n",
       "      <td>t</td>\n",
       "      <td>t</td>\n",
       "      <td>t</td>\n",
       "      <td>t</td>\n",
       "      <td>f</td>\n",
       "      <td>t</td>\n",
       "      <td>t</td>\n",
       "    </tr>\n",
       "  </tbody>\n",
       "</table>\n",
       "</div>"
      ],
      "text/plain": [
       "  host_is_superhost host_has_profile_pic host_identity_verified  \\\n",
       "0                 t                    t                      t   \n",
       "1                 f                    t                      t   \n",
       "2                 f                    t                      t   \n",
       "3                 f                    t                      t   \n",
       "4                 f                    t                      t   \n",
       "\n",
       "  is_location_exact requires_license instant_bookable  \\\n",
       "0                 t                t                t   \n",
       "1                 t                t                f   \n",
       "2                 t                t                f   \n",
       "3                 t                t                f   \n",
       "4                 t                t                f   \n",
       "\n",
       "  require_guest_profile_picture require_guest_phone_verification  \n",
       "0                             f                                f  \n",
       "1                             f                                f  \n",
       "2                             f                                f  \n",
       "3                             f                                f  \n",
       "4                             t                                t  "
      ]
     },
     "execution_count": 27,
     "metadata": {},
     "output_type": "execute_result"
    }
   ],
   "source": [
    "cat_df[bi_cols].head()"
   ]
  },
  {
   "cell_type": "code",
   "execution_count": 28,
   "metadata": {},
   "outputs": [],
   "source": [
    "for col in bi_cols:\n",
    "    cat_df[col] = cat_df[col].map({'f':0,'t':1})"
   ]
  },
  {
   "cell_type": "markdown",
   "metadata": {},
   "source": [
    "### Nominal"
   ]
  },
  {
   "cell_type": "markdown",
   "metadata": {},
   "source": [
    "#### Redundant Columns"
   ]
  },
  {
   "cell_type": "markdown",
   "metadata": {},
   "source": [
    "Took a look at these columns since they looked redundant."
   ]
  },
  {
   "cell_type": "code",
   "execution_count": 29,
   "metadata": {},
   "outputs": [],
   "source": [
    "redundant_cols = ['city','market','jurisdiction_names','host_location','street']"
   ]
  },
  {
   "cell_type": "markdown",
   "metadata": {},
   "source": [
    "Removing the following features\n",
    "- `market`: `smart_location` is a more detailed feature\n",
    "- `city` : redundant to `smart_location`\n",
    "- `jurisdiction_names`: redundant to `smart_location`\n",
    "- `host_location`: 1,862 unique values. Too many unique values.\n",
    "- `street`: redundant to `smart_location`"
   ]
  },
  {
   "cell_type": "code",
   "execution_count": 30,
   "metadata": {},
   "outputs": [],
   "source": [
    "cat_df = cat_df.drop(redundant_cols,axis=1)"
   ]
  },
  {
   "cell_type": "markdown",
   "metadata": {},
   "source": [
    "#### Multiple Values in One Column\n",
    "\n",
    "- host_verifications\n",
    "- amenities"
   ]
  },
  {
   "cell_type": "code",
   "execution_count": 31,
   "metadata": {},
   "outputs": [
    {
     "data": {
      "text/html": [
       "<div>\n",
       "<style scoped>\n",
       "    .dataframe tbody tr th:only-of-type {\n",
       "        vertical-align: middle;\n",
       "    }\n",
       "\n",
       "    .dataframe tbody tr th {\n",
       "        vertical-align: top;\n",
       "    }\n",
       "\n",
       "    .dataframe thead th {\n",
       "        text-align: right;\n",
       "    }\n",
       "</style>\n",
       "<table border=\"1\" class=\"dataframe\">\n",
       "  <thead>\n",
       "    <tr style=\"text-align: right;\">\n",
       "      <th></th>\n",
       "      <th>experiences_offered</th>\n",
       "      <th>host_since</th>\n",
       "      <th>host_response_time</th>\n",
       "      <th>host_is_superhost</th>\n",
       "      <th>host_neighbourhood</th>\n",
       "      <th>host_verifications</th>\n",
       "      <th>host_has_profile_pic</th>\n",
       "      <th>host_identity_verified</th>\n",
       "      <th>neighbourhood</th>\n",
       "      <th>neighbourhood_cleansed</th>\n",
       "      <th>...</th>\n",
       "      <th>amenities</th>\n",
       "      <th>has_availability</th>\n",
       "      <th>first_review</th>\n",
       "      <th>last_review</th>\n",
       "      <th>requires_license</th>\n",
       "      <th>instant_bookable</th>\n",
       "      <th>is_business_travel_ready</th>\n",
       "      <th>cancellation_policy</th>\n",
       "      <th>require_guest_profile_picture</th>\n",
       "      <th>require_guest_phone_verification</th>\n",
       "    </tr>\n",
       "  </thead>\n",
       "  <tbody>\n",
       "    <tr>\n",
       "      <th>0</th>\n",
       "      <td>none</td>\n",
       "      <td>2008-07-31</td>\n",
       "      <td>within a few hours</td>\n",
       "      <td>1.0</td>\n",
       "      <td>Duboce Triangle</td>\n",
       "      <td>['email', 'phone', 'facebook', 'reviews', 'kba']</td>\n",
       "      <td>1.0</td>\n",
       "      <td>1.0</td>\n",
       "      <td>Lower Haight</td>\n",
       "      <td>Western Addition</td>\n",
       "      <td>...</td>\n",
       "      <td>{TV,\"Cable TV\",Internet,Wifi,Kitchen,\"Pets liv...</td>\n",
       "      <td>t</td>\n",
       "      <td>2009-07-23</td>\n",
       "      <td>2019-05-16</td>\n",
       "      <td>1</td>\n",
       "      <td>1</td>\n",
       "      <td>f</td>\n",
       "      <td>moderate</td>\n",
       "      <td>0</td>\n",
       "      <td>0</td>\n",
       "    </tr>\n",
       "    <tr>\n",
       "      <th>1</th>\n",
       "      <td>none</td>\n",
       "      <td>2009-03-02</td>\n",
       "      <td>within a day</td>\n",
       "      <td>0.0</td>\n",
       "      <td>Bernal Heights</td>\n",
       "      <td>['email', 'phone', 'reviews', 'kba', 'work_ema...</td>\n",
       "      <td>1.0</td>\n",
       "      <td>1.0</td>\n",
       "      <td>Bernal Heights</td>\n",
       "      <td>Bernal Heights</td>\n",
       "      <td>...</td>\n",
       "      <td>{Internet,Wifi,Kitchen,Heating,\"Family/kid fri...</td>\n",
       "      <td>t</td>\n",
       "      <td>2009-05-03</td>\n",
       "      <td>2017-08-06</td>\n",
       "      <td>1</td>\n",
       "      <td>0</td>\n",
       "      <td>f</td>\n",
       "      <td>strict_14_with_grace_period</td>\n",
       "      <td>0</td>\n",
       "      <td>0</td>\n",
       "    </tr>\n",
       "    <tr>\n",
       "      <th>2</th>\n",
       "      <td>none</td>\n",
       "      <td>2009-06-17</td>\n",
       "      <td>within a few hours</td>\n",
       "      <td>0.0</td>\n",
       "      <td>Cole Valley</td>\n",
       "      <td>['email', 'phone', 'reviews', 'jumio', 'govern...</td>\n",
       "      <td>1.0</td>\n",
       "      <td>1.0</td>\n",
       "      <td>Cole Valley</td>\n",
       "      <td>Haight Ashbury</td>\n",
       "      <td>...</td>\n",
       "      <td>{TV,Internet,Wifi,Kitchen,\"Free street parking...</td>\n",
       "      <td>t</td>\n",
       "      <td>2009-08-31</td>\n",
       "      <td>2016-11-21</td>\n",
       "      <td>1</td>\n",
       "      <td>0</td>\n",
       "      <td>f</td>\n",
       "      <td>strict_14_with_grace_period</td>\n",
       "      <td>0</td>\n",
       "      <td>0</td>\n",
       "    </tr>\n",
       "    <tr>\n",
       "      <th>3</th>\n",
       "      <td>none</td>\n",
       "      <td>2009-06-17</td>\n",
       "      <td>within a few hours</td>\n",
       "      <td>0.0</td>\n",
       "      <td>Cole Valley</td>\n",
       "      <td>['email', 'phone', 'reviews', 'jumio', 'govern...</td>\n",
       "      <td>1.0</td>\n",
       "      <td>1.0</td>\n",
       "      <td>Cole Valley</td>\n",
       "      <td>Haight Ashbury</td>\n",
       "      <td>...</td>\n",
       "      <td>{TV,Internet,Wifi,Kitchen,\"Free street parking...</td>\n",
       "      <td>t</td>\n",
       "      <td>2014-09-08</td>\n",
       "      <td>2018-09-12</td>\n",
       "      <td>1</td>\n",
       "      <td>0</td>\n",
       "      <td>f</td>\n",
       "      <td>strict_14_with_grace_period</td>\n",
       "      <td>0</td>\n",
       "      <td>0</td>\n",
       "    </tr>\n",
       "    <tr>\n",
       "      <th>4</th>\n",
       "      <td>none</td>\n",
       "      <td>2009-07-02</td>\n",
       "      <td>within an hour</td>\n",
       "      <td>0.0</td>\n",
       "      <td>Alamo Square</td>\n",
       "      <td>['email', 'phone', 'reviews', 'kba']</td>\n",
       "      <td>1.0</td>\n",
       "      <td>1.0</td>\n",
       "      <td>Alamo Square</td>\n",
       "      <td>Western Addition</td>\n",
       "      <td>...</td>\n",
       "      <td>{TV,Internet,Wifi,Kitchen,Heating,\"Family/kid ...</td>\n",
       "      <td>t</td>\n",
       "      <td>2009-09-25</td>\n",
       "      <td>2018-08-11</td>\n",
       "      <td>1</td>\n",
       "      <td>0</td>\n",
       "      <td>f</td>\n",
       "      <td>moderate</td>\n",
       "      <td>1</td>\n",
       "      <td>1</td>\n",
       "    </tr>\n",
       "  </tbody>\n",
       "</table>\n",
       "<p>5 rows × 29 columns</p>\n",
       "</div>"
      ],
      "text/plain": [
       "  experiences_offered  host_since  host_response_time  host_is_superhost  \\\n",
       "0                none  2008-07-31  within a few hours                1.0   \n",
       "1                none  2009-03-02        within a day                0.0   \n",
       "2                none  2009-06-17  within a few hours                0.0   \n",
       "3                none  2009-06-17  within a few hours                0.0   \n",
       "4                none  2009-07-02      within an hour                0.0   \n",
       "\n",
       "  host_neighbourhood                                 host_verifications  \\\n",
       "0    Duboce Triangle   ['email', 'phone', 'facebook', 'reviews', 'kba']   \n",
       "1     Bernal Heights  ['email', 'phone', 'reviews', 'kba', 'work_ema...   \n",
       "2        Cole Valley  ['email', 'phone', 'reviews', 'jumio', 'govern...   \n",
       "3        Cole Valley  ['email', 'phone', 'reviews', 'jumio', 'govern...   \n",
       "4       Alamo Square               ['email', 'phone', 'reviews', 'kba']   \n",
       "\n",
       "   host_has_profile_pic  host_identity_verified   neighbourhood  \\\n",
       "0                   1.0                     1.0    Lower Haight   \n",
       "1                   1.0                     1.0  Bernal Heights   \n",
       "2                   1.0                     1.0     Cole Valley   \n",
       "3                   1.0                     1.0     Cole Valley   \n",
       "4                   1.0                     1.0    Alamo Square   \n",
       "\n",
       "  neighbourhood_cleansed  ...  \\\n",
       "0       Western Addition  ...   \n",
       "1         Bernal Heights  ...   \n",
       "2         Haight Ashbury  ...   \n",
       "3         Haight Ashbury  ...   \n",
       "4       Western Addition  ...   \n",
       "\n",
       "                                           amenities has_availability  \\\n",
       "0  {TV,\"Cable TV\",Internet,Wifi,Kitchen,\"Pets liv...                t   \n",
       "1  {Internet,Wifi,Kitchen,Heating,\"Family/kid fri...                t   \n",
       "2  {TV,Internet,Wifi,Kitchen,\"Free street parking...                t   \n",
       "3  {TV,Internet,Wifi,Kitchen,\"Free street parking...                t   \n",
       "4  {TV,Internet,Wifi,Kitchen,Heating,\"Family/kid ...                t   \n",
       "\n",
       "  first_review last_review requires_license  instant_bookable  \\\n",
       "0   2009-07-23  2019-05-16                1                 1   \n",
       "1   2009-05-03  2017-08-06                1                 0   \n",
       "2   2009-08-31  2016-11-21                1                 0   \n",
       "3   2014-09-08  2018-09-12                1                 0   \n",
       "4   2009-09-25  2018-08-11                1                 0   \n",
       "\n",
       "  is_business_travel_ready          cancellation_policy  \\\n",
       "0                        f                     moderate   \n",
       "1                        f  strict_14_with_grace_period   \n",
       "2                        f  strict_14_with_grace_period   \n",
       "3                        f  strict_14_with_grace_period   \n",
       "4                        f                     moderate   \n",
       "\n",
       "  require_guest_profile_picture require_guest_phone_verification  \n",
       "0                             0                                0  \n",
       "1                             0                                0  \n",
       "2                             0                                0  \n",
       "3                             0                                0  \n",
       "4                             1                                1  \n",
       "\n",
       "[5 rows x 29 columns]"
      ]
     },
     "execution_count": 31,
     "metadata": {},
     "output_type": "execute_result"
    }
   ],
   "source": [
    "cat_df.head()"
   ]
  },
  {
   "cell_type": "code",
   "execution_count": 32,
   "metadata": {},
   "outputs": [],
   "source": [
    "def striplist(l):\n",
    "    return([x.strip() for x in l])\n",
    "cat_df['host_verifications'] = cat_df['host_verifications'].str.replace('[','').str.replace(']','').str.replace(\"'\",\n",
    "                '').str.lower().str.split(',').apply(striplist)"
   ]
  },
  {
   "cell_type": "code",
   "execution_count": 33,
   "metadata": {},
   "outputs": [],
   "source": [
    "cat_df['amenities'] = cat_df['amenities'].str.replace('{','').str.replace('}',\n",
    "                             '').str.replace('\"','').str.lower().str.split(',').apply(striplist)"
   ]
  },
  {
   "cell_type": "markdown",
   "metadata": {},
   "source": [
    "Binarizing the lists."
   ]
  },
  {
   "cell_type": "code",
   "execution_count": 34,
   "metadata": {},
   "outputs": [],
   "source": [
    "mlb = MultiLabelBinarizer()\n",
    "amenities_df = pd.DataFrame(mlb.fit_transform(cat_df['amenities']),columns=mlb.classes_, index=cat_df.index)"
   ]
  },
  {
   "cell_type": "code",
   "execution_count": 35,
   "metadata": {},
   "outputs": [],
   "source": [
    "mlb = MultiLabelBinarizer()\n",
    "host_verif_df = pd.DataFrame(mlb.fit_transform(cat_df['host_verifications']),columns=mlb.classes_, index=cat_df.index)"
   ]
  },
  {
   "cell_type": "code",
   "execution_count": 36,
   "metadata": {},
   "outputs": [],
   "source": [
    "host_verif_df = host_verif_df.drop(axis=1,labels=[''])\n",
    "amenities_df = amenities_df.drop(axis=1,labels=[''])"
   ]
  },
  {
   "cell_type": "code",
   "execution_count": 37,
   "metadata": {},
   "outputs": [],
   "source": [
    "cat_df = cat_df.drop(['host_verifications','amenities'],axis=1)"
   ]
  },
  {
   "cell_type": "markdown",
   "metadata": {},
   "source": [
    "Concatenating the DataFrames together."
   ]
  },
  {
   "cell_type": "code",
   "execution_count": 38,
   "metadata": {},
   "outputs": [],
   "source": [
    "cat_df = pd.concat([cat_df,amenities_df,host_verif_df],axis=1)"
   ]
  },
  {
   "cell_type": "code",
   "execution_count": 39,
   "metadata": {},
   "outputs": [],
   "source": [
    "cat_cols = cat_df.columns.values"
   ]
  },
  {
   "cell_type": "markdown",
   "metadata": {},
   "source": [
    "#### Date/Time Feature Engineering"
   ]
  },
  {
   "cell_type": "markdown",
   "metadata": {},
   "source": [
    "Converting the date features to \"days since\" features so we have numerical values to work with."
   ]
  },
  {
   "cell_type": "code",
   "execution_count": 40,
   "metadata": {},
   "outputs": [],
   "source": [
    "today = pd.to_datetime('today')"
   ]
  },
  {
   "cell_type": "code",
   "execution_count": 41,
   "metadata": {},
   "outputs": [],
   "source": [
    "dt_cols = ['host_since','first_review','last_review']"
   ]
  },
  {
   "cell_type": "code",
   "execution_count": 42,
   "metadata": {},
   "outputs": [
    {
     "data": {
      "text/html": [
       "<div>\n",
       "<style scoped>\n",
       "    .dataframe tbody tr th:only-of-type {\n",
       "        vertical-align: middle;\n",
       "    }\n",
       "\n",
       "    .dataframe tbody tr th {\n",
       "        vertical-align: top;\n",
       "    }\n",
       "\n",
       "    .dataframe thead th {\n",
       "        text-align: right;\n",
       "    }\n",
       "</style>\n",
       "<table border=\"1\" class=\"dataframe\">\n",
       "  <thead>\n",
       "    <tr style=\"text-align: right;\">\n",
       "      <th></th>\n",
       "      <th>host_since</th>\n",
       "      <th>first_review</th>\n",
       "      <th>last_review</th>\n",
       "    </tr>\n",
       "  </thead>\n",
       "  <tbody>\n",
       "    <tr>\n",
       "      <th>0</th>\n",
       "      <td>2008-07-31</td>\n",
       "      <td>2009-07-23</td>\n",
       "      <td>2019-05-16</td>\n",
       "    </tr>\n",
       "  </tbody>\n",
       "</table>\n",
       "</div>"
      ],
      "text/plain": [
       "   host_since first_review last_review\n",
       "0  2008-07-31   2009-07-23  2019-05-16"
      ]
     },
     "execution_count": 42,
     "metadata": {},
     "output_type": "execute_result"
    }
   ],
   "source": [
    "cat_df[dt_cols].head(1)"
   ]
  },
  {
   "cell_type": "code",
   "execution_count": 43,
   "metadata": {},
   "outputs": [],
   "source": [
    "# Converting to datetime data type\n",
    "for col in dt_cols:\n",
    "    cat_df[col] = pd.to_datetime(cat_df[col],infer_datetime_format=True)"
   ]
  },
  {
   "cell_type": "code",
   "execution_count": 44,
   "metadata": {
    "scrolled": true
   },
   "outputs": [],
   "source": [
    "# Creating day features for each date column\n",
    "for col in dt_cols:\n",
    "    num_df[col+'_days'] = (today - cat_df[col]).apply(lambda x: x.days)"
   ]
  },
  {
   "cell_type": "code",
   "execution_count": 45,
   "metadata": {},
   "outputs": [],
   "source": [
    "# Creating a discrete feature based on how recent the last review was\n",
    "bins = [0,90,180,365,730,np.inf]\n",
    "labels = ['last 90 days','last 180 days','last year', 'last 2 years', 'more than 2 years']\n",
    "cat_df['last_review_discrete'] = pd.cut(num_df['last_review_days'],bins=bins,labels=labels)"
   ]
  },
  {
   "cell_type": "code",
   "execution_count": 46,
   "metadata": {},
   "outputs": [],
   "source": [
    "# Dropping the datetime columns since because I don't need them\n",
    "cat_df = cat_df.drop(dt_cols,axis=1)\n",
    "cat_cols = cat_df.columns.values\n",
    "num_cols = num_df.columns.values"
   ]
  },
  {
   "cell_type": "markdown",
   "metadata": {},
   "source": [
    "# Exploratory Data Analysis"
   ]
  },
  {
   "cell_type": "markdown",
   "metadata": {},
   "source": [
    "Time to explore the data. Let's see if we can answer any of our exploratory questions below.\n",
    "\n",
    "1. Is there a difference in quality of service/product between hosts with different numbers of units? (i.e. do hosts with multiple units give better service than those who do not?)\n",
    "2. Do hosts with no recent reviews change pricing behavior from hosts with recent reviews?\n",
    "3. What are the strongest predictors for price?"
   ]
  },
  {
   "cell_type": "code",
   "execution_count": 47,
   "metadata": {},
   "outputs": [
    {
     "data": {
      "text/plain": [
       "True"
      ]
     },
     "execution_count": 47,
     "metadata": {},
     "output_type": "execute_result"
    }
   ],
   "source": [
    "# Sanity checking before I rejoin the DFs\n",
    "num_df.shape[0] == cat_df.shape[0]"
   ]
  },
  {
   "cell_type": "code",
   "execution_count": 48,
   "metadata": {
    "scrolled": false
   },
   "outputs": [],
   "source": [
    "cleaned_df = pd.concat([num_df,cat_df],axis=1)"
   ]
  },
  {
   "cell_type": "code",
   "execution_count": 49,
   "metadata": {
    "scrolled": false
   },
   "outputs": [
    {
     "data": {
      "text/html": [
       "<div>\n",
       "<style scoped>\n",
       "    .dataframe tbody tr th:only-of-type {\n",
       "        vertical-align: middle;\n",
       "    }\n",
       "\n",
       "    .dataframe tbody tr th {\n",
       "        vertical-align: top;\n",
       "    }\n",
       "\n",
       "    .dataframe thead th {\n",
       "        text-align: right;\n",
       "    }\n",
       "</style>\n",
       "<table border=\"1\" class=\"dataframe\">\n",
       "  <thead>\n",
       "    <tr style=\"text-align: right;\">\n",
       "      <th></th>\n",
       "      <th>host_acceptance_rate</th>\n",
       "      <th>host_listings_count</th>\n",
       "      <th>host_total_listings_count</th>\n",
       "      <th>latitude</th>\n",
       "      <th>longitude</th>\n",
       "      <th>accommodates</th>\n",
       "      <th>bathrooms</th>\n",
       "      <th>bedrooms</th>\n",
       "      <th>beds</th>\n",
       "      <th>square_feet</th>\n",
       "      <th>...</th>\n",
       "      <th>photographer</th>\n",
       "      <th>reviews</th>\n",
       "      <th>selfie</th>\n",
       "      <th>sent_id</th>\n",
       "      <th>sesame</th>\n",
       "      <th>sesame_offline</th>\n",
       "      <th>weibo</th>\n",
       "      <th>work_email</th>\n",
       "      <th>zhima_selfie</th>\n",
       "      <th>last_review_discrete</th>\n",
       "    </tr>\n",
       "  </thead>\n",
       "  <tbody>\n",
       "    <tr>\n",
       "      <th>0</th>\n",
       "      <td>NaN</td>\n",
       "      <td>1.0</td>\n",
       "      <td>1.0</td>\n",
       "      <td>37.76931</td>\n",
       "      <td>-122.43386</td>\n",
       "      <td>3</td>\n",
       "      <td>1.0</td>\n",
       "      <td>1.0</td>\n",
       "      <td>2.0</td>\n",
       "      <td>NaN</td>\n",
       "      <td>...</td>\n",
       "      <td>0</td>\n",
       "      <td>1</td>\n",
       "      <td>0</td>\n",
       "      <td>0</td>\n",
       "      <td>0</td>\n",
       "      <td>0</td>\n",
       "      <td>0</td>\n",
       "      <td>0</td>\n",
       "      <td>0</td>\n",
       "      <td>last 90 days</td>\n",
       "    </tr>\n",
       "    <tr>\n",
       "      <th>1</th>\n",
       "      <td>NaN</td>\n",
       "      <td>2.0</td>\n",
       "      <td>2.0</td>\n",
       "      <td>37.74511</td>\n",
       "      <td>-122.42102</td>\n",
       "      <td>5</td>\n",
       "      <td>1.0</td>\n",
       "      <td>2.0</td>\n",
       "      <td>3.0</td>\n",
       "      <td>NaN</td>\n",
       "      <td>...</td>\n",
       "      <td>0</td>\n",
       "      <td>1</td>\n",
       "      <td>0</td>\n",
       "      <td>0</td>\n",
       "      <td>0</td>\n",
       "      <td>0</td>\n",
       "      <td>0</td>\n",
       "      <td>1</td>\n",
       "      <td>0</td>\n",
       "      <td>last 2 years</td>\n",
       "    </tr>\n",
       "    <tr>\n",
       "      <th>2</th>\n",
       "      <td>NaN</td>\n",
       "      <td>10.0</td>\n",
       "      <td>10.0</td>\n",
       "      <td>37.76669</td>\n",
       "      <td>-122.45250</td>\n",
       "      <td>2</td>\n",
       "      <td>4.0</td>\n",
       "      <td>1.0</td>\n",
       "      <td>1.0</td>\n",
       "      <td>NaN</td>\n",
       "      <td>...</td>\n",
       "      <td>0</td>\n",
       "      <td>1</td>\n",
       "      <td>0</td>\n",
       "      <td>0</td>\n",
       "      <td>0</td>\n",
       "      <td>0</td>\n",
       "      <td>0</td>\n",
       "      <td>0</td>\n",
       "      <td>0</td>\n",
       "      <td>more than 2 years</td>\n",
       "    </tr>\n",
       "    <tr>\n",
       "      <th>3</th>\n",
       "      <td>NaN</td>\n",
       "      <td>10.0</td>\n",
       "      <td>10.0</td>\n",
       "      <td>37.76487</td>\n",
       "      <td>-122.45183</td>\n",
       "      <td>2</td>\n",
       "      <td>4.0</td>\n",
       "      <td>1.0</td>\n",
       "      <td>1.0</td>\n",
       "      <td>NaN</td>\n",
       "      <td>...</td>\n",
       "      <td>0</td>\n",
       "      <td>1</td>\n",
       "      <td>0</td>\n",
       "      <td>0</td>\n",
       "      <td>0</td>\n",
       "      <td>0</td>\n",
       "      <td>0</td>\n",
       "      <td>0</td>\n",
       "      <td>0</td>\n",
       "      <td>last year</td>\n",
       "    </tr>\n",
       "    <tr>\n",
       "      <th>4</th>\n",
       "      <td>NaN</td>\n",
       "      <td>2.0</td>\n",
       "      <td>2.0</td>\n",
       "      <td>37.77525</td>\n",
       "      <td>-122.43637</td>\n",
       "      <td>5</td>\n",
       "      <td>1.5</td>\n",
       "      <td>2.0</td>\n",
       "      <td>2.0</td>\n",
       "      <td>NaN</td>\n",
       "      <td>...</td>\n",
       "      <td>0</td>\n",
       "      <td>1</td>\n",
       "      <td>0</td>\n",
       "      <td>0</td>\n",
       "      <td>0</td>\n",
       "      <td>0</td>\n",
       "      <td>0</td>\n",
       "      <td>0</td>\n",
       "      <td>0</td>\n",
       "      <td>last year</td>\n",
       "    </tr>\n",
       "  </tbody>\n",
       "</table>\n",
       "<p>5 rows × 307 columns</p>\n",
       "</div>"
      ],
      "text/plain": [
       "   host_acceptance_rate  host_listings_count  host_total_listings_count  \\\n",
       "0                   NaN                  1.0                        1.0   \n",
       "1                   NaN                  2.0                        2.0   \n",
       "2                   NaN                 10.0                       10.0   \n",
       "3                   NaN                 10.0                       10.0   \n",
       "4                   NaN                  2.0                        2.0   \n",
       "\n",
       "   latitude  longitude  accommodates  bathrooms  bedrooms  beds  square_feet  \\\n",
       "0  37.76931 -122.43386             3        1.0       1.0   2.0          NaN   \n",
       "1  37.74511 -122.42102             5        1.0       2.0   3.0          NaN   \n",
       "2  37.76669 -122.45250             2        4.0       1.0   1.0          NaN   \n",
       "3  37.76487 -122.45183             2        4.0       1.0   1.0          NaN   \n",
       "4  37.77525 -122.43637             5        1.5       2.0   2.0          NaN   \n",
       "\n",
       "   ...  photographer  reviews  selfie  sent_id  sesame  sesame_offline  weibo  \\\n",
       "0  ...             0        1       0        0       0               0      0   \n",
       "1  ...             0        1       0        0       0               0      0   \n",
       "2  ...             0        1       0        0       0               0      0   \n",
       "3  ...             0        1       0        0       0               0      0   \n",
       "4  ...             0        1       0        0       0               0      0   \n",
       "\n",
       "   work_email  zhima_selfie  last_review_discrete  \n",
       "0           0             0          last 90 days  \n",
       "1           1             0          last 2 years  \n",
       "2           0             0     more than 2 years  \n",
       "3           0             0             last year  \n",
       "4           0             0             last year  \n",
       "\n",
       "[5 rows x 307 columns]"
      ]
     },
     "execution_count": 49,
     "metadata": {},
     "output_type": "execute_result"
    }
   ],
   "source": [
    "cleaned_df.head()"
   ]
  },
  {
   "cell_type": "markdown",
   "metadata": {},
   "source": [
    "## Exploratory Question 1\n",
    "\n",
    "*Is there a difference in quality of service/product between hosts with different numbers of units? (i.e. do hosts with multiple units give better service than those who do not?)*"
   ]
  },
  {
   "cell_type": "code",
   "execution_count": 50,
   "metadata": {},
   "outputs": [],
   "source": [
    "# Making a copy of the DataFrame just for exploring\n",
    "eda = cleaned_df[:]"
   ]
  },
  {
   "cell_type": "markdown",
   "metadata": {},
   "source": [
    "Let's take a quick look at the distribution of `host_total_listings_count`."
   ]
  },
  {
   "cell_type": "code",
   "execution_count": 51,
   "metadata": {},
   "outputs": [
    {
     "name": "stderr",
     "output_type": "stream",
     "text": [
      "/Users/patrickdeguzman/anaconda3/lib/python3.7/site-packages/numpy/lib/histograms.py:824: RuntimeWarning: invalid value encountered in greater_equal\n",
      "  keep = (tmp_a >= first_edge)\n",
      "/Users/patrickdeguzman/anaconda3/lib/python3.7/site-packages/numpy/lib/histograms.py:825: RuntimeWarning: invalid value encountered in less_equal\n",
      "  keep &= (tmp_a <= last_edge)\n"
     ]
    },
    {
     "data": {
      "image/png": "[encoded data removed]",
      "text/plain": [
       "<Figure size 432x288 with 1 Axes>"
      ]
     },
     "metadata": {
      "needs_background": "light"
     },
     "output_type": "display_data"
    }
   ],
   "source": [
    "plt.figure()\n",
    "plt.title('Distribution of No. host listings.')\n",
    "plt.hist(eda['host_total_listings_count'],bins=30)\n",
    "plt.show()"
   ]
  },
  {
   "cell_type": "markdown",
   "metadata": {},
   "source": [
    "We have some huge outliers here, with the majority of values less than 100. Let's clean this up."
   ]
  },
  {
   "cell_type": "code",
   "execution_count": 52,
   "metadata": {},
   "outputs": [
    {
     "data": {
      "text/plain": [
       "1677.0     23\n",
       "1614.0     72\n",
       "1522.0     71\n",
       "1235.0    241\n",
       "1108.0    106\n",
       "814.0     160\n",
       "695.0       8\n",
       "641.0      14\n",
       "640.0       1\n",
       "593.0     341\n",
       "528.0      18\n",
       "516.0      14\n",
       "488.0      24\n",
       "472.0       8\n",
       "441.0      18\n",
       "408.0      33\n",
       "362.0       1\n",
       "349.0       4\n",
       "332.0       4\n",
       "314.0      26\n",
       "Name: host_total_listings_count, dtype: int64"
      ]
     },
     "execution_count": 52,
     "metadata": {},
     "output_type": "execute_result"
    }
   ],
   "source": [
    "eda['host_total_listings_count'].value_counts().sort_index(ascending=False).head(20)"
   ]
  },
  {
   "cell_type": "markdown",
   "metadata": {},
   "source": [
    "So we have a significant number of hosts with hundreds of listings. Some of these *could* be errors because I it's difficult to imagine people owning over a thousand airbnb listings. In a work setting, this'd be worth following up. However, I'm going to discretize these into bins to make these groups easier to compare.\n",
    "\n",
    "I'll make a categorical column to distinguish between hosts. Here are the bins I'm going to use...\n",
    "- 1 unit\n",
    "- 2-10 units\n",
    "- 11-50 units\n",
    "- 51-100 units\n",
    "- 101+"
   ]
  },
  {
   "cell_type": "code",
   "execution_count": 53,
   "metadata": {},
   "outputs": [
    {
     "name": "stderr",
     "output_type": "stream",
     "text": [
      "/Users/patrickdeguzman/anaconda3/lib/python3.7/site-packages/ipykernel_launcher.py:3: SettingWithCopyWarning: \n",
      "A value is trying to be set on a copy of a slice from a DataFrame.\n",
      "Try using .loc[row_indexer,col_indexer] = value instead\n",
      "\n",
      "See the caveats in the documentation: http://pandas.pydata.org/pandas-docs/stable/indexing.html#indexing-view-versus-copy\n",
      "  This is separate from the ipykernel package so we can avoid doing imports until\n"
     ]
    }
   ],
   "source": [
    "bins = [0,1,10,50,100,np.inf]\n",
    "labels = ['1','2-10','11-50','51-100','101+']\n",
    "eda['cat_num_units'] = pd.cut(eda['host_total_listings_count'],bins=bins,labels=labels)"
   ]
  },
  {
   "cell_type": "markdown",
   "metadata": {},
   "source": [
    "Now plotting the bins..."
   ]
  },
  {
   "cell_type": "code",
   "execution_count": 54,
   "metadata": {},
   "outputs": [
    {
     "data": {
      "image/png": "[encoded data removed]",
      "text/plain": [
       "<Figure size 432x288 with 1 Axes>"
      ]
     },
     "metadata": {
      "needs_background": "light"
     },
     "output_type": "display_data"
    }
   ],
   "source": [
    "plt.figure()\n",
    "sns.countplot(x='cat_num_units',data=eda)\n",
    "plt.title('No. Host Units Distribution')\n",
    "plt.show()"
   ]
  },
  {
   "cell_type": "markdown",
   "metadata": {},
   "source": [
    "Let's compare these categories on their ratings."
   ]
  },
  {
   "cell_type": "code",
   "execution_count": 55,
   "metadata": {},
   "outputs": [],
   "source": [
    "rating_cols = ['review_scores_rating','review_scores_cleanliness','review_scores_checkin',\n",
    "              'review_scores_communication','review_scores_location','review_scores_value']"
   ]
  },
  {
   "cell_type": "code",
   "execution_count": 56,
   "metadata": {},
   "outputs": [],
   "source": [
    "def highlight_max(s):\n",
    "    '''\n",
    "    highlight the maximum in a Series lightgreen.\n",
    "    '''\n",
    "    is_max = s == s.max()\n",
    "    return ['background-color: lightgreen' if v else '' for v in is_max]\n",
    "\n",
    "def highlight_min(s):\n",
    "    '''\n",
    "    highlight the minimum in a Series red.\n",
    "    '''\n",
    "    is_min = s == s.min()\n",
    "    return ['background-color: red' if v else '' for v in is_min]"
   ]
  },
  {
   "cell_type": "code",
   "execution_count": 57,
   "metadata": {},
   "outputs": [
    {
     "data": {
      "text/html": [
       "<style  type=\"text/css\" >\n",
       "    #T_56d91c7c_a858_11e9_aaff_8c8590b7f433row0_col0 {\n",
       "            background-color:  lightgreen;\n",
       "            : ;\n",
       "        }    #T_56d91c7c_a858_11e9_aaff_8c8590b7f433row0_col2 {\n",
       "            : ;\n",
       "            background-color:  red;\n",
       "        }    #T_56d91c7c_a858_11e9_aaff_8c8590b7f433row1_col2 {\n",
       "            : ;\n",
       "            background-color:  red;\n",
       "        }    #T_56d91c7c_a858_11e9_aaff_8c8590b7f433row1_col4 {\n",
       "            background-color:  lightgreen;\n",
       "            : ;\n",
       "        }    #T_56d91c7c_a858_11e9_aaff_8c8590b7f433row2_col0 {\n",
       "            background-color:  lightgreen;\n",
       "            : ;\n",
       "        }    #T_56d91c7c_a858_11e9_aaff_8c8590b7f433row2_col4 {\n",
       "            : ;\n",
       "            background-color:  red;\n",
       "        }    #T_56d91c7c_a858_11e9_aaff_8c8590b7f433row3_col0 {\n",
       "            background-color:  lightgreen;\n",
       "            : ;\n",
       "        }    #T_56d91c7c_a858_11e9_aaff_8c8590b7f433row3_col4 {\n",
       "            : ;\n",
       "            background-color:  red;\n",
       "        }    #T_56d91c7c_a858_11e9_aaff_8c8590b7f433row4_col3 {\n",
       "            : ;\n",
       "            background-color:  red;\n",
       "        }    #T_56d91c7c_a858_11e9_aaff_8c8590b7f433row4_col4 {\n",
       "            background-color:  lightgreen;\n",
       "            : ;\n",
       "        }    #T_56d91c7c_a858_11e9_aaff_8c8590b7f433row5_col0 {\n",
       "            background-color:  lightgreen;\n",
       "            : ;\n",
       "        }    #T_56d91c7c_a858_11e9_aaff_8c8590b7f433row5_col3 {\n",
       "            : ;\n",
       "            background-color:  red;\n",
       "        }</style><table id=\"T_56d91c7c_a858_11e9_aaff_8c8590b7f433\" ><thead>    <tr>        <th class=\"index_name level0\" >cat_num_units</th>        <th class=\"col_heading level0 col0\" >1</th>        <th class=\"col_heading level0 col1\" >2-10</th>        <th class=\"col_heading level0 col2\" >11-50</th>        <th class=\"col_heading level0 col3\" >51-100</th>        <th class=\"col_heading level0 col4\" >101+</th>    </tr></thead><tbody>\n",
       "                <tr>\n",
       "                        <th id=\"T_56d91c7c_a858_11e9_aaff_8c8590b7f433level0_row0\" class=\"row_heading level0 row0\" >review_scores_rating</th>\n",
       "                        <td id=\"T_56d91c7c_a858_11e9_aaff_8c8590b7f433row0_col0\" class=\"data row0 col0\" >95.1033</td>\n",
       "                        <td id=\"T_56d91c7c_a858_11e9_aaff_8c8590b7f433row0_col1\" class=\"data row0 col1\" >94.3074</td>\n",
       "                        <td id=\"T_56d91c7c_a858_11e9_aaff_8c8590b7f433row0_col2\" class=\"data row0 col2\" >91.2667</td>\n",
       "                        <td id=\"T_56d91c7c_a858_11e9_aaff_8c8590b7f433row0_col3\" class=\"data row0 col3\" >91.5408</td>\n",
       "                        <td id=\"T_56d91c7c_a858_11e9_aaff_8c8590b7f433row0_col4\" class=\"data row0 col4\" >93.6839</td>\n",
       "            </tr>\n",
       "            <tr>\n",
       "                        <th id=\"T_56d91c7c_a858_11e9_aaff_8c8590b7f433level0_row1\" class=\"row_heading level0 row1\" >review_scores_cleanliness</th>\n",
       "                        <td id=\"T_56d91c7c_a858_11e9_aaff_8c8590b7f433row1_col0\" class=\"data row1 col0\" >9.39855</td>\n",
       "                        <td id=\"T_56d91c7c_a858_11e9_aaff_8c8590b7f433row1_col1\" class=\"data row1 col1\" >9.38816</td>\n",
       "                        <td id=\"T_56d91c7c_a858_11e9_aaff_8c8590b7f433row1_col2\" class=\"data row1 col2\" >9.14122</td>\n",
       "                        <td id=\"T_56d91c7c_a858_11e9_aaff_8c8590b7f433row1_col3\" class=\"data row1 col3\" >9.31654</td>\n",
       "                        <td id=\"T_56d91c7c_a858_11e9_aaff_8c8590b7f433row1_col4\" class=\"data row1 col4\" >9.54651</td>\n",
       "            </tr>\n",
       "            <tr>\n",
       "                        <th id=\"T_56d91c7c_a858_11e9_aaff_8c8590b7f433level0_row2\" class=\"row_heading level0 row2\" >review_scores_checkin</th>\n",
       "                        <td id=\"T_56d91c7c_a858_11e9_aaff_8c8590b7f433row2_col0\" class=\"data row2 col0\" >9.81121</td>\n",
       "                        <td id=\"T_56d91c7c_a858_11e9_aaff_8c8590b7f433row2_col1\" class=\"data row2 col1\" >9.78747</td>\n",
       "                        <td id=\"T_56d91c7c_a858_11e9_aaff_8c8590b7f433row2_col2\" class=\"data row2 col2\" >9.63401</td>\n",
       "                        <td id=\"T_56d91c7c_a858_11e9_aaff_8c8590b7f433row2_col3\" class=\"data row2 col3\" >9.5491</td>\n",
       "                        <td id=\"T_56d91c7c_a858_11e9_aaff_8c8590b7f433row2_col4\" class=\"data row2 col4\" >9.47831</td>\n",
       "            </tr>\n",
       "            <tr>\n",
       "                        <th id=\"T_56d91c7c_a858_11e9_aaff_8c8590b7f433level0_row3\" class=\"row_heading level0 row3\" >review_scores_communication</th>\n",
       "                        <td id=\"T_56d91c7c_a858_11e9_aaff_8c8590b7f433row3_col0\" class=\"data row3 col0\" >9.83415</td>\n",
       "                        <td id=\"T_56d91c7c_a858_11e9_aaff_8c8590b7f433row3_col1\" class=\"data row3 col1\" >9.78231</td>\n",
       "                        <td id=\"T_56d91c7c_a858_11e9_aaff_8c8590b7f433row3_col2\" class=\"data row3 col2\" >9.53695</td>\n",
       "                        <td id=\"T_56d91c7c_a858_11e9_aaff_8c8590b7f433row3_col3\" class=\"data row3 col3\" >9.53428</td>\n",
       "                        <td id=\"T_56d91c7c_a858_11e9_aaff_8c8590b7f433row3_col4\" class=\"data row3 col4\" >9.45503</td>\n",
       "            </tr>\n",
       "            <tr>\n",
       "                        <th id=\"T_56d91c7c_a858_11e9_aaff_8c8590b7f433level0_row4\" class=\"row_heading level0 row4\" >review_scores_location</th>\n",
       "                        <td id=\"T_56d91c7c_a858_11e9_aaff_8c8590b7f433row4_col0\" class=\"data row4 col0\" >9.64073</td>\n",
       "                        <td id=\"T_56d91c7c_a858_11e9_aaff_8c8590b7f433row4_col1\" class=\"data row4 col1\" >9.5636</td>\n",
       "                        <td id=\"T_56d91c7c_a858_11e9_aaff_8c8590b7f433row4_col2\" class=\"data row4 col2\" >9.57101</td>\n",
       "                        <td id=\"T_56d91c7c_a858_11e9_aaff_8c8590b7f433row4_col3\" class=\"data row4 col3\" >9.47158</td>\n",
       "                        <td id=\"T_56d91c7c_a858_11e9_aaff_8c8590b7f433row4_col4\" class=\"data row4 col4\" >9.66455</td>\n",
       "            </tr>\n",
       "            <tr>\n",
       "                        <th id=\"T_56d91c7c_a858_11e9_aaff_8c8590b7f433level0_row5\" class=\"row_heading level0 row5\" >review_scores_value</th>\n",
       "                        <td id=\"T_56d91c7c_a858_11e9_aaff_8c8590b7f433row5_col0\" class=\"data row5 col0\" >9.51381</td>\n",
       "                        <td id=\"T_56d91c7c_a858_11e9_aaff_8c8590b7f433row5_col1\" class=\"data row5 col1\" >9.42233</td>\n",
       "                        <td id=\"T_56d91c7c_a858_11e9_aaff_8c8590b7f433row5_col2\" class=\"data row5 col2\" >9.05917</td>\n",
       "                        <td id=\"T_56d91c7c_a858_11e9_aaff_8c8590b7f433row5_col3\" class=\"data row5 col3\" >8.92626</td>\n",
       "                        <td id=\"T_56d91c7c_a858_11e9_aaff_8c8590b7f433row5_col4\" class=\"data row5 col4\" >9.06561</td>\n",
       "            </tr>\n",
       "    </tbody></table>"
      ],
      "text/plain": [
       "<pandas.io.formats.style.Styler at 0x1a26544860>"
      ]
     },
     "execution_count": 57,
     "metadata": {},
     "output_type": "execute_result"
    }
   ],
   "source": [
    "eda.groupby('cat_num_units')[rating_cols].mean().transpose().style. \\\n",
    "                                apply(highlight_max,axis=1).apply(highlight_min,axis=1)"
   ]
  },
  {
   "cell_type": "markdown",
   "metadata": {},
   "source": [
    "Looks like hosts with only 1 unit appear to have the *highest average rating and scores*. Let's look at their boxplot summaries side-by-side to compare."
   ]
  },
  {
   "cell_type": "code",
   "execution_count": 58,
   "metadata": {},
   "outputs": [
    {
     "data": {
      "image/png": "[encoded data removed]",
      "text/plain": [
       "<Figure size 1080x936 with 6 Axes>"
      ]
     },
     "metadata": {
      "needs_background": "light"
     },
     "output_type": "display_data"
    }
   ],
   "source": [
    "plt.figure(1,figsize=(15,13))\n",
    "i = 1\n",
    "\n",
    "for col in rating_cols:\n",
    "    plt.subplot(3,2,i)\n",
    "    sns.boxplot(x='cat_num_units',y=col,data=eda)\n",
    "    title = col.replace('_',' ').title()\n",
    "    plt.title(title)\n",
    "    plt.ylabel(None)\n",
    "    plt.xlabel(None)\n",
    "    i += 1\n",
    "\n",
    "plt.tight_layout()    \n",
    "plt.show()"
   ]
  },
  {
   "cell_type": "markdown",
   "metadata": {},
   "source": [
    "### Conclusion ###\n",
    "So these plots tell me that hosts with only 1 unit have *tighter* and *higher* distributions, suggesting that these hosts are rated slightly better than hosts with more units. However, it's worth noting that...\n",
    "\n",
    "1. this difference looks very marginal, and \n",
    "2. observations on hosts with more than 10 units may be slightly misleading since our sample sizes for these buckets are *much smaller* than hosts with 1 unit and hosts with 2-10 units.\n",
    "\n",
    "#### Hypothesis Testing ####\n",
    "\n",
    "Let's perform a simple hypothesis t-test with a 5% significance level to check whether the average `Review Scores Rating` for hosts with 1 unit is greater than ratings of all other hosts. \n",
    "\n",
    "---\n",
    "First let's check our conditions for hypothesis testing using the Central Limit Theorem...\n",
    "1. Independence: I picked listing data from 3 of the largest cities in the US, and these listings were scraped off of Airbnb's website and represent a snapshot of these listings at a given point in time. Therefore, It's important to note that these listings *were not randomly sampled*. Additionally, it feels wrong to assume that ratings within each of these cities are independent of one another, since ratings of some listings can affect how guests rate other listings. *Therefore, this test cannot reliably be generalized to the population of all Airbnb listings around the world. However, I will still proceed so I can practice hypothesis testing.*\n",
    "2. Sample Size & Skew: Because our sample size (>60,000) is greater than 30, we can reliable assume that this sampling distribution would be normally distributed if we continued to take samples of 50,000 listings.\n",
    "\n",
    "**Experiment Details**\n",
    "\n",
    "$ H_0: u_{1 unit} = u_{all others}$ <br>\n",
    "$ H_A: u_{1 unit} > u_{all others}$ <br>\n",
    "$\\alpha = 0.05$\n"
   ]
  },
  {
   "cell_type": "code",
   "execution_count": 378,
   "metadata": {},
   "outputs": [],
   "source": [
    "# Creating sampling arrays\n",
    "one_unit_samp = eda[eda['cat_num_units']=='1']['review_scores_rating']\n",
    "all_others_samp = eda[eda['cat_num_units']!='1']['review_scores_rating']\n",
    "\n",
    "#Calculating Variance\n",
    "one_unit_var = one_unit_samp.var()\n",
    "all_others_var = all_others_samp.var()"
   ]
  },
  {
   "cell_type": "code",
   "execution_count": 380,
   "metadata": {
    "scrolled": true
   },
   "outputs": [
    {
     "name": "stdout",
     "output_type": "stream",
     "text": [
      "60.04818004883296\n",
      "69.84990857907735\n"
     ]
    }
   ],
   "source": [
    "# Variances are nearly the same\n",
    "print(one_unit_var)\n",
    "print(all_others_var)"
   ]
  },
  {
   "cell_type": "code",
   "execution_count": 381,
   "metadata": {},
   "outputs": [],
   "source": [
    "t_stat, p_val = ttest_ind(a=one_unit_samp,b=all_others_samp,equal_var=True,nan_policy='omit')"
   ]
  },
  {
   "cell_type": "code",
   "execution_count": 382,
   "metadata": {},
   "outputs": [
    {
     "data": {
      "application/vnd.plotly.v1+json": {
       "config": {
        "linkText": "Export to plot.ly",
        "plotlyServerURL": "https://plot.ly",
        "responsive": true,
        "showLink": false
       },
       "data": [
        {
         "hoverlabel": {
          "namelength": 0
         },
         "hovertemplate": "X=%{x}<br>=%{y}",
         "legendgroup": "",
         "line": {
          "color": "#636efa",
          "dash": "solid"
         },
         "mode": "lines",
         "name": "",
         "showlegend": false,
         "textposition": "top center",
         "type": "scatter",
         "uid": "60a2b8f2-4ef5-4745-a6fb-b730795b7a05",
         "x": [
          -4.265569273048022,
          -4.179396156420779,
          -4.093223039793536,
          -4.007049923166292,
          -3.9208768065390496,
          -3.8347036899118065,
          -3.7485305732845635,
          -3.6623574566573205,
          -3.5761843400300775,
          -3.4900112234028344,
          -3.4038381067755914,
          -3.3176649901483484,
          -3.2314918735211053,
          -3.1453187568938623,
          -3.0591456402666193,
          -2.9729725236393763,
          -2.8867994070121332,
          -2.80062629038489,
          -2.714453173757647,
          -2.628280057130404,
          -2.542106940503161,
          -2.455933823875918,
          -2.369760707248675,
          -2.283587590621432,
          -2.197414473994189,
          -2.111241357366946,
          -2.025068240739703,
          -1.93889512411246,
          -1.8527220074852169,
          -1.7665488908579738,
          -1.6803757742307308,
          -1.5942026576034878,
          -1.5080295409762448,
          -1.4218564243490017,
          -1.3356833077217587,
          -1.2495101910945157,
          -1.1633370744672726,
          -1.0771639578400296,
          -0.9909908412127866,
          -0.9048177245855435,
          -0.8186446079583005,
          -0.7324714913310575,
          -0.6462983747038145,
          -0.5601252580765714,
          -0.4739521414493284,
          -0.38777902482208537,
          -0.30160590819484234,
          -0.21543279156759976,
          -0.12925967494035628,
          -0.04308655831311281,
          0.043086558314129775,
          0.12925967494137236,
          0.21543279156861583,
          0.3016059081958593,
          0.3877790248231019,
          0.4739521414503445,
          0.560125258077588,
          0.6462983747048314,
          0.732471491332074,
          0.8186446079593166,
          0.9048177245865601,
          0.9909908412138035,
          1.0771639578410461,
          1.1633370744682887,
          1.2495101910955322,
          1.3356833077227757,
          1.4218564243500182,
          1.5080295409772608,
          1.5942026576045043,
          1.6803757742317478,
          1.7665488908589904,
          1.852722007486233,
          1.9388951241134764,
          2.02506824074072,
          2.1112413573679625,
          2.197414473995205,
          2.2835875906224485,
          2.369760707249692,
          2.4559338238769346,
          2.542106940504177,
          2.6282800571314207,
          2.714453173758664,
          2.8006262903859067,
          2.8867994070131493,
          2.9729725236403928,
          3.0591456402676362,
          3.145318756894879,
          3.2314918735221214,
          3.317664990149365,
          3.4038381067766084,
          3.490011223403851,
          3.5761843400310935,
          3.662357456658337,
          3.7485305732855805,
          3.834703689912822,
          3.9208768065400657,
          4.007049923167309,
          4.093223039794553,
          4.179396156421796,
          4.265569273049038
         ],
         "xaxis": "x",
         "y": [
          4.476670517120269e-05,
          6.440081128698913e-05,
          9.19619243009717e-05,
          0.00013034820018082587,
          0.000183392715309402,
          0.00025611732483810307,
          0.00035503850286699735,
          0.0004885301382445268,
          0.0006672467627914053,
          0.0009046083586861791,
          0.001217344586842951,
          0.00162609188613255,
          0.0021560313545414254,
          0.0028375486539409488,
          0.0037068895001759264,
          0.004806775855140244,
          0.006186939122313547,
          0.007904518012998274,
          0.010024261009989544,
          0.012618467358255744,
          0.015766597219026103,
          0.01955448203752407,
          0.024073071272799507,
          0.029416662266399357,
          0.0356805767985739,
          0.042958271050374315,
          0.0513378950561595,
          0.06089835253680656,
          0.07170495088781803,
          0.08380477207181013,
          0.09722193568962911,
          0.11195296255658818,
          0.12796247740853964,
          0.14517950957295758,
          0.16349465746141367,
          0.18275837405121664,
          0.20278060441209525,
          0.22333196225615953,
          0.24414657120903205,
          0.264926620202878,
          0.2853485947313688,
          0.3050710515720848,
          0.3237437097936754,
          0.3410175420711258,
          0.3565554739027105,
          0.3700432405460417,
          0.3811999174694485,
          0.389787633476895,
          0.3956199982695467,
          0.39856882766644625,
          0.39856882766644625,
          0.3956199982695467,
          0.389787633476895,
          0.3811999174694485,
          0.3700432405460417,
          0.3565554739027105,
          0.3410175420711258,
          0.3237437097925913,
          0.3050710515720848,
          0.2853485947313688,
          0.2649266202019909,
          0.24414657120903205,
          0.22333196225615953,
          0.20278060441141627,
          0.18275837405121664,
          0.16349465746141367,
          0.14517950957295758,
          0.12796247740853964,
          0.11195296255621334,
          0.0972219356893036,
          0.08380477207181013,
          0.07170495088781803,
          0.06089835253660266,
          0.05133789505598762,
          0.042958271050230486,
          0.0356805767985739,
          0.029416662266399357,
          0.024073071272799507,
          0.0195544820374586,
          0.01576659721897332,
          0.0126184673582135,
          0.010024261009955984,
          0.007904518012971812,
          0.006186939122292835,
          0.004806775855124154,
          0.0037068895001635175,
          0.0028375486539314503,
          0.0021560313545342085,
          0.0016260918861271069,
          0.001217344586838876,
          0.0009046083586831512,
          0.0006672467627891719,
          0.0004885301382428916,
          0.00035503850286462067,
          0.0002561173248372458,
          0.00018339271530817442,
          0.00013034820018038962,
          9.196192430066392e-05,
          6.44008112867736e-05,
          4.4766705170903066e-05
         ],
         "yaxis": "y"
        }
       ],
       "layout": {
        "annotations": [
         {
          "arrowhead": 7,
          "ay": -40,
          "font": {
           "color": "black",
           "family": "Arial",
           "size": 12
          },
          "showarrow": true,
          "text": "P-value<br>3.14e-71",
          "x": 17.87233908433372,
          "y": 4.0000244992112516e-70
         }
        ],
        "grid": {
         "xaxes": [
          "x"
         ],
         "xgap": 0.1,
         "xside": "bottom",
         "yaxes": [
          "y"
         ],
         "ygap": 0.1,
         "yside": "left"
        },
        "height": 300,
        "legend": {
         "tracegroupgap": 0
        },
        "margin": {
         "t": 60
        },
        "template": {
         "data": {
          "bar": [
           {
            "marker": {
             "line": {
              "color": "#E5ECF6",
              "width": 0.5
             }
            },
            "type": "bar"
           }
          ],
          "barpolar": [
           {
            "marker": {
             "line": {
              "color": "#E5ECF6",
              "width": 0.5
             }
            },
            "type": "barpolar"
           }
          ],
          "carpet": [
           {
            "aaxis": {
             "endlinecolor": "#2a3f5f",
             "gridcolor": "white",
             "linecolor": "white",
             "minorgridcolor": "white",
             "startlinecolor": "#2a3f5f"
            },
            "baxis": {
             "endlinecolor": "#2a3f5f",
             "gridcolor": "white",
             "linecolor": "white",
             "minorgridcolor": "white",
             "startlinecolor": "#2a3f5f"
            },
            "type": "carpet"
           }
          ],
          "choropleth": [
           {
            "colorbar": {
             "outlinewidth": 0,
             "ticks": ""
            },
            "type": "choropleth"
           }
          ],
          "contour": [
           {
            "colorbar": {
             "outlinewidth": 0,
             "ticks": ""
            },
            "colorscale": [
             [
              0,
              "#0508b8"
             ],
             [
              0.0893854748603352,
              "#1910d8"
             ],
             [
              0.1787709497206704,
              "#3c19f0"
             ],
             [
              0.2681564245810056,
              "#6b1cfb"
             ],
             [
              0.3575418994413408,
              "#981cfd"
             ],
             [
              0.44692737430167595,
              "#bf1cfd"
             ],
             [
              0.5363128491620112,
              "#dd2bfd"
             ],
             [
              0.6256983240223464,
              "#f246fe"
             ],
             [
              0.7150837988826816,
              "#fc67fd"
             ],
             [
              0.8044692737430168,
              "#fe88fc"
             ],
             [
              0.8938547486033519,
              "#fea5fd"
             ],
             [
              0.9832402234636871,
              "#febefe"
             ],
             [
              1,
              "#fec3fe"
             ]
            ],
            "type": "contour"
           }
          ],
          "contourcarpet": [
           {
            "colorbar": {
             "outlinewidth": 0,
             "ticks": ""
            },
            "type": "contourcarpet"
           }
          ],
          "heatmap": [
           {
            "colorbar": {
             "outlinewidth": 0,
             "ticks": ""
            },
            "colorscale": [
             [
              0,
              "#0508b8"
             ],
             [
              0.0893854748603352,
              "#1910d8"
             ],
             [
              0.1787709497206704,
              "#3c19f0"
             ],
             [
              0.2681564245810056,
              "#6b1cfb"
             ],
             [
              0.3575418994413408,
              "#981cfd"
             ],
             [
              0.44692737430167595,
              "#bf1cfd"
             ],
             [
              0.5363128491620112,
              "#dd2bfd"
             ],
             [
              0.6256983240223464,
              "#f246fe"
             ],
             [
              0.7150837988826816,
              "#fc67fd"
             ],
             [
              0.8044692737430168,
              "#fe88fc"
             ],
             [
              0.8938547486033519,
              "#fea5fd"
             ],
             [
              0.9832402234636871,
              "#febefe"
             ],
             [
              1,
              "#fec3fe"
             ]
            ],
            "type": "heatmap"
           }
          ],
          "heatmapgl": [
           {
            "colorbar": {
             "outlinewidth": 0,
             "ticks": ""
            },
            "type": "heatmapgl"
           }
          ],
          "histogram": [
           {
            "marker": {
             "colorbar": {
              "outlinewidth": 0,
              "ticks": ""
             }
            },
            "type": "histogram"
           }
          ],
          "histogram2d": [
           {
            "colorbar": {
             "outlinewidth": 0,
             "ticks": ""
            },
            "colorscale": [
             [
              0,
              "#0508b8"
             ],
             [
              0.0893854748603352,
              "#1910d8"
             ],
             [
              0.1787709497206704,
              "#3c19f0"
             ],
             [
              0.2681564245810056,
              "#6b1cfb"
             ],
             [
              0.3575418994413408,
              "#981cfd"
             ],
             [
              0.44692737430167595,
              "#bf1cfd"
             ],
             [
              0.5363128491620112,
              "#dd2bfd"
             ],
             [
              0.6256983240223464,
              "#f246fe"
             ],
             [
              0.7150837988826816,
              "#fc67fd"
             ],
             [
              0.8044692737430168,
              "#fe88fc"
             ],
             [
              0.8938547486033519,
              "#fea5fd"
             ],
             [
              0.9832402234636871,
              "#febefe"
             ],
             [
              1,
              "#fec3fe"
             ]
            ],
            "type": "histogram2d"
           }
          ],
          "histogram2dcontour": [
           {
            "colorbar": {
             "outlinewidth": 0,
             "ticks": ""
            },
            "colorscale": [
             [
              0,
              "#0508b8"
             ],
             [
              0.0893854748603352,
              "#1910d8"
             ],
             [
              0.1787709497206704,
              "#3c19f0"
             ],
             [
              0.2681564245810056,
              "#6b1cfb"
             ],
             [
              0.3575418994413408,
              "#981cfd"
             ],
             [
              0.44692737430167595,
              "#bf1cfd"
             ],
             [
              0.5363128491620112,
              "#dd2bfd"
             ],
             [
              0.6256983240223464,
              "#f246fe"
             ],
             [
              0.7150837988826816,
              "#fc67fd"
             ],
             [
              0.8044692737430168,
              "#fe88fc"
             ],
             [
              0.8938547486033519,
              "#fea5fd"
             ],
             [
              0.9832402234636871,
              "#febefe"
             ],
             [
              1,
              "#fec3fe"
             ]
            ],
            "type": "histogram2dcontour"
           }
          ],
          "mesh3d": [
           {
            "colorbar": {
             "outlinewidth": 0,
             "ticks": ""
            },
            "type": "mesh3d"
           }
          ],
          "parcoords": [
           {
            "line": {
             "colorbar": {
              "outlinewidth": 0,
              "ticks": ""
             }
            },
            "type": "parcoords"
           }
          ],
          "scatter": [
           {
            "marker": {
             "colorbar": {
              "outlinewidth": 0,
              "ticks": ""
             }
            },
            "type": "scatter"
           }
          ],
          "scatter3d": [
           {
            "marker": {
             "colorbar": {
              "outlinewidth": 0,
              "ticks": ""
             }
            },
            "type": "scatter3d"
           }
          ],
          "scattercarpet": [
           {
            "marker": {
             "colorbar": {
              "outlinewidth": 0,
              "ticks": ""
             }
            },
            "type": "scattercarpet"
           }
          ],
          "scattergeo": [
           {
            "marker": {
             "colorbar": {
              "outlinewidth": 0,
              "ticks": ""
             }
            },
            "type": "scattergeo"
           }
          ],
          "scattergl": [
           {
            "marker": {
             "colorbar": {
              "outlinewidth": 0,
              "ticks": ""
             }
            },
            "type": "scattergl"
           }
          ],
          "scattermapbox": [
           {
            "marker": {
             "colorbar": {
              "outlinewidth": 0,
              "ticks": ""
             }
            },
            "type": "scattermapbox"
           }
          ],
          "scatterpolar": [
           {
            "marker": {
             "colorbar": {
              "outlinewidth": 0,
              "ticks": ""
             }
            },
            "type": "scatterpolar"
           }
          ],
          "scatterpolargl": [
           {
            "marker": {
             "colorbar": {
              "outlinewidth": 0,
              "ticks": ""
             }
            },
            "type": "scatterpolargl"
           }
          ],
          "scatterternary": [
           {
            "marker": {
             "colorbar": {
              "outlinewidth": 0,
              "ticks": ""
             }
            },
            "type": "scatterternary"
           }
          ],
          "surface": [
           {
            "colorbar": {
             "outlinewidth": 0,
             "ticks": ""
            },
            "type": "surface"
           }
          ],
          "table": [
           {
            "cells": {
             "fill": {
              "color": "#EBF0F8"
             },
             "line": {
              "color": "white"
             }
            },
            "header": {
             "fill": {
              "color": "#C8D4E3"
             },
             "line": {
              "color": "white"
             }
            },
            "type": "table"
           }
          ]
         },
         "layout": {
          "annotationdefaults": {
           "arrowcolor": "#506784",
           "arrowhead": 0,
           "arrowwidth": 1
          },
          "colorscale": {
           "diverging": [
            [
             0,
             "#8e0152"
            ],
            [
             0.1,
             "#c51b7d"
            ],
            [
             0.2,
             "#de77ae"
            ],
            [
             0.3,
             "#f1b6da"
            ],
            [
             0.4,
             "#fde0ef"
            ],
            [
             0.5,
             "#f7f7f7"
            ],
            [
             0.6,
             "#e6f5d0"
            ],
            [
             0.7,
             "#b8e186"
            ],
            [
             0.8,
             "#7fbc41"
            ],
            [
             0.9,
             "#4d9221"
            ],
            [
             1,
             "#276419"
            ]
           ],
           "sequential": [
            [
             0,
             "#0508b8"
            ],
            [
             0.0893854748603352,
             "#1910d8"
            ],
            [
             0.1787709497206704,
             "#3c19f0"
            ],
            [
             0.2681564245810056,
             "#6b1cfb"
            ],
            [
             0.3575418994413408,
             "#981cfd"
            ],
            [
             0.44692737430167595,
             "#bf1cfd"
            ],
            [
             0.5363128491620112,
             "#dd2bfd"
            ],
            [
             0.6256983240223464,
             "#f246fe"
            ],
            [
             0.7150837988826816,
             "#fc67fd"
            ],
            [
             0.8044692737430168,
             "#fe88fc"
            ],
            [
             0.8938547486033519,
             "#fea5fd"
            ],
            [
             0.9832402234636871,
             "#febefe"
            ],
            [
             1,
             "#fec3fe"
            ]
           ],
           "sequentialminus": [
            [
             0,
             "#0508b8"
            ],
            [
             0.0893854748603352,
             "#1910d8"
            ],
            [
             0.1787709497206704,
             "#3c19f0"
            ],
            [
             0.2681564245810056,
             "#6b1cfb"
            ],
            [
             0.3575418994413408,
             "#981cfd"
            ],
            [
             0.44692737430167595,
             "#bf1cfd"
            ],
            [
             0.5363128491620112,
             "#dd2bfd"
            ],
            [
             0.6256983240223464,
             "#f246fe"
            ],
            [
             0.7150837988826816,
             "#fc67fd"
            ],
            [
             0.8044692737430168,
             "#fe88fc"
            ],
            [
             0.8938547486033519,
             "#fea5fd"
            ],
            [
             0.9832402234636871,
             "#febefe"
            ],
            [
             1,
             "#fec3fe"
            ]
           ]
          },
          "colorway": [
           "#636efa",
           "#EF553B",
           "#00cc96",
           "#ab63fa",
           "#19d3f3",
           "#e763fa",
           "#FECB52",
           "#FFA15A",
           "#FF6692",
           "#B6E880"
          ],
          "font": {
           "color": "#2a3f5f"
          },
          "geo": {
           "bgcolor": "white",
           "lakecolor": "white",
           "landcolor": "#E5ECF6",
           "showlakes": true,
           "showland": true,
           "subunitcolor": "white"
          },
          "hoverlabel": {
           "align": "left"
          },
          "hovermode": "closest",
          "mapbox": {
           "style": "light"
          },
          "paper_bgcolor": "white",
          "plot_bgcolor": "#E5ECF6",
          "polar": {
           "angularaxis": {
            "gridcolor": "white",
            "linecolor": "white",
            "ticks": ""
           },
           "bgcolor": "#E5ECF6",
           "radialaxis": {
            "gridcolor": "white",
            "linecolor": "white",
            "ticks": ""
           }
          },
          "scene": {
           "xaxis": {
            "backgroundcolor": "#E5ECF6",
            "gridcolor": "white",
            "gridwidth": 2,
            "linecolor": "white",
            "showbackground": true,
            "ticks": "",
            "zerolinecolor": "white"
           },
           "yaxis": {
            "backgroundcolor": "#E5ECF6",
            "gridcolor": "white",
            "gridwidth": 2,
            "linecolor": "white",
            "showbackground": true,
            "ticks": "",
            "zerolinecolor": "white"
           },
           "zaxis": {
            "backgroundcolor": "#E5ECF6",
            "gridcolor": "white",
            "gridwidth": 2,
            "linecolor": "white",
            "showbackground": true,
            "ticks": "",
            "zerolinecolor": "white"
           }
          },
          "shapedefaults": {
           "fillcolor": "#506784",
           "line": {
            "width": 0
           },
           "opacity": 0.4
          },
          "ternary": {
           "aaxis": {
            "gridcolor": "white",
            "linecolor": "white",
            "ticks": ""
           },
           "baxis": {
            "gridcolor": "white",
            "linecolor": "white",
            "ticks": ""
           },
           "bgcolor": "#E5ECF6",
           "caxis": {
            "gridcolor": "white",
            "linecolor": "white",
            "ticks": ""
           }
          },
          "title": {
           "x": 0.05
          },
          "xaxis": {
           "automargin": true,
           "gridcolor": "white",
           "linecolor": "white",
           "ticks": "",
           "zerolinecolor": "white",
           "zerolinewidth": 2
          },
          "yaxis": {
           "automargin": true,
           "gridcolor": "white",
           "linecolor": "white",
           "ticks": "",
           "zerolinecolor": "white",
           "zerolinewidth": 2
          }
         }
        },
        "title": {
         "text": "Hypothesis Test Results"
        },
        "width": 600,
        "xaxis": {
         "title": {
          "text": "X"
         }
        },
        "yaxis": {
         "title": {
          "text": ""
         }
        }
       }
      },
      "text/html": [
       "<div>\n",
       "        \n",
       "        \n",
       "            <div id=\"035f6ee3-2dd4-4a39-93af-416d4126f863\" class=\"plotly-graph-div\" style=\"height:300px; width:600px;\"></div>\n",
       "            <script type=\"text/javascript\">\n",
       "                require([\"plotly\"], function(Plotly) {\n",
       "                    window.PLOTLYENV=window.PLOTLYENV || {};\n",
       "                    window.PLOTLYENV.BASE_URL='https://plot.ly';\n",
       "                    \n",
       "                if (document.getElementById(\"035f6ee3-2dd4-4a39-93af-416d4126f863\")) {\n",
       "                    Plotly.newPlot(\n",
       "                        '035f6ee3-2dd4-4a39-93af-416d4126f863',\n",
       "                        [{\"hoverlabel\": {\"namelength\": 0}, \"hovertemplate\": \"X=%{x}<br>=%{y}\", \"legendgroup\": \"\", \"line\": {\"color\": \"#636efa\", \"dash\": \"solid\"}, \"mode\": \"lines\", \"name\": \"\", \"showlegend\": false, \"textposition\": \"top center\", \"type\": \"scatter\", \"uid\": \"e47763bd-1936-4d63-97c6-5494ee910cfb\", \"x\": [-4.265569273048022, -4.179396156420779, -4.093223039793536, -4.007049923166292, -3.9208768065390496, -3.8347036899118065, -3.7485305732845635, -3.6623574566573205, -3.5761843400300775, -3.4900112234028344, -3.4038381067755914, -3.3176649901483484, -3.2314918735211053, -3.1453187568938623, -3.0591456402666193, -2.9729725236393763, -2.8867994070121332, -2.80062629038489, -2.714453173757647, -2.628280057130404, -2.542106940503161, -2.455933823875918, -2.369760707248675, -2.283587590621432, -2.197414473994189, -2.111241357366946, -2.025068240739703, -1.93889512411246, -1.8527220074852169, -1.7665488908579738, -1.6803757742307308, -1.5942026576034878, -1.5080295409762448, -1.4218564243490017, -1.3356833077217587, -1.2495101910945157, -1.1633370744672726, -1.0771639578400296, -0.9909908412127866, -0.9048177245855435, -0.8186446079583005, -0.7324714913310575, -0.6462983747038145, -0.5601252580765714, -0.4739521414493284, -0.38777902482208537, -0.30160590819484234, -0.21543279156759976, -0.12925967494035628, -0.04308655831311281, 0.043086558314129775, 0.12925967494137236, 0.21543279156861583, 0.3016059081958593, 0.3877790248231019, 0.4739521414503445, 0.560125258077588, 0.6462983747048314, 0.732471491332074, 0.8186446079593166, 0.9048177245865601, 0.9909908412138035, 1.0771639578410461, 1.1633370744682887, 1.2495101910955322, 1.3356833077227757, 1.4218564243500182, 1.5080295409772608, 1.5942026576045043, 1.6803757742317478, 1.7665488908589904, 1.852722007486233, 1.9388951241134764, 2.02506824074072, 2.1112413573679625, 2.197414473995205, 2.2835875906224485, 2.369760707249692, 2.4559338238769346, 2.542106940504177, 2.6282800571314207, 2.714453173758664, 2.8006262903859067, 2.8867994070131493, 2.9729725236403928, 3.0591456402676362, 3.145318756894879, 3.2314918735221214, 3.317664990149365, 3.4038381067766084, 3.490011223403851, 3.5761843400310935, 3.662357456658337, 3.7485305732855805, 3.834703689912822, 3.9208768065400657, 4.007049923167309, 4.093223039794553, 4.179396156421796, 4.265569273049038], \"xaxis\": \"x\", \"y\": [4.476670517120269e-05, 6.440081128698913e-05, 9.19619243009717e-05, 0.00013034820018082587, 0.000183392715309402, 0.00025611732483810307, 0.00035503850286699735, 0.0004885301382445268, 0.0006672467627914053, 0.0009046083586861791, 0.001217344586842951, 0.00162609188613255, 0.0021560313545414254, 0.0028375486539409488, 0.0037068895001759264, 0.004806775855140244, 0.006186939122313547, 0.007904518012998274, 0.010024261009989544, 0.012618467358255744, 0.015766597219026103, 0.01955448203752407, 0.024073071272799507, 0.029416662266399357, 0.0356805767985739, 0.042958271050374315, 0.0513378950561595, 0.06089835253680656, 0.07170495088781803, 0.08380477207181013, 0.09722193568962911, 0.11195296255658818, 0.12796247740853964, 0.14517950957295758, 0.16349465746141367, 0.18275837405121664, 0.20278060441209525, 0.22333196225615953, 0.24414657120903205, 0.264926620202878, 0.2853485947313688, 0.3050710515720848, 0.3237437097936754, 0.3410175420711258, 0.3565554739027105, 0.3700432405460417, 0.3811999174694485, 0.389787633476895, 0.3956199982695467, 0.39856882766644625, 0.39856882766644625, 0.3956199982695467, 0.389787633476895, 0.3811999174694485, 0.3700432405460417, 0.3565554739027105, 0.3410175420711258, 0.3237437097925913, 0.3050710515720848, 0.2853485947313688, 0.2649266202019909, 0.24414657120903205, 0.22333196225615953, 0.20278060441141627, 0.18275837405121664, 0.16349465746141367, 0.14517950957295758, 0.12796247740853964, 0.11195296255621334, 0.0972219356893036, 0.08380477207181013, 0.07170495088781803, 0.06089835253660266, 0.05133789505598762, 0.042958271050230486, 0.0356805767985739, 0.029416662266399357, 0.024073071272799507, 0.0195544820374586, 0.01576659721897332, 0.0126184673582135, 0.010024261009955984, 0.007904518012971812, 0.006186939122292835, 0.004806775855124154, 0.0037068895001635175, 0.0028375486539314503, 0.0021560313545342085, 0.0016260918861271069, 0.001217344586838876, 0.0009046083586831512, 0.0006672467627891719, 0.0004885301382428916, 0.00035503850286462067, 0.0002561173248372458, 0.00018339271530817442, 0.00013034820018038962, 9.196192430066392e-05, 6.44008112867736e-05, 4.4766705170903066e-05], \"yaxis\": \"y\"}],\n",
       "                        {\"annotations\": [{\"arrowhead\": 7, \"ay\": -40, \"font\": {\"color\": \"black\", \"family\": \"Arial\", \"size\": 12}, \"showarrow\": true, \"text\": \"P-value<br>3.14e-71\", \"x\": 17.87233908433372, \"y\": 4.0000244992112516e-70}], \"grid\": {\"xaxes\": [\"x\"], \"xgap\": 0.1, \"xside\": \"bottom\", \"yaxes\": [\"y\"], \"ygap\": 0.1, \"yside\": \"left\"}, \"height\": 300, \"legend\": {\"tracegroupgap\": 0}, \"margin\": {\"t\": 60}, \"template\": {\"data\": {\"bar\": [{\"marker\": {\"line\": {\"color\": \"#E5ECF6\", \"width\": 0.5}}, \"type\": \"bar\"}], \"barpolar\": [{\"marker\": {\"line\": {\"color\": \"#E5ECF6\", \"width\": 0.5}}, \"type\": \"barpolar\"}], \"carpet\": [{\"aaxis\": {\"endlinecolor\": \"#2a3f5f\", \"gridcolor\": \"white\", \"linecolor\": \"white\", \"minorgridcolor\": \"white\", \"startlinecolor\": \"#2a3f5f\"}, \"baxis\": {\"endlinecolor\": \"#2a3f5f\", \"gridcolor\": \"white\", \"linecolor\": \"white\", \"minorgridcolor\": \"white\", \"startlinecolor\": \"#2a3f5f\"}, \"type\": \"carpet\"}], \"choropleth\": [{\"colorbar\": {\"outlinewidth\": 0, \"ticks\": \"\"}, \"type\": \"choropleth\"}], \"contour\": [{\"colorbar\": {\"outlinewidth\": 0, \"ticks\": \"\"}, \"colorscale\": [[0.0, \"#0508b8\"], [0.0893854748603352, \"#1910d8\"], [0.1787709497206704, \"#3c19f0\"], [0.2681564245810056, \"#6b1cfb\"], [0.3575418994413408, \"#981cfd\"], [0.44692737430167595, \"#bf1cfd\"], [0.5363128491620112, \"#dd2bfd\"], [0.6256983240223464, \"#f246fe\"], [0.7150837988826816, \"#fc67fd\"], [0.8044692737430168, \"#fe88fc\"], [0.8938547486033519, \"#fea5fd\"], [0.9832402234636871, \"#febefe\"], [1.0, \"#fec3fe\"]], \"type\": \"contour\"}], \"contourcarpet\": [{\"colorbar\": {\"outlinewidth\": 0, \"ticks\": \"\"}, \"type\": \"contourcarpet\"}], \"heatmap\": [{\"colorbar\": {\"outlinewidth\": 0, \"ticks\": \"\"}, \"colorscale\": [[0.0, \"#0508b8\"], [0.0893854748603352, \"#1910d8\"], [0.1787709497206704, \"#3c19f0\"], [0.2681564245810056, \"#6b1cfb\"], [0.3575418994413408, \"#981cfd\"], [0.44692737430167595, \"#bf1cfd\"], [0.5363128491620112, \"#dd2bfd\"], [0.6256983240223464, \"#f246fe\"], [0.7150837988826816, \"#fc67fd\"], [0.8044692737430168, \"#fe88fc\"], [0.8938547486033519, \"#fea5fd\"], [0.9832402234636871, \"#febefe\"], [1.0, \"#fec3fe\"]], \"type\": \"heatmap\"}], \"heatmapgl\": [{\"colorbar\": {\"outlinewidth\": 0, \"ticks\": \"\"}, \"type\": \"heatmapgl\"}], \"histogram\": [{\"marker\": {\"colorbar\": {\"outlinewidth\": 0, \"ticks\": \"\"}}, \"type\": \"histogram\"}], \"histogram2d\": [{\"colorbar\": {\"outlinewidth\": 0, \"ticks\": \"\"}, \"colorscale\": [[0.0, \"#0508b8\"], [0.0893854748603352, \"#1910d8\"], [0.1787709497206704, \"#3c19f0\"], [0.2681564245810056, \"#6b1cfb\"], [0.3575418994413408, \"#981cfd\"], [0.44692737430167595, \"#bf1cfd\"], [0.5363128491620112, \"#dd2bfd\"], [0.6256983240223464, \"#f246fe\"], [0.7150837988826816, \"#fc67fd\"], [0.8044692737430168, \"#fe88fc\"], [0.8938547486033519, \"#fea5fd\"], [0.9832402234636871, \"#febefe\"], [1.0, \"#fec3fe\"]], \"type\": \"histogram2d\"}], \"histogram2dcontour\": [{\"colorbar\": {\"outlinewidth\": 0, \"ticks\": \"\"}, \"colorscale\": [[0.0, \"#0508b8\"], [0.0893854748603352, \"#1910d8\"], [0.1787709497206704, \"#3c19f0\"], [0.2681564245810056, \"#6b1cfb\"], [0.3575418994413408, \"#981cfd\"], [0.44692737430167595, \"#bf1cfd\"], [0.5363128491620112, \"#dd2bfd\"], [0.6256983240223464, \"#f246fe\"], [0.7150837988826816, \"#fc67fd\"], [0.8044692737430168, \"#fe88fc\"], [0.8938547486033519, \"#fea5fd\"], [0.9832402234636871, \"#febefe\"], [1.0, \"#fec3fe\"]], \"type\": \"histogram2dcontour\"}], \"mesh3d\": [{\"colorbar\": {\"outlinewidth\": 0, \"ticks\": \"\"}, \"type\": \"mesh3d\"}], \"parcoords\": [{\"line\": {\"colorbar\": {\"outlinewidth\": 0, \"ticks\": \"\"}}, \"type\": \"parcoords\"}], \"scatter\": [{\"marker\": {\"colorbar\": {\"outlinewidth\": 0, \"ticks\": \"\"}}, \"type\": \"scatter\"}], \"scatter3d\": [{\"marker\": {\"colorbar\": {\"outlinewidth\": 0, \"ticks\": \"\"}}, \"type\": \"scatter3d\"}], \"scattercarpet\": [{\"marker\": {\"colorbar\": {\"outlinewidth\": 0, \"ticks\": \"\"}}, \"type\": \"scattercarpet\"}], \"scattergeo\": [{\"marker\": {\"colorbar\": {\"outlinewidth\": 0, \"ticks\": \"\"}}, \"type\": \"scattergeo\"}], \"scattergl\": [{\"marker\": {\"colorbar\": {\"outlinewidth\": 0, \"ticks\": \"\"}}, \"type\": \"scattergl\"}], \"scattermapbox\": [{\"marker\": {\"colorbar\": {\"outlinewidth\": 0, \"ticks\": \"\"}}, \"type\": \"scattermapbox\"}], \"scatterpolar\": [{\"marker\": {\"colorbar\": {\"outlinewidth\": 0, \"ticks\": \"\"}}, \"type\": \"scatterpolar\"}], \"scatterpolargl\": [{\"marker\": {\"colorbar\": {\"outlinewidth\": 0, \"ticks\": \"\"}}, \"type\": \"scatterpolargl\"}], \"scatterternary\": [{\"marker\": {\"colorbar\": {\"outlinewidth\": 0, \"ticks\": \"\"}}, \"type\": \"scatterternary\"}], \"surface\": [{\"colorbar\": {\"outlinewidth\": 0, \"ticks\": \"\"}, \"type\": \"surface\"}], \"table\": [{\"cells\": {\"fill\": {\"color\": \"#EBF0F8\"}, \"line\": {\"color\": \"white\"}}, \"header\": {\"fill\": {\"color\": \"#C8D4E3\"}, \"line\": {\"color\": \"white\"}}, \"type\": \"table\"}]}, \"layout\": {\"annotationdefaults\": {\"arrowcolor\": \"#506784\", \"arrowhead\": 0, \"arrowwidth\": 1}, \"colorscale\": {\"diverging\": [[0, \"#8e0152\"], [0.1, \"#c51b7d\"], [0.2, \"#de77ae\"], [0.3, \"#f1b6da\"], [0.4, \"#fde0ef\"], [0.5, \"#f7f7f7\"], [0.6, \"#e6f5d0\"], [0.7, \"#b8e186\"], [0.8, \"#7fbc41\"], [0.9, \"#4d9221\"], [1, \"#276419\"]], \"sequential\": [[0.0, \"#0508b8\"], [0.0893854748603352, \"#1910d8\"], [0.1787709497206704, \"#3c19f0\"], [0.2681564245810056, \"#6b1cfb\"], [0.3575418994413408, \"#981cfd\"], [0.44692737430167595, \"#bf1cfd\"], [0.5363128491620112, \"#dd2bfd\"], [0.6256983240223464, \"#f246fe\"], [0.7150837988826816, \"#fc67fd\"], [0.8044692737430168, \"#fe88fc\"], [0.8938547486033519, \"#fea5fd\"], [0.9832402234636871, \"#febefe\"], [1.0, \"#fec3fe\"]], \"sequentialminus\": [[0.0, \"#0508b8\"], [0.0893854748603352, \"#1910d8\"], [0.1787709497206704, \"#3c19f0\"], [0.2681564245810056, \"#6b1cfb\"], [0.3575418994413408, \"#981cfd\"], [0.44692737430167595, \"#bf1cfd\"], [0.5363128491620112, \"#dd2bfd\"], [0.6256983240223464, \"#f246fe\"], [0.7150837988826816, \"#fc67fd\"], [0.8044692737430168, \"#fe88fc\"], [0.8938547486033519, \"#fea5fd\"], [0.9832402234636871, \"#febefe\"], [1.0, \"#fec3fe\"]]}, \"colorway\": [\"#636efa\", \"#EF553B\", \"#00cc96\", \"#ab63fa\", \"#19d3f3\", \"#e763fa\", \"#FECB52\", \"#FFA15A\", \"#FF6692\", \"#B6E880\"], \"font\": {\"color\": \"#2a3f5f\"}, \"geo\": {\"bgcolor\": \"white\", \"lakecolor\": \"white\", \"landcolor\": \"#E5ECF6\", \"showlakes\": true, \"showland\": true, \"subunitcolor\": \"white\"}, \"hoverlabel\": {\"align\": \"left\"}, \"hovermode\": \"closest\", \"mapbox\": {\"style\": \"light\"}, \"paper_bgcolor\": \"white\", \"plot_bgcolor\": \"#E5ECF6\", \"polar\": {\"angularaxis\": {\"gridcolor\": \"white\", \"linecolor\": \"white\", \"ticks\": \"\"}, \"bgcolor\": \"#E5ECF6\", \"radialaxis\": {\"gridcolor\": \"white\", \"linecolor\": \"white\", \"ticks\": \"\"}}, \"scene\": {\"xaxis\": {\"backgroundcolor\": \"#E5ECF6\", \"gridcolor\": \"white\", \"gridwidth\": 2, \"linecolor\": \"white\", \"showbackground\": true, \"ticks\": \"\", \"zerolinecolor\": \"white\"}, \"yaxis\": {\"backgroundcolor\": \"#E5ECF6\", \"gridcolor\": \"white\", \"gridwidth\": 2, \"linecolor\": \"white\", \"showbackground\": true, \"ticks\": \"\", \"zerolinecolor\": \"white\"}, \"zaxis\": {\"backgroundcolor\": \"#E5ECF6\", \"gridcolor\": \"white\", \"gridwidth\": 2, \"linecolor\": \"white\", \"showbackground\": true, \"ticks\": \"\", \"zerolinecolor\": \"white\"}}, \"shapedefaults\": {\"fillcolor\": \"#506784\", \"line\": {\"width\": 0}, \"opacity\": 0.4}, \"ternary\": {\"aaxis\": {\"gridcolor\": \"white\", \"linecolor\": \"white\", \"ticks\": \"\"}, \"baxis\": {\"gridcolor\": \"white\", \"linecolor\": \"white\", \"ticks\": \"\"}, \"bgcolor\": \"#E5ECF6\", \"caxis\": {\"gridcolor\": \"white\", \"linecolor\": \"white\", \"ticks\": \"\"}}, \"title\": {\"x\": 0.05}, \"xaxis\": {\"automargin\": true, \"gridcolor\": \"white\", \"linecolor\": \"white\", \"ticks\": \"\", \"zerolinecolor\": \"white\", \"zerolinewidth\": 2}, \"yaxis\": {\"automargin\": true, \"gridcolor\": \"white\", \"linecolor\": \"white\", \"ticks\": \"\", \"zerolinecolor\": \"white\", \"zerolinewidth\": 2}}}, \"title\": {\"text\": \"Hypothesis Test Results\"}, \"width\": 600, \"xaxis\": {\"title\": {\"text\": \"X\"}}, \"yaxis\": {\"title\": {\"text\": \"\"}}},\n",
       "                        {\"showLink\": false, \"linkText\": \"Export to plot.ly\", \"plotlyServerURL\": \"https://plot.ly\", \"responsive\": true}\n",
       "                    ).then(function(){\n",
       "                            \n",
       "var gd = document.getElementById('035f6ee3-2dd4-4a39-93af-416d4126f863');\n",
       "var x = new MutationObserver(function (mutations, observer) {{\n",
       "        var display = window.getComputedStyle(gd).display;\n",
       "        if (!display || display === 'none') {{\n",
       "            console.log([gd, 'removed!']);\n",
       "            Plotly.purge(gd);\n",
       "            observer.disconnect();\n",
       "        }}\n",
       "}});\n",
       "\n",
       "// Listen for the removal of the full notebook cells\n",
       "var notebookContainer = gd.closest('#notebook-container');\n",
       "if (notebookContainer) {{\n",
       "    x.observe(notebookContainer, {childList: true});\n",
       "}}\n",
       "\n",
       "// Listen for the clearing of the current output cell\n",
       "var outputEl = gd.closest('.output');\n",
       "if (outputEl) {{\n",
       "    x.observe(outputEl, {childList: true});\n",
       "}}\n",
       "\n",
       "                        })\n",
       "                };\n",
       "                });\n",
       "            </script>\n",
       "        </div>"
      ]
     },
     "metadata": {},
     "output_type": "display_data"
    }
   ],
   "source": [
    "# Plotting a T-distribution with the calculated t-statistic annotated\n",
    "df = min([len(one_unit_samp)-1,len(all_others_samp)-1])\n",
    "plot_t_dist_hyp(df,t_stat,p_val)"
   ]
  },
  {
   "cell_type": "markdown",
   "metadata": {},
   "source": [
    "**Results**\n",
    "\n",
    "$t \\approx 17.87$ <br>\n",
    "${p_{value}} \\approx 0$\n",
    "\n",
    "Thus, after performing a t-test comparing the ratings between hosts with only 1 unit and all other hosts, we reject our null hypothesis (that the average ratings between the two groups are the same) in favor of the alternative ($H_A$), providing convincing evidence that hosts with only one unit are rated higher than hosts with more than 1 unit."
   ]
  },
  {
   "cell_type": "markdown",
   "metadata": {},
   "source": [
    "## Exploratory Question 2\n",
    "\n",
    "*Do hosts with no recent reviews change pricing behavior from hosts with recent reviews?*"
   ]
  },
  {
   "cell_type": "code",
   "execution_count": 59,
   "metadata": {},
   "outputs": [
    {
     "data": {
      "text/html": [
       "<div>\n",
       "<style scoped>\n",
       "    .dataframe tbody tr th:only-of-type {\n",
       "        vertical-align: middle;\n",
       "    }\n",
       "\n",
       "    .dataframe tbody tr th {\n",
       "        vertical-align: top;\n",
       "    }\n",
       "\n",
       "    .dataframe thead th {\n",
       "        text-align: right;\n",
       "    }\n",
       "</style>\n",
       "<table border=\"1\" class=\"dataframe\">\n",
       "  <thead>\n",
       "    <tr style=\"text-align: right;\">\n",
       "      <th></th>\n",
       "      <th>last_review_discrete</th>\n",
       "      <th>last_review_days</th>\n",
       "    </tr>\n",
       "  </thead>\n",
       "  <tbody>\n",
       "    <tr>\n",
       "      <th>0</th>\n",
       "      <td>last 90 days</td>\n",
       "      <td>61.0</td>\n",
       "    </tr>\n",
       "    <tr>\n",
       "      <th>1</th>\n",
       "      <td>last 2 years</td>\n",
       "      <td>709.0</td>\n",
       "    </tr>\n",
       "    <tr>\n",
       "      <th>2</th>\n",
       "      <td>more than 2 years</td>\n",
       "      <td>967.0</td>\n",
       "    </tr>\n",
       "    <tr>\n",
       "      <th>3</th>\n",
       "      <td>last year</td>\n",
       "      <td>307.0</td>\n",
       "    </tr>\n",
       "    <tr>\n",
       "      <th>4</th>\n",
       "      <td>last year</td>\n",
       "      <td>339.0</td>\n",
       "    </tr>\n",
       "    <tr>\n",
       "      <th>5</th>\n",
       "      <td>last 90 days</td>\n",
       "      <td>58.0</td>\n",
       "    </tr>\n",
       "    <tr>\n",
       "      <th>6</th>\n",
       "      <td>last 90 days</td>\n",
       "      <td>56.0</td>\n",
       "    </tr>\n",
       "    <tr>\n",
       "      <th>7</th>\n",
       "      <td>last 90 days</td>\n",
       "      <td>45.0</td>\n",
       "    </tr>\n",
       "    <tr>\n",
       "      <th>8</th>\n",
       "      <td>last 90 days</td>\n",
       "      <td>60.0</td>\n",
       "    </tr>\n",
       "    <tr>\n",
       "      <th>9</th>\n",
       "      <td>last year</td>\n",
       "      <td>227.0</td>\n",
       "    </tr>\n",
       "    <tr>\n",
       "      <th>10</th>\n",
       "      <td>last year</td>\n",
       "      <td>325.0</td>\n",
       "    </tr>\n",
       "    <tr>\n",
       "      <th>11</th>\n",
       "      <td>last year</td>\n",
       "      <td>213.0</td>\n",
       "    </tr>\n",
       "    <tr>\n",
       "      <th>12</th>\n",
       "      <td>last year</td>\n",
       "      <td>299.0</td>\n",
       "    </tr>\n",
       "    <tr>\n",
       "      <th>13</th>\n",
       "      <td>more than 2 years</td>\n",
       "      <td>1367.0</td>\n",
       "    </tr>\n",
       "    <tr>\n",
       "      <th>14</th>\n",
       "      <td>last 90 days</td>\n",
       "      <td>62.0</td>\n",
       "    </tr>\n",
       "    <tr>\n",
       "      <th>15</th>\n",
       "      <td>last year</td>\n",
       "      <td>240.0</td>\n",
       "    </tr>\n",
       "    <tr>\n",
       "      <th>16</th>\n",
       "      <td>last 90 days</td>\n",
       "      <td>74.0</td>\n",
       "    </tr>\n",
       "    <tr>\n",
       "      <th>17</th>\n",
       "      <td>more than 2 years</td>\n",
       "      <td>1020.0</td>\n",
       "    </tr>\n",
       "    <tr>\n",
       "      <th>18</th>\n",
       "      <td>last year</td>\n",
       "      <td>197.0</td>\n",
       "    </tr>\n",
       "    <tr>\n",
       "      <th>19</th>\n",
       "      <td>last 90 days</td>\n",
       "      <td>58.0</td>\n",
       "    </tr>\n",
       "    <tr>\n",
       "      <th>20</th>\n",
       "      <td>last 180 days</td>\n",
       "      <td>161.0</td>\n",
       "    </tr>\n",
       "    <tr>\n",
       "      <th>21</th>\n",
       "      <td>last 2 years</td>\n",
       "      <td>699.0</td>\n",
       "    </tr>\n",
       "    <tr>\n",
       "      <th>22</th>\n",
       "      <td>last 90 days</td>\n",
       "      <td>53.0</td>\n",
       "    </tr>\n",
       "    <tr>\n",
       "      <th>23</th>\n",
       "      <td>last 90 days</td>\n",
       "      <td>55.0</td>\n",
       "    </tr>\n",
       "    <tr>\n",
       "      <th>24</th>\n",
       "      <td>last 90 days</td>\n",
       "      <td>65.0</td>\n",
       "    </tr>\n",
       "    <tr>\n",
       "      <th>25</th>\n",
       "      <td>last 90 days</td>\n",
       "      <td>72.0</td>\n",
       "    </tr>\n",
       "    <tr>\n",
       "      <th>26</th>\n",
       "      <td>last 90 days</td>\n",
       "      <td>51.0</td>\n",
       "    </tr>\n",
       "    <tr>\n",
       "      <th>27</th>\n",
       "      <td>last 90 days</td>\n",
       "      <td>48.0</td>\n",
       "    </tr>\n",
       "    <tr>\n",
       "      <th>28</th>\n",
       "      <td>last 90 days</td>\n",
       "      <td>77.0</td>\n",
       "    </tr>\n",
       "    <tr>\n",
       "      <th>29</th>\n",
       "      <td>last 90 days</td>\n",
       "      <td>47.0</td>\n",
       "    </tr>\n",
       "    <tr>\n",
       "      <th>30</th>\n",
       "      <td>last 90 days</td>\n",
       "      <td>62.0</td>\n",
       "    </tr>\n",
       "    <tr>\n",
       "      <th>31</th>\n",
       "      <td>last 180 days</td>\n",
       "      <td>115.0</td>\n",
       "    </tr>\n",
       "    <tr>\n",
       "      <th>32</th>\n",
       "      <td>last 180 days</td>\n",
       "      <td>113.0</td>\n",
       "    </tr>\n",
       "    <tr>\n",
       "      <th>33</th>\n",
       "      <td>last 2 years</td>\n",
       "      <td>472.0</td>\n",
       "    </tr>\n",
       "    <tr>\n",
       "      <th>34</th>\n",
       "      <td>last year</td>\n",
       "      <td>289.0</td>\n",
       "    </tr>\n",
       "    <tr>\n",
       "      <th>35</th>\n",
       "      <td>last year</td>\n",
       "      <td>191.0</td>\n",
       "    </tr>\n",
       "    <tr>\n",
       "      <th>36</th>\n",
       "      <td>last 90 days</td>\n",
       "      <td>46.0</td>\n",
       "    </tr>\n",
       "    <tr>\n",
       "      <th>37</th>\n",
       "      <td>last 2 years</td>\n",
       "      <td>411.0</td>\n",
       "    </tr>\n",
       "    <tr>\n",
       "      <th>38</th>\n",
       "      <td>last 2 years</td>\n",
       "      <td>690.0</td>\n",
       "    </tr>\n",
       "    <tr>\n",
       "      <th>39</th>\n",
       "      <td>last 2 years</td>\n",
       "      <td>710.0</td>\n",
       "    </tr>\n",
       "    <tr>\n",
       "      <th>40</th>\n",
       "      <td>last 180 days</td>\n",
       "      <td>119.0</td>\n",
       "    </tr>\n",
       "    <tr>\n",
       "      <th>41</th>\n",
       "      <td>last year</td>\n",
       "      <td>185.0</td>\n",
       "    </tr>\n",
       "    <tr>\n",
       "      <th>42</th>\n",
       "      <td>last 90 days</td>\n",
       "      <td>64.0</td>\n",
       "    </tr>\n",
       "    <tr>\n",
       "      <th>43</th>\n",
       "      <td>last 90 days</td>\n",
       "      <td>51.0</td>\n",
       "    </tr>\n",
       "    <tr>\n",
       "      <th>44</th>\n",
       "      <td>last 90 days</td>\n",
       "      <td>75.0</td>\n",
       "    </tr>\n",
       "    <tr>\n",
       "      <th>45</th>\n",
       "      <td>last 2 years</td>\n",
       "      <td>472.0</td>\n",
       "    </tr>\n",
       "    <tr>\n",
       "      <th>46</th>\n",
       "      <td>more than 2 years</td>\n",
       "      <td>775.0</td>\n",
       "    </tr>\n",
       "    <tr>\n",
       "      <th>47</th>\n",
       "      <td>more than 2 years</td>\n",
       "      <td>1196.0</td>\n",
       "    </tr>\n",
       "    <tr>\n",
       "      <th>48</th>\n",
       "      <td>last 2 years</td>\n",
       "      <td>695.0</td>\n",
       "    </tr>\n",
       "    <tr>\n",
       "      <th>49</th>\n",
       "      <td>last 2 years</td>\n",
       "      <td>367.0</td>\n",
       "    </tr>\n",
       "    <tr>\n",
       "      <th>50</th>\n",
       "      <td>more than 2 years</td>\n",
       "      <td>3207.0</td>\n",
       "    </tr>\n",
       "    <tr>\n",
       "      <th>51</th>\n",
       "      <td>last 90 days</td>\n",
       "      <td>57.0</td>\n",
       "    </tr>\n",
       "    <tr>\n",
       "      <th>52</th>\n",
       "      <td>last 90 days</td>\n",
       "      <td>49.0</td>\n",
       "    </tr>\n",
       "    <tr>\n",
       "      <th>...</th>\n",
       "      <td>...</td>\n",
       "      <td>...</td>\n",
       "    </tr>\n",
       "    <tr>\n",
       "      <th>68115</th>\n",
       "      <td>NaN</td>\n",
       "      <td>NaN</td>\n",
       "    </tr>\n",
       "    <tr>\n",
       "      <th>68116</th>\n",
       "      <td>NaN</td>\n",
       "      <td>NaN</td>\n",
       "    </tr>\n",
       "    <tr>\n",
       "      <th>68117</th>\n",
       "      <td>NaN</td>\n",
       "      <td>NaN</td>\n",
       "    </tr>\n",
       "    <tr>\n",
       "      <th>68118</th>\n",
       "      <td>NaN</td>\n",
       "      <td>NaN</td>\n",
       "    </tr>\n",
       "    <tr>\n",
       "      <th>68119</th>\n",
       "      <td>NaN</td>\n",
       "      <td>NaN</td>\n",
       "    </tr>\n",
       "    <tr>\n",
       "      <th>68120</th>\n",
       "      <td>NaN</td>\n",
       "      <td>NaN</td>\n",
       "    </tr>\n",
       "    <tr>\n",
       "      <th>68121</th>\n",
       "      <td>NaN</td>\n",
       "      <td>NaN</td>\n",
       "    </tr>\n",
       "    <tr>\n",
       "      <th>68122</th>\n",
       "      <td>NaN</td>\n",
       "      <td>NaN</td>\n",
       "    </tr>\n",
       "    <tr>\n",
       "      <th>68123</th>\n",
       "      <td>NaN</td>\n",
       "      <td>NaN</td>\n",
       "    </tr>\n",
       "    <tr>\n",
       "      <th>68124</th>\n",
       "      <td>NaN</td>\n",
       "      <td>NaN</td>\n",
       "    </tr>\n",
       "    <tr>\n",
       "      <th>68125</th>\n",
       "      <td>NaN</td>\n",
       "      <td>NaN</td>\n",
       "    </tr>\n",
       "    <tr>\n",
       "      <th>68126</th>\n",
       "      <td>last 90 days</td>\n",
       "      <td>65.0</td>\n",
       "    </tr>\n",
       "    <tr>\n",
       "      <th>68127</th>\n",
       "      <td>NaN</td>\n",
       "      <td>NaN</td>\n",
       "    </tr>\n",
       "    <tr>\n",
       "      <th>68128</th>\n",
       "      <td>NaN</td>\n",
       "      <td>NaN</td>\n",
       "    </tr>\n",
       "    <tr>\n",
       "      <th>68129</th>\n",
       "      <td>NaN</td>\n",
       "      <td>NaN</td>\n",
       "    </tr>\n",
       "    <tr>\n",
       "      <th>68130</th>\n",
       "      <td>NaN</td>\n",
       "      <td>NaN</td>\n",
       "    </tr>\n",
       "    <tr>\n",
       "      <th>68131</th>\n",
       "      <td>NaN</td>\n",
       "      <td>NaN</td>\n",
       "    </tr>\n",
       "    <tr>\n",
       "      <th>68132</th>\n",
       "      <td>NaN</td>\n",
       "      <td>NaN</td>\n",
       "    </tr>\n",
       "    <tr>\n",
       "      <th>68133</th>\n",
       "      <td>NaN</td>\n",
       "      <td>NaN</td>\n",
       "    </tr>\n",
       "    <tr>\n",
       "      <th>68134</th>\n",
       "      <td>NaN</td>\n",
       "      <td>NaN</td>\n",
       "    </tr>\n",
       "    <tr>\n",
       "      <th>68135</th>\n",
       "      <td>NaN</td>\n",
       "      <td>NaN</td>\n",
       "    </tr>\n",
       "    <tr>\n",
       "      <th>68136</th>\n",
       "      <td>NaN</td>\n",
       "      <td>NaN</td>\n",
       "    </tr>\n",
       "    <tr>\n",
       "      <th>68137</th>\n",
       "      <td>NaN</td>\n",
       "      <td>NaN</td>\n",
       "    </tr>\n",
       "    <tr>\n",
       "      <th>68138</th>\n",
       "      <td>NaN</td>\n",
       "      <td>NaN</td>\n",
       "    </tr>\n",
       "    <tr>\n",
       "      <th>68139</th>\n",
       "      <td>NaN</td>\n",
       "      <td>NaN</td>\n",
       "    </tr>\n",
       "    <tr>\n",
       "      <th>68140</th>\n",
       "      <td>NaN</td>\n",
       "      <td>NaN</td>\n",
       "    </tr>\n",
       "    <tr>\n",
       "      <th>68141</th>\n",
       "      <td>NaN</td>\n",
       "      <td>NaN</td>\n",
       "    </tr>\n",
       "    <tr>\n",
       "      <th>68142</th>\n",
       "      <td>NaN</td>\n",
       "      <td>NaN</td>\n",
       "    </tr>\n",
       "    <tr>\n",
       "      <th>68143</th>\n",
       "      <td>NaN</td>\n",
       "      <td>NaN</td>\n",
       "    </tr>\n",
       "    <tr>\n",
       "      <th>68144</th>\n",
       "      <td>NaN</td>\n",
       "      <td>NaN</td>\n",
       "    </tr>\n",
       "    <tr>\n",
       "      <th>68145</th>\n",
       "      <td>NaN</td>\n",
       "      <td>NaN</td>\n",
       "    </tr>\n",
       "    <tr>\n",
       "      <th>68146</th>\n",
       "      <td>NaN</td>\n",
       "      <td>NaN</td>\n",
       "    </tr>\n",
       "    <tr>\n",
       "      <th>68147</th>\n",
       "      <td>NaN</td>\n",
       "      <td>NaN</td>\n",
       "    </tr>\n",
       "    <tr>\n",
       "      <th>68148</th>\n",
       "      <td>NaN</td>\n",
       "      <td>NaN</td>\n",
       "    </tr>\n",
       "    <tr>\n",
       "      <th>68149</th>\n",
       "      <td>NaN</td>\n",
       "      <td>NaN</td>\n",
       "    </tr>\n",
       "    <tr>\n",
       "      <th>68150</th>\n",
       "      <td>NaN</td>\n",
       "      <td>NaN</td>\n",
       "    </tr>\n",
       "    <tr>\n",
       "      <th>68151</th>\n",
       "      <td>NaN</td>\n",
       "      <td>NaN</td>\n",
       "    </tr>\n",
       "    <tr>\n",
       "      <th>68152</th>\n",
       "      <td>NaN</td>\n",
       "      <td>NaN</td>\n",
       "    </tr>\n",
       "    <tr>\n",
       "      <th>68153</th>\n",
       "      <td>NaN</td>\n",
       "      <td>NaN</td>\n",
       "    </tr>\n",
       "    <tr>\n",
       "      <th>68154</th>\n",
       "      <td>NaN</td>\n",
       "      <td>NaN</td>\n",
       "    </tr>\n",
       "    <tr>\n",
       "      <th>68155</th>\n",
       "      <td>NaN</td>\n",
       "      <td>NaN</td>\n",
       "    </tr>\n",
       "    <tr>\n",
       "      <th>68156</th>\n",
       "      <td>NaN</td>\n",
       "      <td>NaN</td>\n",
       "    </tr>\n",
       "    <tr>\n",
       "      <th>68157</th>\n",
       "      <td>NaN</td>\n",
       "      <td>NaN</td>\n",
       "    </tr>\n",
       "    <tr>\n",
       "      <th>68158</th>\n",
       "      <td>NaN</td>\n",
       "      <td>NaN</td>\n",
       "    </tr>\n",
       "    <tr>\n",
       "      <th>68159</th>\n",
       "      <td>NaN</td>\n",
       "      <td>NaN</td>\n",
       "    </tr>\n",
       "    <tr>\n",
       "      <th>68160</th>\n",
       "      <td>NaN</td>\n",
       "      <td>NaN</td>\n",
       "    </tr>\n",
       "    <tr>\n",
       "      <th>68161</th>\n",
       "      <td>NaN</td>\n",
       "      <td>NaN</td>\n",
       "    </tr>\n",
       "    <tr>\n",
       "      <th>68162</th>\n",
       "      <td>NaN</td>\n",
       "      <td>NaN</td>\n",
       "    </tr>\n",
       "    <tr>\n",
       "      <th>68163</th>\n",
       "      <td>NaN</td>\n",
       "      <td>NaN</td>\n",
       "    </tr>\n",
       "    <tr>\n",
       "      <th>68164</th>\n",
       "      <td>NaN</td>\n",
       "      <td>NaN</td>\n",
       "    </tr>\n",
       "    <tr>\n",
       "      <th>68165</th>\n",
       "      <td>NaN</td>\n",
       "      <td>NaN</td>\n",
       "    </tr>\n",
       "    <tr>\n",
       "      <th>68166</th>\n",
       "      <td>NaN</td>\n",
       "      <td>NaN</td>\n",
       "    </tr>\n",
       "    <tr>\n",
       "      <th>68167</th>\n",
       "      <td>NaN</td>\n",
       "      <td>NaN</td>\n",
       "    </tr>\n",
       "  </tbody>\n",
       "</table>\n",
       "<p>68167 rows × 2 columns</p>\n",
       "</div>"
      ],
      "text/plain": [
       "      last_review_discrete  last_review_days\n",
       "0             last 90 days              61.0\n",
       "1             last 2 years             709.0\n",
       "2        more than 2 years             967.0\n",
       "3                last year             307.0\n",
       "4                last year             339.0\n",
       "5             last 90 days              58.0\n",
       "6             last 90 days              56.0\n",
       "7             last 90 days              45.0\n",
       "8             last 90 days              60.0\n",
       "9                last year             227.0\n",
       "10               last year             325.0\n",
       "11               last year             213.0\n",
       "12               last year             299.0\n",
       "13       more than 2 years            1367.0\n",
       "14            last 90 days              62.0\n",
       "15               last year             240.0\n",
       "16            last 90 days              74.0\n",
       "17       more than 2 years            1020.0\n",
       "18               last year             197.0\n",
       "19            last 90 days              58.0\n",
       "20           last 180 days             161.0\n",
       "21            last 2 years             699.0\n",
       "22            last 90 days              53.0\n",
       "23            last 90 days              55.0\n",
       "24            last 90 days              65.0\n",
       "25            last 90 days              72.0\n",
       "26            last 90 days              51.0\n",
       "27            last 90 days              48.0\n",
       "28            last 90 days              77.0\n",
       "29            last 90 days              47.0\n",
       "30            last 90 days              62.0\n",
       "31           last 180 days             115.0\n",
       "32           last 180 days             113.0\n",
       "33            last 2 years             472.0\n",
       "34               last year             289.0\n",
       "35               last year             191.0\n",
       "36            last 90 days              46.0\n",
       "37            last 2 years             411.0\n",
       "38            last 2 years             690.0\n",
       "39            last 2 years             710.0\n",
       "40           last 180 days             119.0\n",
       "41               last year             185.0\n",
       "42            last 90 days              64.0\n",
       "43            last 90 days              51.0\n",
       "44            last 90 days              75.0\n",
       "45            last 2 years             472.0\n",
       "46       more than 2 years             775.0\n",
       "47       more than 2 years            1196.0\n",
       "48            last 2 years             695.0\n",
       "49            last 2 years             367.0\n",
       "50       more than 2 years            3207.0\n",
       "51            last 90 days              57.0\n",
       "52            last 90 days              49.0\n",
       "...                    ...               ...\n",
       "68115                  NaN               NaN\n",
       "68116                  NaN               NaN\n",
       "68117                  NaN               NaN\n",
       "68118                  NaN               NaN\n",
       "68119                  NaN               NaN\n",
       "68120                  NaN               NaN\n",
       "68121                  NaN               NaN\n",
       "68122                  NaN               NaN\n",
       "68123                  NaN               NaN\n",
       "68124                  NaN               NaN\n",
       "68125                  NaN               NaN\n",
       "68126         last 90 days              65.0\n",
       "68127                  NaN               NaN\n",
       "68128                  NaN               NaN\n",
       "68129                  NaN               NaN\n",
       "68130                  NaN               NaN\n",
       "68131                  NaN               NaN\n",
       "68132                  NaN               NaN\n",
       "68133                  NaN               NaN\n",
       "68134                  NaN               NaN\n",
       "68135                  NaN               NaN\n",
       "68136                  NaN               NaN\n",
       "68137                  NaN               NaN\n",
       "68138                  NaN               NaN\n",
       "68139                  NaN               NaN\n",
       "68140                  NaN               NaN\n",
       "68141                  NaN               NaN\n",
       "68142                  NaN               NaN\n",
       "68143                  NaN               NaN\n",
       "68144                  NaN               NaN\n",
       "68145                  NaN               NaN\n",
       "68146                  NaN               NaN\n",
       "68147                  NaN               NaN\n",
       "68148                  NaN               NaN\n",
       "68149                  NaN               NaN\n",
       "68150                  NaN               NaN\n",
       "68151                  NaN               NaN\n",
       "68152                  NaN               NaN\n",
       "68153                  NaN               NaN\n",
       "68154                  NaN               NaN\n",
       "68155                  NaN               NaN\n",
       "68156                  NaN               NaN\n",
       "68157                  NaN               NaN\n",
       "68158                  NaN               NaN\n",
       "68159                  NaN               NaN\n",
       "68160                  NaN               NaN\n",
       "68161                  NaN               NaN\n",
       "68162                  NaN               NaN\n",
       "68163                  NaN               NaN\n",
       "68164                  NaN               NaN\n",
       "68165                  NaN               NaN\n",
       "68166                  NaN               NaN\n",
       "68167                  NaN               NaN\n",
       "\n",
       "[68167 rows x 2 columns]"
      ]
     },
     "execution_count": 59,
     "metadata": {},
     "output_type": "execute_result"
    }
   ],
   "source": [
    "eda[['last_review_discrete','last_review_days']]"
   ]
  },
  {
   "cell_type": "code",
   "execution_count": 60,
   "metadata": {
    "scrolled": true
   },
   "outputs": [
    {
     "data": {
      "text/html": [
       "<div>\n",
       "<style scoped>\n",
       "    .dataframe tbody tr th:only-of-type {\n",
       "        vertical-align: middle;\n",
       "    }\n",
       "\n",
       "    .dataframe tbody tr th {\n",
       "        vertical-align: top;\n",
       "    }\n",
       "\n",
       "    .dataframe thead th {\n",
       "        text-align: right;\n",
       "    }\n",
       "</style>\n",
       "<table border=\"1\" class=\"dataframe\">\n",
       "  <thead>\n",
       "    <tr style=\"text-align: right;\">\n",
       "      <th></th>\n",
       "      <th>property_type</th>\n",
       "      <th>room_type</th>\n",
       "    </tr>\n",
       "  </thead>\n",
       "  <tbody>\n",
       "    <tr>\n",
       "      <th>0</th>\n",
       "      <td>Apartment</td>\n",
       "      <td>Entire home/apt</td>\n",
       "    </tr>\n",
       "    <tr>\n",
       "      <th>1</th>\n",
       "      <td>Apartment</td>\n",
       "      <td>Entire home/apt</td>\n",
       "    </tr>\n",
       "    <tr>\n",
       "      <th>2</th>\n",
       "      <td>Apartment</td>\n",
       "      <td>Private room</td>\n",
       "    </tr>\n",
       "    <tr>\n",
       "      <th>3</th>\n",
       "      <td>Apartment</td>\n",
       "      <td>Private room</td>\n",
       "    </tr>\n",
       "    <tr>\n",
       "      <th>4</th>\n",
       "      <td>House</td>\n",
       "      <td>Entire home/apt</td>\n",
       "    </tr>\n",
       "    <tr>\n",
       "      <th>5</th>\n",
       "      <td>Apartment</td>\n",
       "      <td>Entire home/apt</td>\n",
       "    </tr>\n",
       "    <tr>\n",
       "      <th>6</th>\n",
       "      <td>Condominium</td>\n",
       "      <td>Private room</td>\n",
       "    </tr>\n",
       "    <tr>\n",
       "      <th>7</th>\n",
       "      <td>House</td>\n",
       "      <td>Private room</td>\n",
       "    </tr>\n",
       "    <tr>\n",
       "      <th>8</th>\n",
       "      <td>House</td>\n",
       "      <td>Entire home/apt</td>\n",
       "    </tr>\n",
       "    <tr>\n",
       "      <th>9</th>\n",
       "      <td>Apartment</td>\n",
       "      <td>Entire home/apt</td>\n",
       "    </tr>\n",
       "    <tr>\n",
       "      <th>10</th>\n",
       "      <td>Apartment</td>\n",
       "      <td>Entire home/apt</td>\n",
       "    </tr>\n",
       "    <tr>\n",
       "      <th>11</th>\n",
       "      <td>Apartment</td>\n",
       "      <td>Entire home/apt</td>\n",
       "    </tr>\n",
       "    <tr>\n",
       "      <th>12</th>\n",
       "      <td>Apartment</td>\n",
       "      <td>Private room</td>\n",
       "    </tr>\n",
       "    <tr>\n",
       "      <th>13</th>\n",
       "      <td>Apartment</td>\n",
       "      <td>Private room</td>\n",
       "    </tr>\n",
       "    <tr>\n",
       "      <th>14</th>\n",
       "      <td>Apartment</td>\n",
       "      <td>Private room</td>\n",
       "    </tr>\n",
       "    <tr>\n",
       "      <th>15</th>\n",
       "      <td>Townhouse</td>\n",
       "      <td>Entire home/apt</td>\n",
       "    </tr>\n",
       "    <tr>\n",
       "      <th>16</th>\n",
       "      <td>Apartment</td>\n",
       "      <td>Entire home/apt</td>\n",
       "    </tr>\n",
       "    <tr>\n",
       "      <th>17</th>\n",
       "      <td>Condominium</td>\n",
       "      <td>Entire home/apt</td>\n",
       "    </tr>\n",
       "    <tr>\n",
       "      <th>18</th>\n",
       "      <td>Apartment</td>\n",
       "      <td>Entire home/apt</td>\n",
       "    </tr>\n",
       "    <tr>\n",
       "      <th>19</th>\n",
       "      <td>Townhouse</td>\n",
       "      <td>Private room</td>\n",
       "    </tr>\n",
       "    <tr>\n",
       "      <th>20</th>\n",
       "      <td>Loft</td>\n",
       "      <td>Entire home/apt</td>\n",
       "    </tr>\n",
       "    <tr>\n",
       "      <th>21</th>\n",
       "      <td>Apartment</td>\n",
       "      <td>Private room</td>\n",
       "    </tr>\n",
       "    <tr>\n",
       "      <th>22</th>\n",
       "      <td>Condominium</td>\n",
       "      <td>Private room</td>\n",
       "    </tr>\n",
       "    <tr>\n",
       "      <th>23</th>\n",
       "      <td>House</td>\n",
       "      <td>Entire home/apt</td>\n",
       "    </tr>\n",
       "    <tr>\n",
       "      <th>24</th>\n",
       "      <td>Apartment</td>\n",
       "      <td>Entire home/apt</td>\n",
       "    </tr>\n",
       "    <tr>\n",
       "      <th>25</th>\n",
       "      <td>Apartment</td>\n",
       "      <td>Private room</td>\n",
       "    </tr>\n",
       "    <tr>\n",
       "      <th>26</th>\n",
       "      <td>Apartment</td>\n",
       "      <td>Private room</td>\n",
       "    </tr>\n",
       "    <tr>\n",
       "      <th>27</th>\n",
       "      <td>Guest suite</td>\n",
       "      <td>Entire home/apt</td>\n",
       "    </tr>\n",
       "    <tr>\n",
       "      <th>28</th>\n",
       "      <td>House</td>\n",
       "      <td>Private room</td>\n",
       "    </tr>\n",
       "    <tr>\n",
       "      <th>29</th>\n",
       "      <td>Townhouse</td>\n",
       "      <td>Private room</td>\n",
       "    </tr>\n",
       "    <tr>\n",
       "      <th>30</th>\n",
       "      <td>House</td>\n",
       "      <td>Private room</td>\n",
       "    </tr>\n",
       "    <tr>\n",
       "      <th>31</th>\n",
       "      <td>House</td>\n",
       "      <td>Private room</td>\n",
       "    </tr>\n",
       "    <tr>\n",
       "      <th>32</th>\n",
       "      <td>Apartment</td>\n",
       "      <td>Entire home/apt</td>\n",
       "    </tr>\n",
       "    <tr>\n",
       "      <th>33</th>\n",
       "      <td>Apartment</td>\n",
       "      <td>Entire home/apt</td>\n",
       "    </tr>\n",
       "    <tr>\n",
       "      <th>34</th>\n",
       "      <td>Condominium</td>\n",
       "      <td>Private room</td>\n",
       "    </tr>\n",
       "    <tr>\n",
       "      <th>35</th>\n",
       "      <td>House</td>\n",
       "      <td>Entire home/apt</td>\n",
       "    </tr>\n",
       "    <tr>\n",
       "      <th>36</th>\n",
       "      <td>Apartment</td>\n",
       "      <td>Entire home/apt</td>\n",
       "    </tr>\n",
       "    <tr>\n",
       "      <th>37</th>\n",
       "      <td>Apartment</td>\n",
       "      <td>Entire home/apt</td>\n",
       "    </tr>\n",
       "    <tr>\n",
       "      <th>38</th>\n",
       "      <td>Guest suite</td>\n",
       "      <td>Entire home/apt</td>\n",
       "    </tr>\n",
       "    <tr>\n",
       "      <th>39</th>\n",
       "      <td>Apartment</td>\n",
       "      <td>Entire home/apt</td>\n",
       "    </tr>\n",
       "    <tr>\n",
       "      <th>40</th>\n",
       "      <td>Apartment</td>\n",
       "      <td>Entire home/apt</td>\n",
       "    </tr>\n",
       "    <tr>\n",
       "      <th>41</th>\n",
       "      <td>Apartment</td>\n",
       "      <td>Private room</td>\n",
       "    </tr>\n",
       "    <tr>\n",
       "      <th>42</th>\n",
       "      <td>House</td>\n",
       "      <td>Entire home/apt</td>\n",
       "    </tr>\n",
       "    <tr>\n",
       "      <th>43</th>\n",
       "      <td>House</td>\n",
       "      <td>Private room</td>\n",
       "    </tr>\n",
       "    <tr>\n",
       "      <th>44</th>\n",
       "      <td>House</td>\n",
       "      <td>Entire home/apt</td>\n",
       "    </tr>\n",
       "    <tr>\n",
       "      <th>45</th>\n",
       "      <td>Condominium</td>\n",
       "      <td>Entire home/apt</td>\n",
       "    </tr>\n",
       "    <tr>\n",
       "      <th>46</th>\n",
       "      <td>Apartment</td>\n",
       "      <td>Entire home/apt</td>\n",
       "    </tr>\n",
       "    <tr>\n",
       "      <th>47</th>\n",
       "      <td>House</td>\n",
       "      <td>Entire home/apt</td>\n",
       "    </tr>\n",
       "    <tr>\n",
       "      <th>48</th>\n",
       "      <td>Guest suite</td>\n",
       "      <td>Entire home/apt</td>\n",
       "    </tr>\n",
       "    <tr>\n",
       "      <th>49</th>\n",
       "      <td>Guest suite</td>\n",
       "      <td>Entire home/apt</td>\n",
       "    </tr>\n",
       "    <tr>\n",
       "      <th>50</th>\n",
       "      <td>Apartment</td>\n",
       "      <td>Entire home/apt</td>\n",
       "    </tr>\n",
       "    <tr>\n",
       "      <th>51</th>\n",
       "      <td>Guest suite</td>\n",
       "      <td>Entire home/apt</td>\n",
       "    </tr>\n",
       "    <tr>\n",
       "      <th>52</th>\n",
       "      <td>House</td>\n",
       "      <td>Private room</td>\n",
       "    </tr>\n",
       "    <tr>\n",
       "      <th>...</th>\n",
       "      <td>...</td>\n",
       "      <td>...</td>\n",
       "    </tr>\n",
       "    <tr>\n",
       "      <th>68115</th>\n",
       "      <td>Apartment</td>\n",
       "      <td>Entire home/apt</td>\n",
       "    </tr>\n",
       "    <tr>\n",
       "      <th>68116</th>\n",
       "      <td>Apartment</td>\n",
       "      <td>Private room</td>\n",
       "    </tr>\n",
       "    <tr>\n",
       "      <th>68117</th>\n",
       "      <td>Apartment</td>\n",
       "      <td>Entire home/apt</td>\n",
       "    </tr>\n",
       "    <tr>\n",
       "      <th>68118</th>\n",
       "      <td>Apartment</td>\n",
       "      <td>Private room</td>\n",
       "    </tr>\n",
       "    <tr>\n",
       "      <th>68119</th>\n",
       "      <td>Apartment</td>\n",
       "      <td>Entire home/apt</td>\n",
       "    </tr>\n",
       "    <tr>\n",
       "      <th>68120</th>\n",
       "      <td>Apartment</td>\n",
       "      <td>Private room</td>\n",
       "    </tr>\n",
       "    <tr>\n",
       "      <th>68121</th>\n",
       "      <td>Apartment</td>\n",
       "      <td>Private room</td>\n",
       "    </tr>\n",
       "    <tr>\n",
       "      <th>68122</th>\n",
       "      <td>Guesthouse</td>\n",
       "      <td>Entire home/apt</td>\n",
       "    </tr>\n",
       "    <tr>\n",
       "      <th>68123</th>\n",
       "      <td>Apartment</td>\n",
       "      <td>Private room</td>\n",
       "    </tr>\n",
       "    <tr>\n",
       "      <th>68124</th>\n",
       "      <td>House</td>\n",
       "      <td>Entire home/apt</td>\n",
       "    </tr>\n",
       "    <tr>\n",
       "      <th>68125</th>\n",
       "      <td>Condominium</td>\n",
       "      <td>Entire home/apt</td>\n",
       "    </tr>\n",
       "    <tr>\n",
       "      <th>68126</th>\n",
       "      <td>Apartment</td>\n",
       "      <td>Private room</td>\n",
       "    </tr>\n",
       "    <tr>\n",
       "      <th>68127</th>\n",
       "      <td>Apartment</td>\n",
       "      <td>Shared room</td>\n",
       "    </tr>\n",
       "    <tr>\n",
       "      <th>68128</th>\n",
       "      <td>House</td>\n",
       "      <td>Entire home/apt</td>\n",
       "    </tr>\n",
       "    <tr>\n",
       "      <th>68129</th>\n",
       "      <td>Camper/RV</td>\n",
       "      <td>Entire home/apt</td>\n",
       "    </tr>\n",
       "    <tr>\n",
       "      <th>68130</th>\n",
       "      <td>Condominium</td>\n",
       "      <td>Entire home/apt</td>\n",
       "    </tr>\n",
       "    <tr>\n",
       "      <th>68131</th>\n",
       "      <td>House</td>\n",
       "      <td>Entire home/apt</td>\n",
       "    </tr>\n",
       "    <tr>\n",
       "      <th>68132</th>\n",
       "      <td>House</td>\n",
       "      <td>Private room</td>\n",
       "    </tr>\n",
       "    <tr>\n",
       "      <th>68133</th>\n",
       "      <td>Condominium</td>\n",
       "      <td>Entire home/apt</td>\n",
       "    </tr>\n",
       "    <tr>\n",
       "      <th>68134</th>\n",
       "      <td>House</td>\n",
       "      <td>Entire home/apt</td>\n",
       "    </tr>\n",
       "    <tr>\n",
       "      <th>68135</th>\n",
       "      <td>Apartment</td>\n",
       "      <td>Entire home/apt</td>\n",
       "    </tr>\n",
       "    <tr>\n",
       "      <th>68136</th>\n",
       "      <td>Condominium</td>\n",
       "      <td>Entire home/apt</td>\n",
       "    </tr>\n",
       "    <tr>\n",
       "      <th>68137</th>\n",
       "      <td>Apartment</td>\n",
       "      <td>Entire home/apt</td>\n",
       "    </tr>\n",
       "    <tr>\n",
       "      <th>68138</th>\n",
       "      <td>Condominium</td>\n",
       "      <td>Entire home/apt</td>\n",
       "    </tr>\n",
       "    <tr>\n",
       "      <th>68139</th>\n",
       "      <td>House</td>\n",
       "      <td>Shared room</td>\n",
       "    </tr>\n",
       "    <tr>\n",
       "      <th>68140</th>\n",
       "      <td>House</td>\n",
       "      <td>Shared room</td>\n",
       "    </tr>\n",
       "    <tr>\n",
       "      <th>68141</th>\n",
       "      <td>House</td>\n",
       "      <td>Shared room</td>\n",
       "    </tr>\n",
       "    <tr>\n",
       "      <th>68142</th>\n",
       "      <td>House</td>\n",
       "      <td>Shared room</td>\n",
       "    </tr>\n",
       "    <tr>\n",
       "      <th>68143</th>\n",
       "      <td>Apartment</td>\n",
       "      <td>Entire home/apt</td>\n",
       "    </tr>\n",
       "    <tr>\n",
       "      <th>68144</th>\n",
       "      <td>Guesthouse</td>\n",
       "      <td>Entire home/apt</td>\n",
       "    </tr>\n",
       "    <tr>\n",
       "      <th>68145</th>\n",
       "      <td>House</td>\n",
       "      <td>Entire home/apt</td>\n",
       "    </tr>\n",
       "    <tr>\n",
       "      <th>68146</th>\n",
       "      <td>Apartment</td>\n",
       "      <td>Entire home/apt</td>\n",
       "    </tr>\n",
       "    <tr>\n",
       "      <th>68147</th>\n",
       "      <td>Condominium</td>\n",
       "      <td>Entire home/apt</td>\n",
       "    </tr>\n",
       "    <tr>\n",
       "      <th>68148</th>\n",
       "      <td>House</td>\n",
       "      <td>Private room</td>\n",
       "    </tr>\n",
       "    <tr>\n",
       "      <th>68149</th>\n",
       "      <td>House</td>\n",
       "      <td>Private room</td>\n",
       "    </tr>\n",
       "    <tr>\n",
       "      <th>68150</th>\n",
       "      <td>House</td>\n",
       "      <td>Private room</td>\n",
       "    </tr>\n",
       "    <tr>\n",
       "      <th>68151</th>\n",
       "      <td>Apartment</td>\n",
       "      <td>Entire home/apt</td>\n",
       "    </tr>\n",
       "    <tr>\n",
       "      <th>68152</th>\n",
       "      <td>House</td>\n",
       "      <td>Private room</td>\n",
       "    </tr>\n",
       "    <tr>\n",
       "      <th>68153</th>\n",
       "      <td>House</td>\n",
       "      <td>Entire home/apt</td>\n",
       "    </tr>\n",
       "    <tr>\n",
       "      <th>68154</th>\n",
       "      <td>Apartment</td>\n",
       "      <td>Private room</td>\n",
       "    </tr>\n",
       "    <tr>\n",
       "      <th>68155</th>\n",
       "      <td>Apartment</td>\n",
       "      <td>Entire home/apt</td>\n",
       "    </tr>\n",
       "    <tr>\n",
       "      <th>68156</th>\n",
       "      <td>Condominium</td>\n",
       "      <td>Entire home/apt</td>\n",
       "    </tr>\n",
       "    <tr>\n",
       "      <th>68157</th>\n",
       "      <td>Apartment</td>\n",
       "      <td>Entire home/apt</td>\n",
       "    </tr>\n",
       "    <tr>\n",
       "      <th>68158</th>\n",
       "      <td>Guesthouse</td>\n",
       "      <td>Entire home/apt</td>\n",
       "    </tr>\n",
       "    <tr>\n",
       "      <th>68159</th>\n",
       "      <td>Bungalow</td>\n",
       "      <td>Entire home/apt</td>\n",
       "    </tr>\n",
       "    <tr>\n",
       "      <th>68160</th>\n",
       "      <td>House</td>\n",
       "      <td>Entire home/apt</td>\n",
       "    </tr>\n",
       "    <tr>\n",
       "      <th>68161</th>\n",
       "      <td>House</td>\n",
       "      <td>Private room</td>\n",
       "    </tr>\n",
       "    <tr>\n",
       "      <th>68162</th>\n",
       "      <td>Apartment</td>\n",
       "      <td>Private room</td>\n",
       "    </tr>\n",
       "    <tr>\n",
       "      <th>68163</th>\n",
       "      <td>House</td>\n",
       "      <td>Private room</td>\n",
       "    </tr>\n",
       "    <tr>\n",
       "      <th>68164</th>\n",
       "      <td>Apartment</td>\n",
       "      <td>Private room</td>\n",
       "    </tr>\n",
       "    <tr>\n",
       "      <th>68165</th>\n",
       "      <td>House</td>\n",
       "      <td>Private room</td>\n",
       "    </tr>\n",
       "    <tr>\n",
       "      <th>68166</th>\n",
       "      <td>Apartment</td>\n",
       "      <td>Entire home/apt</td>\n",
       "    </tr>\n",
       "    <tr>\n",
       "      <th>68167</th>\n",
       "      <td>Apartment</td>\n",
       "      <td>Entire home/apt</td>\n",
       "    </tr>\n",
       "  </tbody>\n",
       "</table>\n",
       "<p>68167 rows × 2 columns</p>\n",
       "</div>"
      ],
      "text/plain": [
       "      property_type        room_type\n",
       "0         Apartment  Entire home/apt\n",
       "1         Apartment  Entire home/apt\n",
       "2         Apartment     Private room\n",
       "3         Apartment     Private room\n",
       "4             House  Entire home/apt\n",
       "5         Apartment  Entire home/apt\n",
       "6       Condominium     Private room\n",
       "7             House     Private room\n",
       "8             House  Entire home/apt\n",
       "9         Apartment  Entire home/apt\n",
       "10        Apartment  Entire home/apt\n",
       "11        Apartment  Entire home/apt\n",
       "12        Apartment     Private room\n",
       "13        Apartment     Private room\n",
       "14        Apartment     Private room\n",
       "15        Townhouse  Entire home/apt\n",
       "16        Apartment  Entire home/apt\n",
       "17      Condominium  Entire home/apt\n",
       "18        Apartment  Entire home/apt\n",
       "19        Townhouse     Private room\n",
       "20             Loft  Entire home/apt\n",
       "21        Apartment     Private room\n",
       "22      Condominium     Private room\n",
       "23            House  Entire home/apt\n",
       "24        Apartment  Entire home/apt\n",
       "25        Apartment     Private room\n",
       "26        Apartment     Private room\n",
       "27      Guest suite  Entire home/apt\n",
       "28            House     Private room\n",
       "29        Townhouse     Private room\n",
       "30            House     Private room\n",
       "31            House     Private room\n",
       "32        Apartment  Entire home/apt\n",
       "33        Apartment  Entire home/apt\n",
       "34      Condominium     Private room\n",
       "35            House  Entire home/apt\n",
       "36        Apartment  Entire home/apt\n",
       "37        Apartment  Entire home/apt\n",
       "38      Guest suite  Entire home/apt\n",
       "39        Apartment  Entire home/apt\n",
       "40        Apartment  Entire home/apt\n",
       "41        Apartment     Private room\n",
       "42            House  Entire home/apt\n",
       "43            House     Private room\n",
       "44            House  Entire home/apt\n",
       "45      Condominium  Entire home/apt\n",
       "46        Apartment  Entire home/apt\n",
       "47            House  Entire home/apt\n",
       "48      Guest suite  Entire home/apt\n",
       "49      Guest suite  Entire home/apt\n",
       "50        Apartment  Entire home/apt\n",
       "51      Guest suite  Entire home/apt\n",
       "52            House     Private room\n",
       "...             ...              ...\n",
       "68115     Apartment  Entire home/apt\n",
       "68116     Apartment     Private room\n",
       "68117     Apartment  Entire home/apt\n",
       "68118     Apartment     Private room\n",
       "68119     Apartment  Entire home/apt\n",
       "68120     Apartment     Private room\n",
       "68121     Apartment     Private room\n",
       "68122    Guesthouse  Entire home/apt\n",
       "68123     Apartment     Private room\n",
       "68124         House  Entire home/apt\n",
       "68125   Condominium  Entire home/apt\n",
       "68126     Apartment     Private room\n",
       "68127     Apartment      Shared room\n",
       "68128         House  Entire home/apt\n",
       "68129     Camper/RV  Entire home/apt\n",
       "68130   Condominium  Entire home/apt\n",
       "68131         House  Entire home/apt\n",
       "68132         House     Private room\n",
       "68133   Condominium  Entire home/apt\n",
       "68134         House  Entire home/apt\n",
       "68135     Apartment  Entire home/apt\n",
       "68136   Condominium  Entire home/apt\n",
       "68137     Apartment  Entire home/apt\n",
       "68138   Condominium  Entire home/apt\n",
       "68139         House      Shared room\n",
       "68140         House      Shared room\n",
       "68141         House      Shared room\n",
       "68142         House      Shared room\n",
       "68143     Apartment  Entire home/apt\n",
       "68144    Guesthouse  Entire home/apt\n",
       "68145         House  Entire home/apt\n",
       "68146     Apartment  Entire home/apt\n",
       "68147   Condominium  Entire home/apt\n",
       "68148         House     Private room\n",
       "68149         House     Private room\n",
       "68150         House     Private room\n",
       "68151     Apartment  Entire home/apt\n",
       "68152         House     Private room\n",
       "68153         House  Entire home/apt\n",
       "68154     Apartment     Private room\n",
       "68155     Apartment  Entire home/apt\n",
       "68156   Condominium  Entire home/apt\n",
       "68157     Apartment  Entire home/apt\n",
       "68158    Guesthouse  Entire home/apt\n",
       "68159      Bungalow  Entire home/apt\n",
       "68160         House  Entire home/apt\n",
       "68161         House     Private room\n",
       "68162     Apartment     Private room\n",
       "68163         House     Private room\n",
       "68164     Apartment     Private room\n",
       "68165         House     Private room\n",
       "68166     Apartment  Entire home/apt\n",
       "68167     Apartment  Entire home/apt\n",
       "\n",
       "[68167 rows x 2 columns]"
      ]
     },
     "execution_count": 60,
     "metadata": {},
     "output_type": "execute_result"
    }
   ],
   "source": [
    "eda[['property_type','room_type']]"
   ]
  },
  {
   "cell_type": "code",
   "execution_count": 61,
   "metadata": {},
   "outputs": [
    {
     "data": {
      "text/plain": [
       "0        170.0\n",
       "1        235.0\n",
       "2         65.0\n",
       "3         65.0\n",
       "4        685.0\n",
       "5        255.0\n",
       "6        139.0\n",
       "7        135.0\n",
       "8        265.0\n",
       "9        177.0\n",
       "10       194.0\n",
       "11       139.0\n",
       "12        85.0\n",
       "13        85.0\n",
       "14        79.0\n",
       "15       166.0\n",
       "16       215.0\n",
       "17       450.0\n",
       "18       107.0\n",
       "19       110.0\n",
       "20       125.0\n",
       "21        65.0\n",
       "22       100.0\n",
       "23       155.0\n",
       "24       180.0\n",
       "25       155.0\n",
       "26        79.0\n",
       "27       195.0\n",
       "28       150.0\n",
       "29       110.0\n",
       "30       125.0\n",
       "31       110.0\n",
       "32       450.0\n",
       "33       150.0\n",
       "34       199.0\n",
       "35       220.0\n",
       "36       155.0\n",
       "37       150.0\n",
       "38       107.0\n",
       "39        94.0\n",
       "40       108.0\n",
       "41        83.0\n",
       "42       159.0\n",
       "43       125.0\n",
       "44       136.0\n",
       "45       170.0\n",
       "46        85.0\n",
       "47        85.0\n",
       "48       150.0\n",
       "49       120.0\n",
       "50       175.0\n",
       "51       116.0\n",
       "52       125.0\n",
       "         ...  \n",
       "68115     69.0\n",
       "68116     29.0\n",
       "68117     69.0\n",
       "68118     29.0\n",
       "68119     59.0\n",
       "68120     39.0\n",
       "68121     39.0\n",
       "68122    200.0\n",
       "68123     32.0\n",
       "68124    799.0\n",
       "68125    199.0\n",
       "68126     40.0\n",
       "68127     41.0\n",
       "68128    600.0\n",
       "68129    200.0\n",
       "68130    142.0\n",
       "68131    200.0\n",
       "68132     40.0\n",
       "68133     70.0\n",
       "68134    150.0\n",
       "68135     70.0\n",
       "68136     95.0\n",
       "68137     89.0\n",
       "68138    200.0\n",
       "68139     60.0\n",
       "68140     35.0\n",
       "68141     69.0\n",
       "68142     69.0\n",
       "68143    125.0\n",
       "68144    127.0\n",
       "68145    100.0\n",
       "68146    150.0\n",
       "68147    180.0\n",
       "68148     50.0\n",
       "68149     50.0\n",
       "68150     45.0\n",
       "68151     85.0\n",
       "68152    111.0\n",
       "68153    119.0\n",
       "68154     40.0\n",
       "68155     90.0\n",
       "68156    120.0\n",
       "68157     49.0\n",
       "68158     95.0\n",
       "68159    110.0\n",
       "68160    100.0\n",
       "68161     40.0\n",
       "68162     30.0\n",
       "68163    150.0\n",
       "68164     29.0\n",
       "68165     30.0\n",
       "68166    115.0\n",
       "68167     90.0\n",
       "Name: price, Length: 68167, dtype: float64"
      ]
     },
     "execution_count": 61,
     "metadata": {},
     "output_type": "execute_result"
    }
   ],
   "source": [
    "eda['price']"
   ]
  },
  {
   "cell_type": "code",
   "execution_count": 62,
   "metadata": {},
   "outputs": [
    {
     "name": "stderr",
     "output_type": "stream",
     "text": [
      "/Users/patrickdeguzman/anaconda3/lib/python3.7/site-packages/seaborn/axisgrid.py:715: UserWarning: Using the boxplot function without specifying `order` is likely to produce an incorrect plot.\n",
      "  warnings.warn(warning)\n",
      "/Users/patrickdeguzman/anaconda3/lib/python3.7/site-packages/seaborn/axisgrid.py:720: UserWarning: Using the boxplot function without specifying `hue_order` is likely to produce an incorrect plot.\n",
      "  warnings.warn(warning)\n"
     ]
    },
    {
     "data": {
      "image/png": "[encoded data removed]",
      "text/plain": [
       "<Figure size 1080x360 with 3 Axes>"
      ]
     },
     "metadata": {
      "needs_background": "light"
     },
     "output_type": "display_data"
    }
   ],
   "source": [
    "# Plotting facet grid to compare box plots for each kind of room type. Also filtered out outlier prices (>500)\n",
    "fgrid = sns.FacetGrid(eda[eda['price']<=500],col='room_type',height=5,)\n",
    "fgrid.map(sns.boxplot,'last_review_discrete','price','host_is_superhost')\n",
    "for ax in fgrid.axes.flat: \n",
    "    plt.setp(ax.get_xticklabels(), rotation=45)\n",
    "    ax.set(xlabel=None, ylabel=None)\n",
    "\n",
    "l = plt.legend(loc='upper right')\n",
    "l.get_texts()[0].set_text('Is not Superhost')\n",
    "l.get_texts()[1].set_text('Is Superhost')\n",
    "\n",
    "fgrid.fig.tight_layout(w_pad=1)"
   ]
  },
  {
   "cell_type": "markdown",
   "metadata": {},
   "source": [
    "### Conclusion ###\n",
    "Looking at the faceted plots above, it seems that units that haven't been reviewed for a long time are priced *slightly* higher than units with more recent reviews. Also, it appears that superhosts' pricing (dark blue) is higher than non-superhosts (light blue), suggesting that hosts who are verified as [superhosts](https://www.airbnb.com/superhost) (hosts who are top-rated and most experienced) are priced higher than those who are not."
   ]
  },
  {
   "cell_type": "markdown",
   "metadata": {},
   "source": [
    "## Exploratory Question 3 ##\n",
    "*What are the strongest predictors for price?* \n",
    "\n",
    "**This question requires deeper analysis using machine learning techniques. Let's revisit this later.**"
   ]
  },
  {
   "cell_type": "markdown",
   "metadata": {},
   "source": [
    "# Preparing Data for ML\n",
    "\n",
    "We need to prepare the data so we can pass it through our ML algorithms. This entails...\n",
    "\n",
    "1. Removing or imputing missing data\n",
    "2. Encoding our categorical data\n",
    "3. Scaling our data"
   ]
  },
  {
   "cell_type": "markdown",
   "metadata": {},
   "source": [
    "## Assessing Missing Data"
   ]
  },
  {
   "cell_type": "code",
   "execution_count": 63,
   "metadata": {},
   "outputs": [],
   "source": [
    "cleaned_df = cleaned_df.drop(['last_review_discrete'],axis=1)"
   ]
  },
  {
   "cell_type": "markdown",
   "metadata": {},
   "source": [
    "### Per Column"
   ]
  },
  {
   "cell_type": "code",
   "execution_count": 64,
   "metadata": {},
   "outputs": [],
   "source": [
    "# Calculating proportion of NA values in each column\n",
    "prop_na = cleaned_df.isna().sum()/len(cleaned_df)\n",
    "prop_na_05 = prop_na[prop_na > .05]\n",
    "prop_na_05 = prop_na_05.sort_values(0,ascending=True).reset_index()"
   ]
  },
  {
   "cell_type": "markdown",
   "metadata": {},
   "source": [
    "Plotting proportion of NA values for all columns where more than 5% is missing. The six columns in red will be removed since they are missing > 30% of their values."
   ]
  },
  {
   "cell_type": "code",
   "execution_count": 65,
   "metadata": {},
   "outputs": [
    {
     "data": {
      "image/png": "[encoded data removed]",
      "text/plain": [
       "<Figure size 648x504 with 1 Axes>"
      ]
     },
     "metadata": {
      "needs_background": "light"
     },
     "output_type": "display_data"
    }
   ],
   "source": [
    "plt.figure(figsize=(9,7))\n",
    "\n",
    "barh = plt.barh(prop_na_05['index'],prop_na_05[0], alpha = 0.85, color='green')\n",
    "for i in range(7):\n",
    "    i += 1\n",
    "    barh[-i].set_color('darkred')\n",
    "\n",
    "plt.title('Proportion of NA Values')\n",
    "plt.vlines(x=.3, ymin=0, ymax=20, color='red', linestyles='dashed')\n",
    "plt.xticks(np.arange(.1,1.01,.1))\n",
    "\n",
    "plt.tight_layout()"
   ]
  },
  {
   "cell_type": "code",
   "execution_count": 66,
   "metadata": {},
   "outputs": [],
   "source": [
    "drop_na_cols = ['host_acceptance_rate','square_feet','monthly_price','weekly_price',\n",
    "                'security_deposit','host_response_rate','host_response_time']\n",
    "cleaned_df = cleaned_df.drop(drop_na_cols,axis=1)"
   ]
  },
  {
   "cell_type": "markdown",
   "metadata": {},
   "source": [
    "Taking a look at `neighbourhood_group_cleansed` as well."
   ]
  },
  {
   "cell_type": "code",
   "execution_count": 67,
   "metadata": {},
   "outputs": [
    {
     "data": {
      "text/plain": [
       "Manhattan        21790\n",
       "Brooklyn         20019\n",
       "Queens            5588\n",
       "Bronx             1048\n",
       "Staten Island      356\n",
       "Name: neighbourhood_group_cleansed, dtype: int64"
      ]
     },
     "execution_count": 67,
     "metadata": {},
     "output_type": "execute_result"
    }
   ],
   "source": [
    "cleaned_df['neighbourhood_group_cleansed'].value_counts()"
   ]
  },
  {
   "cell_type": "markdown",
   "metadata": {},
   "source": [
    "Looks like it is only relevant to the `New York` dataset, so I think it's safe to drop."
   ]
  },
  {
   "cell_type": "code",
   "execution_count": 68,
   "metadata": {},
   "outputs": [],
   "source": [
    "cleaned_df = cleaned_df.drop('neighbourhood_group_cleansed',axis=1)"
   ]
  },
  {
   "cell_type": "markdown",
   "metadata": {},
   "source": [
    "### Per Row"
   ]
  },
  {
   "cell_type": "code",
   "execution_count": 69,
   "metadata": {},
   "outputs": [],
   "source": [
    "cleaned_df['sum_na_row'] = cleaned_df.isna().sum(axis=1)"
   ]
  },
  {
   "cell_type": "code",
   "execution_count": 70,
   "metadata": {},
   "outputs": [
    {
     "data": {
      "image/png": "[encoded data removed]",
      "text/plain": [
       "<Figure size 432x288 with 1 Axes>"
      ]
     },
     "metadata": {
      "needs_background": "light"
     },
     "output_type": "display_data"
    }
   ],
   "source": [
    "plt.figure()\n",
    "sns.distplot(cleaned_df['sum_na_row'],bins=15,kde=False)\n",
    "plt.xticks(np.arange(0,21,5))\n",
    "plt.show()"
   ]
  },
  {
   "cell_type": "markdown",
   "metadata": {},
   "source": [
    "Let's take a look at the rows missing 10 or more values."
   ]
  },
  {
   "cell_type": "code",
   "execution_count": 71,
   "metadata": {
    "scrolled": true
   },
   "outputs": [
    {
     "data": {
      "text/html": [
       "<div>\n",
       "<style scoped>\n",
       "    .dataframe tbody tr th:only-of-type {\n",
       "        vertical-align: middle;\n",
       "    }\n",
       "\n",
       "    .dataframe tbody tr th {\n",
       "        vertical-align: top;\n",
       "    }\n",
       "\n",
       "    .dataframe thead th {\n",
       "        text-align: right;\n",
       "    }\n",
       "</style>\n",
       "<table border=\"1\" class=\"dataframe\">\n",
       "  <thead>\n",
       "    <tr style=\"text-align: right;\">\n",
       "      <th></th>\n",
       "      <th>130</th>\n",
       "      <th>255</th>\n",
       "      <th>407</th>\n",
       "      <th>492</th>\n",
       "      <th>539</th>\n",
       "      <th>642</th>\n",
       "      <th>782</th>\n",
       "      <th>793</th>\n",
       "      <th>892</th>\n",
       "      <th>940</th>\n",
       "      <th>...</th>\n",
       "      <th>68158</th>\n",
       "      <th>68159</th>\n",
       "      <th>68160</th>\n",
       "      <th>68161</th>\n",
       "      <th>68162</th>\n",
       "      <th>68163</th>\n",
       "      <th>68164</th>\n",
       "      <th>68165</th>\n",
       "      <th>68166</th>\n",
       "      <th>68167</th>\n",
       "    </tr>\n",
       "  </thead>\n",
       "  <tbody>\n",
       "    <tr>\n",
       "      <th>host_listings_count</th>\n",
       "      <td>2</td>\n",
       "      <td>1</td>\n",
       "      <td>2</td>\n",
       "      <td>1</td>\n",
       "      <td>1</td>\n",
       "      <td>1</td>\n",
       "      <td>4</td>\n",
       "      <td>0</td>\n",
       "      <td>1</td>\n",
       "      <td>1</td>\n",
       "      <td>...</td>\n",
       "      <td>3</td>\n",
       "      <td>6</td>\n",
       "      <td>1</td>\n",
       "      <td>1</td>\n",
       "      <td>2</td>\n",
       "      <td>1</td>\n",
       "      <td>2</td>\n",
       "      <td>2</td>\n",
       "      <td>1</td>\n",
       "      <td>1</td>\n",
       "    </tr>\n",
       "    <tr>\n",
       "      <th>host_total_listings_count</th>\n",
       "      <td>2</td>\n",
       "      <td>1</td>\n",
       "      <td>2</td>\n",
       "      <td>1</td>\n",
       "      <td>1</td>\n",
       "      <td>1</td>\n",
       "      <td>4</td>\n",
       "      <td>0</td>\n",
       "      <td>1</td>\n",
       "      <td>1</td>\n",
       "      <td>...</td>\n",
       "      <td>3</td>\n",
       "      <td>6</td>\n",
       "      <td>1</td>\n",
       "      <td>1</td>\n",
       "      <td>2</td>\n",
       "      <td>1</td>\n",
       "      <td>2</td>\n",
       "      <td>2</td>\n",
       "      <td>1</td>\n",
       "      <td>1</td>\n",
       "    </tr>\n",
       "    <tr>\n",
       "      <th>bathrooms</th>\n",
       "      <td>3.5</td>\n",
       "      <td>1</td>\n",
       "      <td>1.5</td>\n",
       "      <td>2</td>\n",
       "      <td>1</td>\n",
       "      <td>1.5</td>\n",
       "      <td>2</td>\n",
       "      <td>1</td>\n",
       "      <td>1</td>\n",
       "      <td>1</td>\n",
       "      <td>...</td>\n",
       "      <td>1</td>\n",
       "      <td>1</td>\n",
       "      <td>2</td>\n",
       "      <td>1</td>\n",
       "      <td>1</td>\n",
       "      <td>1</td>\n",
       "      <td>1</td>\n",
       "      <td>1.5</td>\n",
       "      <td>1</td>\n",
       "      <td>NaN</td>\n",
       "    </tr>\n",
       "    <tr>\n",
       "      <th>bedrooms</th>\n",
       "      <td>4</td>\n",
       "      <td>1</td>\n",
       "      <td>1</td>\n",
       "      <td>2</td>\n",
       "      <td>0</td>\n",
       "      <td>1</td>\n",
       "      <td>2</td>\n",
       "      <td>4</td>\n",
       "      <td>0</td>\n",
       "      <td>1</td>\n",
       "      <td>...</td>\n",
       "      <td>0</td>\n",
       "      <td>1</td>\n",
       "      <td>2</td>\n",
       "      <td>1</td>\n",
       "      <td>1</td>\n",
       "      <td>1</td>\n",
       "      <td>1</td>\n",
       "      <td>1</td>\n",
       "      <td>1</td>\n",
       "      <td>1</td>\n",
       "    </tr>\n",
       "    <tr>\n",
       "      <th>beds</th>\n",
       "      <td>5</td>\n",
       "      <td>1</td>\n",
       "      <td>1</td>\n",
       "      <td>2</td>\n",
       "      <td>1</td>\n",
       "      <td>1</td>\n",
       "      <td>3</td>\n",
       "      <td>4</td>\n",
       "      <td>1</td>\n",
       "      <td>2</td>\n",
       "      <td>...</td>\n",
       "      <td>1</td>\n",
       "      <td>1</td>\n",
       "      <td>2</td>\n",
       "      <td>1</td>\n",
       "      <td>1</td>\n",
       "      <td>1</td>\n",
       "      <td>1</td>\n",
       "      <td>1</td>\n",
       "      <td>2</td>\n",
       "      <td>1</td>\n",
       "    </tr>\n",
       "    <tr>\n",
       "      <th>review_scores_rating</th>\n",
       "      <td>NaN</td>\n",
       "      <td>NaN</td>\n",
       "      <td>NaN</td>\n",
       "      <td>NaN</td>\n",
       "      <td>NaN</td>\n",
       "      <td>NaN</td>\n",
       "      <td>NaN</td>\n",
       "      <td>NaN</td>\n",
       "      <td>NaN</td>\n",
       "      <td>NaN</td>\n",
       "      <td>...</td>\n",
       "      <td>NaN</td>\n",
       "      <td>NaN</td>\n",
       "      <td>NaN</td>\n",
       "      <td>NaN</td>\n",
       "      <td>NaN</td>\n",
       "      <td>NaN</td>\n",
       "      <td>NaN</td>\n",
       "      <td>NaN</td>\n",
       "      <td>NaN</td>\n",
       "      <td>NaN</td>\n",
       "    </tr>\n",
       "    <tr>\n",
       "      <th>review_scores_accuracy</th>\n",
       "      <td>NaN</td>\n",
       "      <td>NaN</td>\n",
       "      <td>NaN</td>\n",
       "      <td>NaN</td>\n",
       "      <td>NaN</td>\n",
       "      <td>NaN</td>\n",
       "      <td>NaN</td>\n",
       "      <td>NaN</td>\n",
       "      <td>NaN</td>\n",
       "      <td>NaN</td>\n",
       "      <td>...</td>\n",
       "      <td>NaN</td>\n",
       "      <td>NaN</td>\n",
       "      <td>NaN</td>\n",
       "      <td>NaN</td>\n",
       "      <td>NaN</td>\n",
       "      <td>NaN</td>\n",
       "      <td>NaN</td>\n",
       "      <td>NaN</td>\n",
       "      <td>NaN</td>\n",
       "      <td>NaN</td>\n",
       "    </tr>\n",
       "    <tr>\n",
       "      <th>review_scores_cleanliness</th>\n",
       "      <td>NaN</td>\n",
       "      <td>NaN</td>\n",
       "      <td>NaN</td>\n",
       "      <td>NaN</td>\n",
       "      <td>NaN</td>\n",
       "      <td>NaN</td>\n",
       "      <td>NaN</td>\n",
       "      <td>NaN</td>\n",
       "      <td>NaN</td>\n",
       "      <td>NaN</td>\n",
       "      <td>...</td>\n",
       "      <td>NaN</td>\n",
       "      <td>NaN</td>\n",
       "      <td>NaN</td>\n",
       "      <td>NaN</td>\n",
       "      <td>NaN</td>\n",
       "      <td>NaN</td>\n",
       "      <td>NaN</td>\n",
       "      <td>NaN</td>\n",
       "      <td>NaN</td>\n",
       "      <td>NaN</td>\n",
       "    </tr>\n",
       "    <tr>\n",
       "      <th>review_scores_checkin</th>\n",
       "      <td>NaN</td>\n",
       "      <td>NaN</td>\n",
       "      <td>NaN</td>\n",
       "      <td>NaN</td>\n",
       "      <td>NaN</td>\n",
       "      <td>NaN</td>\n",
       "      <td>NaN</td>\n",
       "      <td>NaN</td>\n",
       "      <td>NaN</td>\n",
       "      <td>NaN</td>\n",
       "      <td>...</td>\n",
       "      <td>NaN</td>\n",
       "      <td>NaN</td>\n",
       "      <td>NaN</td>\n",
       "      <td>NaN</td>\n",
       "      <td>NaN</td>\n",
       "      <td>NaN</td>\n",
       "      <td>NaN</td>\n",
       "      <td>NaN</td>\n",
       "      <td>NaN</td>\n",
       "      <td>NaN</td>\n",
       "    </tr>\n",
       "    <tr>\n",
       "      <th>review_scores_communication</th>\n",
       "      <td>NaN</td>\n",
       "      <td>NaN</td>\n",
       "      <td>NaN</td>\n",
       "      <td>NaN</td>\n",
       "      <td>NaN</td>\n",
       "      <td>NaN</td>\n",
       "      <td>NaN</td>\n",
       "      <td>NaN</td>\n",
       "      <td>NaN</td>\n",
       "      <td>NaN</td>\n",
       "      <td>...</td>\n",
       "      <td>NaN</td>\n",
       "      <td>NaN</td>\n",
       "      <td>NaN</td>\n",
       "      <td>NaN</td>\n",
       "      <td>NaN</td>\n",
       "      <td>NaN</td>\n",
       "      <td>NaN</td>\n",
       "      <td>NaN</td>\n",
       "      <td>NaN</td>\n",
       "      <td>NaN</td>\n",
       "    </tr>\n",
       "    <tr>\n",
       "      <th>review_scores_location</th>\n",
       "      <td>NaN</td>\n",
       "      <td>NaN</td>\n",
       "      <td>NaN</td>\n",
       "      <td>NaN</td>\n",
       "      <td>NaN</td>\n",
       "      <td>NaN</td>\n",
       "      <td>NaN</td>\n",
       "      <td>NaN</td>\n",
       "      <td>NaN</td>\n",
       "      <td>NaN</td>\n",
       "      <td>...</td>\n",
       "      <td>NaN</td>\n",
       "      <td>NaN</td>\n",
       "      <td>NaN</td>\n",
       "      <td>NaN</td>\n",
       "      <td>NaN</td>\n",
       "      <td>NaN</td>\n",
       "      <td>NaN</td>\n",
       "      <td>NaN</td>\n",
       "      <td>NaN</td>\n",
       "      <td>NaN</td>\n",
       "    </tr>\n",
       "    <tr>\n",
       "      <th>review_scores_value</th>\n",
       "      <td>NaN</td>\n",
       "      <td>NaN</td>\n",
       "      <td>NaN</td>\n",
       "      <td>NaN</td>\n",
       "      <td>NaN</td>\n",
       "      <td>NaN</td>\n",
       "      <td>NaN</td>\n",
       "      <td>NaN</td>\n",
       "      <td>NaN</td>\n",
       "      <td>NaN</td>\n",
       "      <td>...</td>\n",
       "      <td>NaN</td>\n",
       "      <td>NaN</td>\n",
       "      <td>NaN</td>\n",
       "      <td>NaN</td>\n",
       "      <td>NaN</td>\n",
       "      <td>NaN</td>\n",
       "      <td>NaN</td>\n",
       "      <td>NaN</td>\n",
       "      <td>NaN</td>\n",
       "      <td>NaN</td>\n",
       "    </tr>\n",
       "    <tr>\n",
       "      <th>reviews_per_month</th>\n",
       "      <td>NaN</td>\n",
       "      <td>NaN</td>\n",
       "      <td>NaN</td>\n",
       "      <td>NaN</td>\n",
       "      <td>NaN</td>\n",
       "      <td>NaN</td>\n",
       "      <td>NaN</td>\n",
       "      <td>NaN</td>\n",
       "      <td>NaN</td>\n",
       "      <td>NaN</td>\n",
       "      <td>...</td>\n",
       "      <td>NaN</td>\n",
       "      <td>NaN</td>\n",
       "      <td>NaN</td>\n",
       "      <td>NaN</td>\n",
       "      <td>NaN</td>\n",
       "      <td>NaN</td>\n",
       "      <td>NaN</td>\n",
       "      <td>NaN</td>\n",
       "      <td>NaN</td>\n",
       "      <td>NaN</td>\n",
       "    </tr>\n",
       "    <tr>\n",
       "      <th>cleaning_fee</th>\n",
       "      <td>0</td>\n",
       "      <td>NaN</td>\n",
       "      <td>NaN</td>\n",
       "      <td>NaN</td>\n",
       "      <td>250</td>\n",
       "      <td>80</td>\n",
       "      <td>200</td>\n",
       "      <td>150</td>\n",
       "      <td>100</td>\n",
       "      <td>NaN</td>\n",
       "      <td>...</td>\n",
       "      <td>40</td>\n",
       "      <td>150</td>\n",
       "      <td>NaN</td>\n",
       "      <td>NaN</td>\n",
       "      <td>NaN</td>\n",
       "      <td>NaN</td>\n",
       "      <td>NaN</td>\n",
       "      <td>NaN</td>\n",
       "      <td>50</td>\n",
       "      <td>NaN</td>\n",
       "    </tr>\n",
       "    <tr>\n",
       "      <th>host_since_days</th>\n",
       "      <td>2970</td>\n",
       "      <td>2702</td>\n",
       "      <td>2503</td>\n",
       "      <td>2383</td>\n",
       "      <td>2316</td>\n",
       "      <td>2225</td>\n",
       "      <td>3196</td>\n",
       "      <td>2121</td>\n",
       "      <td>2045</td>\n",
       "      <td>2010</td>\n",
       "      <td>...</td>\n",
       "      <td>1725</td>\n",
       "      <td>558</td>\n",
       "      <td>774</td>\n",
       "      <td>1387</td>\n",
       "      <td>1344</td>\n",
       "      <td>64</td>\n",
       "      <td>1344</td>\n",
       "      <td>765</td>\n",
       "      <td>76</td>\n",
       "      <td>3210</td>\n",
       "    </tr>\n",
       "    <tr>\n",
       "      <th>first_review_days</th>\n",
       "      <td>NaN</td>\n",
       "      <td>NaN</td>\n",
       "      <td>NaN</td>\n",
       "      <td>NaN</td>\n",
       "      <td>NaN</td>\n",
       "      <td>NaN</td>\n",
       "      <td>NaN</td>\n",
       "      <td>NaN</td>\n",
       "      <td>NaN</td>\n",
       "      <td>NaN</td>\n",
       "      <td>...</td>\n",
       "      <td>NaN</td>\n",
       "      <td>NaN</td>\n",
       "      <td>NaN</td>\n",
       "      <td>NaN</td>\n",
       "      <td>NaN</td>\n",
       "      <td>NaN</td>\n",
       "      <td>NaN</td>\n",
       "      <td>NaN</td>\n",
       "      <td>NaN</td>\n",
       "      <td>NaN</td>\n",
       "    </tr>\n",
       "    <tr>\n",
       "      <th>last_review_days</th>\n",
       "      <td>NaN</td>\n",
       "      <td>NaN</td>\n",
       "      <td>NaN</td>\n",
       "      <td>NaN</td>\n",
       "      <td>NaN</td>\n",
       "      <td>NaN</td>\n",
       "      <td>NaN</td>\n",
       "      <td>NaN</td>\n",
       "      <td>NaN</td>\n",
       "      <td>NaN</td>\n",
       "      <td>...</td>\n",
       "      <td>NaN</td>\n",
       "      <td>NaN</td>\n",
       "      <td>NaN</td>\n",
       "      <td>NaN</td>\n",
       "      <td>NaN</td>\n",
       "      <td>NaN</td>\n",
       "      <td>NaN</td>\n",
       "      <td>NaN</td>\n",
       "      <td>NaN</td>\n",
       "      <td>NaN</td>\n",
       "    </tr>\n",
       "    <tr>\n",
       "      <th>host_is_superhost</th>\n",
       "      <td>0</td>\n",
       "      <td>0</td>\n",
       "      <td>0</td>\n",
       "      <td>0</td>\n",
       "      <td>0</td>\n",
       "      <td>0</td>\n",
       "      <td>1</td>\n",
       "      <td>0</td>\n",
       "      <td>0</td>\n",
       "      <td>0</td>\n",
       "      <td>...</td>\n",
       "      <td>1</td>\n",
       "      <td>0</td>\n",
       "      <td>0</td>\n",
       "      <td>0</td>\n",
       "      <td>0</td>\n",
       "      <td>0</td>\n",
       "      <td>0</td>\n",
       "      <td>0</td>\n",
       "      <td>0</td>\n",
       "      <td>0</td>\n",
       "    </tr>\n",
       "    <tr>\n",
       "      <th>host_neighbourhood</th>\n",
       "      <td>Richmond District</td>\n",
       "      <td>Excelsior</td>\n",
       "      <td>Western Addition/NOPA</td>\n",
       "      <td>Nob Hill</td>\n",
       "      <td>NaN</td>\n",
       "      <td>Dogpatch</td>\n",
       "      <td>Richmond District</td>\n",
       "      <td>Bernal Heights</td>\n",
       "      <td>NaN</td>\n",
       "      <td>Sunnyside</td>\n",
       "      <td>...</td>\n",
       "      <td>South Lamar</td>\n",
       "      <td>Holly</td>\n",
       "      <td>NaN</td>\n",
       "      <td>SW Williamson Co.</td>\n",
       "      <td>Hancock</td>\n",
       "      <td>Zilker</td>\n",
       "      <td>Hancock</td>\n",
       "      <td>NaN</td>\n",
       "      <td>Travis Heights</td>\n",
       "      <td>NaN</td>\n",
       "    </tr>\n",
       "    <tr>\n",
       "      <th>host_has_profile_pic</th>\n",
       "      <td>1</td>\n",
       "      <td>1</td>\n",
       "      <td>1</td>\n",
       "      <td>1</td>\n",
       "      <td>1</td>\n",
       "      <td>1</td>\n",
       "      <td>1</td>\n",
       "      <td>1</td>\n",
       "      <td>1</td>\n",
       "      <td>1</td>\n",
       "      <td>...</td>\n",
       "      <td>1</td>\n",
       "      <td>1</td>\n",
       "      <td>1</td>\n",
       "      <td>1</td>\n",
       "      <td>1</td>\n",
       "      <td>1</td>\n",
       "      <td>1</td>\n",
       "      <td>1</td>\n",
       "      <td>1</td>\n",
       "      <td>1</td>\n",
       "    </tr>\n",
       "    <tr>\n",
       "      <th>host_identity_verified</th>\n",
       "      <td>0</td>\n",
       "      <td>0</td>\n",
       "      <td>1</td>\n",
       "      <td>0</td>\n",
       "      <td>1</td>\n",
       "      <td>1</td>\n",
       "      <td>1</td>\n",
       "      <td>0</td>\n",
       "      <td>1</td>\n",
       "      <td>0</td>\n",
       "      <td>...</td>\n",
       "      <td>0</td>\n",
       "      <td>0</td>\n",
       "      <td>1</td>\n",
       "      <td>0</td>\n",
       "      <td>1</td>\n",
       "      <td>0</td>\n",
       "      <td>1</td>\n",
       "      <td>0</td>\n",
       "      <td>0</td>\n",
       "      <td>1</td>\n",
       "    </tr>\n",
       "    <tr>\n",
       "      <th>neighbourhood</th>\n",
       "      <td>Richmond District</td>\n",
       "      <td>Excelsior</td>\n",
       "      <td>Alamo Square</td>\n",
       "      <td>Nob Hill</td>\n",
       "      <td>Western Addition/NOPA</td>\n",
       "      <td>Dogpatch</td>\n",
       "      <td>Twin Peaks</td>\n",
       "      <td>Bernal Heights</td>\n",
       "      <td>Western Addition/NOPA</td>\n",
       "      <td>Sunnyside</td>\n",
       "      <td>...</td>\n",
       "      <td>North Loop</td>\n",
       "      <td>South Lamar</td>\n",
       "      <td>West Congress</td>\n",
       "      <td>SW Williamson Co.</td>\n",
       "      <td>Hancock</td>\n",
       "      <td>Zilker</td>\n",
       "      <td>Hancock</td>\n",
       "      <td>NaN</td>\n",
       "      <td>South Congress</td>\n",
       "      <td>University of Texas</td>\n",
       "    </tr>\n",
       "    <tr>\n",
       "      <th>state</th>\n",
       "      <td>CA</td>\n",
       "      <td>CA</td>\n",
       "      <td>CA</td>\n",
       "      <td>CA</td>\n",
       "      <td>CA</td>\n",
       "      <td>CA</td>\n",
       "      <td>CA</td>\n",
       "      <td>CA</td>\n",
       "      <td>CA</td>\n",
       "      <td>CA</td>\n",
       "      <td>...</td>\n",
       "      <td>TX</td>\n",
       "      <td>TX</td>\n",
       "      <td>TX</td>\n",
       "      <td>TX</td>\n",
       "      <td>TX</td>\n",
       "      <td>TX</td>\n",
       "      <td>TX</td>\n",
       "      <td>TX</td>\n",
       "      <td>TX</td>\n",
       "      <td>TX</td>\n",
       "    </tr>\n",
       "  </tbody>\n",
       "</table>\n",
       "<p>23 rows × 14140 columns</p>\n",
       "</div>"
      ],
      "text/plain": [
       "                                         130        255    \\\n",
       "host_listings_count                          2          1   \n",
       "host_total_listings_count                    2          1   \n",
       "bathrooms                                  3.5          1   \n",
       "bedrooms                                     4          1   \n",
       "beds                                         5          1   \n",
       "review_scores_rating                       NaN        NaN   \n",
       "review_scores_accuracy                     NaN        NaN   \n",
       "review_scores_cleanliness                  NaN        NaN   \n",
       "review_scores_checkin                      NaN        NaN   \n",
       "review_scores_communication                NaN        NaN   \n",
       "review_scores_location                     NaN        NaN   \n",
       "review_scores_value                        NaN        NaN   \n",
       "reviews_per_month                          NaN        NaN   \n",
       "cleaning_fee                                 0        NaN   \n",
       "host_since_days                           2970       2702   \n",
       "first_review_days                          NaN        NaN   \n",
       "last_review_days                           NaN        NaN   \n",
       "host_is_superhost                            0          0   \n",
       "host_neighbourhood           Richmond District  Excelsior   \n",
       "host_has_profile_pic                         1          1   \n",
       "host_identity_verified                       0          0   \n",
       "neighbourhood                Richmond District  Excelsior   \n",
       "state                                       CA         CA   \n",
       "\n",
       "                                             407       492    \\\n",
       "host_listings_count                              2         1   \n",
       "host_total_listings_count                        2         1   \n",
       "bathrooms                                      1.5         2   \n",
       "bedrooms                                         1         2   \n",
       "beds                                             1         2   \n",
       "review_scores_rating                           NaN       NaN   \n",
       "review_scores_accuracy                         NaN       NaN   \n",
       "review_scores_cleanliness                      NaN       NaN   \n",
       "review_scores_checkin                          NaN       NaN   \n",
       "review_scores_communication                    NaN       NaN   \n",
       "review_scores_location                         NaN       NaN   \n",
       "review_scores_value                            NaN       NaN   \n",
       "reviews_per_month                              NaN       NaN   \n",
       "cleaning_fee                                   NaN       NaN   \n",
       "host_since_days                               2503      2383   \n",
       "first_review_days                              NaN       NaN   \n",
       "last_review_days                               NaN       NaN   \n",
       "host_is_superhost                                0         0   \n",
       "host_neighbourhood           Western Addition/NOPA  Nob Hill   \n",
       "host_has_profile_pic                             1         1   \n",
       "host_identity_verified                           1         0   \n",
       "neighbourhood                         Alamo Square  Nob Hill   \n",
       "state                                           CA        CA   \n",
       "\n",
       "                                             539       642    \\\n",
       "host_listings_count                              1         1   \n",
       "host_total_listings_count                        1         1   \n",
       "bathrooms                                        1       1.5   \n",
       "bedrooms                                         0         1   \n",
       "beds                                             1         1   \n",
       "review_scores_rating                           NaN       NaN   \n",
       "review_scores_accuracy                         NaN       NaN   \n",
       "review_scores_cleanliness                      NaN       NaN   \n",
       "review_scores_checkin                          NaN       NaN   \n",
       "review_scores_communication                    NaN       NaN   \n",
       "review_scores_location                         NaN       NaN   \n",
       "review_scores_value                            NaN       NaN   \n",
       "reviews_per_month                              NaN       NaN   \n",
       "cleaning_fee                                   250        80   \n",
       "host_since_days                               2316      2225   \n",
       "first_review_days                              NaN       NaN   \n",
       "last_review_days                               NaN       NaN   \n",
       "host_is_superhost                                0         0   \n",
       "host_neighbourhood                             NaN  Dogpatch   \n",
       "host_has_profile_pic                             1         1   \n",
       "host_identity_verified                           1         1   \n",
       "neighbourhood                Western Addition/NOPA  Dogpatch   \n",
       "state                                           CA        CA   \n",
       "\n",
       "                                         782             793    \\\n",
       "host_listings_count                          4               0   \n",
       "host_total_listings_count                    4               0   \n",
       "bathrooms                                    2               1   \n",
       "bedrooms                                     2               4   \n",
       "beds                                         3               4   \n",
       "review_scores_rating                       NaN             NaN   \n",
       "review_scores_accuracy                     NaN             NaN   \n",
       "review_scores_cleanliness                  NaN             NaN   \n",
       "review_scores_checkin                      NaN             NaN   \n",
       "review_scores_communication                NaN             NaN   \n",
       "review_scores_location                     NaN             NaN   \n",
       "review_scores_value                        NaN             NaN   \n",
       "reviews_per_month                          NaN             NaN   \n",
       "cleaning_fee                               200             150   \n",
       "host_since_days                           3196            2121   \n",
       "first_review_days                          NaN             NaN   \n",
       "last_review_days                           NaN             NaN   \n",
       "host_is_superhost                            1               0   \n",
       "host_neighbourhood           Richmond District  Bernal Heights   \n",
       "host_has_profile_pic                         1               1   \n",
       "host_identity_verified                       1               0   \n",
       "neighbourhood                       Twin Peaks  Bernal Heights   \n",
       "state                                       CA              CA   \n",
       "\n",
       "                                             892        940    ...  \\\n",
       "host_listings_count                              1          1  ...   \n",
       "host_total_listings_count                        1          1  ...   \n",
       "bathrooms                                        1          1  ...   \n",
       "bedrooms                                         0          1  ...   \n",
       "beds                                             1          2  ...   \n",
       "review_scores_rating                           NaN        NaN  ...   \n",
       "review_scores_accuracy                         NaN        NaN  ...   \n",
       "review_scores_cleanliness                      NaN        NaN  ...   \n",
       "review_scores_checkin                          NaN        NaN  ...   \n",
       "review_scores_communication                    NaN        NaN  ...   \n",
       "review_scores_location                         NaN        NaN  ...   \n",
       "review_scores_value                            NaN        NaN  ...   \n",
       "reviews_per_month                              NaN        NaN  ...   \n",
       "cleaning_fee                                   100        NaN  ...   \n",
       "host_since_days                               2045       2010  ...   \n",
       "first_review_days                              NaN        NaN  ...   \n",
       "last_review_days                               NaN        NaN  ...   \n",
       "host_is_superhost                                0          0  ...   \n",
       "host_neighbourhood                             NaN  Sunnyside  ...   \n",
       "host_has_profile_pic                             1          1  ...   \n",
       "host_identity_verified                           1          0  ...   \n",
       "neighbourhood                Western Addition/NOPA  Sunnyside  ...   \n",
       "state                                           CA         CA  ...   \n",
       "\n",
       "                                   68158        68159          68160  \\\n",
       "host_listings_count                    3            6              1   \n",
       "host_total_listings_count              3            6              1   \n",
       "bathrooms                              1            1              2   \n",
       "bedrooms                               0            1              2   \n",
       "beds                                   1            1              2   \n",
       "review_scores_rating                 NaN          NaN            NaN   \n",
       "review_scores_accuracy               NaN          NaN            NaN   \n",
       "review_scores_cleanliness            NaN          NaN            NaN   \n",
       "review_scores_checkin                NaN          NaN            NaN   \n",
       "review_scores_communication          NaN          NaN            NaN   \n",
       "review_scores_location               NaN          NaN            NaN   \n",
       "review_scores_value                  NaN          NaN            NaN   \n",
       "reviews_per_month                    NaN          NaN            NaN   \n",
       "cleaning_fee                          40          150            NaN   \n",
       "host_since_days                     1725          558            774   \n",
       "first_review_days                    NaN          NaN            NaN   \n",
       "last_review_days                     NaN          NaN            NaN   \n",
       "host_is_superhost                      1            0              0   \n",
       "host_neighbourhood           South Lamar        Holly            NaN   \n",
       "host_has_profile_pic                   1            1              1   \n",
       "host_identity_verified                 0            0              1   \n",
       "neighbourhood                 North Loop  South Lamar  West Congress   \n",
       "state                                 TX           TX             TX   \n",
       "\n",
       "                                         68161    68162   68163    68164  \\\n",
       "host_listings_count                          1        2       1        2   \n",
       "host_total_listings_count                    1        2       1        2   \n",
       "bathrooms                                    1        1       1        1   \n",
       "bedrooms                                     1        1       1        1   \n",
       "beds                                         1        1       1        1   \n",
       "review_scores_rating                       NaN      NaN     NaN      NaN   \n",
       "review_scores_accuracy                     NaN      NaN     NaN      NaN   \n",
       "review_scores_cleanliness                  NaN      NaN     NaN      NaN   \n",
       "review_scores_checkin                      NaN      NaN     NaN      NaN   \n",
       "review_scores_communication                NaN      NaN     NaN      NaN   \n",
       "review_scores_location                     NaN      NaN     NaN      NaN   \n",
       "review_scores_value                        NaN      NaN     NaN      NaN   \n",
       "reviews_per_month                          NaN      NaN     NaN      NaN   \n",
       "cleaning_fee                               NaN      NaN     NaN      NaN   \n",
       "host_since_days                           1387     1344      64     1344   \n",
       "first_review_days                          NaN      NaN     NaN      NaN   \n",
       "last_review_days                           NaN      NaN     NaN      NaN   \n",
       "host_is_superhost                            0        0       0        0   \n",
       "host_neighbourhood           SW Williamson Co.  Hancock  Zilker  Hancock   \n",
       "host_has_profile_pic                         1        1       1        1   \n",
       "host_identity_verified                       0        1       0        1   \n",
       "neighbourhood                SW Williamson Co.  Hancock  Zilker  Hancock   \n",
       "state                                       TX       TX      TX       TX   \n",
       "\n",
       "                            68165           68166                68167  \n",
       "host_listings_count             2               1                    1  \n",
       "host_total_listings_count       2               1                    1  \n",
       "bathrooms                     1.5               1                  NaN  \n",
       "bedrooms                        1               1                    1  \n",
       "beds                            1               2                    1  \n",
       "review_scores_rating          NaN             NaN                  NaN  \n",
       "review_scores_accuracy        NaN             NaN                  NaN  \n",
       "review_scores_cleanliness     NaN             NaN                  NaN  \n",
       "review_scores_checkin         NaN             NaN                  NaN  \n",
       "review_scores_communication   NaN             NaN                  NaN  \n",
       "review_scores_location        NaN             NaN                  NaN  \n",
       "review_scores_value           NaN             NaN                  NaN  \n",
       "reviews_per_month             NaN             NaN                  NaN  \n",
       "cleaning_fee                  NaN              50                  NaN  \n",
       "host_since_days               765              76                 3210  \n",
       "first_review_days             NaN             NaN                  NaN  \n",
       "last_review_days              NaN             NaN                  NaN  \n",
       "host_is_superhost               0               0                    0  \n",
       "host_neighbourhood            NaN  Travis Heights                  NaN  \n",
       "host_has_profile_pic            1               1                    1  \n",
       "host_identity_verified          0               0                    1  \n",
       "neighbourhood                 NaN  South Congress  University of Texas  \n",
       "state                          TX              TX                   TX  \n",
       "\n",
       "[23 rows x 14140 columns]"
      ]
     },
     "execution_count": 71,
     "metadata": {},
     "output_type": "execute_result"
    }
   ],
   "source": [
    "temp = cleaned_df[cleaned_df['sum_na_row']>=10].isna().any().reset_index()\n",
    "na_cols = temp[temp[0]==True]['index'].values\n",
    "cleaned_df[cleaned_df['sum_na_row']>=10][na_cols].transpose()"
   ]
  },
  {
   "cell_type": "markdown",
   "metadata": {},
   "source": [
    "NA values related to reviews are most likely missing because this particular unit does not have any reviews. This could be useful information, so I'll encode these values as 0 so they're different from the values that we do have.\n",
    "\n",
    "Although 0 may be misleading, I believe filling with 0 is better than simply removing the rows or imputing based on other values to maintain its variance from units have reviews."
   ]
  },
  {
   "cell_type": "code",
   "execution_count": 72,
   "metadata": {},
   "outputs": [],
   "source": [
    "review_cols = ['review_scores_rating','review_scores_accuracy','review_scores_cleanliness',\n",
    "              'review_scores_checkin','review_scores_communication','review_scores_location',\n",
    "              'review_scores_value','reviews_per_month','first_review_days','last_review_days']"
   ]
  },
  {
   "cell_type": "code",
   "execution_count": 73,
   "metadata": {},
   "outputs": [
    {
     "data": {
      "text/html": [
       "<div>\n",
       "<style scoped>\n",
       "    .dataframe tbody tr th:only-of-type {\n",
       "        vertical-align: middle;\n",
       "    }\n",
       "\n",
       "    .dataframe tbody tr th {\n",
       "        vertical-align: top;\n",
       "    }\n",
       "\n",
       "    .dataframe thead th {\n",
       "        text-align: right;\n",
       "    }\n",
       "</style>\n",
       "<table border=\"1\" class=\"dataframe\">\n",
       "  <thead>\n",
       "    <tr style=\"text-align: right;\">\n",
       "      <th></th>\n",
       "      <th>review_scores_rating</th>\n",
       "      <th>review_scores_accuracy</th>\n",
       "      <th>review_scores_cleanliness</th>\n",
       "      <th>review_scores_checkin</th>\n",
       "      <th>review_scores_communication</th>\n",
       "      <th>review_scores_location</th>\n",
       "      <th>review_scores_value</th>\n",
       "      <th>reviews_per_month</th>\n",
       "      <th>first_review_days</th>\n",
       "      <th>last_review_days</th>\n",
       "    </tr>\n",
       "  </thead>\n",
       "  <tbody>\n",
       "    <tr>\n",
       "      <th>0</th>\n",
       "      <td>97.0</td>\n",
       "      <td>10.0</td>\n",
       "      <td>10.0</td>\n",
       "      <td>10.0</td>\n",
       "      <td>10.0</td>\n",
       "      <td>10.0</td>\n",
       "      <td>9.0</td>\n",
       "      <td>1.60</td>\n",
       "      <td>3645.0</td>\n",
       "      <td>61.0</td>\n",
       "    </tr>\n",
       "    <tr>\n",
       "      <th>1</th>\n",
       "      <td>98.0</td>\n",
       "      <td>10.0</td>\n",
       "      <td>10.0</td>\n",
       "      <td>10.0</td>\n",
       "      <td>10.0</td>\n",
       "      <td>10.0</td>\n",
       "      <td>9.0</td>\n",
       "      <td>0.90</td>\n",
       "      <td>3726.0</td>\n",
       "      <td>709.0</td>\n",
       "    </tr>\n",
       "    <tr>\n",
       "      <th>2</th>\n",
       "      <td>85.0</td>\n",
       "      <td>8.0</td>\n",
       "      <td>8.0</td>\n",
       "      <td>9.0</td>\n",
       "      <td>9.0</td>\n",
       "      <td>9.0</td>\n",
       "      <td>8.0</td>\n",
       "      <td>0.14</td>\n",
       "      <td>3606.0</td>\n",
       "      <td>967.0</td>\n",
       "    </tr>\n",
       "    <tr>\n",
       "      <th>3</th>\n",
       "      <td>93.0</td>\n",
       "      <td>9.0</td>\n",
       "      <td>9.0</td>\n",
       "      <td>10.0</td>\n",
       "      <td>10.0</td>\n",
       "      <td>9.0</td>\n",
       "      <td>9.0</td>\n",
       "      <td>0.14</td>\n",
       "      <td>1772.0</td>\n",
       "      <td>307.0</td>\n",
       "    </tr>\n",
       "    <tr>\n",
       "      <th>4</th>\n",
       "      <td>97.0</td>\n",
       "      <td>10.0</td>\n",
       "      <td>10.0</td>\n",
       "      <td>10.0</td>\n",
       "      <td>10.0</td>\n",
       "      <td>10.0</td>\n",
       "      <td>9.0</td>\n",
       "      <td>0.23</td>\n",
       "      <td>3581.0</td>\n",
       "      <td>339.0</td>\n",
       "    </tr>\n",
       "  </tbody>\n",
       "</table>\n",
       "</div>"
      ],
      "text/plain": [
       "   review_scores_rating  review_scores_accuracy  review_scores_cleanliness  \\\n",
       "0                  97.0                    10.0                       10.0   \n",
       "1                  98.0                    10.0                       10.0   \n",
       "2                  85.0                     8.0                        8.0   \n",
       "3                  93.0                     9.0                        9.0   \n",
       "4                  97.0                    10.0                       10.0   \n",
       "\n",
       "   review_scores_checkin  review_scores_communication  review_scores_location  \\\n",
       "0                   10.0                         10.0                    10.0   \n",
       "1                   10.0                         10.0                    10.0   \n",
       "2                    9.0                          9.0                     9.0   \n",
       "3                   10.0                         10.0                     9.0   \n",
       "4                   10.0                         10.0                    10.0   \n",
       "\n",
       "   review_scores_value  reviews_per_month  first_review_days  last_review_days  \n",
       "0                  9.0               1.60             3645.0              61.0  \n",
       "1                  9.0               0.90             3726.0             709.0  \n",
       "2                  8.0               0.14             3606.0             967.0  \n",
       "3                  9.0               0.14             1772.0             307.0  \n",
       "4                  9.0               0.23             3581.0             339.0  "
      ]
     },
     "execution_count": 73,
     "metadata": {},
     "output_type": "execute_result"
    }
   ],
   "source": [
    "cleaned_df[review_cols].head()"
   ]
  },
  {
   "cell_type": "code",
   "execution_count": 74,
   "metadata": {},
   "outputs": [],
   "source": [
    "cleaned_df[review_cols] = cleaned_df[review_cols].fillna(value = 0)"
   ]
  },
  {
   "cell_type": "markdown",
   "metadata": {},
   "source": [
    "It doesn't really make any sense to impute the `host_neighbourhood` or the `neighbourhood` features, so I'll drop the rows that're missing these values"
   ]
  },
  {
   "cell_type": "code",
   "execution_count": 75,
   "metadata": {},
   "outputs": [],
   "source": [
    "na_neigh = cleaned_df[(cleaned_df['host_neighbourhood'].isna()) | (cleaned_df['neighbourhood'].isna())].index"
   ]
  },
  {
   "cell_type": "code",
   "execution_count": 76,
   "metadata": {},
   "outputs": [
    {
     "name": "stdout",
     "output_type": "stream",
     "text": [
      "Dropping 9930 rows due to missing values in neighborhood columns.\n"
     ]
    }
   ],
   "source": [
    "print(f'Dropping {na_neigh.shape[0]} rows due to missing values in neighborhood columns.')"
   ]
  },
  {
   "cell_type": "code",
   "execution_count": 77,
   "metadata": {},
   "outputs": [],
   "source": [
    "cleaned_df = cleaned_df.drop(na_neigh)"
   ]
  },
  {
   "cell_type": "markdown",
   "metadata": {},
   "source": [
    "State"
   ]
  },
  {
   "cell_type": "code",
   "execution_count": 78,
   "metadata": {},
   "outputs": [
    {
     "data": {
      "text/html": [
       "<div>\n",
       "<style scoped>\n",
       "    .dataframe tbody tr th:only-of-type {\n",
       "        vertical-align: middle;\n",
       "    }\n",
       "\n",
       "    .dataframe tbody tr th {\n",
       "        vertical-align: top;\n",
       "    }\n",
       "\n",
       "    .dataframe thead th {\n",
       "        text-align: right;\n",
       "    }\n",
       "</style>\n",
       "<table border=\"1\" class=\"dataframe\">\n",
       "  <thead>\n",
       "    <tr style=\"text-align: right;\">\n",
       "      <th></th>\n",
       "      <th>state</th>\n",
       "      <th>neighbourhood</th>\n",
       "      <th>smart_location</th>\n",
       "    </tr>\n",
       "  </thead>\n",
       "  <tbody>\n",
       "    <tr>\n",
       "      <th>8548</th>\n",
       "      <td>NaN</td>\n",
       "      <td>Ozone Park</td>\n",
       "      <td>NY,</td>\n",
       "    </tr>\n",
       "    <tr>\n",
       "      <th>44558</th>\n",
       "      <td>NaN</td>\n",
       "      <td>Harlem</td>\n",
       "      <td>New York,</td>\n",
       "    </tr>\n",
       "    <tr>\n",
       "      <th>47152</th>\n",
       "      <td>NaN</td>\n",
       "      <td>Manhattan</td>\n",
       "      <td>US,</td>\n",
       "    </tr>\n",
       "    <tr>\n",
       "      <th>56454</th>\n",
       "      <td>NaN</td>\n",
       "      <td>Travis Heights</td>\n",
       "      <td>US,</td>\n",
       "    </tr>\n",
       "  </tbody>\n",
       "</table>\n",
       "</div>"
      ],
      "text/plain": [
       "      state   neighbourhood smart_location\n",
       "8548    NaN      Ozone Park           NY, \n",
       "44558   NaN          Harlem     New York, \n",
       "47152   NaN       Manhattan           US, \n",
       "56454   NaN  Travis Heights           US, "
      ]
     },
     "execution_count": 78,
     "metadata": {},
     "output_type": "execute_result"
    }
   ],
   "source": [
    "cleaned_df[cleaned_df['state'].isna()][['state','neighbourhood','smart_location']]"
   ]
  },
  {
   "cell_type": "markdown",
   "metadata": {},
   "source": [
    "The first three are NY, and the last one is TX"
   ]
  },
  {
   "cell_type": "code",
   "execution_count": 79,
   "metadata": {},
   "outputs": [],
   "source": [
    "update_state = cleaned_df[cleaned_df['state'].isna()][['state','neighbourhood','smart_location']].index\n",
    "cleaned_df.loc[update_state[:3]]['state'] = cleaned_df.loc[update_state[:3]]['state'].fillna('NY')"
   ]
  },
  {
   "cell_type": "code",
   "execution_count": 80,
   "metadata": {},
   "outputs": [],
   "source": [
    "for i in update_state[:3]:\n",
    "    cleaned_df.at[i,'state',] = 'NY'"
   ]
  },
  {
   "cell_type": "code",
   "execution_count": 81,
   "metadata": {
    "scrolled": true
   },
   "outputs": [],
   "source": [
    "cleaned_df.at[update_state[-1],'state',] = 'TX'"
   ]
  },
  {
   "cell_type": "markdown",
   "metadata": {},
   "source": [
    "#### Bathrooms, Bedrooms, and Beds"
   ]
  },
  {
   "cell_type": "markdown",
   "metadata": {},
   "source": [
    "These features have some very common modes that I will use to impute their values."
   ]
  },
  {
   "cell_type": "code",
   "execution_count": 82,
   "metadata": {},
   "outputs": [],
   "source": [
    "bbb = ['bathrooms', 'bedrooms', 'beds']"
   ]
  },
  {
   "cell_type": "code",
   "execution_count": 83,
   "metadata": {
    "scrolled": false
   },
   "outputs": [
    {
     "data": {
      "image/png": "[encoded data removed]",
      "text/plain": [
       "<Figure size 936x288 with 3 Axes>"
      ]
     },
     "metadata": {
      "needs_background": "light"
     },
     "output_type": "display_data"
    }
   ],
   "source": [
    "plt.figure(figsize=(13,4))\n",
    "i = 1\n",
    "for col in bbb:\n",
    "    plt.subplot(1,3,i)\n",
    "    sns.countplot(x=col,data=cleaned_df)\n",
    "    plt.title(col+' Distribution')\n",
    "    plt.xticks(np.arange(0,10,1,dtype=np.int64),rotation=30)\n",
    "    plt.xlim(right=10)\n",
    "    i += 1\n",
    "    \n",
    "plt.tight_layout()"
   ]
  },
  {
   "cell_type": "code",
   "execution_count": 84,
   "metadata": {},
   "outputs": [],
   "source": [
    "# Filling with mode (denoted by highest bar in plots above)\n",
    "for col in bbb:\n",
    "    cleaned_df[col] = cleaned_df[col].fillna(cleaned_df[col].mode()[0])"
   ]
  },
  {
   "cell_type": "code",
   "execution_count": 85,
   "metadata": {},
   "outputs": [
    {
     "data": {
      "text/plain": [
       "bathrooms    0\n",
       "bedrooms     0\n",
       "beds         0\n",
       "dtype: int64"
      ]
     },
     "execution_count": 85,
     "metadata": {},
     "output_type": "execute_result"
    }
   ],
   "source": [
    "cleaned_df[bbb].isna().sum()"
   ]
  },
  {
   "cell_type": "code",
   "execution_count": 86,
   "metadata": {},
   "outputs": [
    {
     "data": {
      "text/html": [
       "<div>\n",
       "<style scoped>\n",
       "    .dataframe tbody tr th:only-of-type {\n",
       "        vertical-align: middle;\n",
       "    }\n",
       "\n",
       "    .dataframe tbody tr th {\n",
       "        vertical-align: top;\n",
       "    }\n",
       "\n",
       "    .dataframe thead th {\n",
       "        text-align: right;\n",
       "    }\n",
       "</style>\n",
       "<table border=\"1\" class=\"dataframe\">\n",
       "  <thead>\n",
       "    <tr style=\"text-align: right;\">\n",
       "      <th></th>\n",
       "      <th>host_listings_count</th>\n",
       "      <th>host_total_listings_count</th>\n",
       "      <th>latitude</th>\n",
       "      <th>longitude</th>\n",
       "      <th>accommodates</th>\n",
       "      <th>bathrooms</th>\n",
       "      <th>bedrooms</th>\n",
       "      <th>beds</th>\n",
       "      <th>guests_included</th>\n",
       "      <th>minimum_nights</th>\n",
       "      <th>...</th>\n",
       "      <th>photographer</th>\n",
       "      <th>reviews</th>\n",
       "      <th>selfie</th>\n",
       "      <th>sent_id</th>\n",
       "      <th>sesame</th>\n",
       "      <th>sesame_offline</th>\n",
       "      <th>weibo</th>\n",
       "      <th>work_email</th>\n",
       "      <th>zhima_selfie</th>\n",
       "      <th>sum_na_row</th>\n",
       "    </tr>\n",
       "  </thead>\n",
       "  <tbody>\n",
       "    <tr>\n",
       "      <th>0</th>\n",
       "      <td>1.0</td>\n",
       "      <td>1.0</td>\n",
       "      <td>37.76931</td>\n",
       "      <td>-122.43386</td>\n",
       "      <td>3</td>\n",
       "      <td>1.0</td>\n",
       "      <td>1.0</td>\n",
       "      <td>2.0</td>\n",
       "      <td>2</td>\n",
       "      <td>1</td>\n",
       "      <td>...</td>\n",
       "      <td>0</td>\n",
       "      <td>1</td>\n",
       "      <td>0</td>\n",
       "      <td>0</td>\n",
       "      <td>0</td>\n",
       "      <td>0</td>\n",
       "      <td>0</td>\n",
       "      <td>0</td>\n",
       "      <td>0</td>\n",
       "      <td>0</td>\n",
       "    </tr>\n",
       "    <tr>\n",
       "      <th>1</th>\n",
       "      <td>2.0</td>\n",
       "      <td>2.0</td>\n",
       "      <td>37.74511</td>\n",
       "      <td>-122.42102</td>\n",
       "      <td>5</td>\n",
       "      <td>1.0</td>\n",
       "      <td>2.0</td>\n",
       "      <td>3.0</td>\n",
       "      <td>2</td>\n",
       "      <td>30</td>\n",
       "      <td>...</td>\n",
       "      <td>0</td>\n",
       "      <td>1</td>\n",
       "      <td>0</td>\n",
       "      <td>0</td>\n",
       "      <td>0</td>\n",
       "      <td>0</td>\n",
       "      <td>0</td>\n",
       "      <td>1</td>\n",
       "      <td>0</td>\n",
       "      <td>0</td>\n",
       "    </tr>\n",
       "    <tr>\n",
       "      <th>2</th>\n",
       "      <td>10.0</td>\n",
       "      <td>10.0</td>\n",
       "      <td>37.76669</td>\n",
       "      <td>-122.45250</td>\n",
       "      <td>2</td>\n",
       "      <td>4.0</td>\n",
       "      <td>1.0</td>\n",
       "      <td>1.0</td>\n",
       "      <td>1</td>\n",
       "      <td>32</td>\n",
       "      <td>...</td>\n",
       "      <td>0</td>\n",
       "      <td>1</td>\n",
       "      <td>0</td>\n",
       "      <td>0</td>\n",
       "      <td>0</td>\n",
       "      <td>0</td>\n",
       "      <td>0</td>\n",
       "      <td>0</td>\n",
       "      <td>0</td>\n",
       "      <td>0</td>\n",
       "    </tr>\n",
       "    <tr>\n",
       "      <th>3</th>\n",
       "      <td>10.0</td>\n",
       "      <td>10.0</td>\n",
       "      <td>37.76487</td>\n",
       "      <td>-122.45183</td>\n",
       "      <td>2</td>\n",
       "      <td>4.0</td>\n",
       "      <td>1.0</td>\n",
       "      <td>1.0</td>\n",
       "      <td>1</td>\n",
       "      <td>32</td>\n",
       "      <td>...</td>\n",
       "      <td>0</td>\n",
       "      <td>1</td>\n",
       "      <td>0</td>\n",
       "      <td>0</td>\n",
       "      <td>0</td>\n",
       "      <td>0</td>\n",
       "      <td>0</td>\n",
       "      <td>0</td>\n",
       "      <td>0</td>\n",
       "      <td>0</td>\n",
       "    </tr>\n",
       "    <tr>\n",
       "      <th>4</th>\n",
       "      <td>2.0</td>\n",
       "      <td>2.0</td>\n",
       "      <td>37.77525</td>\n",
       "      <td>-122.43637</td>\n",
       "      <td>5</td>\n",
       "      <td>1.5</td>\n",
       "      <td>2.0</td>\n",
       "      <td>2.0</td>\n",
       "      <td>2</td>\n",
       "      <td>4</td>\n",
       "      <td>...</td>\n",
       "      <td>0</td>\n",
       "      <td>1</td>\n",
       "      <td>0</td>\n",
       "      <td>0</td>\n",
       "      <td>0</td>\n",
       "      <td>0</td>\n",
       "      <td>0</td>\n",
       "      <td>0</td>\n",
       "      <td>0</td>\n",
       "      <td>0</td>\n",
       "    </tr>\n",
       "  </tbody>\n",
       "</table>\n",
       "<p>5 rows × 299 columns</p>\n",
       "</div>"
      ],
      "text/plain": [
       "   host_listings_count  host_total_listings_count  latitude  longitude  \\\n",
       "0                  1.0                        1.0  37.76931 -122.43386   \n",
       "1                  2.0                        2.0  37.74511 -122.42102   \n",
       "2                 10.0                       10.0  37.76669 -122.45250   \n",
       "3                 10.0                       10.0  37.76487 -122.45183   \n",
       "4                  2.0                        2.0  37.77525 -122.43637   \n",
       "\n",
       "   accommodates  bathrooms  bedrooms  beds  guests_included  minimum_nights  \\\n",
       "0             3        1.0       1.0   2.0                2               1   \n",
       "1             5        1.0       2.0   3.0                2              30   \n",
       "2             2        4.0       1.0   1.0                1              32   \n",
       "3             2        4.0       1.0   1.0                1              32   \n",
       "4             5        1.5       2.0   2.0                2               4   \n",
       "\n",
       "   ...  photographer  reviews  selfie  sent_id  sesame  sesame_offline  weibo  \\\n",
       "0  ...             0        1       0        0       0               0      0   \n",
       "1  ...             0        1       0        0       0               0      0   \n",
       "2  ...             0        1       0        0       0               0      0   \n",
       "3  ...             0        1       0        0       0               0      0   \n",
       "4  ...             0        1       0        0       0               0      0   \n",
       "\n",
       "   work_email  zhima_selfie  sum_na_row  \n",
       "0           0             0           0  \n",
       "1           1             0           0  \n",
       "2           0             0           0  \n",
       "3           0             0           0  \n",
       "4           0             0           0  \n",
       "\n",
       "[5 rows x 299 columns]"
      ]
     },
     "execution_count": 86,
     "metadata": {},
     "output_type": "execute_result"
    }
   ],
   "source": [
    "cleaned_df.head()"
   ]
  },
  {
   "cell_type": "markdown",
   "metadata": {},
   "source": [
    "#### Feature Scaling (For `IterativeImputer`)"
   ]
  },
  {
   "cell_type": "markdown",
   "metadata": {},
   "source": [
    "I'd like to practice using the `IterativeImputer` to impute missing values for the `cleaning_fee` feature. However, before we use `IterativeImputer` to impute the missing values, 1) the features need to be numerical and 2) they should be standardized.\n",
    "\n",
    "However, we will have a lot of features if I use all that is available, making imputation very computationally expensive. So, I'm going to simplify the problem by doing the following...\n",
    "1. Pick out a smaller number of numerical features that I can use to predict the missing values\n",
    "2. Standardize these features\n",
    "3. Predict missing values\n",
    "4. Re-insert these values (with imputed NA values) back into the DataFrame."
   ]
  },
  {
   "cell_type": "code",
   "execution_count": 87,
   "metadata": {},
   "outputs": [],
   "source": [
    "features_for_imputer = ['accommodates', 'bathrooms', 'bedrooms', 'beds',\n",
    "                   'guests_included','review_scores_rating','price', 'cleaning_fee']"
   ]
  },
  {
   "cell_type": "code",
   "execution_count": 88,
   "metadata": {},
   "outputs": [],
   "source": [
    "df_impute = cleaned_df[features_for_imputer]"
   ]
  },
  {
   "cell_type": "code",
   "execution_count": 89,
   "metadata": {},
   "outputs": [],
   "source": [
    "std = StandardScaler()\n",
    "std_df_impute = std.fit_transform(df_impute)"
   ]
  },
  {
   "cell_type": "code",
   "execution_count": 90,
   "metadata": {},
   "outputs": [],
   "source": [
    "std_df_impute = pd.DataFrame(data=std_df_impute,columns=df_impute.columns)"
   ]
  },
  {
   "cell_type": "code",
   "execution_count": 91,
   "metadata": {},
   "outputs": [],
   "source": [
    "# These rows do not have missing values\n",
    "rows_all_vals = std_df_impute[std_df_impute['cleaning_fee'].notnull()]"
   ]
  },
  {
   "cell_type": "markdown",
   "metadata": {},
   "source": [
    "Instantiating the Imputer"
   ]
  },
  {
   "cell_type": "code",
   "execution_count": 92,
   "metadata": {},
   "outputs": [],
   "source": [
    "imp = IterativeImputer(max_iter=5)"
   ]
  },
  {
   "cell_type": "code",
   "execution_count": 93,
   "metadata": {},
   "outputs": [
    {
     "data": {
      "text/plain": [
       "IterativeImputer(add_indicator=False, estimator=None,\n",
       "                 imputation_order='ascending', initial_strategy='mean',\n",
       "                 max_iter=5, max_value=None, min_value=None, missing_values=nan,\n",
       "                 n_nearest_features=None, random_state=None,\n",
       "                 sample_posterior=False, tol=0.001, verbose=0)"
      ]
     },
     "execution_count": 93,
     "metadata": {},
     "output_type": "execute_result"
    }
   ],
   "source": [
    "imp.fit(rows_all_vals)"
   ]
  },
  {
   "cell_type": "markdown",
   "metadata": {},
   "source": [
    "---"
   ]
  },
  {
   "cell_type": "code",
   "execution_count": 94,
   "metadata": {},
   "outputs": [],
   "source": [
    "rescaled_data = std.inverse_transform(imp.transform(std_df_impute))"
   ]
  },
  {
   "cell_type": "code",
   "execution_count": 95,
   "metadata": {},
   "outputs": [
    {
     "data": {
      "text/html": [
       "<div>\n",
       "<style scoped>\n",
       "    .dataframe tbody tr th:only-of-type {\n",
       "        vertical-align: middle;\n",
       "    }\n",
       "\n",
       "    .dataframe tbody tr th {\n",
       "        vertical-align: top;\n",
       "    }\n",
       "\n",
       "    .dataframe thead th {\n",
       "        text-align: right;\n",
       "    }\n",
       "</style>\n",
       "<table border=\"1\" class=\"dataframe\">\n",
       "  <thead>\n",
       "    <tr style=\"text-align: right;\">\n",
       "      <th></th>\n",
       "      <th>accommodates</th>\n",
       "      <th>bathrooms</th>\n",
       "      <th>bedrooms</th>\n",
       "      <th>beds</th>\n",
       "      <th>guests_included</th>\n",
       "      <th>review_scores_rating</th>\n",
       "      <th>price</th>\n",
       "      <th>cleaning_fee</th>\n",
       "    </tr>\n",
       "  </thead>\n",
       "  <tbody>\n",
       "    <tr>\n",
       "      <th>0</th>\n",
       "      <td>3.0</td>\n",
       "      <td>1.0</td>\n",
       "      <td>1.0</td>\n",
       "      <td>2.0</td>\n",
       "      <td>2.0</td>\n",
       "      <td>97.0</td>\n",
       "      <td>170.0</td>\n",
       "      <td>100.0</td>\n",
       "    </tr>\n",
       "    <tr>\n",
       "      <th>1</th>\n",
       "      <td>5.0</td>\n",
       "      <td>1.0</td>\n",
       "      <td>2.0</td>\n",
       "      <td>3.0</td>\n",
       "      <td>2.0</td>\n",
       "      <td>98.0</td>\n",
       "      <td>235.0</td>\n",
       "      <td>100.0</td>\n",
       "    </tr>\n",
       "    <tr>\n",
       "      <th>2</th>\n",
       "      <td>2.0</td>\n",
       "      <td>4.0</td>\n",
       "      <td>1.0</td>\n",
       "      <td>1.0</td>\n",
       "      <td>1.0</td>\n",
       "      <td>85.0</td>\n",
       "      <td>65.0</td>\n",
       "      <td>50.0</td>\n",
       "    </tr>\n",
       "    <tr>\n",
       "      <th>3</th>\n",
       "      <td>2.0</td>\n",
       "      <td>4.0</td>\n",
       "      <td>1.0</td>\n",
       "      <td>1.0</td>\n",
       "      <td>1.0</td>\n",
       "      <td>93.0</td>\n",
       "      <td>65.0</td>\n",
       "      <td>50.0</td>\n",
       "    </tr>\n",
       "    <tr>\n",
       "      <th>4</th>\n",
       "      <td>5.0</td>\n",
       "      <td>1.5</td>\n",
       "      <td>2.0</td>\n",
       "      <td>2.0</td>\n",
       "      <td>2.0</td>\n",
       "      <td>97.0</td>\n",
       "      <td>685.0</td>\n",
       "      <td>225.0</td>\n",
       "    </tr>\n",
       "  </tbody>\n",
       "</table>\n",
       "</div>"
      ],
      "text/plain": [
       "   accommodates  bathrooms  bedrooms  beds  guests_included  \\\n",
       "0           3.0        1.0       1.0   2.0              2.0   \n",
       "1           5.0        1.0       2.0   3.0              2.0   \n",
       "2           2.0        4.0       1.0   1.0              1.0   \n",
       "3           2.0        4.0       1.0   1.0              1.0   \n",
       "4           5.0        1.5       2.0   2.0              2.0   \n",
       "\n",
       "   review_scores_rating  price  cleaning_fee  \n",
       "0                  97.0  170.0         100.0  \n",
       "1                  98.0  235.0         100.0  \n",
       "2                  85.0   65.0          50.0  \n",
       "3                  93.0   65.0          50.0  \n",
       "4                  97.0  685.0         225.0  "
      ]
     },
     "execution_count": 95,
     "metadata": {},
     "output_type": "execute_result"
    }
   ],
   "source": [
    "# Calling the imputer on the subset of our DataFrame\n",
    "imputed_std_df = pd.DataFrame(rescaled_data,columns = df_impute.columns)\n",
    "imputed_std_df.head()"
   ]
  },
  {
   "cell_type": "code",
   "execution_count": 96,
   "metadata": {
    "scrolled": true
   },
   "outputs": [
    {
     "data": {
      "text/plain": [
       "True"
      ]
     },
     "execution_count": 96,
     "metadata": {},
     "output_type": "execute_result"
    }
   ],
   "source": [
    "# Sanity checking before re-inserting back into the DataFrame\n",
    "imputed_std_df.shape == df_impute.shape == cleaned_df[features_for_imputer].shape"
   ]
  },
  {
   "cell_type": "markdown",
   "metadata": {},
   "source": [
    "Resetting indices so they can be concatennated"
   ]
  },
  {
   "cell_type": "code",
   "execution_count": 97,
   "metadata": {},
   "outputs": [],
   "source": [
    "cleaned_df = cleaned_df.reset_index().drop('index',axis=1)"
   ]
  },
  {
   "cell_type": "code",
   "execution_count": 98,
   "metadata": {},
   "outputs": [],
   "source": [
    "cleaned_df[features_for_imputer] = imputed_std_df"
   ]
  },
  {
   "cell_type": "code",
   "execution_count": 99,
   "metadata": {},
   "outputs": [
    {
     "data": {
      "text/plain": [
       "0"
      ]
     },
     "execution_count": 99,
     "metadata": {},
     "output_type": "execute_result"
    }
   ],
   "source": [
    "# Sanity Check - no NA values\n",
    "cleaned_df.isna().any().sum()"
   ]
  },
  {
   "cell_type": "markdown",
   "metadata": {},
   "source": [
    "## Splitting Data"
   ]
  },
  {
   "cell_type": "markdown",
   "metadata": {},
   "source": [
    "Now we're going to split the data into an X-matrix of features and y-array for `price` to figure out which features are the strongest predictors of price.\n",
    "\n",
    "I've decided not to split my data into a training and testing set because we're simply using some ML algorithms to *figure out which features are most important when predicting price*. I'm not really concerned with using a testing set to figure out how well the algorithms are doing."
   ]
  },
  {
   "cell_type": "code",
   "execution_count": 100,
   "metadata": {},
   "outputs": [],
   "source": [
    "X = cleaned_df.drop(['price','sum_na_row'],axis=1)\n",
    "y = cleaned_df['price']"
   ]
  },
  {
   "cell_type": "markdown",
   "metadata": {},
   "source": [
    "## Encoding Categorical Values"
   ]
  },
  {
   "cell_type": "code",
   "execution_count": 101,
   "metadata": {},
   "outputs": [
    {
     "name": "stdout",
     "output_type": "stream",
     "text": [
      "Unique Values per categorical column...\n",
      "experiences_offered: 1\n",
      "host_neighbourhood: 605\n",
      "neighbourhood: 316\n",
      "neighbourhood_cleansed: 291\n",
      "state: 7\n",
      "smart_location: 220\n",
      "country_code: 1\n",
      "country: 1\n",
      "property_type: 41\n",
      "room_type: 3\n",
      "bed_type: 5\n",
      "has_availability: 1\n",
      "is_business_travel_ready: 1\n",
      "cancellation_policy: 6\n"
     ]
    }
   ],
   "source": [
    "cat_cols = X.select_dtypes('object').columns\n",
    "print('Unique Values per categorical column...')\n",
    "for col in cat_cols:\n",
    "    print(f'{col}: {X[col].nunique()}')"
   ]
  },
  {
   "cell_type": "markdown",
   "metadata": {},
   "source": [
    "We don't need any of the categorical columns with only 1 value."
   ]
  },
  {
   "cell_type": "code",
   "execution_count": 102,
   "metadata": {},
   "outputs": [],
   "source": [
    "# Tracking all the columns I drop so I drop these in the test set as well\n",
    "drop_cols = ['experiences_offered','country_code','country','has_availability','is_business_travel_ready']"
   ]
  },
  {
   "cell_type": "markdown",
   "metadata": {},
   "source": [
    "Let's take a look at some of these columns to see if we can easily just get rid of some of them."
   ]
  },
  {
   "cell_type": "code",
   "execution_count": 103,
   "metadata": {
    "scrolled": true
   },
   "outputs": [
    {
     "data": {
      "text/html": [
       "<div>\n",
       "<style scoped>\n",
       "    .dataframe tbody tr th:only-of-type {\n",
       "        vertical-align: middle;\n",
       "    }\n",
       "\n",
       "    .dataframe tbody tr th {\n",
       "        vertical-align: top;\n",
       "    }\n",
       "\n",
       "    .dataframe thead th {\n",
       "        text-align: right;\n",
       "    }\n",
       "</style>\n",
       "<table border=\"1\" class=\"dataframe\">\n",
       "  <thead>\n",
       "    <tr style=\"text-align: right;\">\n",
       "      <th></th>\n",
       "      <th>host_neighbourhood</th>\n",
       "      <th>neighbourhood</th>\n",
       "      <th>neighbourhood_cleansed</th>\n",
       "      <th>smart_location</th>\n",
       "    </tr>\n",
       "  </thead>\n",
       "  <tbody>\n",
       "    <tr>\n",
       "      <th>0</th>\n",
       "      <td>Duboce Triangle</td>\n",
       "      <td>Lower Haight</td>\n",
       "      <td>Western Addition</td>\n",
       "      <td>San Francisco, CA</td>\n",
       "    </tr>\n",
       "    <tr>\n",
       "      <th>1</th>\n",
       "      <td>Bernal Heights</td>\n",
       "      <td>Bernal Heights</td>\n",
       "      <td>Bernal Heights</td>\n",
       "      <td>San Francisco, CA</td>\n",
       "    </tr>\n",
       "    <tr>\n",
       "      <th>2</th>\n",
       "      <td>Cole Valley</td>\n",
       "      <td>Cole Valley</td>\n",
       "      <td>Haight Ashbury</td>\n",
       "      <td>San Francisco, CA</td>\n",
       "    </tr>\n",
       "    <tr>\n",
       "      <th>3</th>\n",
       "      <td>Cole Valley</td>\n",
       "      <td>Cole Valley</td>\n",
       "      <td>Haight Ashbury</td>\n",
       "      <td>San Francisco, CA</td>\n",
       "    </tr>\n",
       "    <tr>\n",
       "      <th>4</th>\n",
       "      <td>Alamo Square</td>\n",
       "      <td>Alamo Square</td>\n",
       "      <td>Western Addition</td>\n",
       "      <td>San Francisco, CA</td>\n",
       "    </tr>\n",
       "    <tr>\n",
       "      <th>5</th>\n",
       "      <td>Western Addition/NOPA</td>\n",
       "      <td>Western Addition/NOPA</td>\n",
       "      <td>Western Addition</td>\n",
       "      <td>San Francisco, CA</td>\n",
       "    </tr>\n",
       "    <tr>\n",
       "      <th>6</th>\n",
       "      <td>Mission District</td>\n",
       "      <td>Mission District</td>\n",
       "      <td>Mission</td>\n",
       "      <td>San Francisco, CA</td>\n",
       "    </tr>\n",
       "    <tr>\n",
       "      <th>7</th>\n",
       "      <td>Potrero Hill</td>\n",
       "      <td>Potrero Hill</td>\n",
       "      <td>Potrero Hill</td>\n",
       "      <td>San Francisco, CA</td>\n",
       "    </tr>\n",
       "    <tr>\n",
       "      <th>8</th>\n",
       "      <td>Mission District</td>\n",
       "      <td>Mission District</td>\n",
       "      <td>Mission</td>\n",
       "      <td>San Francisco, CA</td>\n",
       "    </tr>\n",
       "    <tr>\n",
       "      <th>9</th>\n",
       "      <td>Lower Haight</td>\n",
       "      <td>Lower Haight</td>\n",
       "      <td>Haight Ashbury</td>\n",
       "      <td>San Francisco, CA</td>\n",
       "    </tr>\n",
       "  </tbody>\n",
       "</table>\n",
       "</div>"
      ],
      "text/plain": [
       "      host_neighbourhood          neighbourhood neighbourhood_cleansed  \\\n",
       "0        Duboce Triangle           Lower Haight       Western Addition   \n",
       "1         Bernal Heights         Bernal Heights         Bernal Heights   \n",
       "2            Cole Valley            Cole Valley         Haight Ashbury   \n",
       "3            Cole Valley            Cole Valley         Haight Ashbury   \n",
       "4           Alamo Square           Alamo Square       Western Addition   \n",
       "5  Western Addition/NOPA  Western Addition/NOPA       Western Addition   \n",
       "6       Mission District       Mission District                Mission   \n",
       "7           Potrero Hill           Potrero Hill           Potrero Hill   \n",
       "8       Mission District       Mission District                Mission   \n",
       "9           Lower Haight           Lower Haight         Haight Ashbury   \n",
       "\n",
       "      smart_location  \n",
       "0  San Francisco, CA  \n",
       "1  San Francisco, CA  \n",
       "2  San Francisco, CA  \n",
       "3  San Francisco, CA  \n",
       "4  San Francisco, CA  \n",
       "5  San Francisco, CA  \n",
       "6  San Francisco, CA  \n",
       "7  San Francisco, CA  \n",
       "8  San Francisco, CA  \n",
       "9  San Francisco, CA  "
      ]
     },
     "execution_count": 103,
     "metadata": {},
     "output_type": "execute_result"
    }
   ],
   "source": [
    "X[['host_neighbourhood','neighbourhood','neighbourhood_cleansed','smart_location']].head(10)"
   ]
  },
  {
   "cell_type": "markdown",
   "metadata": {},
   "source": [
    "I don't really know the difference between each of the neighbourhood columns. In a work setting, I'd follow up with someone that knows this dataset well to understand how to use these columns. For simplicity, I'll just move forward with `neighborhood`. I'm also going to drop `smart_location` because it's redundant to `neighbourhood` and a bit less granular."
   ]
  },
  {
   "cell_type": "code",
   "execution_count": 104,
   "metadata": {},
   "outputs": [],
   "source": [
    "drop_cols.extend(['host_neighbourhood','neighbourhood_cleansed','smart_location'])"
   ]
  },
  {
   "cell_type": "markdown",
   "metadata": {},
   "source": [
    "Let's take a look at `property_type`."
   ]
  },
  {
   "cell_type": "code",
   "execution_count": 105,
   "metadata": {},
   "outputs": [
    {
     "data": {
      "text/plain": [
       "Apartment                 38470\n",
       "House                      9441\n",
       "Condominium                2655\n",
       "Townhouse                  1946\n",
       "Loft                       1461\n",
       "Guest suite                 971\n",
       "Serviced apartment          805\n",
       "Guesthouse                  513\n",
       "Boutique hotel              379\n",
       "Bungalow                    348\n",
       "Hotel                       222\n",
       "Hostel                      189\n",
       "Other                       168\n",
       "Bed and breakfast           145\n",
       "Resort                      118\n",
       "Camper/RV                    84\n",
       "Villa                        67\n",
       "Aparthotel                   63\n",
       "Cottage                      60\n",
       "Tiny house                   47\n",
       "Cabin                        16\n",
       "Tent                         16\n",
       "Boat                          7\n",
       "Campsite                      7\n",
       "Earth house                   6\n",
       "Casa particular (Cuba)        5\n",
       "Dome house                    4\n",
       "Treehouse                     4\n",
       "Farm stay                     3\n",
       "Castle                        2\n",
       "Barn                          2\n",
       "Timeshare                     2\n",
       "Yurt                          2\n",
       "Houseboat                     2\n",
       "In-law                        1\n",
       "Cave                          1\n",
       "Lighthouse                    1\n",
       "Hut                           1\n",
       "Chalet                        1\n",
       "Tipi                          1\n",
       "Bus                           1\n",
       "Name: property_type, dtype: int64"
      ]
     },
     "execution_count": 105,
     "metadata": {},
     "output_type": "execute_result"
    }
   ],
   "source": [
    "X['property_type'].value_counts()"
   ]
  },
  {
   "cell_type": "markdown",
   "metadata": {},
   "source": [
    "This could be a valuable predictor, since I'd guess that a Villa would be priced higher than a Hostel."
   ]
  },
  {
   "cell_type": "code",
   "execution_count": 106,
   "metadata": {},
   "outputs": [],
   "source": [
    "# Dropping the columns\n",
    "X = X.drop(drop_cols,axis=1)"
   ]
  },
  {
   "cell_type": "code",
   "execution_count": 107,
   "metadata": {},
   "outputs": [
    {
     "data": {
      "text/html": [
       "<div>\n",
       "<style scoped>\n",
       "    .dataframe tbody tr th:only-of-type {\n",
       "        vertical-align: middle;\n",
       "    }\n",
       "\n",
       "    .dataframe tbody tr th {\n",
       "        vertical-align: top;\n",
       "    }\n",
       "\n",
       "    .dataframe thead th {\n",
       "        text-align: right;\n",
       "    }\n",
       "</style>\n",
       "<table border=\"1\" class=\"dataframe\">\n",
       "  <thead>\n",
       "    <tr style=\"text-align: right;\">\n",
       "      <th></th>\n",
       "      <th>host_listings_count</th>\n",
       "      <th>host_total_listings_count</th>\n",
       "      <th>latitude</th>\n",
       "      <th>longitude</th>\n",
       "      <th>accommodates</th>\n",
       "      <th>bathrooms</th>\n",
       "      <th>bedrooms</th>\n",
       "      <th>beds</th>\n",
       "      <th>guests_included</th>\n",
       "      <th>minimum_nights</th>\n",
       "      <th>...</th>\n",
       "      <th>phone</th>\n",
       "      <th>photographer</th>\n",
       "      <th>reviews</th>\n",
       "      <th>selfie</th>\n",
       "      <th>sent_id</th>\n",
       "      <th>sesame</th>\n",
       "      <th>sesame_offline</th>\n",
       "      <th>weibo</th>\n",
       "      <th>work_email</th>\n",
       "      <th>zhima_selfie</th>\n",
       "    </tr>\n",
       "  </thead>\n",
       "  <tbody>\n",
       "    <tr>\n",
       "      <th>0</th>\n",
       "      <td>1.0</td>\n",
       "      <td>1.0</td>\n",
       "      <td>37.76931</td>\n",
       "      <td>-122.43386</td>\n",
       "      <td>3.0</td>\n",
       "      <td>1.0</td>\n",
       "      <td>1.0</td>\n",
       "      <td>2.0</td>\n",
       "      <td>2.0</td>\n",
       "      <td>1</td>\n",
       "      <td>...</td>\n",
       "      <td>1</td>\n",
       "      <td>0</td>\n",
       "      <td>1</td>\n",
       "      <td>0</td>\n",
       "      <td>0</td>\n",
       "      <td>0</td>\n",
       "      <td>0</td>\n",
       "      <td>0</td>\n",
       "      <td>0</td>\n",
       "      <td>0</td>\n",
       "    </tr>\n",
       "    <tr>\n",
       "      <th>1</th>\n",
       "      <td>2.0</td>\n",
       "      <td>2.0</td>\n",
       "      <td>37.74511</td>\n",
       "      <td>-122.42102</td>\n",
       "      <td>5.0</td>\n",
       "      <td>1.0</td>\n",
       "      <td>2.0</td>\n",
       "      <td>3.0</td>\n",
       "      <td>2.0</td>\n",
       "      <td>30</td>\n",
       "      <td>...</td>\n",
       "      <td>1</td>\n",
       "      <td>0</td>\n",
       "      <td>1</td>\n",
       "      <td>0</td>\n",
       "      <td>0</td>\n",
       "      <td>0</td>\n",
       "      <td>0</td>\n",
       "      <td>0</td>\n",
       "      <td>1</td>\n",
       "      <td>0</td>\n",
       "    </tr>\n",
       "    <tr>\n",
       "      <th>2</th>\n",
       "      <td>10.0</td>\n",
       "      <td>10.0</td>\n",
       "      <td>37.76669</td>\n",
       "      <td>-122.45250</td>\n",
       "      <td>2.0</td>\n",
       "      <td>4.0</td>\n",
       "      <td>1.0</td>\n",
       "      <td>1.0</td>\n",
       "      <td>1.0</td>\n",
       "      <td>32</td>\n",
       "      <td>...</td>\n",
       "      <td>1</td>\n",
       "      <td>0</td>\n",
       "      <td>1</td>\n",
       "      <td>0</td>\n",
       "      <td>0</td>\n",
       "      <td>0</td>\n",
       "      <td>0</td>\n",
       "      <td>0</td>\n",
       "      <td>0</td>\n",
       "      <td>0</td>\n",
       "    </tr>\n",
       "    <tr>\n",
       "      <th>3</th>\n",
       "      <td>10.0</td>\n",
       "      <td>10.0</td>\n",
       "      <td>37.76487</td>\n",
       "      <td>-122.45183</td>\n",
       "      <td>2.0</td>\n",
       "      <td>4.0</td>\n",
       "      <td>1.0</td>\n",
       "      <td>1.0</td>\n",
       "      <td>1.0</td>\n",
       "      <td>32</td>\n",
       "      <td>...</td>\n",
       "      <td>1</td>\n",
       "      <td>0</td>\n",
       "      <td>1</td>\n",
       "      <td>0</td>\n",
       "      <td>0</td>\n",
       "      <td>0</td>\n",
       "      <td>0</td>\n",
       "      <td>0</td>\n",
       "      <td>0</td>\n",
       "      <td>0</td>\n",
       "    </tr>\n",
       "    <tr>\n",
       "      <th>4</th>\n",
       "      <td>2.0</td>\n",
       "      <td>2.0</td>\n",
       "      <td>37.77525</td>\n",
       "      <td>-122.43637</td>\n",
       "      <td>5.0</td>\n",
       "      <td>1.5</td>\n",
       "      <td>2.0</td>\n",
       "      <td>2.0</td>\n",
       "      <td>2.0</td>\n",
       "      <td>4</td>\n",
       "      <td>...</td>\n",
       "      <td>1</td>\n",
       "      <td>0</td>\n",
       "      <td>1</td>\n",
       "      <td>0</td>\n",
       "      <td>0</td>\n",
       "      <td>0</td>\n",
       "      <td>0</td>\n",
       "      <td>0</td>\n",
       "      <td>0</td>\n",
       "      <td>0</td>\n",
       "    </tr>\n",
       "  </tbody>\n",
       "</table>\n",
       "<p>5 rows × 289 columns</p>\n",
       "</div>"
      ],
      "text/plain": [
       "   host_listings_count  host_total_listings_count  latitude  longitude  \\\n",
       "0                  1.0                        1.0  37.76931 -122.43386   \n",
       "1                  2.0                        2.0  37.74511 -122.42102   \n",
       "2                 10.0                       10.0  37.76669 -122.45250   \n",
       "3                 10.0                       10.0  37.76487 -122.45183   \n",
       "4                  2.0                        2.0  37.77525 -122.43637   \n",
       "\n",
       "   accommodates  bathrooms  bedrooms  beds  guests_included  minimum_nights  \\\n",
       "0           3.0        1.0       1.0   2.0              2.0               1   \n",
       "1           5.0        1.0       2.0   3.0              2.0              30   \n",
       "2           2.0        4.0       1.0   1.0              1.0              32   \n",
       "3           2.0        4.0       1.0   1.0              1.0              32   \n",
       "4           5.0        1.5       2.0   2.0              2.0               4   \n",
       "\n",
       "   ...  phone  photographer  reviews  selfie  sent_id  sesame  sesame_offline  \\\n",
       "0  ...      1             0        1       0        0       0               0   \n",
       "1  ...      1             0        1       0        0       0               0   \n",
       "2  ...      1             0        1       0        0       0               0   \n",
       "3  ...      1             0        1       0        0       0               0   \n",
       "4  ...      1             0        1       0        0       0               0   \n",
       "\n",
       "   weibo  work_email  zhima_selfie  \n",
       "0      0           0             0  \n",
       "1      0           1             0  \n",
       "2      0           0             0  \n",
       "3      0           0             0  \n",
       "4      0           0             0  \n",
       "\n",
       "[5 rows x 289 columns]"
      ]
     },
     "execution_count": 107,
     "metadata": {},
     "output_type": "execute_result"
    }
   ],
   "source": [
    "X.head()"
   ]
  },
  {
   "cell_type": "markdown",
   "metadata": {},
   "source": [
    "Now let's OneHotEncode our columns"
   ]
  },
  {
   "cell_type": "code",
   "execution_count": 108,
   "metadata": {},
   "outputs": [],
   "source": [
    "ohe = OneHotEncoder(handle_unknown='value',use_cat_names=True,return_df=True,handle_missing='value')"
   ]
  },
  {
   "cell_type": "code",
   "execution_count": 109,
   "metadata": {},
   "outputs": [],
   "source": [
    "X = ohe.fit_transform(X)"
   ]
  },
  {
   "cell_type": "code",
   "execution_count": 110,
   "metadata": {},
   "outputs": [
    {
     "data": {
      "text/html": [
       "<div>\n",
       "<style scoped>\n",
       "    .dataframe tbody tr th:only-of-type {\n",
       "        vertical-align: middle;\n",
       "    }\n",
       "\n",
       "    .dataframe tbody tr th {\n",
       "        vertical-align: top;\n",
       "    }\n",
       "\n",
       "    .dataframe thead th {\n",
       "        text-align: right;\n",
       "    }\n",
       "</style>\n",
       "<table border=\"1\" class=\"dataframe\">\n",
       "  <thead>\n",
       "    <tr style=\"text-align: right;\">\n",
       "      <th></th>\n",
       "      <th>host_listings_count</th>\n",
       "      <th>host_total_listings_count</th>\n",
       "      <th>latitude</th>\n",
       "      <th>longitude</th>\n",
       "      <th>accommodates</th>\n",
       "      <th>bathrooms</th>\n",
       "      <th>bedrooms</th>\n",
       "      <th>beds</th>\n",
       "      <th>guests_included</th>\n",
       "      <th>minimum_nights</th>\n",
       "      <th>...</th>\n",
       "      <th>phone</th>\n",
       "      <th>photographer</th>\n",
       "      <th>reviews</th>\n",
       "      <th>selfie</th>\n",
       "      <th>sent_id</th>\n",
       "      <th>sesame</th>\n",
       "      <th>sesame_offline</th>\n",
       "      <th>weibo</th>\n",
       "      <th>work_email</th>\n",
       "      <th>zhima_selfie</th>\n",
       "    </tr>\n",
       "  </thead>\n",
       "  <tbody>\n",
       "    <tr>\n",
       "      <th>0</th>\n",
       "      <td>1.0</td>\n",
       "      <td>1.0</td>\n",
       "      <td>37.76931</td>\n",
       "      <td>-122.43386</td>\n",
       "      <td>3.0</td>\n",
       "      <td>1.0</td>\n",
       "      <td>1.0</td>\n",
       "      <td>2.0</td>\n",
       "      <td>2.0</td>\n",
       "      <td>1</td>\n",
       "      <td>...</td>\n",
       "      <td>1</td>\n",
       "      <td>0</td>\n",
       "      <td>1</td>\n",
       "      <td>0</td>\n",
       "      <td>0</td>\n",
       "      <td>0</td>\n",
       "      <td>0</td>\n",
       "      <td>0</td>\n",
       "      <td>0</td>\n",
       "      <td>0</td>\n",
       "    </tr>\n",
       "    <tr>\n",
       "      <th>1</th>\n",
       "      <td>2.0</td>\n",
       "      <td>2.0</td>\n",
       "      <td>37.74511</td>\n",
       "      <td>-122.42102</td>\n",
       "      <td>5.0</td>\n",
       "      <td>1.0</td>\n",
       "      <td>2.0</td>\n",
       "      <td>3.0</td>\n",
       "      <td>2.0</td>\n",
       "      <td>30</td>\n",
       "      <td>...</td>\n",
       "      <td>1</td>\n",
       "      <td>0</td>\n",
       "      <td>1</td>\n",
       "      <td>0</td>\n",
       "      <td>0</td>\n",
       "      <td>0</td>\n",
       "      <td>0</td>\n",
       "      <td>0</td>\n",
       "      <td>1</td>\n",
       "      <td>0</td>\n",
       "    </tr>\n",
       "    <tr>\n",
       "      <th>2</th>\n",
       "      <td>10.0</td>\n",
       "      <td>10.0</td>\n",
       "      <td>37.76669</td>\n",
       "      <td>-122.45250</td>\n",
       "      <td>2.0</td>\n",
       "      <td>4.0</td>\n",
       "      <td>1.0</td>\n",
       "      <td>1.0</td>\n",
       "      <td>1.0</td>\n",
       "      <td>32</td>\n",
       "      <td>...</td>\n",
       "      <td>1</td>\n",
       "      <td>0</td>\n",
       "      <td>1</td>\n",
       "      <td>0</td>\n",
       "      <td>0</td>\n",
       "      <td>0</td>\n",
       "      <td>0</td>\n",
       "      <td>0</td>\n",
       "      <td>0</td>\n",
       "      <td>0</td>\n",
       "    </tr>\n",
       "    <tr>\n",
       "      <th>3</th>\n",
       "      <td>10.0</td>\n",
       "      <td>10.0</td>\n",
       "      <td>37.76487</td>\n",
       "      <td>-122.45183</td>\n",
       "      <td>2.0</td>\n",
       "      <td>4.0</td>\n",
       "      <td>1.0</td>\n",
       "      <td>1.0</td>\n",
       "      <td>1.0</td>\n",
       "      <td>32</td>\n",
       "      <td>...</td>\n",
       "      <td>1</td>\n",
       "      <td>0</td>\n",
       "      <td>1</td>\n",
       "      <td>0</td>\n",
       "      <td>0</td>\n",
       "      <td>0</td>\n",
       "      <td>0</td>\n",
       "      <td>0</td>\n",
       "      <td>0</td>\n",
       "      <td>0</td>\n",
       "    </tr>\n",
       "    <tr>\n",
       "      <th>4</th>\n",
       "      <td>2.0</td>\n",
       "      <td>2.0</td>\n",
       "      <td>37.77525</td>\n",
       "      <td>-122.43637</td>\n",
       "      <td>5.0</td>\n",
       "      <td>1.5</td>\n",
       "      <td>2.0</td>\n",
       "      <td>2.0</td>\n",
       "      <td>2.0</td>\n",
       "      <td>4</td>\n",
       "      <td>...</td>\n",
       "      <td>1</td>\n",
       "      <td>0</td>\n",
       "      <td>1</td>\n",
       "      <td>0</td>\n",
       "      <td>0</td>\n",
       "      <td>0</td>\n",
       "      <td>0</td>\n",
       "      <td>0</td>\n",
       "      <td>0</td>\n",
       "      <td>0</td>\n",
       "    </tr>\n",
       "  </tbody>\n",
       "</table>\n",
       "<p>5 rows × 661 columns</p>\n",
       "</div>"
      ],
      "text/plain": [
       "   host_listings_count  host_total_listings_count  latitude  longitude  \\\n",
       "0                  1.0                        1.0  37.76931 -122.43386   \n",
       "1                  2.0                        2.0  37.74511 -122.42102   \n",
       "2                 10.0                       10.0  37.76669 -122.45250   \n",
       "3                 10.0                       10.0  37.76487 -122.45183   \n",
       "4                  2.0                        2.0  37.77525 -122.43637   \n",
       "\n",
       "   accommodates  bathrooms  bedrooms  beds  guests_included  minimum_nights  \\\n",
       "0           3.0        1.0       1.0   2.0              2.0               1   \n",
       "1           5.0        1.0       2.0   3.0              2.0              30   \n",
       "2           2.0        4.0       1.0   1.0              1.0              32   \n",
       "3           2.0        4.0       1.0   1.0              1.0              32   \n",
       "4           5.0        1.5       2.0   2.0              2.0               4   \n",
       "\n",
       "   ...  phone  photographer  reviews  selfie  sent_id  sesame  sesame_offline  \\\n",
       "0  ...      1             0        1       0        0       0               0   \n",
       "1  ...      1             0        1       0        0       0               0   \n",
       "2  ...      1             0        1       0        0       0               0   \n",
       "3  ...      1             0        1       0        0       0               0   \n",
       "4  ...      1             0        1       0        0       0               0   \n",
       "\n",
       "   weibo  work_email  zhima_selfie  \n",
       "0      0           0             0  \n",
       "1      0           1             0  \n",
       "2      0           0             0  \n",
       "3      0           0             0  \n",
       "4      0           0             0  \n",
       "\n",
       "[5 rows x 661 columns]"
      ]
     },
     "execution_count": 110,
     "metadata": {},
     "output_type": "execute_result"
    }
   ],
   "source": [
    "X.head()"
   ]
  },
  {
   "cell_type": "code",
   "execution_count": 111,
   "metadata": {
    "scrolled": true
   },
   "outputs": [
    {
     "data": {
      "text/plain": [
       "(58237, 661)"
      ]
     },
     "execution_count": 111,
     "metadata": {},
     "output_type": "execute_result"
    }
   ],
   "source": [
    "X.shape"
   ]
  },
  {
   "cell_type": "code",
   "execution_count": 112,
   "metadata": {},
   "outputs": [],
   "source": [
    "feature_names = X.columns.values"
   ]
  },
  {
   "cell_type": "code",
   "execution_count": 113,
   "metadata": {},
   "outputs": [
    {
     "data": {
      "text/plain": [
       "(661,)"
      ]
     },
     "execution_count": 113,
     "metadata": {},
     "output_type": "execute_result"
    }
   ],
   "source": [
    "feature_names.shape"
   ]
  },
  {
   "cell_type": "markdown",
   "metadata": {},
   "source": [
    "## Feature Scaling (All)"
   ]
  },
  {
   "cell_type": "markdown",
   "metadata": {},
   "source": [
    "Now standardizing our train data using the `StandardScaler`."
   ]
  },
  {
   "cell_type": "code",
   "execution_count": 114,
   "metadata": {},
   "outputs": [],
   "source": [
    "std = StandardScaler()"
   ]
  },
  {
   "cell_type": "code",
   "execution_count": 115,
   "metadata": {},
   "outputs": [],
   "source": [
    "X = std.fit_transform(X)"
   ]
  },
  {
   "cell_type": "code",
   "execution_count": 116,
   "metadata": {},
   "outputs": [
    {
     "data": {
      "text/plain": [
       "(58237, 661)"
      ]
     },
     "execution_count": 116,
     "metadata": {},
     "output_type": "execute_result"
    }
   ],
   "source": [
    "X.shape"
   ]
  },
  {
   "cell_type": "markdown",
   "metadata": {},
   "source": [
    "## Feature Selection / Dimensionality Reduction"
   ]
  },
  {
   "cell_type": "markdown",
   "metadata": {},
   "source": [
    "### ANOVA\n",
    "\n",
    "I'd like to practice using ANOVA since I haven't used it before. So, I'm using ANOVA to initially select the best 30% features"
   ]
  },
  {
   "cell_type": "code",
   "execution_count": 117,
   "metadata": {},
   "outputs": [],
   "source": [
    "fvalue_selector = SelectPercentile(f_classif,percentile=30)"
   ]
  },
  {
   "cell_type": "code",
   "execution_count": 118,
   "metadata": {},
   "outputs": [
    {
     "name": "stderr",
     "output_type": "stream",
     "text": [
      "/Users/patrickdeguzman/anaconda3/lib/python3.7/site-packages/sklearn/feature_selection/univariate_selection.py:114: UserWarning: Features [649] are constant.\n",
      "  UserWarning)\n",
      "/Users/patrickdeguzman/anaconda3/lib/python3.7/site-packages/sklearn/feature_selection/univariate_selection.py:115: RuntimeWarning: invalid value encountered in true_divide\n",
      "  f = msb / msw\n"
     ]
    }
   ],
   "source": [
    "X_best = fvalue_selector.fit_transform(X,y)"
   ]
  },
  {
   "cell_type": "code",
   "execution_count": 119,
   "metadata": {},
   "outputs": [],
   "source": [
    "mask = fvalue_selector.get_support(indices=True)"
   ]
  },
  {
   "cell_type": "code",
   "execution_count": 120,
   "metadata": {},
   "outputs": [],
   "source": [
    "f_val_features = feature_names[mask]"
   ]
  },
  {
   "cell_type": "code",
   "execution_count": 121,
   "metadata": {},
   "outputs": [
    {
     "data": {
      "text/plain": [
       "(58237, 199)"
      ]
     },
     "execution_count": 121,
     "metadata": {},
     "output_type": "execute_result"
    }
   ],
   "source": [
    "X_best.shape"
   ]
  },
  {
   "cell_type": "markdown",
   "metadata": {},
   "source": [
    "### PCA"
   ]
  },
  {
   "cell_type": "markdown",
   "metadata": {},
   "source": [
    "I'd also like to further reduce dimensionality by running PCA on our best 30% features found with ANOVA above.\n",
    "\n",
    "I want to have enough components to have 85% variance explained, so I'll test run with 75 components to see how much variance that explains, and go from there."
   ]
  },
  {
   "cell_type": "code",
   "execution_count": 122,
   "metadata": {},
   "outputs": [],
   "source": [
    "pca = PCA(75)"
   ]
  },
  {
   "cell_type": "code",
   "execution_count": 123,
   "metadata": {},
   "outputs": [],
   "source": [
    "X_pca = pca.fit_transform(X_best)"
   ]
  },
  {
   "cell_type": "code",
   "execution_count": 124,
   "metadata": {},
   "outputs": [
    {
     "data": {
      "text/plain": [
       "0.7179129999234619"
      ]
     },
     "execution_count": 124,
     "metadata": {},
     "output_type": "execute_result"
    }
   ],
   "source": [
    "pca.explained_variance_ratio_.sum()"
   ]
  },
  {
   "cell_type": "markdown",
   "metadata": {},
   "source": [
    "So we have about 72% variance explained with the first 75 principal components. Let's keep going until we have 85%."
   ]
  },
  {
   "cell_type": "code",
   "execution_count": 125,
   "metadata": {},
   "outputs": [
    {
     "name": "stdout",
     "output_type": "stream",
     "text": [
      "0.8666531501852338\n",
      "110\n"
     ]
    }
   ],
   "source": [
    "n_components = [100,105,110,115,120,125]\n",
    "for n in n_components:\n",
    "    pca = PCA(n)\n",
    "    X_pca = pca.fit_transform(X_best)\n",
    "    if pca.explained_variance_ratio_.sum() >= .85:\n",
    "        break\n",
    "        \n",
    "print(pca.explained_variance_ratio_.sum())\n",
    "print(pca.n_components)"
   ]
  },
  {
   "cell_type": "code",
   "execution_count": 126,
   "metadata": {},
   "outputs": [
    {
     "data": {
      "image/png": "[encoded data removed]",
      "text/plain": [
       "<Figure size 936x360 with 1 Axes>"
      ]
     },
     "metadata": {
      "needs_background": "light"
     },
     "output_type": "display_data"
    }
   ],
   "source": [
    "ticks = np.arange(pca.n_components)\n",
    "values = pca.explained_variance_ratio_\n",
    "\n",
    "plt.figure(figsize = (13,5))\n",
    "ax = plt.subplot(111)\n",
    "cumvals = np.cumsum(values)\n",
    "ax.bar(ticks,values)\n",
    "ax.plot(ticks,cumvals)\n",
    "\n",
    "ax.xaxis.set_tick_params(width=1)\n",
    "ax.yaxis.set_tick_params(width=2,length=12)\n",
    "\n",
    "ax.set_xlabel(\"No. Principal Components\")\n",
    "ax.set_ylabel(\"Variance Explained (%)\")\n",
    "plt.title('Explained Variance Per Principal Component\\nScree Plot')\n",
    "plt.show()"
   ]
  },
  {
   "cell_type": "markdown",
   "metadata": {},
   "source": [
    "So we now have 110 principal components that explain 87% of our variance. Let's keep going."
   ]
  },
  {
   "cell_type": "markdown",
   "metadata": {},
   "source": [
    "### Recursive Feature Elimination with Cross Validation\n",
    "\n",
    "RFECV can be a very useful tool to figure out which features are most important. It will train a model on all features, score it via cross validation, then recursively eliminate features and score until the score doesn't increase anymore.\n",
    "\n",
    "In theory, we are left with the most important features (in our case, principal components). Let's see what we get using a Linear model on our principal components..."
   ]
  },
  {
   "cell_type": "code",
   "execution_count": 127,
   "metadata": {},
   "outputs": [],
   "source": [
    "ols = LinearRegression()"
   ]
  },
  {
   "cell_type": "code",
   "execution_count": 128,
   "metadata": {},
   "outputs": [],
   "source": [
    "rfecv_ols = RFECV(estimator=ols, step=1, scoring='neg_mean_squared_error', cv=3)"
   ]
  },
  {
   "cell_type": "code",
   "execution_count": 129,
   "metadata": {},
   "outputs": [
    {
     "name": "stdout",
     "output_type": "stream",
     "text": [
      "CPU times: user 54.6 s, sys: 3.71 s, total: 58.3 s\n",
      "Wall time: 34.7 s\n"
     ]
    },
    {
     "data": {
      "text/plain": [
       "RFECV(cv=3,\n",
       "      estimator=LinearRegression(copy_X=True, fit_intercept=True, n_jobs=None,\n",
       "                                 normalize=False),\n",
       "      min_features_to_select=1, n_jobs=None, scoring='neg_mean_squared_error',\n",
       "      step=1, verbose=0)"
      ]
     },
     "execution_count": 129,
     "metadata": {},
     "output_type": "execute_result"
    }
   ],
   "source": [
    "%time rfecv_ols.fit(X_pca,y)"
   ]
  },
  {
   "cell_type": "code",
   "execution_count": 136,
   "metadata": {},
   "outputs": [
    {
     "data": {
      "text/plain": [
       "5"
      ]
     },
     "execution_count": 136,
     "metadata": {},
     "output_type": "execute_result"
    }
   ],
   "source": [
    "rfecv_ols.n_features_"
   ]
  },
  {
   "cell_type": "code",
   "execution_count": 131,
   "metadata": {
    "scrolled": false
   },
   "outputs": [
    {
     "name": "stdout",
     "output_type": "stream",
     "text": [
      "Principal Components Kept...\n",
      "Principal Component 3\n",
      "Principal Component 4\n",
      "Principal Component 7\n",
      "Principal Component 9\n",
      "Principal Component 20\n"
     ]
    }
   ],
   "source": [
    "pc_kept = []\n",
    "i = 1\n",
    "print('Principal Components Kept...')\n",
    "for boolean in rfecv_ols.support_:\n",
    "    if boolean == True:\n",
    "        print(f'Principal Component {i}')\n",
    "        pc_kept.append(i)\n",
    "    i += 1"
   ]
  },
  {
   "cell_type": "code",
   "execution_count": 222,
   "metadata": {
    "scrolled": false
   },
   "outputs": [
    {
     "name": "stdout",
     "output_type": "stream",
     "text": [
      "Respective Linear Regression Princpal Component Coefficients...\n",
      "\n",
      "PC3: -25.91075\n",
      "PC4: -26.06227\n",
      "PC7: 33.92885\n",
      "PC9: 23.89627\n",
      "PC20: 27.11547\n"
     ]
    }
   ],
   "source": [
    "print('Respective Linear Regression Princpal Component Coefficients...\\n')\n",
    "for comp,coef in zip(pc_kept,rfecv_ols.estimator_.coef_):\n",
    "    print(f'PC{comp}: {coef:.5f}')"
   ]
  },
  {
   "cell_type": "markdown",
   "metadata": {},
   "source": [
    "Now we have enough information for **quick and dirty** analysis. We *can* pick a few of these Principal Components and try to interpret what they describe, but first, I'd like to run a RandomForest ensemble and compare the RandomForest's `feature_importances_` to this list of principal components leftover from `RFECV`."
   ]
  },
  {
   "cell_type": "markdown",
   "metadata": {},
   "source": [
    "# ML Model Training & Feature Importances"
   ]
  },
  {
   "cell_type": "markdown",
   "metadata": {},
   "source": [
    "I want to see if a trained Random Forest regressor's `feature_importancees_` agrees with our findings from RFECV. Below, I'll train a Random Forest on the 30% best features we found through ANOVA."
   ]
  },
  {
   "cell_type": "code",
   "execution_count": 132,
   "metadata": {},
   "outputs": [],
   "source": [
    "rf_reg = RandomForestRegressor(n_estimators=75)"
   ]
  },
  {
   "cell_type": "code",
   "execution_count": 133,
   "metadata": {},
   "outputs": [
    {
     "data": {
      "text/plain": [
       "RandomForestRegressor(bootstrap=True, criterion='mse', max_depth=None,\n",
       "                      max_features='auto', max_leaf_nodes=None,\n",
       "                      min_impurity_decrease=0.0, min_impurity_split=None,\n",
       "                      min_samples_leaf=1, min_samples_split=2,\n",
       "                      min_weight_fraction_leaf=0.0, n_estimators=75,\n",
       "                      n_jobs=None, oob_score=False, random_state=None,\n",
       "                      verbose=0, warm_start=False)"
      ]
     },
     "execution_count": 133,
     "metadata": {},
     "output_type": "execute_result"
    }
   ],
   "source": [
    "rf_reg.fit(X_best,y)"
   ]
  },
  {
   "cell_type": "code",
   "execution_count": 134,
   "metadata": {},
   "outputs": [],
   "source": [
    "i = 1\n",
    "component_names = []\n",
    "while i <= len(rf_reg.feature_importances_):\n",
    "    comp_name = 'Comp '+ str(i)\n",
    "    component_names.append(comp_name)\n",
    "    i += 1"
   ]
  },
  {
   "cell_type": "code",
   "execution_count": 137,
   "metadata": {
    "scrolled": true
   },
   "outputs": [
    {
     "data": {
      "image/png": "[encoded data removed]",
      "text/plain": [
       "<Figure size 432x288 with 1 Axes>"
      ]
     },
     "metadata": {
      "needs_background": "light"
     },
     "output_type": "display_data"
    }
   ],
   "source": [
    "importances = rf_reg.feature_importances_\n",
    "\n",
    "# Grabbing the top 15 indices that would sort the feature importances according to their importance rating\n",
    "indices=np.argsort(importances)[-5:]\n",
    "\n",
    "# Grabbing an array of all the feature names\n",
    "features = np.array(component_names)\n",
    "\n",
    "# Plotting\n",
    "plt.figure()\n",
    "plt.title(\"Feature importances\")\n",
    "plt.barh(range(len(indices)), importances[indices],\n",
    "       color=\"r\", align=\"center\")\n",
    "plt.yticks(range(len(indices)), features[indices])\n",
    "plt.show()"
   ]
  },
  {
   "cell_type": "markdown",
   "metadata": {},
   "source": [
    "According to our Random Forest Regressor, the plot above shows the top most important Principal Components. \n",
    "\n",
    "Let's compare this to our RFECV most important Principal Components.\n",
    "\n",
    "---\n",
    "## Revisiting Exploratory Question 3\n",
    "\n",
    "Now that we have a clearer picture of the the most important Principal Components per RFECV with Linear Regression and Random Forest Regression, we're ready to tackle the question...\n",
    "\n",
    "*What are the strongest predictors for price?* \n",
    "\n",
    "---\n",
    "\n",
    "But first, a quick recap of what we've done since our initial Exploratory Data Analysis:\n",
    "\n",
    "1. Prepared Data for ML Algorithms (Removed some rows & columns, imputed missing values, feature scaling, and encoding)\n",
    "2. Reduced Dimensionality via ANOVA, then PCA\n",
    "3. Algorithm Analysis\n",
    "    - Performed RFECV with a LinearRegression algorithm to obtain a list of 5 components that were the optimum 5 features to use with a Linear Model\n",
    "    - Trained a Random Forest Regressor on our dataset to obtain the top 5 most important components calculated by the Random Forest algorithm.\n",
    "5. Now we're comparing these principal components and interpretting them to understand **what are important predictors for price**.\n",
    "\n",
    "Below is a table summary showing the 5 components left after performing RFECV and the top 5 most important components per Random Forest Regression\n",
    "\n",
    "| Principal Component | From RFECV | From RF Reg |\n",
    "| --- | --- | --- |\n",
    "| Principal Component 1 | - | x |\n",
    "| Principal Component 2 | - | x |\n",
    "| Principal Component 3 | x | x |\n",
    "| Principal Component 4 | x | - |\n",
    "| Principal Component 5 | - | x |\n",
    "| Principal Component 6 | - | x |\n",
    "| Principal Component 7 | x | - |\n",
    "| Principal Component 9 | x | - |\n",
    "| Principal Component 20 | x | - |\n",
    "\n",
    "\n",
    "As you can see, both analyses highlighted principle component 3. Let's examine the features in this component. Additionally, the largest positive coefficient from the Linear Regression used in RFECV is associated with Principal Component 7, and the most important feature per the Random Forest Regressor is Principal Component 2, so we'll take a look at these as well."
   ]
  },
  {
   "cell_type": "code",
   "execution_count": 254,
   "metadata": {},
   "outputs": [],
   "source": [
    "def plot_pca_dim(pca,feat_names,dim,features,fontsize=8):\n",
    "    '''\n",
    "    For a given fitted PCA object, the given component, and a given number of features, this plots\n",
    "    the scaled coefficients for this particular component.\n",
    "    \n",
    "    Inputs:\n",
    "    pca: PCA object\n",
    "    feat_names: feature names from original pre-PCA dataset\n",
    "    dim: component that you want to inspect\n",
    "    features: number of most positive and most negative features to display\n",
    "    \n",
    "    '''\n",
    "\n",
    "    names_to_weights = sorted(zip(pca.components_[dim],feat_names),reverse=False)\n",
    "    names_to_weights = np.array(names_to_weights)\n",
    "\n",
    "    nm_to_wt_df = pd.DataFrame(names_to_weights,columns=['coef','feature'])\n",
    "    nm_to_wt_df = pd.concat([nm_to_wt_df.head(features),nm_to_wt_df.tail(features)])\n",
    "    nm_to_wt_df['coef'] = nm_to_wt_df['coef'].astype(float)\n",
    "    \n",
    "    fig = px.bar(nm_to_wt_df,y='feature',x='coef',\n",
    "           color='coef',color_continuous_scale=px.colors.sequential.Sunsetdark,\n",
    "           labels = {'coef': 'Coefficients','feature':''},\n",
    "           height=450,width=800,orientation='h',title='Principal Component '+str(dim+1)+' Coefficients',\n",
    "           hover_name='feature')\n",
    "    \n",
    "    fig.update_yaxes(tickfont=dict(size=fontsize))\n",
    "    fig.update_xaxes(tickfont=dict(size=fontsize))\n",
    "                    \n",
    "    return fig"
   ]
  },
  {
   "cell_type": "code",
   "execution_count": 291,
   "metadata": {},
   "outputs": [],
   "source": [
    "def get_index_where_value(arr,value):\n",
    "    \"\"\"\n",
    "    Returns index of array where that array's value equals input value.\n",
    "    \n",
    "    Inputs...\n",
    "    arr: input array to search\n",
    "    value: value to search\n",
    "    \n",
    "    Returns: Index Position or None\n",
    "    \"\"\"\n",
    "    try: \n",
    "        return np.argwhere(np.where(arr==value,arr,None))[0][0]\n",
    "    except: \n",
    "        return None"
   ]
  },
  {
   "cell_type": "markdown",
   "metadata": {},
   "source": [
    "## Component 3"
   ]
  },
  {
   "cell_type": "code",
   "execution_count": 255,
   "metadata": {
    "scrolled": false
   },
   "outputs": [
    {
     "data": {
      "application/vnd.plotly.v1+json": {
       "config": {
        "linkText": "Export to plot.ly",
        "plotlyServerURL": "https://plot.ly",
        "responsive": true,
        "showLink": false
       },
       "data": [
        {
         "alignmentgroup": "True",
         "hoverlabel": {
          "namelength": 0
         },
         "hovertemplate": "<b>%{hovertext}</b><br><br>Coefficients=%{marker.color}<br>=%{y}",
         "hovertext": [
          "microwave",
          "coffee maker",
          "dishwasher",
          "accommodates",
          "oven",
          "beds",
          "patio or balcony",
          "bed linens",
          "iron",
          "self check-in",
          "walk-in shower",
          "breakfast table",
          "netflix",
          "smart tv",
          "cancellation_policy_flexible",
          "room_type_Private room",
          "property_type_Apartment",
          "longitude",
          "latitude",
          "state_NY"
         ],
         "legendgroup": "",
         "marker": {
          "cmax": 0.16432902794418158,
          "cmin": -0.172000833419996,
          "color": [
           -0.172000833419996,
           -0.17177586652159338,
           -0.17052948719178745,
           -0.16664752336102764,
           -0.16580755231977987,
           -0.1514241397091664,
           -0.14536842356200416,
           -0.14401810508275278,
           -0.14078009816760914,
           -0.138917682183645,
           0.07018183622655512,
           0.07045370632536811,
           0.07361172163425615,
           0.07439184516521907,
           0.10332753872938921,
           0.11147714135020576,
           0.12129977270624205,
           0.14451819322678391,
           0.15022241956871146,
           0.16432902794418158
          ],
          "colorbar": {
           "title": {
            "text": "Coefficients"
           }
          },
          "colorscale": [
           [
            0,
            "rgb(252, 222, 156)"
           ],
           [
            0.16666666666666666,
            "rgb(250, 164, 118)"
           ],
           [
            0.3333333333333333,
            "rgb(240, 116, 110)"
           ],
           [
            0.5,
            "rgb(227, 79, 111)"
           ],
           [
            0.6666666666666666,
            "rgb(220, 57, 119)"
           ],
           [
            0.8333333333333334,
            "rgb(185, 37, 122)"
           ],
           [
            1,
            "rgb(124, 29, 111)"
           ]
          ],
          "showscale": true
         },
         "name": "",
         "offsetgroup": "",
         "orientation": "h",
         "showlegend": false,
         "textposition": "auto",
         "type": "bar",
         "uid": "94449f31-ece9-4edd-a74e-e879ae153ffa",
         "x": [
          -0.172000833419996,
          -0.17177586652159338,
          -0.17052948719178745,
          -0.16664752336102764,
          -0.16580755231977987,
          -0.1514241397091664,
          -0.14536842356200416,
          -0.14401810508275278,
          -0.14078009816760914,
          -0.138917682183645,
          0.07018183622655512,
          0.07045370632536811,
          0.07361172163425615,
          0.07439184516521907,
          0.10332753872938921,
          0.11147714135020576,
          0.12129977270624205,
          0.14451819322678391,
          0.15022241956871146,
          0.16432902794418158
         ],
         "xaxis": "x",
         "y": [
          "microwave",
          "coffee maker",
          "dishwasher",
          "accommodates",
          "oven",
          "beds",
          "patio or balcony",
          "bed linens",
          "iron",
          "self check-in",
          "walk-in shower",
          "breakfast table",
          "netflix",
          "smart tv",
          "cancellation_policy_flexible",
          "room_type_Private room",
          "property_type_Apartment",
          "longitude",
          "latitude",
          "state_NY"
         ],
         "yaxis": "y"
        }
       ],
       "layout": {
        "barmode": "relative",
        "grid": {
         "xaxes": [
          "x"
         ],
         "xgap": 0.1,
         "xside": "bottom",
         "yaxes": [
          "y"
         ],
         "ygap": 0.1,
         "yside": "left"
        },
        "height": 450,
        "legend": {
         "tracegroupgap": 0
        },
        "template": {
         "data": {
          "bar": [
           {
            "marker": {
             "line": {
              "color": "#E5ECF6",
              "width": 0.5
             }
            },
            "type": "bar"
           }
          ],
          "barpolar": [
           {
            "marker": {
             "line": {
              "color": "#E5ECF6",
              "width": 0.5
             }
            },
            "type": "barpolar"
           }
          ],
          "carpet": [
           {
            "aaxis": {
             "endlinecolor": "#2a3f5f",
             "gridcolor": "white",
             "linecolor": "white",
             "minorgridcolor": "white",
             "startlinecolor": "#2a3f5f"
            },
            "baxis": {
             "endlinecolor": "#2a3f5f",
             "gridcolor": "white",
             "linecolor": "white",
             "minorgridcolor": "white",
             "startlinecolor": "#2a3f5f"
            },
            "type": "carpet"
           }
          ],
          "choropleth": [
           {
            "colorbar": {
             "outlinewidth": 0,
             "ticks": ""
            },
            "type": "choropleth"
           }
          ],
          "contour": [
           {
            "colorbar": {
             "outlinewidth": 0,
             "ticks": ""
            },
            "colorscale": [
             [
              0,
              "#0508b8"
             ],
             [
              0.0893854748603352,
              "#1910d8"
             ],
             [
              0.1787709497206704,
              "#3c19f0"
             ],
             [
              0.2681564245810056,
              "#6b1cfb"
             ],
             [
              0.3575418994413408,
              "#981cfd"
             ],
             [
              0.44692737430167595,
              "#bf1cfd"
             ],
             [
              0.5363128491620112,
              "#dd2bfd"
             ],
             [
              0.6256983240223464,
              "#f246fe"
             ],
             [
              0.7150837988826816,
              "#fc67fd"
             ],
             [
              0.8044692737430168,
              "#fe88fc"
             ],
             [
              0.8938547486033519,
              "#fea5fd"
             ],
             [
              0.9832402234636871,
              "#febefe"
             ],
             [
              1,
              "#fec3fe"
             ]
            ],
            "type": "contour"
           }
          ],
          "contourcarpet": [
           {
            "colorbar": {
             "outlinewidth": 0,
             "ticks": ""
            },
            "type": "contourcarpet"
           }
          ],
          "heatmap": [
           {
            "colorbar": {
             "outlinewidth": 0,
             "ticks": ""
            },
            "colorscale": [
             [
              0,
              "#0508b8"
             ],
             [
              0.0893854748603352,
              "#1910d8"
             ],
             [
              0.1787709497206704,
              "#3c19f0"
             ],
             [
              0.2681564245810056,
              "#6b1cfb"
             ],
             [
              0.3575418994413408,
              "#981cfd"
             ],
             [
              0.44692737430167595,
              "#bf1cfd"
             ],
             [
              0.5363128491620112,
              "#dd2bfd"
             ],
             [
              0.6256983240223464,
              "#f246fe"
             ],
             [
              0.7150837988826816,
              "#fc67fd"
             ],
             [
              0.8044692737430168,
              "#fe88fc"
             ],
             [
              0.8938547486033519,
              "#fea5fd"
             ],
             [
              0.9832402234636871,
              "#febefe"
             ],
             [
              1,
              "#fec3fe"
             ]
            ],
            "type": "heatmap"
           }
          ],
          "heatmapgl": [
           {
            "colorbar": {
             "outlinewidth": 0,
             "ticks": ""
            },
            "type": "heatmapgl"
           }
          ],
          "histogram": [
           {
            "marker": {
             "colorbar": {
              "outlinewidth": 0,
              "ticks": ""
             }
            },
            "type": "histogram"
           }
          ],
          "histogram2d": [
           {
            "colorbar": {
             "outlinewidth": 0,
             "ticks": ""
            },
            "colorscale": [
             [
              0,
              "#0508b8"
             ],
             [
              0.0893854748603352,
              "#1910d8"
             ],
             [
              0.1787709497206704,
              "#3c19f0"
             ],
             [
              0.2681564245810056,
              "#6b1cfb"
             ],
             [
              0.3575418994413408,
              "#981cfd"
             ],
             [
              0.44692737430167595,
              "#bf1cfd"
             ],
             [
              0.5363128491620112,
              "#dd2bfd"
             ],
             [
              0.6256983240223464,
              "#f246fe"
             ],
             [
              0.7150837988826816,
              "#fc67fd"
             ],
             [
              0.8044692737430168,
              "#fe88fc"
             ],
             [
              0.8938547486033519,
              "#fea5fd"
             ],
             [
              0.9832402234636871,
              "#febefe"
             ],
             [
              1,
              "#fec3fe"
             ]
            ],
            "type": "histogram2d"
           }
          ],
          "histogram2dcontour": [
           {
            "colorbar": {
             "outlinewidth": 0,
             "ticks": ""
            },
            "colorscale": [
             [
              0,
              "#0508b8"
             ],
             [
              0.0893854748603352,
              "#1910d8"
             ],
             [
              0.1787709497206704,
              "#3c19f0"
             ],
             [
              0.2681564245810056,
              "#6b1cfb"
             ],
             [
              0.3575418994413408,
              "#981cfd"
             ],
             [
              0.44692737430167595,
              "#bf1cfd"
             ],
             [
              0.5363128491620112,
              "#dd2bfd"
             ],
             [
              0.6256983240223464,
              "#f246fe"
             ],
             [
              0.7150837988826816,
              "#fc67fd"
             ],
             [
              0.8044692737430168,
              "#fe88fc"
             ],
             [
              0.8938547486033519,
              "#fea5fd"
             ],
             [
              0.9832402234636871,
              "#febefe"
             ],
             [
              1,
              "#fec3fe"
             ]
            ],
            "type": "histogram2dcontour"
           }
          ],
          "mesh3d": [
           {
            "colorbar": {
             "outlinewidth": 0,
             "ticks": ""
            },
            "type": "mesh3d"
           }
          ],
          "parcoords": [
           {
            "line": {
             "colorbar": {
              "outlinewidth": 0,
              "ticks": ""
             }
            },
            "type": "parcoords"
           }
          ],
          "scatter": [
           {
            "marker": {
             "colorbar": {
              "outlinewidth": 0,
              "ticks": ""
             }
            },
            "type": "scatter"
           }
          ],
          "scatter3d": [
           {
            "marker": {
             "colorbar": {
              "outlinewidth": 0,
              "ticks": ""
             }
            },
            "type": "scatter3d"
           }
          ],
          "scattercarpet": [
           {
            "marker": {
             "colorbar": {
              "outlinewidth": 0,
              "ticks": ""
             }
            },
            "type": "scattercarpet"
           }
          ],
          "scattergeo": [
           {
            "marker": {
             "colorbar": {
              "outlinewidth": 0,
              "ticks": ""
             }
            },
            "type": "scattergeo"
           }
          ],
          "scattergl": [
           {
            "marker": {
             "colorbar": {
              "outlinewidth": 0,
              "ticks": ""
             }
            },
            "type": "scattergl"
           }
          ],
          "scattermapbox": [
           {
            "marker": {
             "colorbar": {
              "outlinewidth": 0,
              "ticks": ""
             }
            },
            "type": "scattermapbox"
           }
          ],
          "scatterpolar": [
           {
            "marker": {
             "colorbar": {
              "outlinewidth": 0,
              "ticks": ""
             }
            },
            "type": "scatterpolar"
           }
          ],
          "scatterpolargl": [
           {
            "marker": {
             "colorbar": {
              "outlinewidth": 0,
              "ticks": ""
             }
            },
            "type": "scatterpolargl"
           }
          ],
          "scatterternary": [
           {
            "marker": {
             "colorbar": {
              "outlinewidth": 0,
              "ticks": ""
             }
            },
            "type": "scatterternary"
           }
          ],
          "surface": [
           {
            "colorbar": {
             "outlinewidth": 0,
             "ticks": ""
            },
            "type": "surface"
           }
          ],
          "table": [
           {
            "cells": {
             "fill": {
              "color": "#EBF0F8"
             },
             "line": {
              "color": "white"
             }
            },
            "header": {
             "fill": {
              "color": "#C8D4E3"
             },
             "line": {
              "color": "white"
             }
            },
            "type": "table"
           }
          ]
         },
         "layout": {
          "annotationdefaults": {
           "arrowcolor": "#506784",
           "arrowhead": 0,
           "arrowwidth": 1
          },
          "colorscale": {
           "diverging": [
            [
             0,
             "#8e0152"
            ],
            [
             0.1,
             "#c51b7d"
            ],
            [
             0.2,
             "#de77ae"
            ],
            [
             0.3,
             "#f1b6da"
            ],
            [
             0.4,
             "#fde0ef"
            ],
            [
             0.5,
             "#f7f7f7"
            ],
            [
             0.6,
             "#e6f5d0"
            ],
            [
             0.7,
             "#b8e186"
            ],
            [
             0.8,
             "#7fbc41"
            ],
            [
             0.9,
             "#4d9221"
            ],
            [
             1,
             "#276419"
            ]
           ],
           "sequential": [
            [
             0,
             "#0508b8"
            ],
            [
             0.0893854748603352,
             "#1910d8"
            ],
            [
             0.1787709497206704,
             "#3c19f0"
            ],
            [
             0.2681564245810056,
             "#6b1cfb"
            ],
            [
             0.3575418994413408,
             "#981cfd"
            ],
            [
             0.44692737430167595,
             "#bf1cfd"
            ],
            [
             0.5363128491620112,
             "#dd2bfd"
            ],
            [
             0.6256983240223464,
             "#f246fe"
            ],
            [
             0.7150837988826816,
             "#fc67fd"
            ],
            [
             0.8044692737430168,
             "#fe88fc"
            ],
            [
             0.8938547486033519,
             "#fea5fd"
            ],
            [
             0.9832402234636871,
             "#febefe"
            ],
            [
             1,
             "#fec3fe"
            ]
           ],
           "sequentialminus": [
            [
             0,
             "#0508b8"
            ],
            [
             0.0893854748603352,
             "#1910d8"
            ],
            [
             0.1787709497206704,
             "#3c19f0"
            ],
            [
             0.2681564245810056,
             "#6b1cfb"
            ],
            [
             0.3575418994413408,
             "#981cfd"
            ],
            [
             0.44692737430167595,
             "#bf1cfd"
            ],
            [
             0.5363128491620112,
             "#dd2bfd"
            ],
            [
             0.6256983240223464,
             "#f246fe"
            ],
            [
             0.7150837988826816,
             "#fc67fd"
            ],
            [
             0.8044692737430168,
             "#fe88fc"
            ],
            [
             0.8938547486033519,
             "#fea5fd"
            ],
            [
             0.9832402234636871,
             "#febefe"
            ],
            [
             1,
             "#fec3fe"
            ]
           ]
          },
          "colorway": [
           "#636efa",
           "#EF553B",
           "#00cc96",
           "#ab63fa",
           "#19d3f3",
           "#e763fa",
           "#FECB52",
           "#FFA15A",
           "#FF6692",
           "#B6E880"
          ],
          "font": {
           "color": "#2a3f5f"
          },
          "geo": {
           "bgcolor": "white",
           "lakecolor": "white",
           "landcolor": "#E5ECF6",
           "showlakes": true,
           "showland": true,
           "subunitcolor": "white"
          },
          "hoverlabel": {
           "align": "left"
          },
          "hovermode": "closest",
          "mapbox": {
           "style": "light"
          },
          "paper_bgcolor": "white",
          "plot_bgcolor": "#E5ECF6",
          "polar": {
           "angularaxis": {
            "gridcolor": "white",
            "linecolor": "white",
            "ticks": ""
           },
           "bgcolor": "#E5ECF6",
           "radialaxis": {
            "gridcolor": "white",
            "linecolor": "white",
            "ticks": ""
           }
          },
          "scene": {
           "xaxis": {
            "backgroundcolor": "#E5ECF6",
            "gridcolor": "white",
            "gridwidth": 2,
            "linecolor": "white",
            "showbackground": true,
            "ticks": "",
            "zerolinecolor": "white"
           },
           "yaxis": {
            "backgroundcolor": "#E5ECF6",
            "gridcolor": "white",
            "gridwidth": 2,
            "linecolor": "white",
            "showbackground": true,
            "ticks": "",
            "zerolinecolor": "white"
           },
           "zaxis": {
            "backgroundcolor": "#E5ECF6",
            "gridcolor": "white",
            "gridwidth": 2,
            "linecolor": "white",
            "showbackground": true,
            "ticks": "",
            "zerolinecolor": "white"
           }
          },
          "shapedefaults": {
           "fillcolor": "#506784",
           "line": {
            "width": 0
           },
           "opacity": 0.4
          },
          "ternary": {
           "aaxis": {
            "gridcolor": "white",
            "linecolor": "white",
            "ticks": ""
           },
           "baxis": {
            "gridcolor": "white",
            "linecolor": "white",
            "ticks": ""
           },
           "bgcolor": "#E5ECF6",
           "caxis": {
            "gridcolor": "white",
            "linecolor": "white",
            "ticks": ""
           }
          },
          "title": {
           "x": 0.05
          },
          "xaxis": {
           "automargin": true,
           "gridcolor": "white",
           "linecolor": "white",
           "ticks": "",
           "zerolinecolor": "white",
           "zerolinewidth": 2
          },
          "yaxis": {
           "automargin": true,
           "gridcolor": "white",
           "linecolor": "white",
           "ticks": "",
           "zerolinecolor": "white",
           "zerolinewidth": 2
          }
         }
        },
        "title": {
         "text": "Principal Component 3 Coefficients"
        },
        "width": 800,
        "xaxis": {
         "tickfont": {
          "size": 8
         },
         "title": {
          "text": "Coefficients"
         }
        },
        "yaxis": {
         "tickfont": {
          "size": 8
         },
         "title": {
          "text": ""
         }
        }
       }
      },
      "text/html": [
       "<div>\n",
       "        \n",
       "        \n",
       "            <div id=\"fe6aa495-2eee-488e-ae7b-b571569a0876\" class=\"plotly-graph-div\" style=\"height:450px; width:800px;\"></div>\n",
       "            <script type=\"text/javascript\">\n",
       "                require([\"plotly\"], function(Plotly) {\n",
       "                    window.PLOTLYENV=window.PLOTLYENV || {};\n",
       "                    window.PLOTLYENV.BASE_URL='https://plot.ly';\n",
       "                    \n",
       "                if (document.getElementById(\"fe6aa495-2eee-488e-ae7b-b571569a0876\")) {\n",
       "                    Plotly.newPlot(\n",
       "                        'fe6aa495-2eee-488e-ae7b-b571569a0876',\n",
       "                        [{\"alignmentgroup\": \"True\", \"hoverlabel\": {\"namelength\": 0}, \"hovertemplate\": \"<b>%{hovertext}</b><br><br>Coefficients=%{marker.color}<br>=%{y}\", \"hovertext\": [\"microwave\", \"coffee maker\", \"dishwasher\", \"accommodates\", \"oven\", \"beds\", \"patio or balcony\", \"bed linens\", \"iron\", \"self check-in\", \"walk-in shower\", \"breakfast table\", \"netflix\", \"smart tv\", \"cancellation_policy_flexible\", \"room_type_Private room\", \"property_type_Apartment\", \"longitude\", \"latitude\", \"state_NY\"], \"legendgroup\": \"\", \"marker\": {\"cmax\": 0.16432902794418158, \"cmin\": -0.172000833419996, \"color\": [-0.172000833419996, -0.17177586652159338, -0.17052948719178745, -0.16664752336102764, -0.16580755231977987, -0.1514241397091664, -0.14536842356200416, -0.14401810508275278, -0.14078009816760914, -0.138917682183645, 0.07018183622655512, 0.07045370632536811, 0.07361172163425615, 0.07439184516521907, 0.10332753872938921, 0.11147714135020576, 0.12129977270624205, 0.14451819322678391, 0.15022241956871146, 0.16432902794418158], \"colorbar\": {\"title\": {\"text\": \"Coefficients\"}}, \"colorscale\": [[0.0, \"rgb(252, 222, 156)\"], [0.16666666666666666, \"rgb(250, 164, 118)\"], [0.3333333333333333, \"rgb(240, 116, 110)\"], [0.5, \"rgb(227, 79, 111)\"], [0.6666666666666666, \"rgb(220, 57, 119)\"], [0.8333333333333334, \"rgb(185, 37, 122)\"], [1.0, \"rgb(124, 29, 111)\"]], \"showscale\": true}, \"name\": \"\", \"offsetgroup\": \"\", \"orientation\": \"h\", \"showlegend\": false, \"textposition\": \"auto\", \"type\": \"bar\", \"uid\": \"ca1b2ec1-732d-42cb-80ae-62c416a0eb60\", \"x\": [-0.172000833419996, -0.17177586652159338, -0.17052948719178745, -0.16664752336102764, -0.16580755231977987, -0.1514241397091664, -0.14536842356200416, -0.14401810508275278, -0.14078009816760914, -0.138917682183645, 0.07018183622655512, 0.07045370632536811, 0.07361172163425615, 0.07439184516521907, 0.10332753872938921, 0.11147714135020576, 0.12129977270624205, 0.14451819322678391, 0.15022241956871146, 0.16432902794418158], \"xaxis\": \"x\", \"y\": [\"microwave\", \"coffee maker\", \"dishwasher\", \"accommodates\", \"oven\", \"beds\", \"patio or balcony\", \"bed linens\", \"iron\", \"self check-in\", \"walk-in shower\", \"breakfast table\", \"netflix\", \"smart tv\", \"cancellation_policy_flexible\", \"room_type_Private room\", \"property_type_Apartment\", \"longitude\", \"latitude\", \"state_NY\"], \"yaxis\": \"y\"}],\n",
       "                        {\"barmode\": \"relative\", \"grid\": {\"xaxes\": [\"x\"], \"xgap\": 0.1, \"xside\": \"bottom\", \"yaxes\": [\"y\"], \"ygap\": 0.1, \"yside\": \"left\"}, \"height\": 450, \"legend\": {\"tracegroupgap\": 0}, \"template\": {\"data\": {\"bar\": [{\"marker\": {\"line\": {\"color\": \"#E5ECF6\", \"width\": 0.5}}, \"type\": \"bar\"}], \"barpolar\": [{\"marker\": {\"line\": {\"color\": \"#E5ECF6\", \"width\": 0.5}}, \"type\": \"barpolar\"}], \"carpet\": [{\"aaxis\": {\"endlinecolor\": \"#2a3f5f\", \"gridcolor\": \"white\", \"linecolor\": \"white\", \"minorgridcolor\": \"white\", \"startlinecolor\": \"#2a3f5f\"}, \"baxis\": {\"endlinecolor\": \"#2a3f5f\", \"gridcolor\": \"white\", \"linecolor\": \"white\", \"minorgridcolor\": \"white\", \"startlinecolor\": \"#2a3f5f\"}, \"type\": \"carpet\"}], \"choropleth\": [{\"colorbar\": {\"outlinewidth\": 0, \"ticks\": \"\"}, \"type\": \"choropleth\"}], \"contour\": [{\"colorbar\": {\"outlinewidth\": 0, \"ticks\": \"\"}, \"colorscale\": [[0.0, \"#0508b8\"], [0.0893854748603352, \"#1910d8\"], [0.1787709497206704, \"#3c19f0\"], [0.2681564245810056, \"#6b1cfb\"], [0.3575418994413408, \"#981cfd\"], [0.44692737430167595, \"#bf1cfd\"], [0.5363128491620112, \"#dd2bfd\"], [0.6256983240223464, \"#f246fe\"], [0.7150837988826816, \"#fc67fd\"], [0.8044692737430168, \"#fe88fc\"], [0.8938547486033519, \"#fea5fd\"], [0.9832402234636871, \"#febefe\"], [1.0, \"#fec3fe\"]], \"type\": \"contour\"}], \"contourcarpet\": [{\"colorbar\": {\"outlinewidth\": 0, \"ticks\": \"\"}, \"type\": \"contourcarpet\"}], \"heatmap\": [{\"colorbar\": {\"outlinewidth\": 0, \"ticks\": \"\"}, \"colorscale\": [[0.0, \"#0508b8\"], [0.0893854748603352, \"#1910d8\"], [0.1787709497206704, \"#3c19f0\"], [0.2681564245810056, \"#6b1cfb\"], [0.3575418994413408, \"#981cfd\"], [0.44692737430167595, \"#bf1cfd\"], [0.5363128491620112, \"#dd2bfd\"], [0.6256983240223464, \"#f246fe\"], [0.7150837988826816, \"#fc67fd\"], [0.8044692737430168, \"#fe88fc\"], [0.8938547486033519, \"#fea5fd\"], [0.9832402234636871, \"#febefe\"], [1.0, \"#fec3fe\"]], \"type\": \"heatmap\"}], \"heatmapgl\": [{\"colorbar\": {\"outlinewidth\": 0, \"ticks\": \"\"}, \"type\": \"heatmapgl\"}], \"histogram\": [{\"marker\": {\"colorbar\": {\"outlinewidth\": 0, \"ticks\": \"\"}}, \"type\": \"histogram\"}], \"histogram2d\": [{\"colorbar\": {\"outlinewidth\": 0, \"ticks\": \"\"}, \"colorscale\": [[0.0, \"#0508b8\"], [0.0893854748603352, \"#1910d8\"], [0.1787709497206704, \"#3c19f0\"], [0.2681564245810056, \"#6b1cfb\"], [0.3575418994413408, \"#981cfd\"], [0.44692737430167595, \"#bf1cfd\"], [0.5363128491620112, \"#dd2bfd\"], [0.6256983240223464, \"#f246fe\"], [0.7150837988826816, \"#fc67fd\"], [0.8044692737430168, \"#fe88fc\"], [0.8938547486033519, \"#fea5fd\"], [0.9832402234636871, \"#febefe\"], [1.0, \"#fec3fe\"]], \"type\": \"histogram2d\"}], \"histogram2dcontour\": [{\"colorbar\": {\"outlinewidth\": 0, \"ticks\": \"\"}, \"colorscale\": [[0.0, \"#0508b8\"], [0.0893854748603352, \"#1910d8\"], [0.1787709497206704, \"#3c19f0\"], [0.2681564245810056, \"#6b1cfb\"], [0.3575418994413408, \"#981cfd\"], [0.44692737430167595, \"#bf1cfd\"], [0.5363128491620112, \"#dd2bfd\"], [0.6256983240223464, \"#f246fe\"], [0.7150837988826816, \"#fc67fd\"], [0.8044692737430168, \"#fe88fc\"], [0.8938547486033519, \"#fea5fd\"], [0.9832402234636871, \"#febefe\"], [1.0, \"#fec3fe\"]], \"type\": \"histogram2dcontour\"}], \"mesh3d\": [{\"colorbar\": {\"outlinewidth\": 0, \"ticks\": \"\"}, \"type\": \"mesh3d\"}], \"parcoords\": [{\"line\": {\"colorbar\": {\"outlinewidth\": 0, \"ticks\": \"\"}}, \"type\": \"parcoords\"}], \"scatter\": [{\"marker\": {\"colorbar\": {\"outlinewidth\": 0, \"ticks\": \"\"}}, \"type\": \"scatter\"}], \"scatter3d\": [{\"marker\": {\"colorbar\": {\"outlinewidth\": 0, \"ticks\": \"\"}}, \"type\": \"scatter3d\"}], \"scattercarpet\": [{\"marker\": {\"colorbar\": {\"outlinewidth\": 0, \"ticks\": \"\"}}, \"type\": \"scattercarpet\"}], \"scattergeo\": [{\"marker\": {\"colorbar\": {\"outlinewidth\": 0, \"ticks\": \"\"}}, \"type\": \"scattergeo\"}], \"scattergl\": [{\"marker\": {\"colorbar\": {\"outlinewidth\": 0, \"ticks\": \"\"}}, \"type\": \"scattergl\"}], \"scattermapbox\": [{\"marker\": {\"colorbar\": {\"outlinewidth\": 0, \"ticks\": \"\"}}, \"type\": \"scattermapbox\"}], \"scatterpolar\": [{\"marker\": {\"colorbar\": {\"outlinewidth\": 0, \"ticks\": \"\"}}, \"type\": \"scatterpolar\"}], \"scatterpolargl\": [{\"marker\": {\"colorbar\": {\"outlinewidth\": 0, \"ticks\": \"\"}}, \"type\": \"scatterpolargl\"}], \"scatterternary\": [{\"marker\": {\"colorbar\": {\"outlinewidth\": 0, \"ticks\": \"\"}}, \"type\": \"scatterternary\"}], \"surface\": [{\"colorbar\": {\"outlinewidth\": 0, \"ticks\": \"\"}, \"type\": \"surface\"}], \"table\": [{\"cells\": {\"fill\": {\"color\": \"#EBF0F8\"}, \"line\": {\"color\": \"white\"}}, \"header\": {\"fill\": {\"color\": \"#C8D4E3\"}, \"line\": {\"color\": \"white\"}}, \"type\": \"table\"}]}, \"layout\": {\"annotationdefaults\": {\"arrowcolor\": \"#506784\", \"arrowhead\": 0, \"arrowwidth\": 1}, \"colorscale\": {\"diverging\": [[0, \"#8e0152\"], [0.1, \"#c51b7d\"], [0.2, \"#de77ae\"], [0.3, \"#f1b6da\"], [0.4, \"#fde0ef\"], [0.5, \"#f7f7f7\"], [0.6, \"#e6f5d0\"], [0.7, \"#b8e186\"], [0.8, \"#7fbc41\"], [0.9, \"#4d9221\"], [1, \"#276419\"]], \"sequential\": [[0.0, \"#0508b8\"], [0.0893854748603352, \"#1910d8\"], [0.1787709497206704, \"#3c19f0\"], [0.2681564245810056, \"#6b1cfb\"], [0.3575418994413408, \"#981cfd\"], [0.44692737430167595, \"#bf1cfd\"], [0.5363128491620112, \"#dd2bfd\"], [0.6256983240223464, \"#f246fe\"], [0.7150837988826816, \"#fc67fd\"], [0.8044692737430168, \"#fe88fc\"], [0.8938547486033519, \"#fea5fd\"], [0.9832402234636871, \"#febefe\"], [1.0, \"#fec3fe\"]], \"sequentialminus\": [[0.0, \"#0508b8\"], [0.0893854748603352, \"#1910d8\"], [0.1787709497206704, \"#3c19f0\"], [0.2681564245810056, \"#6b1cfb\"], [0.3575418994413408, \"#981cfd\"], [0.44692737430167595, \"#bf1cfd\"], [0.5363128491620112, \"#dd2bfd\"], [0.6256983240223464, \"#f246fe\"], [0.7150837988826816, \"#fc67fd\"], [0.8044692737430168, \"#fe88fc\"], [0.8938547486033519, \"#fea5fd\"], [0.9832402234636871, \"#febefe\"], [1.0, \"#fec3fe\"]]}, \"colorway\": [\"#636efa\", \"#EF553B\", \"#00cc96\", \"#ab63fa\", \"#19d3f3\", \"#e763fa\", \"#FECB52\", \"#FFA15A\", \"#FF6692\", \"#B6E880\"], \"font\": {\"color\": \"#2a3f5f\"}, \"geo\": {\"bgcolor\": \"white\", \"lakecolor\": \"white\", \"landcolor\": \"#E5ECF6\", \"showlakes\": true, \"showland\": true, \"subunitcolor\": \"white\"}, \"hoverlabel\": {\"align\": \"left\"}, \"hovermode\": \"closest\", \"mapbox\": {\"style\": \"light\"}, \"paper_bgcolor\": \"white\", \"plot_bgcolor\": \"#E5ECF6\", \"polar\": {\"angularaxis\": {\"gridcolor\": \"white\", \"linecolor\": \"white\", \"ticks\": \"\"}, \"bgcolor\": \"#E5ECF6\", \"radialaxis\": {\"gridcolor\": \"white\", \"linecolor\": \"white\", \"ticks\": \"\"}}, \"scene\": {\"xaxis\": {\"backgroundcolor\": \"#E5ECF6\", \"gridcolor\": \"white\", \"gridwidth\": 2, \"linecolor\": \"white\", \"showbackground\": true, \"ticks\": \"\", \"zerolinecolor\": \"white\"}, \"yaxis\": {\"backgroundcolor\": \"#E5ECF6\", \"gridcolor\": \"white\", \"gridwidth\": 2, \"linecolor\": \"white\", \"showbackground\": true, \"ticks\": \"\", \"zerolinecolor\": \"white\"}, \"zaxis\": {\"backgroundcolor\": \"#E5ECF6\", \"gridcolor\": \"white\", \"gridwidth\": 2, \"linecolor\": \"white\", \"showbackground\": true, \"ticks\": \"\", \"zerolinecolor\": \"white\"}}, \"shapedefaults\": {\"fillcolor\": \"#506784\", \"line\": {\"width\": 0}, \"opacity\": 0.4}, \"ternary\": {\"aaxis\": {\"gridcolor\": \"white\", \"linecolor\": \"white\", \"ticks\": \"\"}, \"baxis\": {\"gridcolor\": \"white\", \"linecolor\": \"white\", \"ticks\": \"\"}, \"bgcolor\": \"#E5ECF6\", \"caxis\": {\"gridcolor\": \"white\", \"linecolor\": \"white\", \"ticks\": \"\"}}, \"title\": {\"x\": 0.05}, \"xaxis\": {\"automargin\": true, \"gridcolor\": \"white\", \"linecolor\": \"white\", \"ticks\": \"\", \"zerolinecolor\": \"white\", \"zerolinewidth\": 2}, \"yaxis\": {\"automargin\": true, \"gridcolor\": \"white\", \"linecolor\": \"white\", \"ticks\": \"\", \"zerolinecolor\": \"white\", \"zerolinewidth\": 2}}}, \"title\": {\"text\": \"Principal Component 3 Coefficients\"}, \"width\": 800, \"xaxis\": {\"tickfont\": {\"size\": 8}, \"title\": {\"text\": \"Coefficients\"}}, \"yaxis\": {\"tickfont\": {\"size\": 8}, \"title\": {\"text\": \"\"}}},\n",
       "                        {\"showLink\": false, \"linkText\": \"Export to plot.ly\", \"plotlyServerURL\": \"https://plot.ly\", \"responsive\": true}\n",
       "                    ).then(function(){\n",
       "                            \n",
       "var gd = document.getElementById('fe6aa495-2eee-488e-ae7b-b571569a0876');\n",
       "var x = new MutationObserver(function (mutations, observer) {{\n",
       "        var display = window.getComputedStyle(gd).display;\n",
       "        if (!display || display === 'none') {{\n",
       "            console.log([gd, 'removed!']);\n",
       "            Plotly.purge(gd);\n",
       "            observer.disconnect();\n",
       "        }}\n",
       "}});\n",
       "\n",
       "// Listen for the removal of the full notebook cells\n",
       "var notebookContainer = gd.closest('#notebook-container');\n",
       "if (notebookContainer) {{\n",
       "    x.observe(notebookContainer, {childList: true});\n",
       "}}\n",
       "\n",
       "// Listen for the clearing of the current output cell\n",
       "var outputEl = gd.closest('.output');\n",
       "if (outputEl) {{\n",
       "    x.observe(outputEl, {childList: true});\n",
       "}}\n",
       "\n",
       "                        })\n",
       "                };\n",
       "                });\n",
       "            </script>\n",
       "        </div>"
      ]
     },
     "metadata": {},
     "output_type": "display_data"
    }
   ],
   "source": [
    "fig_3 = plot_pca_dim(pca,f_val_features,2,10)\n",
    "fig_3"
   ]
  },
  {
   "cell_type": "markdown",
   "metadata": {},
   "source": [
    "This component has a relatively large association with New York and room type, and has negative associations with some amenities, so I interpret this as measuring New York apartment listings as predictors of unit price. Consequently, this punishes non-NY listings beause our feature value for `state_NY` is *negative* (due to standardization with `StandardScaler`) for non-NY listings. This doesn't provide very much value since it's focused on one particular state, and this probably stems from the fact that this dataset is heavily imbalanced in favor of New York listings. Intuitively, it's difficult to interpret the reason this component has such strong negative associations with amenities. Therefore, I'll interpret these as un-important price adjustments that the algorithm learned to help it predict `price` with more accuracy for NY listings."
   ]
  },
  {
   "cell_type": "markdown",
   "metadata": {},
   "source": [
    "## Component 7"
   ]
  },
  {
   "cell_type": "code",
   "execution_count": 242,
   "metadata": {},
   "outputs": [
    {
     "data": {
      "application/vnd.plotly.v1+json": {
       "config": {
        "linkText": "Export to plot.ly",
        "plotlyServerURL": "https://plot.ly",
        "responsive": true,
        "showLink": false
       },
       "data": [
        {
         "alignmentgroup": "True",
         "hoverlabel": {
          "namelength": 0
         },
         "hovertemplate": "Coefficients=%{marker.color}<br>=%{y}",
         "legendgroup": "",
         "marker": {
          "cmax": 0.30203926823175137,
          "cmin": -0.28226886101462084,
          "color": [
           -0.28226886101462084,
           -0.21634994534891408,
           -0.214204082302555,
           -0.20580258354377187,
           -0.18871256867637368,
           -0.18610849242740934,
           -0.17435723301405523,
           -0.17225725265026334,
           -0.1721394491146181,
           -0.15577189916172984,
           0.10440136966807494,
           0.11067822883021723,
           0.11293661135170888,
           0.15501701701184217,
           0.17642522613761047,
           0.201235455898813,
           0.21832442815739642,
           0.2199924950224442,
           0.2450424287740391,
           0.30203926823175137
          ],
          "colorbar": {
           "title": {
            "text": "Coefficients"
           }
          },
          "colorscale": [
           [
            0,
            "rgb(252, 222, 156)"
           ],
           [
            0.16666666666666666,
            "rgb(250, 164, 118)"
           ],
           [
            0.3333333333333333,
            "rgb(240, 116, 110)"
           ],
           [
            0.5,
            "rgb(227, 79, 111)"
           ],
           [
            0.6666666666666666,
            "rgb(220, 57, 119)"
           ],
           [
            0.8333333333333334,
            "rgb(185, 37, 122)"
           ],
           [
            1,
            "rgb(124, 29, 111)"
           ]
          ],
          "showscale": true
         },
         "name": "",
         "offsetgroup": "",
         "orientation": "h",
         "showlegend": false,
         "textposition": "auto",
         "type": "bar",
         "uid": "11d07c52-a943-4902-83df-c06e5d25ce70",
         "x": [
          -0.28226886101462084,
          -0.21634994534891408,
          -0.214204082302555,
          -0.20580258354377187,
          -0.18871256867637368,
          -0.18610849242740934,
          -0.17435723301405523,
          -0.17225725265026334,
          -0.1721394491146181,
          -0.15577189916172984,
          0.10440136966807494,
          0.11067822883021723,
          0.11293661135170888,
          0.15501701701184217,
          0.17642522613761047,
          0.201235455898813,
          0.21832442815739642,
          0.2199924950224442,
          0.2450424287740391,
          0.30203926823175137
         ],
         "xaxis": "x",
         "y": [
          "room_type_Private room",
          "availability_60",
          "availability_90",
          "availability_30",
          "wide doorway",
          "step-free access",
          "wide clearance to bed",
          "flat path to front door",
          "wide hallway clearance",
          "lock on bedroom door",
          "high chair",
          "bathrooms",
          "children’s books and toys",
          "guests_included",
          "family/kid friendly",
          "beds",
          "bedrooms",
          "cleaning_fee",
          "accommodates",
          "room_type_Entire home/apt"
         ],
         "yaxis": "y"
        }
       ],
       "layout": {
        "barmode": "relative",
        "grid": {
         "xaxes": [
          "x"
         ],
         "xgap": 0.1,
         "xside": "bottom",
         "yaxes": [
          "y"
         ],
         "ygap": 0.1,
         "yside": "left"
        },
        "height": 450,
        "legend": {
         "tracegroupgap": 0
        },
        "template": {
         "data": {
          "bar": [
           {
            "marker": {
             "line": {
              "color": "#E5ECF6",
              "width": 0.5
             }
            },
            "type": "bar"
           }
          ],
          "barpolar": [
           {
            "marker": {
             "line": {
              "color": "#E5ECF6",
              "width": 0.5
             }
            },
            "type": "barpolar"
           }
          ],
          "carpet": [
           {
            "aaxis": {
             "endlinecolor": "#2a3f5f",
             "gridcolor": "white",
             "linecolor": "white",
             "minorgridcolor": "white",
             "startlinecolor": "#2a3f5f"
            },
            "baxis": {
             "endlinecolor": "#2a3f5f",
             "gridcolor": "white",
             "linecolor": "white",
             "minorgridcolor": "white",
             "startlinecolor": "#2a3f5f"
            },
            "type": "carpet"
           }
          ],
          "choropleth": [
           {
            "colorbar": {
             "outlinewidth": 0,
             "ticks": ""
            },
            "type": "choropleth"
           }
          ],
          "contour": [
           {
            "colorbar": {
             "outlinewidth": 0,
             "ticks": ""
            },
            "colorscale": [
             [
              0,
              "#0508b8"
             ],
             [
              0.0893854748603352,
              "#1910d8"
             ],
             [
              0.1787709497206704,
              "#3c19f0"
             ],
             [
              0.2681564245810056,
              "#6b1cfb"
             ],
             [
              0.3575418994413408,
              "#981cfd"
             ],
             [
              0.44692737430167595,
              "#bf1cfd"
             ],
             [
              0.5363128491620112,
              "#dd2bfd"
             ],
             [
              0.6256983240223464,
              "#f246fe"
             ],
             [
              0.7150837988826816,
              "#fc67fd"
             ],
             [
              0.8044692737430168,
              "#fe88fc"
             ],
             [
              0.8938547486033519,
              "#fea5fd"
             ],
             [
              0.9832402234636871,
              "#febefe"
             ],
             [
              1,
              "#fec3fe"
             ]
            ],
            "type": "contour"
           }
          ],
          "contourcarpet": [
           {
            "colorbar": {
             "outlinewidth": 0,
             "ticks": ""
            },
            "type": "contourcarpet"
           }
          ],
          "heatmap": [
           {
            "colorbar": {
             "outlinewidth": 0,
             "ticks": ""
            },
            "colorscale": [
             [
              0,
              "#0508b8"
             ],
             [
              0.0893854748603352,
              "#1910d8"
             ],
             [
              0.1787709497206704,
              "#3c19f0"
             ],
             [
              0.2681564245810056,
              "#6b1cfb"
             ],
             [
              0.3575418994413408,
              "#981cfd"
             ],
             [
              0.44692737430167595,
              "#bf1cfd"
             ],
             [
              0.5363128491620112,
              "#dd2bfd"
             ],
             [
              0.6256983240223464,
              "#f246fe"
             ],
             [
              0.7150837988826816,
              "#fc67fd"
             ],
             [
              0.8044692737430168,
              "#fe88fc"
             ],
             [
              0.8938547486033519,
              "#fea5fd"
             ],
             [
              0.9832402234636871,
              "#febefe"
             ],
             [
              1,
              "#fec3fe"
             ]
            ],
            "type": "heatmap"
           }
          ],
          "heatmapgl": [
           {
            "colorbar": {
             "outlinewidth": 0,
             "ticks": ""
            },
            "type": "heatmapgl"
           }
          ],
          "histogram": [
           {
            "marker": {
             "colorbar": {
              "outlinewidth": 0,
              "ticks": ""
             }
            },
            "type": "histogram"
           }
          ],
          "histogram2d": [
           {
            "colorbar": {
             "outlinewidth": 0,
             "ticks": ""
            },
            "colorscale": [
             [
              0,
              "#0508b8"
             ],
             [
              0.0893854748603352,
              "#1910d8"
             ],
             [
              0.1787709497206704,
              "#3c19f0"
             ],
             [
              0.2681564245810056,
              "#6b1cfb"
             ],
             [
              0.3575418994413408,
              "#981cfd"
             ],
             [
              0.44692737430167595,
              "#bf1cfd"
             ],
             [
              0.5363128491620112,
              "#dd2bfd"
             ],
             [
              0.6256983240223464,
              "#f246fe"
             ],
             [
              0.7150837988826816,
              "#fc67fd"
             ],
             [
              0.8044692737430168,
              "#fe88fc"
             ],
             [
              0.8938547486033519,
              "#fea5fd"
             ],
             [
              0.9832402234636871,
              "#febefe"
             ],
             [
              1,
              "#fec3fe"
             ]
            ],
            "type": "histogram2d"
           }
          ],
          "histogram2dcontour": [
           {
            "colorbar": {
             "outlinewidth": 0,
             "ticks": ""
            },
            "colorscale": [
             [
              0,
              "#0508b8"
             ],
             [
              0.0893854748603352,
              "#1910d8"
             ],
             [
              0.1787709497206704,
              "#3c19f0"
             ],
             [
              0.2681564245810056,
              "#6b1cfb"
             ],
             [
              0.3575418994413408,
              "#981cfd"
             ],
             [
              0.44692737430167595,
              "#bf1cfd"
             ],
             [
              0.5363128491620112,
              "#dd2bfd"
             ],
             [
              0.6256983240223464,
              "#f246fe"
             ],
             [
              0.7150837988826816,
              "#fc67fd"
             ],
             [
              0.8044692737430168,
              "#fe88fc"
             ],
             [
              0.8938547486033519,
              "#fea5fd"
             ],
             [
              0.9832402234636871,
              "#febefe"
             ],
             [
              1,
              "#fec3fe"
             ]
            ],
            "type": "histogram2dcontour"
           }
          ],
          "mesh3d": [
           {
            "colorbar": {
             "outlinewidth": 0,
             "ticks": ""
            },
            "type": "mesh3d"
           }
          ],
          "parcoords": [
           {
            "line": {
             "colorbar": {
              "outlinewidth": 0,
              "ticks": ""
             }
            },
            "type": "parcoords"
           }
          ],
          "scatter": [
           {
            "marker": {
             "colorbar": {
              "outlinewidth": 0,
              "ticks": ""
             }
            },
            "type": "scatter"
           }
          ],
          "scatter3d": [
           {
            "marker": {
             "colorbar": {
              "outlinewidth": 0,
              "ticks": ""
             }
            },
            "type": "scatter3d"
           }
          ],
          "scattercarpet": [
           {
            "marker": {
             "colorbar": {
              "outlinewidth": 0,
              "ticks": ""
             }
            },
            "type": "scattercarpet"
           }
          ],
          "scattergeo": [
           {
            "marker": {
             "colorbar": {
              "outlinewidth": 0,
              "ticks": ""
             }
            },
            "type": "scattergeo"
           }
          ],
          "scattergl": [
           {
            "marker": {
             "colorbar": {
              "outlinewidth": 0,
              "ticks": ""
             }
            },
            "type": "scattergl"
           }
          ],
          "scattermapbox": [
           {
            "marker": {
             "colorbar": {
              "outlinewidth": 0,
              "ticks": ""
             }
            },
            "type": "scattermapbox"
           }
          ],
          "scatterpolar": [
           {
            "marker": {
             "colorbar": {
              "outlinewidth": 0,
              "ticks": ""
             }
            },
            "type": "scatterpolar"
           }
          ],
          "scatterpolargl": [
           {
            "marker": {
             "colorbar": {
              "outlinewidth": 0,
              "ticks": ""
             }
            },
            "type": "scatterpolargl"
           }
          ],
          "scatterternary": [
           {
            "marker": {
             "colorbar": {
              "outlinewidth": 0,
              "ticks": ""
             }
            },
            "type": "scatterternary"
           }
          ],
          "surface": [
           {
            "colorbar": {
             "outlinewidth": 0,
             "ticks": ""
            },
            "type": "surface"
           }
          ],
          "table": [
           {
            "cells": {
             "fill": {
              "color": "#EBF0F8"
             },
             "line": {
              "color": "white"
             }
            },
            "header": {
             "fill": {
              "color": "#C8D4E3"
             },
             "line": {
              "color": "white"
             }
            },
            "type": "table"
           }
          ]
         },
         "layout": {
          "annotationdefaults": {
           "arrowcolor": "#506784",
           "arrowhead": 0,
           "arrowwidth": 1
          },
          "colorscale": {
           "diverging": [
            [
             0,
             "#8e0152"
            ],
            [
             0.1,
             "#c51b7d"
            ],
            [
             0.2,
             "#de77ae"
            ],
            [
             0.3,
             "#f1b6da"
            ],
            [
             0.4,
             "#fde0ef"
            ],
            [
             0.5,
             "#f7f7f7"
            ],
            [
             0.6,
             "#e6f5d0"
            ],
            [
             0.7,
             "#b8e186"
            ],
            [
             0.8,
             "#7fbc41"
            ],
            [
             0.9,
             "#4d9221"
            ],
            [
             1,
             "#276419"
            ]
           ],
           "sequential": [
            [
             0,
             "#0508b8"
            ],
            [
             0.0893854748603352,
             "#1910d8"
            ],
            [
             0.1787709497206704,
             "#3c19f0"
            ],
            [
             0.2681564245810056,
             "#6b1cfb"
            ],
            [
             0.3575418994413408,
             "#981cfd"
            ],
            [
             0.44692737430167595,
             "#bf1cfd"
            ],
            [
             0.5363128491620112,
             "#dd2bfd"
            ],
            [
             0.6256983240223464,
             "#f246fe"
            ],
            [
             0.7150837988826816,
             "#fc67fd"
            ],
            [
             0.8044692737430168,
             "#fe88fc"
            ],
            [
             0.8938547486033519,
             "#fea5fd"
            ],
            [
             0.9832402234636871,
             "#febefe"
            ],
            [
             1,
             "#fec3fe"
            ]
           ],
           "sequentialminus": [
            [
             0,
             "#0508b8"
            ],
            [
             0.0893854748603352,
             "#1910d8"
            ],
            [
             0.1787709497206704,
             "#3c19f0"
            ],
            [
             0.2681564245810056,
             "#6b1cfb"
            ],
            [
             0.3575418994413408,
             "#981cfd"
            ],
            [
             0.44692737430167595,
             "#bf1cfd"
            ],
            [
             0.5363128491620112,
             "#dd2bfd"
            ],
            [
             0.6256983240223464,
             "#f246fe"
            ],
            [
             0.7150837988826816,
             "#fc67fd"
            ],
            [
             0.8044692737430168,
             "#fe88fc"
            ],
            [
             0.8938547486033519,
             "#fea5fd"
            ],
            [
             0.9832402234636871,
             "#febefe"
            ],
            [
             1,
             "#fec3fe"
            ]
           ]
          },
          "colorway": [
           "#636efa",
           "#EF553B",
           "#00cc96",
           "#ab63fa",
           "#19d3f3",
           "#e763fa",
           "#FECB52",
           "#FFA15A",
           "#FF6692",
           "#B6E880"
          ],
          "font": {
           "color": "#2a3f5f"
          },
          "geo": {
           "bgcolor": "white",
           "lakecolor": "white",
           "landcolor": "#E5ECF6",
           "showlakes": true,
           "showland": true,
           "subunitcolor": "white"
          },
          "hoverlabel": {
           "align": "left"
          },
          "hovermode": "closest",
          "mapbox": {
           "style": "light"
          },
          "paper_bgcolor": "white",
          "plot_bgcolor": "#E5ECF6",
          "polar": {
           "angularaxis": {
            "gridcolor": "white",
            "linecolor": "white",
            "ticks": ""
           },
           "bgcolor": "#E5ECF6",
           "radialaxis": {
            "gridcolor": "white",
            "linecolor": "white",
            "ticks": ""
           }
          },
          "scene": {
           "xaxis": {
            "backgroundcolor": "#E5ECF6",
            "gridcolor": "white",
            "gridwidth": 2,
            "linecolor": "white",
            "showbackground": true,
            "ticks": "",
            "zerolinecolor": "white"
           },
           "yaxis": {
            "backgroundcolor": "#E5ECF6",
            "gridcolor": "white",
            "gridwidth": 2,
            "linecolor": "white",
            "showbackground": true,
            "ticks": "",
            "zerolinecolor": "white"
           },
           "zaxis": {
            "backgroundcolor": "#E5ECF6",
            "gridcolor": "white",
            "gridwidth": 2,
            "linecolor": "white",
            "showbackground": true,
            "ticks": "",
            "zerolinecolor": "white"
           }
          },
          "shapedefaults": {
           "fillcolor": "#506784",
           "line": {
            "width": 0
           },
           "opacity": 0.4
          },
          "ternary": {
           "aaxis": {
            "gridcolor": "white",
            "linecolor": "white",
            "ticks": ""
           },
           "baxis": {
            "gridcolor": "white",
            "linecolor": "white",
            "ticks": ""
           },
           "bgcolor": "#E5ECF6",
           "caxis": {
            "gridcolor": "white",
            "linecolor": "white",
            "ticks": ""
           }
          },
          "title": {
           "x": 0.05
          },
          "xaxis": {
           "automargin": true,
           "gridcolor": "white",
           "linecolor": "white",
           "ticks": "",
           "zerolinecolor": "white",
           "zerolinewidth": 2
          },
          "yaxis": {
           "automargin": true,
           "gridcolor": "white",
           "linecolor": "white",
           "ticks": "",
           "zerolinecolor": "white",
           "zerolinewidth": 2
          }
         }
        },
        "title": {
         "text": "Principal Component 7 Coefficients"
        },
        "width": 800,
        "xaxis": {
         "tickfont": {
          "size": 8
         },
         "title": {
          "text": "Coefficients"
         }
        },
        "yaxis": {
         "tickfont": {
          "size": 8
         },
         "title": {
          "text": ""
         }
        }
       }
      },
      "text/html": [
       "<div>\n",
       "        \n",
       "        \n",
       "            <div id=\"4d4ef0f6-4dab-46e6-9d49-fd3d3eb73d2d\" class=\"plotly-graph-div\" style=\"height:450px; width:800px;\"></div>\n",
       "            <script type=\"text/javascript\">\n",
       "                require([\"plotly\"], function(Plotly) {\n",
       "                    window.PLOTLYENV=window.PLOTLYENV || {};\n",
       "                    window.PLOTLYENV.BASE_URL='https://plot.ly';\n",
       "                    \n",
       "                if (document.getElementById(\"4d4ef0f6-4dab-46e6-9d49-fd3d3eb73d2d\")) {\n",
       "                    Plotly.newPlot(\n",
       "                        '4d4ef0f6-4dab-46e6-9d49-fd3d3eb73d2d',\n",
       "                        [{\"alignmentgroup\": \"True\", \"hoverlabel\": {\"namelength\": 0}, \"hovertemplate\": \"Coefficients=%{marker.color}<br>=%{y}\", \"legendgroup\": \"\", \"marker\": {\"cmax\": 0.30203926823175137, \"cmin\": -0.28226886101462084, \"color\": [-0.28226886101462084, -0.21634994534891408, -0.214204082302555, -0.20580258354377187, -0.18871256867637368, -0.18610849242740934, -0.17435723301405523, -0.17225725265026334, -0.1721394491146181, -0.15577189916172984, 0.10440136966807494, 0.11067822883021723, 0.11293661135170888, 0.15501701701184217, 0.17642522613761047, 0.201235455898813, 0.21832442815739642, 0.2199924950224442, 0.2450424287740391, 0.30203926823175137], \"colorbar\": {\"title\": {\"text\": \"Coefficients\"}}, \"colorscale\": [[0.0, \"rgb(252, 222, 156)\"], [0.16666666666666666, \"rgb(250, 164, 118)\"], [0.3333333333333333, \"rgb(240, 116, 110)\"], [0.5, \"rgb(227, 79, 111)\"], [0.6666666666666666, \"rgb(220, 57, 119)\"], [0.8333333333333334, \"rgb(185, 37, 122)\"], [1.0, \"rgb(124, 29, 111)\"]], \"showscale\": true}, \"name\": \"\", \"offsetgroup\": \"\", \"orientation\": \"h\", \"showlegend\": false, \"textposition\": \"auto\", \"type\": \"bar\", \"uid\": \"0369dd8e-c821-406a-ad61-4cb24a1c562b\", \"x\": [-0.28226886101462084, -0.21634994534891408, -0.214204082302555, -0.20580258354377187, -0.18871256867637368, -0.18610849242740934, -0.17435723301405523, -0.17225725265026334, -0.1721394491146181, -0.15577189916172984, 0.10440136966807494, 0.11067822883021723, 0.11293661135170888, 0.15501701701184217, 0.17642522613761047, 0.201235455898813, 0.21832442815739642, 0.2199924950224442, 0.2450424287740391, 0.30203926823175137], \"xaxis\": \"x\", \"y\": [\"room_type_Private room\", \"availability_60\", \"availability_90\", \"availability_30\", \"wide doorway\", \"step-free access\", \"wide clearance to bed\", \"flat path to front door\", \"wide hallway clearance\", \"lock on bedroom door\", \"high chair\", \"bathrooms\", \"children\\u2019s books and toys\", \"guests_included\", \"family/kid friendly\", \"beds\", \"bedrooms\", \"cleaning_fee\", \"accommodates\", \"room_type_Entire home/apt\"], \"yaxis\": \"y\"}],\n",
       "                        {\"barmode\": \"relative\", \"grid\": {\"xaxes\": [\"x\"], \"xgap\": 0.1, \"xside\": \"bottom\", \"yaxes\": [\"y\"], \"ygap\": 0.1, \"yside\": \"left\"}, \"height\": 450, \"legend\": {\"tracegroupgap\": 0}, \"template\": {\"data\": {\"bar\": [{\"marker\": {\"line\": {\"color\": \"#E5ECF6\", \"width\": 0.5}}, \"type\": \"bar\"}], \"barpolar\": [{\"marker\": {\"line\": {\"color\": \"#E5ECF6\", \"width\": 0.5}}, \"type\": \"barpolar\"}], \"carpet\": [{\"aaxis\": {\"endlinecolor\": \"#2a3f5f\", \"gridcolor\": \"white\", \"linecolor\": \"white\", \"minorgridcolor\": \"white\", \"startlinecolor\": \"#2a3f5f\"}, \"baxis\": {\"endlinecolor\": \"#2a3f5f\", \"gridcolor\": \"white\", \"linecolor\": \"white\", \"minorgridcolor\": \"white\", \"startlinecolor\": \"#2a3f5f\"}, \"type\": \"carpet\"}], \"choropleth\": [{\"colorbar\": {\"outlinewidth\": 0, \"ticks\": \"\"}, \"type\": \"choropleth\"}], \"contour\": [{\"colorbar\": {\"outlinewidth\": 0, \"ticks\": \"\"}, \"colorscale\": [[0.0, \"#0508b8\"], [0.0893854748603352, \"#1910d8\"], [0.1787709497206704, \"#3c19f0\"], [0.2681564245810056, \"#6b1cfb\"], [0.3575418994413408, \"#981cfd\"], [0.44692737430167595, \"#bf1cfd\"], [0.5363128491620112, \"#dd2bfd\"], [0.6256983240223464, \"#f246fe\"], [0.7150837988826816, \"#fc67fd\"], [0.8044692737430168, \"#fe88fc\"], [0.8938547486033519, \"#fea5fd\"], [0.9832402234636871, \"#febefe\"], [1.0, \"#fec3fe\"]], \"type\": \"contour\"}], \"contourcarpet\": [{\"colorbar\": {\"outlinewidth\": 0, \"ticks\": \"\"}, \"type\": \"contourcarpet\"}], \"heatmap\": [{\"colorbar\": {\"outlinewidth\": 0, \"ticks\": \"\"}, \"colorscale\": [[0.0, \"#0508b8\"], [0.0893854748603352, \"#1910d8\"], [0.1787709497206704, \"#3c19f0\"], [0.2681564245810056, \"#6b1cfb\"], [0.3575418994413408, \"#981cfd\"], [0.44692737430167595, \"#bf1cfd\"], [0.5363128491620112, \"#dd2bfd\"], [0.6256983240223464, \"#f246fe\"], [0.7150837988826816, \"#fc67fd\"], [0.8044692737430168, \"#fe88fc\"], [0.8938547486033519, \"#fea5fd\"], [0.9832402234636871, \"#febefe\"], [1.0, \"#fec3fe\"]], \"type\": \"heatmap\"}], \"heatmapgl\": [{\"colorbar\": {\"outlinewidth\": 0, \"ticks\": \"\"}, \"type\": \"heatmapgl\"}], \"histogram\": [{\"marker\": {\"colorbar\": {\"outlinewidth\": 0, \"ticks\": \"\"}}, \"type\": \"histogram\"}], \"histogram2d\": [{\"colorbar\": {\"outlinewidth\": 0, \"ticks\": \"\"}, \"colorscale\": [[0.0, \"#0508b8\"], [0.0893854748603352, \"#1910d8\"], [0.1787709497206704, \"#3c19f0\"], [0.2681564245810056, \"#6b1cfb\"], [0.3575418994413408, \"#981cfd\"], [0.44692737430167595, \"#bf1cfd\"], [0.5363128491620112, \"#dd2bfd\"], [0.6256983240223464, \"#f246fe\"], [0.7150837988826816, \"#fc67fd\"], [0.8044692737430168, \"#fe88fc\"], [0.8938547486033519, \"#fea5fd\"], [0.9832402234636871, \"#febefe\"], [1.0, \"#fec3fe\"]], \"type\": \"histogram2d\"}], \"histogram2dcontour\": [{\"colorbar\": {\"outlinewidth\": 0, \"ticks\": \"\"}, \"colorscale\": [[0.0, \"#0508b8\"], [0.0893854748603352, \"#1910d8\"], [0.1787709497206704, \"#3c19f0\"], [0.2681564245810056, \"#6b1cfb\"], [0.3575418994413408, \"#981cfd\"], [0.44692737430167595, \"#bf1cfd\"], [0.5363128491620112, \"#dd2bfd\"], [0.6256983240223464, \"#f246fe\"], [0.7150837988826816, \"#fc67fd\"], [0.8044692737430168, \"#fe88fc\"], [0.8938547486033519, \"#fea5fd\"], [0.9832402234636871, \"#febefe\"], [1.0, \"#fec3fe\"]], \"type\": \"histogram2dcontour\"}], \"mesh3d\": [{\"colorbar\": {\"outlinewidth\": 0, \"ticks\": \"\"}, \"type\": \"mesh3d\"}], \"parcoords\": [{\"line\": {\"colorbar\": {\"outlinewidth\": 0, \"ticks\": \"\"}}, \"type\": \"parcoords\"}], \"scatter\": [{\"marker\": {\"colorbar\": {\"outlinewidth\": 0, \"ticks\": \"\"}}, \"type\": \"scatter\"}], \"scatter3d\": [{\"marker\": {\"colorbar\": {\"outlinewidth\": 0, \"ticks\": \"\"}}, \"type\": \"scatter3d\"}], \"scattercarpet\": [{\"marker\": {\"colorbar\": {\"outlinewidth\": 0, \"ticks\": \"\"}}, \"type\": \"scattercarpet\"}], \"scattergeo\": [{\"marker\": {\"colorbar\": {\"outlinewidth\": 0, \"ticks\": \"\"}}, \"type\": \"scattergeo\"}], \"scattergl\": [{\"marker\": {\"colorbar\": {\"outlinewidth\": 0, \"ticks\": \"\"}}, \"type\": \"scattergl\"}], \"scattermapbox\": [{\"marker\": {\"colorbar\": {\"outlinewidth\": 0, \"ticks\": \"\"}}, \"type\": \"scattermapbox\"}], \"scatterpolar\": [{\"marker\": {\"colorbar\": {\"outlinewidth\": 0, \"ticks\": \"\"}}, \"type\": \"scatterpolar\"}], \"scatterpolargl\": [{\"marker\": {\"colorbar\": {\"outlinewidth\": 0, \"ticks\": \"\"}}, \"type\": \"scatterpolargl\"}], \"scatterternary\": [{\"marker\": {\"colorbar\": {\"outlinewidth\": 0, \"ticks\": \"\"}}, \"type\": \"scatterternary\"}], \"surface\": [{\"colorbar\": {\"outlinewidth\": 0, \"ticks\": \"\"}, \"type\": \"surface\"}], \"table\": [{\"cells\": {\"fill\": {\"color\": \"#EBF0F8\"}, \"line\": {\"color\": \"white\"}}, \"header\": {\"fill\": {\"color\": \"#C8D4E3\"}, \"line\": {\"color\": \"white\"}}, \"type\": \"table\"}]}, \"layout\": {\"annotationdefaults\": {\"arrowcolor\": \"#506784\", \"arrowhead\": 0, \"arrowwidth\": 1}, \"colorscale\": {\"diverging\": [[0, \"#8e0152\"], [0.1, \"#c51b7d\"], [0.2, \"#de77ae\"], [0.3, \"#f1b6da\"], [0.4, \"#fde0ef\"], [0.5, \"#f7f7f7\"], [0.6, \"#e6f5d0\"], [0.7, \"#b8e186\"], [0.8, \"#7fbc41\"], [0.9, \"#4d9221\"], [1, \"#276419\"]], \"sequential\": [[0.0, \"#0508b8\"], [0.0893854748603352, \"#1910d8\"], [0.1787709497206704, \"#3c19f0\"], [0.2681564245810056, \"#6b1cfb\"], [0.3575418994413408, \"#981cfd\"], [0.44692737430167595, \"#bf1cfd\"], [0.5363128491620112, \"#dd2bfd\"], [0.6256983240223464, \"#f246fe\"], [0.7150837988826816, \"#fc67fd\"], [0.8044692737430168, \"#fe88fc\"], [0.8938547486033519, \"#fea5fd\"], [0.9832402234636871, \"#febefe\"], [1.0, \"#fec3fe\"]], \"sequentialminus\": [[0.0, \"#0508b8\"], [0.0893854748603352, \"#1910d8\"], [0.1787709497206704, \"#3c19f0\"], [0.2681564245810056, \"#6b1cfb\"], [0.3575418994413408, \"#981cfd\"], [0.44692737430167595, \"#bf1cfd\"], [0.5363128491620112, \"#dd2bfd\"], [0.6256983240223464, \"#f246fe\"], [0.7150837988826816, \"#fc67fd\"], [0.8044692737430168, \"#fe88fc\"], [0.8938547486033519, \"#fea5fd\"], [0.9832402234636871, \"#febefe\"], [1.0, \"#fec3fe\"]]}, \"colorway\": [\"#636efa\", \"#EF553B\", \"#00cc96\", \"#ab63fa\", \"#19d3f3\", \"#e763fa\", \"#FECB52\", \"#FFA15A\", \"#FF6692\", \"#B6E880\"], \"font\": {\"color\": \"#2a3f5f\"}, \"geo\": {\"bgcolor\": \"white\", \"lakecolor\": \"white\", \"landcolor\": \"#E5ECF6\", \"showlakes\": true, \"showland\": true, \"subunitcolor\": \"white\"}, \"hoverlabel\": {\"align\": \"left\"}, \"hovermode\": \"closest\", \"mapbox\": {\"style\": \"light\"}, \"paper_bgcolor\": \"white\", \"plot_bgcolor\": \"#E5ECF6\", \"polar\": {\"angularaxis\": {\"gridcolor\": \"white\", \"linecolor\": \"white\", \"ticks\": \"\"}, \"bgcolor\": \"#E5ECF6\", \"radialaxis\": {\"gridcolor\": \"white\", \"linecolor\": \"white\", \"ticks\": \"\"}}, \"scene\": {\"xaxis\": {\"backgroundcolor\": \"#E5ECF6\", \"gridcolor\": \"white\", \"gridwidth\": 2, \"linecolor\": \"white\", \"showbackground\": true, \"ticks\": \"\", \"zerolinecolor\": \"white\"}, \"yaxis\": {\"backgroundcolor\": \"#E5ECF6\", \"gridcolor\": \"white\", \"gridwidth\": 2, \"linecolor\": \"white\", \"showbackground\": true, \"ticks\": \"\", \"zerolinecolor\": \"white\"}, \"zaxis\": {\"backgroundcolor\": \"#E5ECF6\", \"gridcolor\": \"white\", \"gridwidth\": 2, \"linecolor\": \"white\", \"showbackground\": true, \"ticks\": \"\", \"zerolinecolor\": \"white\"}}, \"shapedefaults\": {\"fillcolor\": \"#506784\", \"line\": {\"width\": 0}, \"opacity\": 0.4}, \"ternary\": {\"aaxis\": {\"gridcolor\": \"white\", \"linecolor\": \"white\", \"ticks\": \"\"}, \"baxis\": {\"gridcolor\": \"white\", \"linecolor\": \"white\", \"ticks\": \"\"}, \"bgcolor\": \"#E5ECF6\", \"caxis\": {\"gridcolor\": \"white\", \"linecolor\": \"white\", \"ticks\": \"\"}}, \"title\": {\"x\": 0.05}, \"xaxis\": {\"automargin\": true, \"gridcolor\": \"white\", \"linecolor\": \"white\", \"ticks\": \"\", \"zerolinecolor\": \"white\", \"zerolinewidth\": 2}, \"yaxis\": {\"automargin\": true, \"gridcolor\": \"white\", \"linecolor\": \"white\", \"ticks\": \"\", \"zerolinecolor\": \"white\", \"zerolinewidth\": 2}}}, \"title\": {\"text\": \"Principal Component 7 Coefficients\"}, \"width\": 800, \"xaxis\": {\"tickfont\": {\"size\": 8}, \"title\": {\"text\": \"Coefficients\"}}, \"yaxis\": {\"tickfont\": {\"size\": 8}, \"title\": {\"text\": \"\"}}},\n",
       "                        {\"showLink\": false, \"linkText\": \"Export to plot.ly\", \"plotlyServerURL\": \"https://plot.ly\", \"responsive\": true}\n",
       "                    ).then(function(){\n",
       "                            \n",
       "var gd = document.getElementById('4d4ef0f6-4dab-46e6-9d49-fd3d3eb73d2d');\n",
       "var x = new MutationObserver(function (mutations, observer) {{\n",
       "        var display = window.getComputedStyle(gd).display;\n",
       "        if (!display || display === 'none') {{\n",
       "            console.log([gd, 'removed!']);\n",
       "            Plotly.purge(gd);\n",
       "            observer.disconnect();\n",
       "        }}\n",
       "}});\n",
       "\n",
       "// Listen for the removal of the full notebook cells\n",
       "var notebookContainer = gd.closest('#notebook-container');\n",
       "if (notebookContainer) {{\n",
       "    x.observe(notebookContainer, {childList: true});\n",
       "}}\n",
       "\n",
       "// Listen for the clearing of the current output cell\n",
       "var outputEl = gd.closest('.output');\n",
       "if (outputEl) {{\n",
       "    x.observe(outputEl, {childList: true});\n",
       "}}\n",
       "\n",
       "                        })\n",
       "                };\n",
       "                });\n",
       "            </script>\n",
       "        </div>"
      ]
     },
     "metadata": {},
     "output_type": "display_data"
    }
   ],
   "source": [
    "fig_7 = plot_pca_dim(pca,f_val_features,6,10)\n",
    "fig_7"
   ]
  },
  {
   "cell_type": "markdown",
   "metadata": {},
   "source": [
    "This component has a very strong positive association with one room type `Entire home/apt` and a very negative association with another `Private room`. It also is positively associated with `accomodates` (discrete variable for number of guests), `bedrooms`, `beds`, `family/kid friendly`, and `guests_included`. Therefore, this component measures the size of listings/units, valuing *larger* listings *higher* than smaller listings."
   ]
  },
  {
   "cell_type": "markdown",
   "metadata": {},
   "source": [
    "## Component 2"
   ]
  },
  {
   "cell_type": "code",
   "execution_count": 243,
   "metadata": {},
   "outputs": [
    {
     "data": {
      "application/vnd.plotly.v1+json": {
       "config": {
        "linkText": "Export to plot.ly",
        "plotlyServerURL": "https://plot.ly",
        "responsive": true,
        "showLink": false
       },
       "data": [
        {
         "alignmentgroup": "True",
         "hoverlabel": {
          "namelength": 0
         },
         "hovertemplate": "Coefficients=%{marker.color}<br>=%{y}",
         "legendgroup": "",
         "marker": {
          "cmax": 0.305839445066845,
          "cmin": -0.011525262724343559,
          "color": [
           -0.011525262724343559,
           -0.011512408256606432,
           -0.011500114586630474,
           -0.011499084654396035,
           -0.011494192685218011,
           -0.011484684899266502,
           -0.011439704695754229,
           -0.010944252698389884,
           -0.010944252698389884,
           -0.010944252698389884,
           0.305839445066845,
           0.305839445066845,
           0.305839445066845,
           0.305839445066845,
           0.305839445066845,
           0.305839445066845,
           0.305839445066845,
           0.305839445066845,
           0.305839445066845,
           0.305839445066845
          ],
          "colorbar": {
           "title": {
            "text": "Coefficients"
           }
          },
          "colorscale": [
           [
            0,
            "rgb(252, 222, 156)"
           ],
           [
            0.16666666666666666,
            "rgb(250, 164, 118)"
           ],
           [
            0.3333333333333333,
            "rgb(240, 116, 110)"
           ],
           [
            0.5,
            "rgb(227, 79, 111)"
           ],
           [
            0.6666666666666666,
            "rgb(220, 57, 119)"
           ],
           [
            0.8333333333333334,
            "rgb(185, 37, 122)"
           ],
           [
            1,
            "rgb(124, 29, 111)"
           ]
          ],
          "showscale": true
         },
         "name": "",
         "offsetgroup": "",
         "orientation": "h",
         "showlegend": false,
         "textposition": "auto",
         "type": "bar",
         "uid": "a5d88640-64ea-4bba-92f5-3824a3c9b398",
         "x": [
          -0.011525262724343559,
          -0.011512408256606432,
          -0.011500114586630474,
          -0.011499084654396035,
          -0.011494192685218011,
          -0.011484684899266502,
          -0.011439704695754229,
          -0.010944252698389884,
          -0.010944252698389884,
          -0.010944252698389884,
          0.305839445066845,
          0.305839445066845,
          0.305839445066845,
          0.305839445066845,
          0.305839445066845,
          0.305839445066845,
          0.305839445066845,
          0.305839445066845,
          0.305839445066845,
          0.305839445066845
         ],
         "xaxis": "x",
         "y": [
          "review_scores_rating",
          "review_scores_accuracy",
          "review_scores_cleanliness",
          "review_scores_value",
          "review_scores_communication",
          "review_scores_checkin",
          "review_scores_location",
          "bath towel",
          "body soap",
          "toilet paper",
          "breakfast bar",
          "chef's kitchen",
          "dining area",
          "garage parking",
          "ice machine",
          "piano",
          "rooftop",
          "steam room",
          "sun deck",
          "wine cellar"
         ],
         "yaxis": "y"
        }
       ],
       "layout": {
        "barmode": "relative",
        "grid": {
         "xaxes": [
          "x"
         ],
         "xgap": 0.1,
         "xside": "bottom",
         "yaxes": [
          "y"
         ],
         "ygap": 0.1,
         "yside": "left"
        },
        "height": 450,
        "legend": {
         "tracegroupgap": 0
        },
        "template": {
         "data": {
          "bar": [
           {
            "marker": {
             "line": {
              "color": "#E5ECF6",
              "width": 0.5
             }
            },
            "type": "bar"
           }
          ],
          "barpolar": [
           {
            "marker": {
             "line": {
              "color": "#E5ECF6",
              "width": 0.5
             }
            },
            "type": "barpolar"
           }
          ],
          "carpet": [
           {
            "aaxis": {
             "endlinecolor": "#2a3f5f",
             "gridcolor": "white",
             "linecolor": "white",
             "minorgridcolor": "white",
             "startlinecolor": "#2a3f5f"
            },
            "baxis": {
             "endlinecolor": "#2a3f5f",
             "gridcolor": "white",
             "linecolor": "white",
             "minorgridcolor": "white",
             "startlinecolor": "#2a3f5f"
            },
            "type": "carpet"
           }
          ],
          "choropleth": [
           {
            "colorbar": {
             "outlinewidth": 0,
             "ticks": ""
            },
            "type": "choropleth"
           }
          ],
          "contour": [
           {
            "colorbar": {
             "outlinewidth": 0,
             "ticks": ""
            },
            "colorscale": [
             [
              0,
              "#0508b8"
             ],
             [
              0.0893854748603352,
              "#1910d8"
             ],
             [
              0.1787709497206704,
              "#3c19f0"
             ],
             [
              0.2681564245810056,
              "#6b1cfb"
             ],
             [
              0.3575418994413408,
              "#981cfd"
             ],
             [
              0.44692737430167595,
              "#bf1cfd"
             ],
             [
              0.5363128491620112,
              "#dd2bfd"
             ],
             [
              0.6256983240223464,
              "#f246fe"
             ],
             [
              0.7150837988826816,
              "#fc67fd"
             ],
             [
              0.8044692737430168,
              "#fe88fc"
             ],
             [
              0.8938547486033519,
              "#fea5fd"
             ],
             [
              0.9832402234636871,
              "#febefe"
             ],
             [
              1,
              "#fec3fe"
             ]
            ],
            "type": "contour"
           }
          ],
          "contourcarpet": [
           {
            "colorbar": {
             "outlinewidth": 0,
             "ticks": ""
            },
            "type": "contourcarpet"
           }
          ],
          "heatmap": [
           {
            "colorbar": {
             "outlinewidth": 0,
             "ticks": ""
            },
            "colorscale": [
             [
              0,
              "#0508b8"
             ],
             [
              0.0893854748603352,
              "#1910d8"
             ],
             [
              0.1787709497206704,
              "#3c19f0"
             ],
             [
              0.2681564245810056,
              "#6b1cfb"
             ],
             [
              0.3575418994413408,
              "#981cfd"
             ],
             [
              0.44692737430167595,
              "#bf1cfd"
             ],
             [
              0.5363128491620112,
              "#dd2bfd"
             ],
             [
              0.6256983240223464,
              "#f246fe"
             ],
             [
              0.7150837988826816,
              "#fc67fd"
             ],
             [
              0.8044692737430168,
              "#fe88fc"
             ],
             [
              0.8938547486033519,
              "#fea5fd"
             ],
             [
              0.9832402234636871,
              "#febefe"
             ],
             [
              1,
              "#fec3fe"
             ]
            ],
            "type": "heatmap"
           }
          ],
          "heatmapgl": [
           {
            "colorbar": {
             "outlinewidth": 0,
             "ticks": ""
            },
            "type": "heatmapgl"
           }
          ],
          "histogram": [
           {
            "marker": {
             "colorbar": {
              "outlinewidth": 0,
              "ticks": ""
             }
            },
            "type": "histogram"
           }
          ],
          "histogram2d": [
           {
            "colorbar": {
             "outlinewidth": 0,
             "ticks": ""
            },
            "colorscale": [
             [
              0,
              "#0508b8"
             ],
             [
              0.0893854748603352,
              "#1910d8"
             ],
             [
              0.1787709497206704,
              "#3c19f0"
             ],
             [
              0.2681564245810056,
              "#6b1cfb"
             ],
             [
              0.3575418994413408,
              "#981cfd"
             ],
             [
              0.44692737430167595,
              "#bf1cfd"
             ],
             [
              0.5363128491620112,
              "#dd2bfd"
             ],
             [
              0.6256983240223464,
              "#f246fe"
             ],
             [
              0.7150837988826816,
              "#fc67fd"
             ],
             [
              0.8044692737430168,
              "#fe88fc"
             ],
             [
              0.8938547486033519,
              "#fea5fd"
             ],
             [
              0.9832402234636871,
              "#febefe"
             ],
             [
              1,
              "#fec3fe"
             ]
            ],
            "type": "histogram2d"
           }
          ],
          "histogram2dcontour": [
           {
            "colorbar": {
             "outlinewidth": 0,
             "ticks": ""
            },
            "colorscale": [
             [
              0,
              "#0508b8"
             ],
             [
              0.0893854748603352,
              "#1910d8"
             ],
             [
              0.1787709497206704,
              "#3c19f0"
             ],
             [
              0.2681564245810056,
              "#6b1cfb"
             ],
             [
              0.3575418994413408,
              "#981cfd"
             ],
             [
              0.44692737430167595,
              "#bf1cfd"
             ],
             [
              0.5363128491620112,
              "#dd2bfd"
             ],
             [
              0.6256983240223464,
              "#f246fe"
             ],
             [
              0.7150837988826816,
              "#fc67fd"
             ],
             [
              0.8044692737430168,
              "#fe88fc"
             ],
             [
              0.8938547486033519,
              "#fea5fd"
             ],
             [
              0.9832402234636871,
              "#febefe"
             ],
             [
              1,
              "#fec3fe"
             ]
            ],
            "type": "histogram2dcontour"
           }
          ],
          "mesh3d": [
           {
            "colorbar": {
             "outlinewidth": 0,
             "ticks": ""
            },
            "type": "mesh3d"
           }
          ],
          "parcoords": [
           {
            "line": {
             "colorbar": {
              "outlinewidth": 0,
              "ticks": ""
             }
            },
            "type": "parcoords"
           }
          ],
          "scatter": [
           {
            "marker": {
             "colorbar": {
              "outlinewidth": 0,
              "ticks": ""
             }
            },
            "type": "scatter"
           }
          ],
          "scatter3d": [
           {
            "marker": {
             "colorbar": {
              "outlinewidth": 0,
              "ticks": ""
             }
            },
            "type": "scatter3d"
           }
          ],
          "scattercarpet": [
           {
            "marker": {
             "colorbar": {
              "outlinewidth": 0,
              "ticks": ""
             }
            },
            "type": "scattercarpet"
           }
          ],
          "scattergeo": [
           {
            "marker": {
             "colorbar": {
              "outlinewidth": 0,
              "ticks": ""
             }
            },
            "type": "scattergeo"
           }
          ],
          "scattergl": [
           {
            "marker": {
             "colorbar": {
              "outlinewidth": 0,
              "ticks": ""
             }
            },
            "type": "scattergl"
           }
          ],
          "scattermapbox": [
           {
            "marker": {
             "colorbar": {
              "outlinewidth": 0,
              "ticks": ""
             }
            },
            "type": "scattermapbox"
           }
          ],
          "scatterpolar": [
           {
            "marker": {
             "colorbar": {
              "outlinewidth": 0,
              "ticks": ""
             }
            },
            "type": "scatterpolar"
           }
          ],
          "scatterpolargl": [
           {
            "marker": {
             "colorbar": {
              "outlinewidth": 0,
              "ticks": ""
             }
            },
            "type": "scatterpolargl"
           }
          ],
          "scatterternary": [
           {
            "marker": {
             "colorbar": {
              "outlinewidth": 0,
              "ticks": ""
             }
            },
            "type": "scatterternary"
           }
          ],
          "surface": [
           {
            "colorbar": {
             "outlinewidth": 0,
             "ticks": ""
            },
            "type": "surface"
           }
          ],
          "table": [
           {
            "cells": {
             "fill": {
              "color": "#EBF0F8"
             },
             "line": {
              "color": "white"
             }
            },
            "header": {
             "fill": {
              "color": "#C8D4E3"
             },
             "line": {
              "color": "white"
             }
            },
            "type": "table"
           }
          ]
         },
         "layout": {
          "annotationdefaults": {
           "arrowcolor": "#506784",
           "arrowhead": 0,
           "arrowwidth": 1
          },
          "colorscale": {
           "diverging": [
            [
             0,
             "#8e0152"
            ],
            [
             0.1,
             "#c51b7d"
            ],
            [
             0.2,
             "#de77ae"
            ],
            [
             0.3,
             "#f1b6da"
            ],
            [
             0.4,
             "#fde0ef"
            ],
            [
             0.5,
             "#f7f7f7"
            ],
            [
             0.6,
             "#e6f5d0"
            ],
            [
             0.7,
             "#b8e186"
            ],
            [
             0.8,
             "#7fbc41"
            ],
            [
             0.9,
             "#4d9221"
            ],
            [
             1,
             "#276419"
            ]
           ],
           "sequential": [
            [
             0,
             "#0508b8"
            ],
            [
             0.0893854748603352,
             "#1910d8"
            ],
            [
             0.1787709497206704,
             "#3c19f0"
            ],
            [
             0.2681564245810056,
             "#6b1cfb"
            ],
            [
             0.3575418994413408,
             "#981cfd"
            ],
            [
             0.44692737430167595,
             "#bf1cfd"
            ],
            [
             0.5363128491620112,
             "#dd2bfd"
            ],
            [
             0.6256983240223464,
             "#f246fe"
            ],
            [
             0.7150837988826816,
             "#fc67fd"
            ],
            [
             0.8044692737430168,
             "#fe88fc"
            ],
            [
             0.8938547486033519,
             "#fea5fd"
            ],
            [
             0.9832402234636871,
             "#febefe"
            ],
            [
             1,
             "#fec3fe"
            ]
           ],
           "sequentialminus": [
            [
             0,
             "#0508b8"
            ],
            [
             0.0893854748603352,
             "#1910d8"
            ],
            [
             0.1787709497206704,
             "#3c19f0"
            ],
            [
             0.2681564245810056,
             "#6b1cfb"
            ],
            [
             0.3575418994413408,
             "#981cfd"
            ],
            [
             0.44692737430167595,
             "#bf1cfd"
            ],
            [
             0.5363128491620112,
             "#dd2bfd"
            ],
            [
             0.6256983240223464,
             "#f246fe"
            ],
            [
             0.7150837988826816,
             "#fc67fd"
            ],
            [
             0.8044692737430168,
             "#fe88fc"
            ],
            [
             0.8938547486033519,
             "#fea5fd"
            ],
            [
             0.9832402234636871,
             "#febefe"
            ],
            [
             1,
             "#fec3fe"
            ]
           ]
          },
          "colorway": [
           "#636efa",
           "#EF553B",
           "#00cc96",
           "#ab63fa",
           "#19d3f3",
           "#e763fa",
           "#FECB52",
           "#FFA15A",
           "#FF6692",
           "#B6E880"
          ],
          "font": {
           "color": "#2a3f5f"
          },
          "geo": {
           "bgcolor": "white",
           "lakecolor": "white",
           "landcolor": "#E5ECF6",
           "showlakes": true,
           "showland": true,
           "subunitcolor": "white"
          },
          "hoverlabel": {
           "align": "left"
          },
          "hovermode": "closest",
          "mapbox": {
           "style": "light"
          },
          "paper_bgcolor": "white",
          "plot_bgcolor": "#E5ECF6",
          "polar": {
           "angularaxis": {
            "gridcolor": "white",
            "linecolor": "white",
            "ticks": ""
           },
           "bgcolor": "#E5ECF6",
           "radialaxis": {
            "gridcolor": "white",
            "linecolor": "white",
            "ticks": ""
           }
          },
          "scene": {
           "xaxis": {
            "backgroundcolor": "#E5ECF6",
            "gridcolor": "white",
            "gridwidth": 2,
            "linecolor": "white",
            "showbackground": true,
            "ticks": "",
            "zerolinecolor": "white"
           },
           "yaxis": {
            "backgroundcolor": "#E5ECF6",
            "gridcolor": "white",
            "gridwidth": 2,
            "linecolor": "white",
            "showbackground": true,
            "ticks": "",
            "zerolinecolor": "white"
           },
           "zaxis": {
            "backgroundcolor": "#E5ECF6",
            "gridcolor": "white",
            "gridwidth": 2,
            "linecolor": "white",
            "showbackground": true,
            "ticks": "",
            "zerolinecolor": "white"
           }
          },
          "shapedefaults": {
           "fillcolor": "#506784",
           "line": {
            "width": 0
           },
           "opacity": 0.4
          },
          "ternary": {
           "aaxis": {
            "gridcolor": "white",
            "linecolor": "white",
            "ticks": ""
           },
           "baxis": {
            "gridcolor": "white",
            "linecolor": "white",
            "ticks": ""
           },
           "bgcolor": "#E5ECF6",
           "caxis": {
            "gridcolor": "white",
            "linecolor": "white",
            "ticks": ""
           }
          },
          "title": {
           "x": 0.05
          },
          "xaxis": {
           "automargin": true,
           "gridcolor": "white",
           "linecolor": "white",
           "ticks": "",
           "zerolinecolor": "white",
           "zerolinewidth": 2
          },
          "yaxis": {
           "automargin": true,
           "gridcolor": "white",
           "linecolor": "white",
           "ticks": "",
           "zerolinecolor": "white",
           "zerolinewidth": 2
          }
         }
        },
        "title": {
         "text": "Principal Component 2 Coefficients"
        },
        "width": 800,
        "xaxis": {
         "tickfont": {
          "size": 8
         },
         "title": {
          "text": "Coefficients"
         }
        },
        "yaxis": {
         "tickfont": {
          "size": 8
         },
         "title": {
          "text": ""
         }
        }
       }
      },
      "text/html": [
       "<div>\n",
       "        \n",
       "        \n",
       "            <div id=\"80d1f2b9-7f03-49a9-bb75-e6d796fd6298\" class=\"plotly-graph-div\" style=\"height:450px; width:800px;\"></div>\n",
       "            <script type=\"text/javascript\">\n",
       "                require([\"plotly\"], function(Plotly) {\n",
       "                    window.PLOTLYENV=window.PLOTLYENV || {};\n",
       "                    window.PLOTLYENV.BASE_URL='https://plot.ly';\n",
       "                    \n",
       "                if (document.getElementById(\"80d1f2b9-7f03-49a9-bb75-e6d796fd6298\")) {\n",
       "                    Plotly.newPlot(\n",
       "                        '80d1f2b9-7f03-49a9-bb75-e6d796fd6298',\n",
       "                        [{\"alignmentgroup\": \"True\", \"hoverlabel\": {\"namelength\": 0}, \"hovertemplate\": \"Coefficients=%{marker.color}<br>=%{y}\", \"legendgroup\": \"\", \"marker\": {\"cmax\": 0.305839445066845, \"cmin\": -0.011525262724343559, \"color\": [-0.011525262724343559, -0.011512408256606432, -0.011500114586630474, -0.011499084654396035, -0.011494192685218011, -0.011484684899266502, -0.011439704695754229, -0.010944252698389884, -0.010944252698389884, -0.010944252698389884, 0.305839445066845, 0.305839445066845, 0.305839445066845, 0.305839445066845, 0.305839445066845, 0.305839445066845, 0.305839445066845, 0.305839445066845, 0.305839445066845, 0.305839445066845], \"colorbar\": {\"title\": {\"text\": \"Coefficients\"}}, \"colorscale\": [[0.0, \"rgb(252, 222, 156)\"], [0.16666666666666666, \"rgb(250, 164, 118)\"], [0.3333333333333333, \"rgb(240, 116, 110)\"], [0.5, \"rgb(227, 79, 111)\"], [0.6666666666666666, \"rgb(220, 57, 119)\"], [0.8333333333333334, \"rgb(185, 37, 122)\"], [1.0, \"rgb(124, 29, 111)\"]], \"showscale\": true}, \"name\": \"\", \"offsetgroup\": \"\", \"orientation\": \"h\", \"showlegend\": false, \"textposition\": \"auto\", \"type\": \"bar\", \"uid\": \"aef609b9-353a-4fcb-8cdc-4658c890243d\", \"x\": [-0.011525262724343559, -0.011512408256606432, -0.011500114586630474, -0.011499084654396035, -0.011494192685218011, -0.011484684899266502, -0.011439704695754229, -0.010944252698389884, -0.010944252698389884, -0.010944252698389884, 0.305839445066845, 0.305839445066845, 0.305839445066845, 0.305839445066845, 0.305839445066845, 0.305839445066845, 0.305839445066845, 0.305839445066845, 0.305839445066845, 0.305839445066845], \"xaxis\": \"x\", \"y\": [\"review_scores_rating\", \"review_scores_accuracy\", \"review_scores_cleanliness\", \"review_scores_value\", \"review_scores_communication\", \"review_scores_checkin\", \"review_scores_location\", \"bath towel\", \"body soap\", \"toilet paper\", \"breakfast bar\", \"chef's kitchen\", \"dining area\", \"garage parking\", \"ice machine\", \"piano\", \"rooftop\", \"steam room\", \"sun deck\", \"wine cellar\"], \"yaxis\": \"y\"}],\n",
       "                        {\"barmode\": \"relative\", \"grid\": {\"xaxes\": [\"x\"], \"xgap\": 0.1, \"xside\": \"bottom\", \"yaxes\": [\"y\"], \"ygap\": 0.1, \"yside\": \"left\"}, \"height\": 450, \"legend\": {\"tracegroupgap\": 0}, \"template\": {\"data\": {\"bar\": [{\"marker\": {\"line\": {\"color\": \"#E5ECF6\", \"width\": 0.5}}, \"type\": \"bar\"}], \"barpolar\": [{\"marker\": {\"line\": {\"color\": \"#E5ECF6\", \"width\": 0.5}}, \"type\": \"barpolar\"}], \"carpet\": [{\"aaxis\": {\"endlinecolor\": \"#2a3f5f\", \"gridcolor\": \"white\", \"linecolor\": \"white\", \"minorgridcolor\": \"white\", \"startlinecolor\": \"#2a3f5f\"}, \"baxis\": {\"endlinecolor\": \"#2a3f5f\", \"gridcolor\": \"white\", \"linecolor\": \"white\", \"minorgridcolor\": \"white\", \"startlinecolor\": \"#2a3f5f\"}, \"type\": \"carpet\"}], \"choropleth\": [{\"colorbar\": {\"outlinewidth\": 0, \"ticks\": \"\"}, \"type\": \"choropleth\"}], \"contour\": [{\"colorbar\": {\"outlinewidth\": 0, \"ticks\": \"\"}, \"colorscale\": [[0.0, \"#0508b8\"], [0.0893854748603352, \"#1910d8\"], [0.1787709497206704, \"#3c19f0\"], [0.2681564245810056, \"#6b1cfb\"], [0.3575418994413408, \"#981cfd\"], [0.44692737430167595, \"#bf1cfd\"], [0.5363128491620112, \"#dd2bfd\"], [0.6256983240223464, \"#f246fe\"], [0.7150837988826816, \"#fc67fd\"], [0.8044692737430168, \"#fe88fc\"], [0.8938547486033519, \"#fea5fd\"], [0.9832402234636871, \"#febefe\"], [1.0, \"#fec3fe\"]], \"type\": \"contour\"}], \"contourcarpet\": [{\"colorbar\": {\"outlinewidth\": 0, \"ticks\": \"\"}, \"type\": \"contourcarpet\"}], \"heatmap\": [{\"colorbar\": {\"outlinewidth\": 0, \"ticks\": \"\"}, \"colorscale\": [[0.0, \"#0508b8\"], [0.0893854748603352, \"#1910d8\"], [0.1787709497206704, \"#3c19f0\"], [0.2681564245810056, \"#6b1cfb\"], [0.3575418994413408, \"#981cfd\"], [0.44692737430167595, \"#bf1cfd\"], [0.5363128491620112, \"#dd2bfd\"], [0.6256983240223464, \"#f246fe\"], [0.7150837988826816, \"#fc67fd\"], [0.8044692737430168, \"#fe88fc\"], [0.8938547486033519, \"#fea5fd\"], [0.9832402234636871, \"#febefe\"], [1.0, \"#fec3fe\"]], \"type\": \"heatmap\"}], \"heatmapgl\": [{\"colorbar\": {\"outlinewidth\": 0, \"ticks\": \"\"}, \"type\": \"heatmapgl\"}], \"histogram\": [{\"marker\": {\"colorbar\": {\"outlinewidth\": 0, \"ticks\": \"\"}}, \"type\": \"histogram\"}], \"histogram2d\": [{\"colorbar\": {\"outlinewidth\": 0, \"ticks\": \"\"}, \"colorscale\": [[0.0, \"#0508b8\"], [0.0893854748603352, \"#1910d8\"], [0.1787709497206704, \"#3c19f0\"], [0.2681564245810056, \"#6b1cfb\"], [0.3575418994413408, \"#981cfd\"], [0.44692737430167595, \"#bf1cfd\"], [0.5363128491620112, \"#dd2bfd\"], [0.6256983240223464, \"#f246fe\"], [0.7150837988826816, \"#fc67fd\"], [0.8044692737430168, \"#fe88fc\"], [0.8938547486033519, \"#fea5fd\"], [0.9832402234636871, \"#febefe\"], [1.0, \"#fec3fe\"]], \"type\": \"histogram2d\"}], \"histogram2dcontour\": [{\"colorbar\": {\"outlinewidth\": 0, \"ticks\": \"\"}, \"colorscale\": [[0.0, \"#0508b8\"], [0.0893854748603352, \"#1910d8\"], [0.1787709497206704, \"#3c19f0\"], [0.2681564245810056, \"#6b1cfb\"], [0.3575418994413408, \"#981cfd\"], [0.44692737430167595, \"#bf1cfd\"], [0.5363128491620112, \"#dd2bfd\"], [0.6256983240223464, \"#f246fe\"], [0.7150837988826816, \"#fc67fd\"], [0.8044692737430168, \"#fe88fc\"], [0.8938547486033519, \"#fea5fd\"], [0.9832402234636871, \"#febefe\"], [1.0, \"#fec3fe\"]], \"type\": \"histogram2dcontour\"}], \"mesh3d\": [{\"colorbar\": {\"outlinewidth\": 0, \"ticks\": \"\"}, \"type\": \"mesh3d\"}], \"parcoords\": [{\"line\": {\"colorbar\": {\"outlinewidth\": 0, \"ticks\": \"\"}}, \"type\": \"parcoords\"}], \"scatter\": [{\"marker\": {\"colorbar\": {\"outlinewidth\": 0, \"ticks\": \"\"}}, \"type\": \"scatter\"}], \"scatter3d\": [{\"marker\": {\"colorbar\": {\"outlinewidth\": 0, \"ticks\": \"\"}}, \"type\": \"scatter3d\"}], \"scattercarpet\": [{\"marker\": {\"colorbar\": {\"outlinewidth\": 0, \"ticks\": \"\"}}, \"type\": \"scattercarpet\"}], \"scattergeo\": [{\"marker\": {\"colorbar\": {\"outlinewidth\": 0, \"ticks\": \"\"}}, \"type\": \"scattergeo\"}], \"scattergl\": [{\"marker\": {\"colorbar\": {\"outlinewidth\": 0, \"ticks\": \"\"}}, \"type\": \"scattergl\"}], \"scattermapbox\": [{\"marker\": {\"colorbar\": {\"outlinewidth\": 0, \"ticks\": \"\"}}, \"type\": \"scattermapbox\"}], \"scatterpolar\": [{\"marker\": {\"colorbar\": {\"outlinewidth\": 0, \"ticks\": \"\"}}, \"type\": \"scatterpolar\"}], \"scatterpolargl\": [{\"marker\": {\"colorbar\": {\"outlinewidth\": 0, \"ticks\": \"\"}}, \"type\": \"scatterpolargl\"}], \"scatterternary\": [{\"marker\": {\"colorbar\": {\"outlinewidth\": 0, \"ticks\": \"\"}}, \"type\": \"scatterternary\"}], \"surface\": [{\"colorbar\": {\"outlinewidth\": 0, \"ticks\": \"\"}, \"type\": \"surface\"}], \"table\": [{\"cells\": {\"fill\": {\"color\": \"#EBF0F8\"}, \"line\": {\"color\": \"white\"}}, \"header\": {\"fill\": {\"color\": \"#C8D4E3\"}, \"line\": {\"color\": \"white\"}}, \"type\": \"table\"}]}, \"layout\": {\"annotationdefaults\": {\"arrowcolor\": \"#506784\", \"arrowhead\": 0, \"arrowwidth\": 1}, \"colorscale\": {\"diverging\": [[0, \"#8e0152\"], [0.1, \"#c51b7d\"], [0.2, \"#de77ae\"], [0.3, \"#f1b6da\"], [0.4, \"#fde0ef\"], [0.5, \"#f7f7f7\"], [0.6, \"#e6f5d0\"], [0.7, \"#b8e186\"], [0.8, \"#7fbc41\"], [0.9, \"#4d9221\"], [1, \"#276419\"]], \"sequential\": [[0.0, \"#0508b8\"], [0.0893854748603352, \"#1910d8\"], [0.1787709497206704, \"#3c19f0\"], [0.2681564245810056, \"#6b1cfb\"], [0.3575418994413408, \"#981cfd\"], [0.44692737430167595, \"#bf1cfd\"], [0.5363128491620112, \"#dd2bfd\"], [0.6256983240223464, \"#f246fe\"], [0.7150837988826816, \"#fc67fd\"], [0.8044692737430168, \"#fe88fc\"], [0.8938547486033519, \"#fea5fd\"], [0.9832402234636871, \"#febefe\"], [1.0, \"#fec3fe\"]], \"sequentialminus\": [[0.0, \"#0508b8\"], [0.0893854748603352, \"#1910d8\"], [0.1787709497206704, \"#3c19f0\"], [0.2681564245810056, \"#6b1cfb\"], [0.3575418994413408, \"#981cfd\"], [0.44692737430167595, \"#bf1cfd\"], [0.5363128491620112, \"#dd2bfd\"], [0.6256983240223464, \"#f246fe\"], [0.7150837988826816, \"#fc67fd\"], [0.8044692737430168, \"#fe88fc\"], [0.8938547486033519, \"#fea5fd\"], [0.9832402234636871, \"#febefe\"], [1.0, \"#fec3fe\"]]}, \"colorway\": [\"#636efa\", \"#EF553B\", \"#00cc96\", \"#ab63fa\", \"#19d3f3\", \"#e763fa\", \"#FECB52\", \"#FFA15A\", \"#FF6692\", \"#B6E880\"], \"font\": {\"color\": \"#2a3f5f\"}, \"geo\": {\"bgcolor\": \"white\", \"lakecolor\": \"white\", \"landcolor\": \"#E5ECF6\", \"showlakes\": true, \"showland\": true, \"subunitcolor\": \"white\"}, \"hoverlabel\": {\"align\": \"left\"}, \"hovermode\": \"closest\", \"mapbox\": {\"style\": \"light\"}, \"paper_bgcolor\": \"white\", \"plot_bgcolor\": \"#E5ECF6\", \"polar\": {\"angularaxis\": {\"gridcolor\": \"white\", \"linecolor\": \"white\", \"ticks\": \"\"}, \"bgcolor\": \"#E5ECF6\", \"radialaxis\": {\"gridcolor\": \"white\", \"linecolor\": \"white\", \"ticks\": \"\"}}, \"scene\": {\"xaxis\": {\"backgroundcolor\": \"#E5ECF6\", \"gridcolor\": \"white\", \"gridwidth\": 2, \"linecolor\": \"white\", \"showbackground\": true, \"ticks\": \"\", \"zerolinecolor\": \"white\"}, \"yaxis\": {\"backgroundcolor\": \"#E5ECF6\", \"gridcolor\": \"white\", \"gridwidth\": 2, \"linecolor\": \"white\", \"showbackground\": true, \"ticks\": \"\", \"zerolinecolor\": \"white\"}, \"zaxis\": {\"backgroundcolor\": \"#E5ECF6\", \"gridcolor\": \"white\", \"gridwidth\": 2, \"linecolor\": \"white\", \"showbackground\": true, \"ticks\": \"\", \"zerolinecolor\": \"white\"}}, \"shapedefaults\": {\"fillcolor\": \"#506784\", \"line\": {\"width\": 0}, \"opacity\": 0.4}, \"ternary\": {\"aaxis\": {\"gridcolor\": \"white\", \"linecolor\": \"white\", \"ticks\": \"\"}, \"baxis\": {\"gridcolor\": \"white\", \"linecolor\": \"white\", \"ticks\": \"\"}, \"bgcolor\": \"#E5ECF6\", \"caxis\": {\"gridcolor\": \"white\", \"linecolor\": \"white\", \"ticks\": \"\"}}, \"title\": {\"x\": 0.05}, \"xaxis\": {\"automargin\": true, \"gridcolor\": \"white\", \"linecolor\": \"white\", \"ticks\": \"\", \"zerolinecolor\": \"white\", \"zerolinewidth\": 2}, \"yaxis\": {\"automargin\": true, \"gridcolor\": \"white\", \"linecolor\": \"white\", \"ticks\": \"\", \"zerolinecolor\": \"white\", \"zerolinewidth\": 2}}}, \"title\": {\"text\": \"Principal Component 2 Coefficients\"}, \"width\": 800, \"xaxis\": {\"tickfont\": {\"size\": 8}, \"title\": {\"text\": \"Coefficients\"}}, \"yaxis\": {\"tickfont\": {\"size\": 8}, \"title\": {\"text\": \"\"}}},\n",
       "                        {\"showLink\": false, \"linkText\": \"Export to plot.ly\", \"plotlyServerURL\": \"https://plot.ly\", \"responsive\": true}\n",
       "                    ).then(function(){\n",
       "                            \n",
       "var gd = document.getElementById('80d1f2b9-7f03-49a9-bb75-e6d796fd6298');\n",
       "var x = new MutationObserver(function (mutations, observer) {{\n",
       "        var display = window.getComputedStyle(gd).display;\n",
       "        if (!display || display === 'none') {{\n",
       "            console.log([gd, 'removed!']);\n",
       "            Plotly.purge(gd);\n",
       "            observer.disconnect();\n",
       "        }}\n",
       "}});\n",
       "\n",
       "// Listen for the removal of the full notebook cells\n",
       "var notebookContainer = gd.closest('#notebook-container');\n",
       "if (notebookContainer) {{\n",
       "    x.observe(notebookContainer, {childList: true});\n",
       "}}\n",
       "\n",
       "// Listen for the clearing of the current output cell\n",
       "var outputEl = gd.closest('.output');\n",
       "if (outputEl) {{\n",
       "    x.observe(outputEl, {childList: true});\n",
       "}}\n",
       "\n",
       "                        })\n",
       "                };\n",
       "                });\n",
       "            </script>\n",
       "        </div>"
      ]
     },
     "metadata": {},
     "output_type": "display_data"
    }
   ],
   "source": [
    "fig_2 = plot_pca_dim(pca,f_val_features,1,10)\n",
    "fig_2"
   ]
  },
  {
   "cell_type": "markdown",
   "metadata": {},
   "source": [
    "This component has very uniform coefficients related to amenities. Given the relatively *high* amenities coefficients, and given these amenities are associated with *luxury amenities* (`wine cellar`, `sun deck`, `steam room`, `rooftop`, etc - all things I would expect to find in a very *luxurious* listing), this component measures luxurious amenities, valuing listings higher if they have these."
   ]
  },
  {
   "cell_type": "markdown",
   "metadata": {},
   "source": [
    "---\n",
    "# Conclusion\n",
    "\n",
    "In sum, by exploring the Airbnb listings datasets for New York, San Francisco, and Austin, we've been able to answer the following questions...\n",
    "\n",
    "1. Is there a difference in quality of service/product between hosts with different numbers of units? (i.e. do hosts with multiple units give better or worse service than those who do not?)\n",
    "    - We measured quality of service by looking at the review ratings. We found that hosts with only one unit were reviewed slightly higher than hosts with more than 1 unit. I used an inferential hypothesis test to see whether the difference was statistically significant, and we found that *it was indeed a statistically significant difference*. However, we may not be able to generalize these findings since we did not fulfill the independence requirement for the Central Limit Theorem generalizability to hold.\n",
    "\n",
    "2. Do hosts with no recent reviews change pricing behavior from hosts with recent reviews?\n",
    "    - We discretized days since last review by placing each listing into one of several bins based on their days since last review, and we found (from a glance at side-by-side box plots) that pricing didn't appear to be different from a practical significance perspective between each of these bins. Note that we didn't dive into further statistical inference analysis like we did with our first question, which *could have proven statistical significance*. Futher, by separating bins on `is_superhost`, we found that, *visually*, pricing seemed higher for superhosts than non-superhosts.\n",
    "    \n",
    "3. What are the strongest predictors for price?\n",
    "    - After proprocessing our data, we were left with *over 600 features*. We selected the best 30% features based on ANOVA (selected features with highest variance), futher decomposed the features into 110 principal components, then used 1) Recursive Feature Elimination with Cross Validation (RFECV) using a Linear Regression model *and* 2) Random Forest Regression to figure out which components were most important/significant when predicting `price`. By analyzing three of these \"important\" components, we found that the following attributes were mostly captured by these components...\n",
    "       1. Principal Component 3: New York Apartments\n",
    "       2. Principal Component 7: Size and capacity of listings\n",
    "       3. Principal Component 2: Luxurious Amenities\n",
    "    - We can interpret these latent features as being the strongest predictors of price for the algorithms that I used."
   ]
  }
 ],
 "metadata": {
  "kernelspec": {
   "display_name": "Python 3",
   "language": "python",
   "name": "python3"
  },
  "language_info": {
   "codemirror_mode": {
    "name": "ipython",
    "version": 3
   },
   "file_extension": ".py",
   "mimetype": "text/x-python",
   "name": "python",
   "nbconvert_exporter": "python",
   "pygments_lexer": "ipython3",
   "version": "3.7.3"
  },
  "toc": {
   "base_numbering": 1,
   "nav_menu": {},
   "number_sections": true,
   "sideBar": true,
   "skip_h1_title": false,
   "title_cell": "Table of Contents",
   "title_sidebar": "Contents",
   "toc_cell": false,
   "toc_position": {
    "height": "calc(100% - 180px)",
    "left": "10px",
    "top": "150px",
    "width": "288px"
   },
   "toc_section_display": true,
   "toc_window_display": true
  },
  "varInspector": {
   "cols": {
    "lenName": 16,
    "lenType": 16,
    "lenVar": 40
   },
   "kernels_config": {
    "python": {
     "delete_cmd_postfix": "",
     "delete_cmd_prefix": "del ",
     "library": "var_list.py",
     "varRefreshCmd": "print(var_dic_list())"
    },
    "r": {
     "delete_cmd_postfix": ") ",
     "delete_cmd_prefix": "rm(",
     "library": "var_list.r",
     "varRefreshCmd": "cat(var_dic_list()) "
    }
   },
   "types_to_exclude": [
    "module",
    "function",
    "builtin_function_or_method",
    "instance",
    "_Feature"
   ],
   "window_display": false
  }
 },
 "nbformat": 4,
 "nbformat_minor": 2
}
